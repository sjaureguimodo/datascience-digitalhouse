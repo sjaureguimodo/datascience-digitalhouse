{
  "cells": [
    {
      "cell_type": "markdown",
      "metadata": {
        "id": "view-in-github",
        "colab_type": "text"
      },
      "source": [
        "<a href=\"https://colab.research.google.com/github/sjaureguimodo/datascience-digitalhouse/blob/main/TP3.ipynb\" target=\"_parent\"><img src=\"https://colab.research.google.com/assets/colab-badge.svg\" alt=\"Open In Colab\"/></a>"
      ]
    },
    {
      "cell_type": "markdown",
      "metadata": {
        "id": "JjL858sbLshd"
      },
      "source": [
        "https://www.kaggle.com/datasets/thedevastator/predicting-credit-card-customer-attrition-with-m"
      ]
    },
    {
      "cell_type": "markdown",
      "metadata": {
        "id": "Ophemb4W9NxA"
      },
      "source": [
        "# Setup"
      ]
    },
    {
      "cell_type": "markdown",
      "metadata": {
        "id": "zyx12Kpc9TQB"
      },
      "source": [
        "## Library Imports"
      ]
    },
    {
      "cell_type": "code",
      "execution_count": null,
      "metadata": {
        "colab": {
          "base_uri": "https://localhost:8080/"
        },
        "id": "1N7HSwa7SMRk",
        "outputId": "7fa3b9be-fa26-488c-b057-28e50db6a438"
      },
      "outputs": [
        {
          "output_type": "stream",
          "name": "stdout",
          "text": [
            "Mounted at /content/drive\n",
            "drive  sample_data\n"
          ]
        }
      ],
      "source": [
        "from google.colab import drive\n",
        "drive.mount('/content/drive')\n",
        "!ls"
      ]
    },
    {
      "cell_type": "code",
      "execution_count": null,
      "metadata": {
        "id": "SdBepX9GTRoM"
      },
      "outputs": [],
      "source": [
        "!pip install -U -q PyDrive\n",
        " \n",
        "from pydrive.auth import GoogleAuth\n",
        "from pydrive.drive import GoogleDrive\n",
        "from google.colab import auth\n",
        "from oauth2client.client import GoogleCredentials\n",
        " \n",
        " \n",
        "# Authenticate and create the PyDrive client.\n",
        "auth.authenticate_user()\n",
        "gauth = GoogleAuth()\n",
        "gauth.credentials = GoogleCredentials.get_application_default()\n",
        "drive = GoogleDrive(gauth)"
      ]
    },
    {
      "cell_type": "code",
      "execution_count": null,
      "metadata": {
        "colab": {
          "base_uri": "https://localhost:8080/"
        },
        "id": "vphHvbHR8ypD",
        "outputId": "6e317850-2e61-48ac-ca29-eae15ef64a5b"
      },
      "outputs": [
        {
          "output_type": "stream",
          "name": "stdout",
          "text": [
            "Setup Complete\n"
          ]
        }
      ],
      "source": [
        "import pandas as pd\n",
        "import numpy as np\n",
        "import matplotlib.pyplot as plt\n",
        "from matplotlib import figure\n",
        "#%matplotlib inline\n",
        "import seaborn as sns\n",
        "from IPython.display import Image\n",
        "import re\n",
        "import plotly.express as px\n",
        "from sklearn.model_selection import train_test_split\n",
        "from sklearn.preprocessing import MinMaxScaler\n",
        "from sklearn.preprocessing import OneHotEncoder\n",
        "from sklearn.metrics import recall_score\n",
        "from sklearn.metrics import roc_curve\n",
        "from sklearn.metrics import auc\n",
        "\n",
        "\n",
        "print(\"Setup Complete\")\n",
        "\n"
      ]
    },
    {
      "cell_type": "markdown",
      "metadata": {
        "id": "Vy9NkKB_9arf"
      },
      "source": [
        "## Load data"
      ]
    },
    {
      "cell_type": "code",
      "execution_count": null,
      "metadata": {
        "colab": {
          "base_uri": "https://localhost:8080/",
          "height": 661
        },
        "id": "mRxnOuBx9c3a",
        "outputId": "55af3df2-2fe0-4c0f-e26a-0d1fc8c5c666"
      },
      "outputs": [
        {
          "output_type": "execute_result",
          "data": {
            "text/plain": [
              "       CLIENTNUM     Attrition_Flag  Customer_Age Gender  Dependent_count  \\\n",
              "0      768805383  Existing Customer            45      M                3   \n",
              "1      818770008  Existing Customer            49      F                5   \n",
              "2      713982108  Existing Customer            51      M                3   \n",
              "3      769911858  Existing Customer            40      F                4   \n",
              "4      709106358  Existing Customer            40      M                3   \n",
              "...          ...                ...           ...    ...              ...   \n",
              "10122  772366833  Existing Customer            50      M                2   \n",
              "10123  710638233  Attrited Customer            41      M                2   \n",
              "10124  716506083  Attrited Customer            44      F                1   \n",
              "10125  717406983  Attrited Customer            30      M                2   \n",
              "10126  714337233  Attrited Customer            43      F                2   \n",
              "\n",
              "      Education_Level Marital_Status Income_Category Card_Category  \\\n",
              "0         High School        Married     $60K - $80K          Blue   \n",
              "1            Graduate         Single  Less than $40K          Blue   \n",
              "2            Graduate        Married    $80K - $120K          Blue   \n",
              "3         High School        Unknown  Less than $40K          Blue   \n",
              "4          Uneducated        Married     $60K - $80K          Blue   \n",
              "...               ...            ...             ...           ...   \n",
              "10122        Graduate         Single     $40K - $60K          Blue   \n",
              "10123         Unknown       Divorced     $40K - $60K          Blue   \n",
              "10124     High School        Married  Less than $40K          Blue   \n",
              "10125        Graduate        Unknown     $40K - $60K          Blue   \n",
              "10126        Graduate        Married  Less than $40K        Silver   \n",
              "\n",
              "       Months_on_book  Total_Relationship_Count  Months_Inactive_12_mon  \\\n",
              "0                  39                         5                       1   \n",
              "1                  44                         6                       1   \n",
              "2                  36                         4                       1   \n",
              "3                  34                         3                       4   \n",
              "4                  21                         5                       1   \n",
              "...               ...                       ...                     ...   \n",
              "10122              40                         3                       2   \n",
              "10123              25                         4                       2   \n",
              "10124              36                         5                       3   \n",
              "10125              36                         4                       3   \n",
              "10126              25                         6                       2   \n",
              "\n",
              "       Contacts_Count_12_mon  Credit_Limit  Total_Revolving_Bal  \\\n",
              "0                          3       12691.0                  777   \n",
              "1                          2        8256.0                  864   \n",
              "2                          0        3418.0                    0   \n",
              "3                          1        3313.0                 2517   \n",
              "4                          0        4716.0                    0   \n",
              "...                      ...           ...                  ...   \n",
              "10122                      3        4003.0                 1851   \n",
              "10123                      3        4277.0                 2186   \n",
              "10124                      4        5409.0                    0   \n",
              "10125                      3        5281.0                    0   \n",
              "10126                      4       10388.0                 1961   \n",
              "\n",
              "       Avg_Open_To_Buy  Total_Amt_Chng_Q4_Q1  Total_Trans_Amt  Total_Trans_Ct  \\\n",
              "0              11914.0                 1.335             1144              42   \n",
              "1               7392.0                 1.541             1291              33   \n",
              "2               3418.0                 2.594             1887              20   \n",
              "3                796.0                 1.405             1171              20   \n",
              "4               4716.0                 2.175              816              28   \n",
              "...                ...                   ...              ...             ...   \n",
              "10122           2152.0                 0.703            15476             117   \n",
              "10123           2091.0                 0.804             8764              69   \n",
              "10124           5409.0                 0.819            10291              60   \n",
              "10125           5281.0                 0.535             8395              62   \n",
              "10126           8427.0                 0.703            10294              61   \n",
              "\n",
              "       Total_Ct_Chng_Q4_Q1  Avg_Utilization_Ratio       nb1       nb2  \n",
              "0                    1.625                  0.061  0.000093  0.999910  \n",
              "1                    3.714                  0.105  0.000057  0.999940  \n",
              "2                    2.333                  0.000  0.000021  0.999980  \n",
              "3                    2.333                  0.760  0.000134  0.999870  \n",
              "4                    2.500                  0.000  0.000022  0.999980  \n",
              "...                    ...                    ...       ...       ...  \n",
              "10122                0.857                  0.462  0.000191  0.999810  \n",
              "10123                0.683                  0.511  0.995270  0.004729  \n",
              "10124                0.818                  0.000  0.997880  0.002118  \n",
              "10125                0.722                  0.000  0.996710  0.003294  \n",
              "10126                0.649                  0.189  0.996620  0.003377  \n",
              "\n",
              "[10127 rows x 23 columns]"
            ],
            "text/html": [
              "\n",
              "  <div id=\"df-1fb83850-a7b3-435e-86c3-f35665104502\">\n",
              "    <div class=\"colab-df-container\">\n",
              "      <div>\n",
              "<style scoped>\n",
              "    .dataframe tbody tr th:only-of-type {\n",
              "        vertical-align: middle;\n",
              "    }\n",
              "\n",
              "    .dataframe tbody tr th {\n",
              "        vertical-align: top;\n",
              "    }\n",
              "\n",
              "    .dataframe thead th {\n",
              "        text-align: right;\n",
              "    }\n",
              "</style>\n",
              "<table border=\"1\" class=\"dataframe\">\n",
              "  <thead>\n",
              "    <tr style=\"text-align: right;\">\n",
              "      <th></th>\n",
              "      <th>CLIENTNUM</th>\n",
              "      <th>Attrition_Flag</th>\n",
              "      <th>Customer_Age</th>\n",
              "      <th>Gender</th>\n",
              "      <th>Dependent_count</th>\n",
              "      <th>Education_Level</th>\n",
              "      <th>Marital_Status</th>\n",
              "      <th>Income_Category</th>\n",
              "      <th>Card_Category</th>\n",
              "      <th>Months_on_book</th>\n",
              "      <th>Total_Relationship_Count</th>\n",
              "      <th>Months_Inactive_12_mon</th>\n",
              "      <th>Contacts_Count_12_mon</th>\n",
              "      <th>Credit_Limit</th>\n",
              "      <th>Total_Revolving_Bal</th>\n",
              "      <th>Avg_Open_To_Buy</th>\n",
              "      <th>Total_Amt_Chng_Q4_Q1</th>\n",
              "      <th>Total_Trans_Amt</th>\n",
              "      <th>Total_Trans_Ct</th>\n",
              "      <th>Total_Ct_Chng_Q4_Q1</th>\n",
              "      <th>Avg_Utilization_Ratio</th>\n",
              "      <th>nb1</th>\n",
              "      <th>nb2</th>\n",
              "    </tr>\n",
              "  </thead>\n",
              "  <tbody>\n",
              "    <tr>\n",
              "      <th>0</th>\n",
              "      <td>768805383</td>\n",
              "      <td>Existing Customer</td>\n",
              "      <td>45</td>\n",
              "      <td>M</td>\n",
              "      <td>3</td>\n",
              "      <td>High School</td>\n",
              "      <td>Married</td>\n",
              "      <td>$60K - $80K</td>\n",
              "      <td>Blue</td>\n",
              "      <td>39</td>\n",
              "      <td>5</td>\n",
              "      <td>1</td>\n",
              "      <td>3</td>\n",
              "      <td>12691.0</td>\n",
              "      <td>777</td>\n",
              "      <td>11914.0</td>\n",
              "      <td>1.335</td>\n",
              "      <td>1144</td>\n",
              "      <td>42</td>\n",
              "      <td>1.625</td>\n",
              "      <td>0.061</td>\n",
              "      <td>0.000093</td>\n",
              "      <td>0.999910</td>\n",
              "    </tr>\n",
              "    <tr>\n",
              "      <th>1</th>\n",
              "      <td>818770008</td>\n",
              "      <td>Existing Customer</td>\n",
              "      <td>49</td>\n",
              "      <td>F</td>\n",
              "      <td>5</td>\n",
              "      <td>Graduate</td>\n",
              "      <td>Single</td>\n",
              "      <td>Less than $40K</td>\n",
              "      <td>Blue</td>\n",
              "      <td>44</td>\n",
              "      <td>6</td>\n",
              "      <td>1</td>\n",
              "      <td>2</td>\n",
              "      <td>8256.0</td>\n",
              "      <td>864</td>\n",
              "      <td>7392.0</td>\n",
              "      <td>1.541</td>\n",
              "      <td>1291</td>\n",
              "      <td>33</td>\n",
              "      <td>3.714</td>\n",
              "      <td>0.105</td>\n",
              "      <td>0.000057</td>\n",
              "      <td>0.999940</td>\n",
              "    </tr>\n",
              "    <tr>\n",
              "      <th>2</th>\n",
              "      <td>713982108</td>\n",
              "      <td>Existing Customer</td>\n",
              "      <td>51</td>\n",
              "      <td>M</td>\n",
              "      <td>3</td>\n",
              "      <td>Graduate</td>\n",
              "      <td>Married</td>\n",
              "      <td>$80K - $120K</td>\n",
              "      <td>Blue</td>\n",
              "      <td>36</td>\n",
              "      <td>4</td>\n",
              "      <td>1</td>\n",
              "      <td>0</td>\n",
              "      <td>3418.0</td>\n",
              "      <td>0</td>\n",
              "      <td>3418.0</td>\n",
              "      <td>2.594</td>\n",
              "      <td>1887</td>\n",
              "      <td>20</td>\n",
              "      <td>2.333</td>\n",
              "      <td>0.000</td>\n",
              "      <td>0.000021</td>\n",
              "      <td>0.999980</td>\n",
              "    </tr>\n",
              "    <tr>\n",
              "      <th>3</th>\n",
              "      <td>769911858</td>\n",
              "      <td>Existing Customer</td>\n",
              "      <td>40</td>\n",
              "      <td>F</td>\n",
              "      <td>4</td>\n",
              "      <td>High School</td>\n",
              "      <td>Unknown</td>\n",
              "      <td>Less than $40K</td>\n",
              "      <td>Blue</td>\n",
              "      <td>34</td>\n",
              "      <td>3</td>\n",
              "      <td>4</td>\n",
              "      <td>1</td>\n",
              "      <td>3313.0</td>\n",
              "      <td>2517</td>\n",
              "      <td>796.0</td>\n",
              "      <td>1.405</td>\n",
              "      <td>1171</td>\n",
              "      <td>20</td>\n",
              "      <td>2.333</td>\n",
              "      <td>0.760</td>\n",
              "      <td>0.000134</td>\n",
              "      <td>0.999870</td>\n",
              "    </tr>\n",
              "    <tr>\n",
              "      <th>4</th>\n",
              "      <td>709106358</td>\n",
              "      <td>Existing Customer</td>\n",
              "      <td>40</td>\n",
              "      <td>M</td>\n",
              "      <td>3</td>\n",
              "      <td>Uneducated</td>\n",
              "      <td>Married</td>\n",
              "      <td>$60K - $80K</td>\n",
              "      <td>Blue</td>\n",
              "      <td>21</td>\n",
              "      <td>5</td>\n",
              "      <td>1</td>\n",
              "      <td>0</td>\n",
              "      <td>4716.0</td>\n",
              "      <td>0</td>\n",
              "      <td>4716.0</td>\n",
              "      <td>2.175</td>\n",
              "      <td>816</td>\n",
              "      <td>28</td>\n",
              "      <td>2.500</td>\n",
              "      <td>0.000</td>\n",
              "      <td>0.000022</td>\n",
              "      <td>0.999980</td>\n",
              "    </tr>\n",
              "    <tr>\n",
              "      <th>...</th>\n",
              "      <td>...</td>\n",
              "      <td>...</td>\n",
              "      <td>...</td>\n",
              "      <td>...</td>\n",
              "      <td>...</td>\n",
              "      <td>...</td>\n",
              "      <td>...</td>\n",
              "      <td>...</td>\n",
              "      <td>...</td>\n",
              "      <td>...</td>\n",
              "      <td>...</td>\n",
              "      <td>...</td>\n",
              "      <td>...</td>\n",
              "      <td>...</td>\n",
              "      <td>...</td>\n",
              "      <td>...</td>\n",
              "      <td>...</td>\n",
              "      <td>...</td>\n",
              "      <td>...</td>\n",
              "      <td>...</td>\n",
              "      <td>...</td>\n",
              "      <td>...</td>\n",
              "      <td>...</td>\n",
              "    </tr>\n",
              "    <tr>\n",
              "      <th>10122</th>\n",
              "      <td>772366833</td>\n",
              "      <td>Existing Customer</td>\n",
              "      <td>50</td>\n",
              "      <td>M</td>\n",
              "      <td>2</td>\n",
              "      <td>Graduate</td>\n",
              "      <td>Single</td>\n",
              "      <td>$40K - $60K</td>\n",
              "      <td>Blue</td>\n",
              "      <td>40</td>\n",
              "      <td>3</td>\n",
              "      <td>2</td>\n",
              "      <td>3</td>\n",
              "      <td>4003.0</td>\n",
              "      <td>1851</td>\n",
              "      <td>2152.0</td>\n",
              "      <td>0.703</td>\n",
              "      <td>15476</td>\n",
              "      <td>117</td>\n",
              "      <td>0.857</td>\n",
              "      <td>0.462</td>\n",
              "      <td>0.000191</td>\n",
              "      <td>0.999810</td>\n",
              "    </tr>\n",
              "    <tr>\n",
              "      <th>10123</th>\n",
              "      <td>710638233</td>\n",
              "      <td>Attrited Customer</td>\n",
              "      <td>41</td>\n",
              "      <td>M</td>\n",
              "      <td>2</td>\n",
              "      <td>Unknown</td>\n",
              "      <td>Divorced</td>\n",
              "      <td>$40K - $60K</td>\n",
              "      <td>Blue</td>\n",
              "      <td>25</td>\n",
              "      <td>4</td>\n",
              "      <td>2</td>\n",
              "      <td>3</td>\n",
              "      <td>4277.0</td>\n",
              "      <td>2186</td>\n",
              "      <td>2091.0</td>\n",
              "      <td>0.804</td>\n",
              "      <td>8764</td>\n",
              "      <td>69</td>\n",
              "      <td>0.683</td>\n",
              "      <td>0.511</td>\n",
              "      <td>0.995270</td>\n",
              "      <td>0.004729</td>\n",
              "    </tr>\n",
              "    <tr>\n",
              "      <th>10124</th>\n",
              "      <td>716506083</td>\n",
              "      <td>Attrited Customer</td>\n",
              "      <td>44</td>\n",
              "      <td>F</td>\n",
              "      <td>1</td>\n",
              "      <td>High School</td>\n",
              "      <td>Married</td>\n",
              "      <td>Less than $40K</td>\n",
              "      <td>Blue</td>\n",
              "      <td>36</td>\n",
              "      <td>5</td>\n",
              "      <td>3</td>\n",
              "      <td>4</td>\n",
              "      <td>5409.0</td>\n",
              "      <td>0</td>\n",
              "      <td>5409.0</td>\n",
              "      <td>0.819</td>\n",
              "      <td>10291</td>\n",
              "      <td>60</td>\n",
              "      <td>0.818</td>\n",
              "      <td>0.000</td>\n",
              "      <td>0.997880</td>\n",
              "      <td>0.002118</td>\n",
              "    </tr>\n",
              "    <tr>\n",
              "      <th>10125</th>\n",
              "      <td>717406983</td>\n",
              "      <td>Attrited Customer</td>\n",
              "      <td>30</td>\n",
              "      <td>M</td>\n",
              "      <td>2</td>\n",
              "      <td>Graduate</td>\n",
              "      <td>Unknown</td>\n",
              "      <td>$40K - $60K</td>\n",
              "      <td>Blue</td>\n",
              "      <td>36</td>\n",
              "      <td>4</td>\n",
              "      <td>3</td>\n",
              "      <td>3</td>\n",
              "      <td>5281.0</td>\n",
              "      <td>0</td>\n",
              "      <td>5281.0</td>\n",
              "      <td>0.535</td>\n",
              "      <td>8395</td>\n",
              "      <td>62</td>\n",
              "      <td>0.722</td>\n",
              "      <td>0.000</td>\n",
              "      <td>0.996710</td>\n",
              "      <td>0.003294</td>\n",
              "    </tr>\n",
              "    <tr>\n",
              "      <th>10126</th>\n",
              "      <td>714337233</td>\n",
              "      <td>Attrited Customer</td>\n",
              "      <td>43</td>\n",
              "      <td>F</td>\n",
              "      <td>2</td>\n",
              "      <td>Graduate</td>\n",
              "      <td>Married</td>\n",
              "      <td>Less than $40K</td>\n",
              "      <td>Silver</td>\n",
              "      <td>25</td>\n",
              "      <td>6</td>\n",
              "      <td>2</td>\n",
              "      <td>4</td>\n",
              "      <td>10388.0</td>\n",
              "      <td>1961</td>\n",
              "      <td>8427.0</td>\n",
              "      <td>0.703</td>\n",
              "      <td>10294</td>\n",
              "      <td>61</td>\n",
              "      <td>0.649</td>\n",
              "      <td>0.189</td>\n",
              "      <td>0.996620</td>\n",
              "      <td>0.003377</td>\n",
              "    </tr>\n",
              "  </tbody>\n",
              "</table>\n",
              "<p>10127 rows × 23 columns</p>\n",
              "</div>\n",
              "      <button class=\"colab-df-convert\" onclick=\"convertToInteractive('df-1fb83850-a7b3-435e-86c3-f35665104502')\"\n",
              "              title=\"Convert this dataframe to an interactive table.\"\n",
              "              style=\"display:none;\">\n",
              "        \n",
              "  <svg xmlns=\"http://www.w3.org/2000/svg\" height=\"24px\"viewBox=\"0 0 24 24\"\n",
              "       width=\"24px\">\n",
              "    <path d=\"M0 0h24v24H0V0z\" fill=\"none\"/>\n",
              "    <path d=\"M18.56 5.44l.94 2.06.94-2.06 2.06-.94-2.06-.94-.94-2.06-.94 2.06-2.06.94zm-11 1L8.5 8.5l.94-2.06 2.06-.94-2.06-.94L8.5 2.5l-.94 2.06-2.06.94zm10 10l.94 2.06.94-2.06 2.06-.94-2.06-.94-.94-2.06-.94 2.06-2.06.94z\"/><path d=\"M17.41 7.96l-1.37-1.37c-.4-.4-.92-.59-1.43-.59-.52 0-1.04.2-1.43.59L10.3 9.45l-7.72 7.72c-.78.78-.78 2.05 0 2.83L4 21.41c.39.39.9.59 1.41.59.51 0 1.02-.2 1.41-.59l7.78-7.78 2.81-2.81c.8-.78.8-2.07 0-2.86zM5.41 20L4 18.59l7.72-7.72 1.47 1.35L5.41 20z\"/>\n",
              "  </svg>\n",
              "      </button>\n",
              "      \n",
              "  <style>\n",
              "    .colab-df-container {\n",
              "      display:flex;\n",
              "      flex-wrap:wrap;\n",
              "      gap: 12px;\n",
              "    }\n",
              "\n",
              "    .colab-df-convert {\n",
              "      background-color: #E8F0FE;\n",
              "      border: none;\n",
              "      border-radius: 50%;\n",
              "      cursor: pointer;\n",
              "      display: none;\n",
              "      fill: #1967D2;\n",
              "      height: 32px;\n",
              "      padding: 0 0 0 0;\n",
              "      width: 32px;\n",
              "    }\n",
              "\n",
              "    .colab-df-convert:hover {\n",
              "      background-color: #E2EBFA;\n",
              "      box-shadow: 0px 1px 2px rgba(60, 64, 67, 0.3), 0px 1px 3px 1px rgba(60, 64, 67, 0.15);\n",
              "      fill: #174EA6;\n",
              "    }\n",
              "\n",
              "    [theme=dark] .colab-df-convert {\n",
              "      background-color: #3B4455;\n",
              "      fill: #D2E3FC;\n",
              "    }\n",
              "\n",
              "    [theme=dark] .colab-df-convert:hover {\n",
              "      background-color: #434B5C;\n",
              "      box-shadow: 0px 1px 3px 1px rgba(0, 0, 0, 0.15);\n",
              "      filter: drop-shadow(0px 1px 2px rgba(0, 0, 0, 0.3));\n",
              "      fill: #FFFFFF;\n",
              "    }\n",
              "  </style>\n",
              "\n",
              "      <script>\n",
              "        const buttonEl =\n",
              "          document.querySelector('#df-1fb83850-a7b3-435e-86c3-f35665104502 button.colab-df-convert');\n",
              "        buttonEl.style.display =\n",
              "          google.colab.kernel.accessAllowed ? 'block' : 'none';\n",
              "\n",
              "        async function convertToInteractive(key) {\n",
              "          const element = document.querySelector('#df-1fb83850-a7b3-435e-86c3-f35665104502');\n",
              "          const dataTable =\n",
              "            await google.colab.kernel.invokeFunction('convertToInteractive',\n",
              "                                                     [key], {});\n",
              "          if (!dataTable) return;\n",
              "\n",
              "          const docLinkHtml = 'Like what you see? Visit the ' +\n",
              "            '<a target=\"_blank\" href=https://colab.research.google.com/notebooks/data_table.ipynb>data table notebook</a>'\n",
              "            + ' to learn more about interactive tables.';\n",
              "          element.innerHTML = '';\n",
              "          dataTable['output_type'] = 'display_data';\n",
              "          await google.colab.output.renderOutput(dataTable, element);\n",
              "          const docLink = document.createElement('div');\n",
              "          docLink.innerHTML = docLinkHtml;\n",
              "          element.appendChild(docLink);\n",
              "        }\n",
              "      </script>\n",
              "    </div>\n",
              "  </div>\n",
              "  "
            ]
          },
          "metadata": {},
          "execution_count": 5
        }
      ],
      "source": [
        "#Cargar el dataset\n",
        "#df_filepath = '/content/drive/MyDrive/Colab Notebooks/Data Science - Digital House/TP3/BankChurners.csv'\n",
        "\n",
        "df_filepath ='/content/drive/MyDrive/ColabNotebooks/BankChurners.csv'\n",
        "df = pd.read_csv(df_filepath)\n",
        "\n",
        "\n",
        "pd.set_option('display.max_columns', None)\n",
        "pd.options.display.max_colwidth = 75\n",
        "\n",
        "df.rename(columns={'Naive_Bayes_Classifier_Attrition_Flag_Card_Category_Contacts_Count_12_mon_Dependent_count_Education_Level_Months_Inactive_12_mon_1': 'nb1',\n",
        "                   'Naive_Bayes_Classifier_Attrition_Flag_Card_Category_Contacts_Count_12_mon_Dependent_count_Education_Level_Months_Inactive_12_mon_2': 'nb2'}, inplace=True)\n",
        "\n",
        "\n",
        "df"
      ]
    },
    {
      "cell_type": "code",
      "execution_count": null,
      "metadata": {
        "id": "mkDULwxHb1Vy"
      },
      "outputs": [],
      "source": [
        "#Subir desde local\n",
        "#B_data_filepath = '/content/BankChurners.csv'\n",
        "#df = pd.read_csv(B_data_filepath)\n",
        "#pd.set_option('display.max_columns', None)\n",
        "#pd.options.display.max_colwidth = 75\n",
        "\n",
        "#df.rename(columns={'Naive_Bayes_Classifier_Attrition_Flag_Card_Category_Contacts_Count_12_mon_Dependent_count_Education_Level_Months_Inactive_12_mon_1': 'nb1',\n",
        "#                   'Naive_Bayes_Classifier_Attrition_Flag_Card_Category_Contacts_Count_12_mon_Dependent_count_Education_Level_Months_Inactive_12_mon_2': 'nb2'}, inplace=True)\n",
        "\n",
        "\n",
        "#df.head(5)\n"
      ]
    },
    {
      "cell_type": "markdown",
      "metadata": {
        "id": "gBDZ216anx_K"
      },
      "source": [
        "# Analisis exploratorio"
      ]
    },
    {
      "cell_type": "code",
      "execution_count": null,
      "metadata": {
        "id": "2WFIzOwOp_2z"
      },
      "outputs": [],
      "source": [
        "# Ver el nombre de las columnas\n",
        "list(df.columns)"
      ]
    },
    {
      "cell_type": "code",
      "execution_count": null,
      "metadata": {
        "id": "Yw4vbSAcNhj3"
      },
      "outputs": [],
      "source": [
        "# Ver la cantidad de filas, columnas, valores no nulos por columna y typo de datos.\n",
        "df.info()\n"
      ]
    },
    {
      "cell_type": "markdown",
      "metadata": {
        "id": "bMoNcXaDPPkN"
      },
      "source": [
        "Variables Categoricas. Operaciones."
      ]
    },
    {
      "cell_type": "markdown",
      "metadata": {
        "id": "NnTh_e2IRHKf"
      },
      "source": [
        "## Duplicados"
      ]
    },
    {
      "cell_type": "code",
      "execution_count": null,
      "metadata": {
        "id": "SOSyfvQodVzG"
      },
      "outputs": [],
      "source": [
        "#Eliminar duplicados\n",
        "df[df.duplicated(keep=False)]\n"
      ]
    },
    {
      "cell_type": "markdown",
      "metadata": {
        "id": "d2oiDG-Fn_IN"
      },
      "source": [
        "No Existen Filas duplicadas"
      ]
    },
    {
      "cell_type": "code",
      "execution_count": null,
      "metadata": {
        "id": "-alGH4OZdosC"
      },
      "outputs": [],
      "source": [
        "#Controlar que el id no está duplicado\n",
        "df.duplicated(subset=['CLIENTNUM']).unique()\n"
      ]
    },
    {
      "cell_type": "markdown",
      "metadata": {
        "id": "OjhED9pjoDGY"
      },
      "source": [
        "No existen CLIENTNUM Duplicados"
      ]
    },
    {
      "cell_type": "code",
      "execution_count": null,
      "metadata": {
        "id": "yE3JU4j3RHKf"
      },
      "outputs": [],
      "source": [
        "list(df.columns)"
      ]
    },
    {
      "cell_type": "code",
      "execution_count": null,
      "metadata": {
        "id": "LKawkbx7RHKf"
      },
      "outputs": [],
      "source": [
        "df.info()"
      ]
    },
    {
      "cell_type": "markdown",
      "metadata": {
        "id": "ZRnURNmyoVKk"
      },
      "source": [
        "## Revision Unknowns"
      ]
    },
    {
      "cell_type": "code",
      "execution_count": null,
      "metadata": {
        "id": "NSRRikMzoXig"
      },
      "outputs": [],
      "source": [
        "###Hay Unknowns en variables categóricas\n",
        "df[df == 'Unknown'].count()"
      ]
    },
    {
      "cell_type": "code",
      "execution_count": null,
      "metadata": {
        "id": "GvRRsnuyoa4Y"
      },
      "outputs": [],
      "source": [
        "### Y hay 0s\n",
        "df[df == 0].count()"
      ]
    },
    {
      "cell_type": "markdown",
      "metadata": {
        "id": "T_5GxsMqog5O"
      },
      "source": [
        "## Distribucion variable target"
      ]
    },
    {
      "cell_type": "code",
      "execution_count": null,
      "metadata": {
        "id": "Ktue-Ldgokzm"
      },
      "outputs": [],
      "source": [
        "###Ver la distrbucion de la variable target\n",
        "df['Attrition_Flag'].value_counts(normalize=True)"
      ]
    },
    {
      "cell_type": "code",
      "execution_count": null,
      "metadata": {
        "id": "ijycf5wOePaO"
      },
      "outputs": [],
      "source": [
        "import plotly.graph_objects as go\n",
        "\n",
        "labels = ['Cliente actual','Baja']\n",
        "values = [8500, 1627]\n",
        "\n",
        "fig = go.Figure(data=[go.Pie(labels=labels, values=values, pull=[0, 0.2])])\n",
        "#fig.update(layout_title_text='Attrition Flag')\n",
        "fig.update_layout(legend=dict(\n",
        "    yanchor=\"top\",\n",
        "    y=0.90,\n",
        "    xanchor=\"left\",\n",
        "    x=0.20\n",
        "))"
      ]
    },
    {
      "cell_type": "markdown",
      "metadata": {
        "id": "wLuUmSDrpIXO"
      },
      "source": [
        "## Columnas nuevas"
      ]
    },
    {
      "cell_type": "code",
      "execution_count": null,
      "metadata": {
        "id": "u5Q2-cngeWZ3"
      },
      "outputs": [],
      "source": [
        "#Agregar columna target segun valor de:\n",
        "#Attrited Customer = 1\n",
        "#Existing Customer = 0\n",
        "\n",
        "\n",
        "df['Attrition_Flag_Int'] = df['Attrition_Flag'].apply(lambda x: 1 if x=='Attrited Customer' else 0)\n"
      ]
    },
    {
      "cell_type": "code",
      "execution_count": null,
      "metadata": {
        "id": "cczuRRZAeep2"
      },
      "outputs": [],
      "source": [
        "df.head(3)"
      ]
    },
    {
      "cell_type": "code",
      "execution_count": null,
      "metadata": {
        "id": "FzQuDK9EerTF"
      },
      "outputs": [],
      "source": [
        "#Validar total de Flag Original y nuevo Flag Entero Bool\n",
        "\n",
        "print(df.Attrition_Flag.value_counts())\n",
        "\n",
        "print(df.Attrition_Flag_Int.value_counts())\n",
        "\n"
      ]
    },
    {
      "cell_type": "markdown",
      "metadata": {
        "id": "bZJTeNlMRHKh"
      },
      "source": [
        "## Visualización"
      ]
    },
    {
      "cell_type": "markdown",
      "metadata": {
        "id": "iiUVrSImpB0I"
      },
      "source": [
        "### Variables categoricas"
      ]
    },
    {
      "cell_type": "markdown",
      "metadata": {
        "id": "76AJuRs6qpRn"
      },
      "source": [
        "#### Gender"
      ]
    },
    {
      "cell_type": "code",
      "execution_count": null,
      "metadata": {
        "id": "M5w9qx658oi0"
      },
      "outputs": [],
      "source": [
        "plt.figure(figsize = (20,35))\n",
        "plt.subplot(6,2,1)\n",
        "plt.gca().set_title('Gender')\n",
        "sns.countplot(x = 'Gender', palette = 'Set2', data = df)\n",
        "plt.show()"
      ]
    },
    {
      "cell_type": "code",
      "execution_count": null,
      "metadata": {
        "id": "G0RIcGHDqR14"
      },
      "outputs": [],
      "source": [
        "cross_tab = pd.crosstab(index=df['Gender'],\n",
        "                        columns=df['Attrition_Flag'])\n",
        "\n",
        "\n",
        "cross_tab_prop = pd.crosstab(index=df['Gender'],\n",
        "                        columns=df['Attrition_Flag'],\n",
        "                             normalize=\"index\")\n",
        "cross_tab_prop\n",
        "\n"
      ]
    },
    {
      "cell_type": "code",
      "execution_count": null,
      "metadata": {
        "id": "dcilg9DHpEPD"
      },
      "outputs": [],
      "source": [
        "cross_tab_prop.plot(kind='bar', \n",
        "                    stacked=True, \n",
        "                    colormap='tab10', \n",
        "                    figsize=(10, 6))\n",
        "\n",
        "plt.legend(loc=\"upper left\", ncol=2)\n",
        "plt.xlabel(\"Gender\")\n",
        "plt.ylabel(\"Proportion\")\n",
        "\n",
        "\n",
        "for n, x in enumerate([*cross_tab.index.values]):\n",
        "    for proportion in cross_tab_prop.loc[x]:\n",
        "                \n",
        "        plt.text(x=n,\n",
        "                 y=proportion,\n",
        "                 s=f'{np.round(proportion * 100, 1)}%', \n",
        "                 color=\"black\",\n",
        "                 fontsize=12,\n",
        "                 fontweight=\"bold\")\n",
        "\n",
        "plt.show()\n"
      ]
    },
    {
      "cell_type": "code",
      "execution_count": null,
      "metadata": {
        "id": "FCHUQxB56YNc"
      },
      "outputs": [],
      "source": [
        "### La diferencia entre Mujeres y Varones es significativa\n",
        "import scipy.stats\n",
        "from scipy.stats import chi2\n",
        "\n",
        "chi2_stat, p, dof, expected = scipy.stats.chi2_contingency(cross_tab)\n",
        " \n",
        "print(f\"chi2 statistic:     {chi2_stat:.5g}\")\n",
        "print(f\"p-value:            {p:.5g}\")\n",
        "print(f\"degrees of freedom: {dof}\")\n",
        "print(\"expected frequencies:\\n\",expected)"
      ]
    },
    {
      "cell_type": "markdown",
      "metadata": {
        "id": "g-vbIj9iqskU"
      },
      "source": [
        "#### Income"
      ]
    },
    {
      "cell_type": "code",
      "execution_count": null,
      "metadata": {
        "id": "TmB38PL9qQ8Z"
      },
      "outputs": [],
      "source": [
        "import scipy.stats\n",
        "from scipy.stats import chi2\n",
        "cross_tab = pd.crosstab(index=df['Income_Category'],\n",
        "                        columns=df['Attrition_Flag'])\n",
        "\n",
        "cross_tab_prop = pd.crosstab(index=df['Income_Category'],\n",
        "                        columns=df['Attrition_Flag'],\n",
        "                             normalize=\"index\")\n",
        "cross_tab_prop\n",
        "\n"
      ]
    },
    {
      "cell_type": "code",
      "execution_count": null,
      "metadata": {
        "id": "lsojBKk6pIVd"
      },
      "outputs": [],
      "source": [
        "cross_tab_prop.plot(kind='bar', \n",
        "                    stacked=True, \n",
        "                    colormap='tab10', \n",
        "                    figsize=(10, 6))\n",
        "\n",
        "plt.legend(loc=\"upper left\", ncol=2)\n",
        "plt.xlabel(\"Income Category\")\n",
        "plt.ylabel(\"Proportion\")\n",
        "\n",
        "\n",
        "for n, x in enumerate([*cross_tab.index.values]):\n",
        "    for proportion in cross_tab_prop.loc[x]:\n",
        "                \n",
        "        plt.text(x=n,\n",
        "                 y=proportion,\n",
        "                 s=f'{np.round(proportion * 100, 1)}%', \n",
        "                 color=\"black\",\n",
        "                 fontsize=12,\n",
        "                 fontweight=\"bold\")\n",
        "\n",
        "plt.show()\n"
      ]
    },
    {
      "cell_type": "code",
      "execution_count": null,
      "metadata": {
        "id": "nKVXsmyz86Um"
      },
      "outputs": [],
      "source": []
    },
    {
      "cell_type": "code",
      "execution_count": null,
      "metadata": {
        "id": "ncQsRUMu8WPi"
      },
      "outputs": [],
      "source": [
        "### La diferencia entre grupos de categoria de ingreso es significativa\n",
        "import scipy.stats\n",
        "from scipy.stats import chi2\n",
        "\n",
        "chi2_stat, p, dof, expected = scipy.stats.chi2_contingency(cross_tab)\n",
        " \n",
        "print(f\"chi2 statistic:     {chi2_stat:.5g}\")\n",
        "print(f\"p-value:            {p:.5g}\")\n",
        "print(f\"degrees of freedom: {dof}\")\n",
        "print(\"expected frequencies:\\n\",expected)"
      ]
    },
    {
      "cell_type": "code",
      "execution_count": null,
      "metadata": {
        "id": "UTvV-yOCxI3v"
      },
      "outputs": [],
      "source": [
        "plt.figure(figsize = (20,35))\n",
        "plt.subplot(5,2,10)\n",
        "sns.countplot(x = 'Income_Category', hue = 'Attrition_Flag', palette = 'Set2', data = df)\n",
        "plt.show()"
      ]
    },
    {
      "cell_type": "markdown",
      "metadata": {
        "id": "QEQ9KGdfqbmY"
      },
      "source": [
        "Las diferencias parecen mínimas por ingreso aunque los que ganan menos y los que ganan más tienen attrition un poco más alto.\n",
        "Ver si los unknowns tiene sentido encodearlos o directamente filtrar esos valores.\n",
        "Ver si lo podemos cruzar con el color de la tarjeta"
      ]
    },
    {
      "cell_type": "markdown",
      "metadata": {
        "id": "Zjjp2pfgq2Bg"
      },
      "source": [
        "#### Marital_Status"
      ]
    },
    {
      "cell_type": "code",
      "execution_count": null,
      "metadata": {
        "id": "Wx23ElTGq1lC"
      },
      "outputs": [],
      "source": [
        "cross_tab = pd.crosstab(index=df['Marital_Status'],\n",
        "                        columns=df['Attrition_Flag'])\n",
        "\n",
        "cross_tab_prop = pd.crosstab(index=df['Marital_Status'],\n",
        "                        columns=df['Attrition_Flag'],\n",
        "                             normalize=\"index\")\n",
        "cross_tab_prop\n",
        "\n"
      ]
    },
    {
      "cell_type": "code",
      "execution_count": null,
      "metadata": {
        "id": "VNp7Vht_rDk1"
      },
      "outputs": [],
      "source": [
        "cross_tab_prop.plot(kind='bar', \n",
        "                    stacked=True, \n",
        "                    colormap='tab10', \n",
        "                    figsize=(10, 6))\n",
        "\n",
        "plt.legend(loc=\"upper left\", ncol=2)\n",
        "plt.xlabel(\"Marital_Status\")\n",
        "plt.ylabel(\"Proportion\")\n",
        "\n",
        "\n",
        "for n, x in enumerate([*cross_tab.index.values]):\n",
        "    for proportion in cross_tab_prop.loc[x]:\n",
        "                \n",
        "        plt.text(x=n,\n",
        "                 y=proportion,\n",
        "                 s=f'{np.round(proportion * 100, 1)}%', \n",
        "                 color=\"black\",\n",
        "                 fontsize=12,\n",
        "                 fontweight=\"bold\")\n",
        "\n",
        "plt.show()\n"
      ]
    },
    {
      "cell_type": "code",
      "execution_count": null,
      "metadata": {
        "id": "BDCE1Y2wxQXP"
      },
      "outputs": [],
      "source": [
        "plt.figure(figsize = (20,35))\n",
        "plt.subplot(6,2,1)\n",
        "plt.gca().set_title('Variable Education')\n",
        "sns.countplot(x = 'Marital_Status', palette = 'Set2', data = df)\n",
        "plt.show()"
      ]
    },
    {
      "cell_type": "code",
      "execution_count": null,
      "metadata": {
        "id": "pskogZ0X94Er"
      },
      "outputs": [],
      "source": [
        "### La diferencia por estado civil no es significativa\n",
        "import scipy.stats\n",
        "from scipy.stats import chi2\n",
        "\n",
        "chi2_stat, p, dof, expected = scipy.stats.chi2_contingency(cross_tab)\n",
        " \n",
        "print(f\"chi2 statistic:     {chi2_stat:.5g}\")\n",
        "print(f\"p-value:            {p:.5g}\")\n",
        "print(f\"degrees of freedom: {dof}\")\n",
        "print(\"expected frequencies:\\n\",expected)"
      ]
    },
    {
      "cell_type": "markdown",
      "metadata": {
        "id": "YdXxyxucrKHw"
      },
      "source": [
        "#### Card_Category"
      ]
    },
    {
      "cell_type": "code",
      "execution_count": null,
      "metadata": {
        "id": "amP8Wa7srQex"
      },
      "outputs": [],
      "source": [
        "cross_tab = pd.crosstab(index=df['Card_Category'],\n",
        "                        columns=df['Attrition_Flag'])\n",
        "\n",
        "cross_tab_prop = pd.crosstab(index=df['Card_Category'],\n",
        "                        columns=df['Attrition_Flag'],\n",
        "                             normalize=\"index\")\n",
        "cross_tab_prop\n",
        "\n"
      ]
    },
    {
      "cell_type": "code",
      "execution_count": null,
      "metadata": {
        "id": "UPBKThQErWYN"
      },
      "outputs": [],
      "source": [
        "cross_tab_prop.plot(kind='bar', \n",
        "                    stacked=True, \n",
        "                    colormap='tab10', \n",
        "                    figsize=(10, 6))\n",
        "\n",
        "plt.legend(loc=\"upper left\", ncol=2)\n",
        "plt.xlabel(\"Card_Category\")\n",
        "plt.ylabel(\"Proportion\")\n",
        "\n",
        "\n",
        "for n, x in enumerate([*cross_tab.index.values]):\n",
        "    for proportion in cross_tab_prop.loc[x]:\n",
        "                \n",
        "        plt.text(x=n,\n",
        "                 y=proportion,\n",
        "                 s=f'{np.round(proportion * 100, 1)}%', \n",
        "                 color=\"black\",\n",
        "                 fontsize=12,\n",
        "                 fontweight=\"bold\")\n",
        "\n",
        "plt.show()\n"
      ]
    },
    {
      "cell_type": "code",
      "execution_count": null,
      "metadata": {
        "id": "EM_Mgx3hrufF"
      },
      "outputs": [],
      "source": [
        "plt.figure(figsize = (20,35))\n",
        "plt.subplot(6,2,1)\n",
        "plt.gca().set_title('Variable Education')\n",
        "sns.countplot(x = 'Card_Category', palette = 'Set2', data = df)\n",
        "plt.show()"
      ]
    },
    {
      "cell_type": "code",
      "execution_count": null,
      "metadata": {
        "id": "jp_MVdED-hQA"
      },
      "outputs": [],
      "source": [
        "### La diferencia por categoria de tarjeta no es significativa\n",
        "import scipy.stats\n",
        "from scipy.stats import chi2\n",
        "\n",
        "chi2_stat, p, dof, expected = scipy.stats.chi2_contingency(cross_tab)\n",
        " \n",
        "print(f\"chi2 statistic:     {chi2_stat:.5g}\")\n",
        "print(f\"p-value:            {p:.5g}\")\n",
        "print(f\"degrees of freedom: {dof}\")\n",
        "print(\"expected frequencies:\\n\",expected)"
      ]
    },
    {
      "cell_type": "markdown",
      "metadata": {
        "id": "ckogq4Owrv72"
      },
      "source": [
        "Vemos una diferencia en el % de platinum, pero no sabemos si es por que tiene un n muy chico"
      ]
    },
    {
      "cell_type": "markdown",
      "metadata": {
        "id": "rcp1HV5JxZhX"
      },
      "source": [
        "#### Education level"
      ]
    },
    {
      "cell_type": "code",
      "execution_count": null,
      "metadata": {
        "id": "AH3nsDodxks_"
      },
      "outputs": [],
      "source": [
        "cross_tab = pd.crosstab(index=df['Education_Level'],\n",
        "                        columns=df['Attrition_Flag'])\n",
        "\n",
        "cross_tab_prop = pd.crosstab(index=df['Education_Level'],\n",
        "                        columns=df['Attrition_Flag'],\n",
        "                             normalize=\"index\")\n",
        "cross_tab_prop\n",
        "\n"
      ]
    },
    {
      "cell_type": "code",
      "execution_count": null,
      "metadata": {
        "id": "lvPExfJ0xoFW"
      },
      "outputs": [],
      "source": [
        "cross_tab_prop.plot(kind='bar', \n",
        "                    stacked=True, \n",
        "                    colormap='tab10', \n",
        "                    figsize=(10, 6))\n",
        "\n",
        "plt.legend(loc=\"upper left\", ncol=2)\n",
        "plt.xlabel(\"Education_Level\")\n",
        "plt.ylabel(\"Proportion\")\n",
        "\n",
        "\n",
        "for n, x in enumerate([*cross_tab.index.values]):\n",
        "    for proportion in cross_tab_prop.loc[x]:\n",
        "                \n",
        "        plt.text(x=n,\n",
        "                 y=proportion,\n",
        "                 s=f'{np.round(proportion * 100, 1)}%', \n",
        "                 color=\"black\",\n",
        "                 fontsize=12,\n",
        "                 fontweight=\"bold\")\n",
        "\n",
        "plt.show()\n"
      ]
    },
    {
      "cell_type": "code",
      "execution_count": null,
      "metadata": {
        "id": "-rVKIuMpxfYk"
      },
      "outputs": [],
      "source": [
        "plt.figure(figsize = (20,35))\n",
        "plt.subplot(6,2,1)\n",
        "plt.gca().set_title('Variable Education')\n",
        "sns.countplot(x = 'Education_Level', palette = 'Set2', data = df)\n",
        "plt.show()"
      ]
    },
    {
      "cell_type": "code",
      "execution_count": null,
      "metadata": {
        "id": "ZlHACLwa-9v0"
      },
      "outputs": [],
      "source": [
        "### La diferencia por nivel de educacion no es significativa\n",
        "import scipy.stats\n",
        "from scipy.stats import chi2\n",
        "\n",
        "chi2_stat, p, dof, expected = scipy.stats.chi2_contingency(cross_tab)\n",
        " \n",
        "print(f\"chi2 statistic:     {chi2_stat:.5g}\")\n",
        "print(f\"p-value:            {p:.5g}\")\n",
        "print(f\"degrees of freedom: {dof}\")\n",
        "print(\"expected frequencies:\\n\",expected)"
      ]
    },
    {
      "cell_type": "markdown",
      "metadata": {
        "id": "izGMarXcr6NS"
      },
      "source": [
        "### Variables continuas"
      ]
    },
    {
      "cell_type": "code",
      "execution_count": null,
      "metadata": {
        "colab": {
          "background_save": true
        },
        "id": "EWS4Jq18gXla",
        "outputId": "9097a99d-8dec-452c-ef37-745326c999dc"
      },
      "outputs": [
        {
          "name": "stderr",
          "output_type": "stream",
          "text": [
            "<ipython-input-40-63471a861d8e>:4: UserWarning:\n",
            "\n",
            "To output multiple subplots, the figure containing the passed axes is being cleared\n",
            "\n"
          ]
        },
        {
          "data": {
            "image/png": "[encoded data removed]",
            "text/plain": [
              "<Figure size 1440x1440 with 16 Axes>"
            ]
          },
          "metadata": {},
          "output_type": "display_data"
        }
      ],
      "source": [
        "fig = plt.figure(figsize = (20,20))\n",
        "ax = fig.gca()\n",
        "plt.tight_layout()\n",
        "df.loc[:, ~df.columns.isin(['CLIENTNUM', 'nb1', 'nb2', \"Attrition_Flag_Int\"])].hist(ax = ax)\n",
        "fig.show()"
      ]
    },
    {
      "cell_type": "code",
      "execution_count": null,
      "metadata": {
        "colab": {
          "background_save": true
        },
        "id": "JnuGZ7l43TY-",
        "outputId": "1aace64b-56e2-49d6-db3a-4e4487b43c52"
      },
      "outputs": [
        {
          "data": {
            "text/html": [
              "\n",
              "  <div id=\"df-cc222486-5a87-4879-a3e8-423e62a74116\">\n",
              "    <div class=\"colab-df-container\">\n",
              "      <div>\n",
              "<style scoped>\n",
              "    .dataframe tbody tr th:only-of-type {\n",
              "        vertical-align: middle;\n",
              "    }\n",
              "\n",
              "    .dataframe tbody tr th {\n",
              "        vertical-align: top;\n",
              "    }\n",
              "\n",
              "    .dataframe thead th {\n",
              "        text-align: right;\n",
              "    }\n",
              "</style>\n",
              "<table border=\"1\" class=\"dataframe\">\n",
              "  <thead>\n",
              "    <tr style=\"text-align: right;\">\n",
              "      <th></th>\n",
              "      <th>Customer_Age</th>\n",
              "      <th>Dependent_count</th>\n",
              "      <th>Months_on_book</th>\n",
              "      <th>Total_Relationship_Count</th>\n",
              "      <th>Months_Inactive_12_mon</th>\n",
              "      <th>Contacts_Count_12_mon</th>\n",
              "      <th>Credit_Limit</th>\n",
              "      <th>Total_Revolving_Bal</th>\n",
              "      <th>Avg_Open_To_Buy</th>\n",
              "      <th>Total_Amt_Chng_Q4_Q1</th>\n",
              "      <th>Total_Trans_Amt</th>\n",
              "      <th>Total_Trans_Ct</th>\n",
              "      <th>Total_Ct_Chng_Q4_Q1</th>\n",
              "      <th>Avg_Utilization_Ratio</th>\n",
              "      <th>Attrition_Flag_Int</th>\n",
              "    </tr>\n",
              "  </thead>\n",
              "  <tbody>\n",
              "    <tr>\n",
              "      <th>count</th>\n",
              "      <td>10127.000000</td>\n",
              "      <td>10127.000000</td>\n",
              "      <td>10127.000000</td>\n",
              "      <td>10127.000000</td>\n",
              "      <td>10127.000000</td>\n",
              "      <td>10127.000000</td>\n",
              "      <td>10127.000000</td>\n",
              "      <td>10127.000000</td>\n",
              "      <td>10127.000000</td>\n",
              "      <td>10127.000000</td>\n",
              "      <td>10127.000000</td>\n",
              "      <td>10127.000000</td>\n",
              "      <td>10127.000000</td>\n",
              "      <td>10127.000000</td>\n",
              "      <td>10127.000000</td>\n",
              "    </tr>\n",
              "    <tr>\n",
              "      <th>mean</th>\n",
              "      <td>46.325960</td>\n",
              "      <td>2.346203</td>\n",
              "      <td>35.928409</td>\n",
              "      <td>3.812580</td>\n",
              "      <td>2.341167</td>\n",
              "      <td>2.455317</td>\n",
              "      <td>8631.953698</td>\n",
              "      <td>1162.814061</td>\n",
              "      <td>7469.139637</td>\n",
              "      <td>0.759941</td>\n",
              "      <td>4404.086304</td>\n",
              "      <td>64.858695</td>\n",
              "      <td>0.712222</td>\n",
              "      <td>0.274894</td>\n",
              "      <td>0.160660</td>\n",
              "    </tr>\n",
              "    <tr>\n",
              "      <th>std</th>\n",
              "      <td>8.016814</td>\n",
              "      <td>1.298908</td>\n",
              "      <td>7.986416</td>\n",
              "      <td>1.554408</td>\n",
              "      <td>1.010622</td>\n",
              "      <td>1.106225</td>\n",
              "      <td>9088.776650</td>\n",
              "      <td>814.987335</td>\n",
              "      <td>9090.685324</td>\n",
              "      <td>0.219207</td>\n",
              "      <td>3397.129254</td>\n",
              "      <td>23.472570</td>\n",
              "      <td>0.238086</td>\n",
              "      <td>0.275691</td>\n",
              "      <td>0.367235</td>\n",
              "    </tr>\n",
              "    <tr>\n",
              "      <th>min</th>\n",
              "      <td>26.000000</td>\n",
              "      <td>0.000000</td>\n",
              "      <td>13.000000</td>\n",
              "      <td>1.000000</td>\n",
              "      <td>0.000000</td>\n",
              "      <td>0.000000</td>\n",
              "      <td>1438.300000</td>\n",
              "      <td>0.000000</td>\n",
              "      <td>3.000000</td>\n",
              "      <td>0.000000</td>\n",
              "      <td>510.000000</td>\n",
              "      <td>10.000000</td>\n",
              "      <td>0.000000</td>\n",
              "      <td>0.000000</td>\n",
              "      <td>0.000000</td>\n",
              "    </tr>\n",
              "    <tr>\n",
              "      <th>25%</th>\n",
              "      <td>41.000000</td>\n",
              "      <td>1.000000</td>\n",
              "      <td>31.000000</td>\n",
              "      <td>3.000000</td>\n",
              "      <td>2.000000</td>\n",
              "      <td>2.000000</td>\n",
              "      <td>2555.000000</td>\n",
              "      <td>359.000000</td>\n",
              "      <td>1324.500000</td>\n",
              "      <td>0.631000</td>\n",
              "      <td>2155.500000</td>\n",
              "      <td>45.000000</td>\n",
              "      <td>0.582000</td>\n",
              "      <td>0.023000</td>\n",
              "      <td>0.000000</td>\n",
              "    </tr>\n",
              "    <tr>\n",
              "      <th>50%</th>\n",
              "      <td>46.000000</td>\n",
              "      <td>2.000000</td>\n",
              "      <td>36.000000</td>\n",
              "      <td>4.000000</td>\n",
              "      <td>2.000000</td>\n",
              "      <td>2.000000</td>\n",
              "      <td>4549.000000</td>\n",
              "      <td>1276.000000</td>\n",
              "      <td>3474.000000</td>\n",
              "      <td>0.736000</td>\n",
              "      <td>3899.000000</td>\n",
              "      <td>67.000000</td>\n",
              "      <td>0.702000</td>\n",
              "      <td>0.176000</td>\n",
              "      <td>0.000000</td>\n",
              "    </tr>\n",
              "    <tr>\n",
              "      <th>75%</th>\n",
              "      <td>52.000000</td>\n",
              "      <td>3.000000</td>\n",
              "      <td>40.000000</td>\n",
              "      <td>5.000000</td>\n",
              "      <td>3.000000</td>\n",
              "      <td>3.000000</td>\n",
              "      <td>11067.500000</td>\n",
              "      <td>1784.000000</td>\n",
              "      <td>9859.000000</td>\n",
              "      <td>0.859000</td>\n",
              "      <td>4741.000000</td>\n",
              "      <td>81.000000</td>\n",
              "      <td>0.818000</td>\n",
              "      <td>0.503000</td>\n",
              "      <td>0.000000</td>\n",
              "    </tr>\n",
              "    <tr>\n",
              "      <th>max</th>\n",
              "      <td>73.000000</td>\n",
              "      <td>5.000000</td>\n",
              "      <td>56.000000</td>\n",
              "      <td>6.000000</td>\n",
              "      <td>6.000000</td>\n",
              "      <td>6.000000</td>\n",
              "      <td>34516.000000</td>\n",
              "      <td>2517.000000</td>\n",
              "      <td>34516.000000</td>\n",
              "      <td>3.397000</td>\n",
              "      <td>18484.000000</td>\n",
              "      <td>139.000000</td>\n",
              "      <td>3.714000</td>\n",
              "      <td>0.999000</td>\n",
              "      <td>1.000000</td>\n",
              "    </tr>\n",
              "  </tbody>\n",
              "</table>\n",
              "</div>\n",
              "      <button class=\"colab-df-convert\" onclick=\"convertToInteractive('df-cc222486-5a87-4879-a3e8-423e62a74116')\"\n",
              "              title=\"Convert this dataframe to an interactive table.\"\n",
              "              style=\"display:none;\">\n",
              "        \n",
              "  <svg xmlns=\"http://www.w3.org/2000/svg\" height=\"24px\"viewBox=\"0 0 24 24\"\n",
              "       width=\"24px\">\n",
              "    <path d=\"M0 0h24v24H0V0z\" fill=\"none\"/>\n",
              "    <path d=\"M18.56 5.44l.94 2.06.94-2.06 2.06-.94-2.06-.94-.94-2.06-.94 2.06-2.06.94zm-11 1L8.5 8.5l.94-2.06 2.06-.94-2.06-.94L8.5 2.5l-.94 2.06-2.06.94zm10 10l.94 2.06.94-2.06 2.06-.94-2.06-.94-.94-2.06-.94 2.06-2.06.94z\"/><path d=\"M17.41 7.96l-1.37-1.37c-.4-.4-.92-.59-1.43-.59-.52 0-1.04.2-1.43.59L10.3 9.45l-7.72 7.72c-.78.78-.78 2.05 0 2.83L4 21.41c.39.39.9.59 1.41.59.51 0 1.02-.2 1.41-.59l7.78-7.78 2.81-2.81c.8-.78.8-2.07 0-2.86zM5.41 20L4 18.59l7.72-7.72 1.47 1.35L5.41 20z\"/>\n",
              "  </svg>\n",
              "      </button>\n",
              "      \n",
              "  <style>\n",
              "    .colab-df-container {\n",
              "      display:flex;\n",
              "      flex-wrap:wrap;\n",
              "      gap: 12px;\n",
              "    }\n",
              "\n",
              "    .colab-df-convert {\n",
              "      background-color: #E8F0FE;\n",
              "      border: none;\n",
              "      border-radius: 50%;\n",
              "      cursor: pointer;\n",
              "      display: none;\n",
              "      fill: #1967D2;\n",
              "      height: 32px;\n",
              "      padding: 0 0 0 0;\n",
              "      width: 32px;\n",
              "    }\n",
              "\n",
              "    .colab-df-convert:hover {\n",
              "      background-color: #E2EBFA;\n",
              "      box-shadow: 0px 1px 2px rgba(60, 64, 67, 0.3), 0px 1px 3px 1px rgba(60, 64, 67, 0.15);\n",
              "      fill: #174EA6;\n",
              "    }\n",
              "\n",
              "    [theme=dark] .colab-df-convert {\n",
              "      background-color: #3B4455;\n",
              "      fill: #D2E3FC;\n",
              "    }\n",
              "\n",
              "    [theme=dark] .colab-df-convert:hover {\n",
              "      background-color: #434B5C;\n",
              "      box-shadow: 0px 1px 3px 1px rgba(0, 0, 0, 0.15);\n",
              "      filter: drop-shadow(0px 1px 2px rgba(0, 0, 0, 0.3));\n",
              "      fill: #FFFFFF;\n",
              "    }\n",
              "  </style>\n",
              "\n",
              "      <script>\n",
              "        const buttonEl =\n",
              "          document.querySelector('#df-cc222486-5a87-4879-a3e8-423e62a74116 button.colab-df-convert');\n",
              "        buttonEl.style.display =\n",
              "          google.colab.kernel.accessAllowed ? 'block' : 'none';\n",
              "\n",
              "        async function convertToInteractive(key) {\n",
              "          const element = document.querySelector('#df-cc222486-5a87-4879-a3e8-423e62a74116');\n",
              "          const dataTable =\n",
              "            await google.colab.kernel.invokeFunction('convertToInteractive',\n",
              "                                                     [key], {});\n",
              "          if (!dataTable) return;\n",
              "\n",
              "          const docLinkHtml = 'Like what you see? Visit the ' +\n",
              "            '<a target=\"_blank\" href=https://colab.research.google.com/notebooks/data_table.ipynb>data table notebook</a>'\n",
              "            + ' to learn more about interactive tables.';\n",
              "          element.innerHTML = '';\n",
              "          dataTable['output_type'] = 'display_data';\n",
              "          await google.colab.output.renderOutput(dataTable, element);\n",
              "          const docLink = document.createElement('div');\n",
              "          docLink.innerHTML = docLinkHtml;\n",
              "          element.appendChild(docLink);\n",
              "        }\n",
              "      </script>\n",
              "    </div>\n",
              "  </div>\n",
              "  "
            ],
            "text/plain": [
              "       Customer_Age  Dependent_count  Months_on_book  \\\n",
              "count  10127.000000     10127.000000    10127.000000   \n",
              "mean      46.325960         2.346203       35.928409   \n",
              "std        8.016814         1.298908        7.986416   \n",
              "min       26.000000         0.000000       13.000000   \n",
              "25%       41.000000         1.000000       31.000000   \n",
              "50%       46.000000         2.000000       36.000000   \n",
              "75%       52.000000         3.000000       40.000000   \n",
              "max       73.000000         5.000000       56.000000   \n",
              "\n",
              "       Total_Relationship_Count  Months_Inactive_12_mon  \\\n",
              "count              10127.000000            10127.000000   \n",
              "mean                   3.812580                2.341167   \n",
              "std                    1.554408                1.010622   \n",
              "min                    1.000000                0.000000   \n",
              "25%                    3.000000                2.000000   \n",
              "50%                    4.000000                2.000000   \n",
              "75%                    5.000000                3.000000   \n",
              "max                    6.000000                6.000000   \n",
              "\n",
              "       Contacts_Count_12_mon  Credit_Limit  Total_Revolving_Bal  \\\n",
              "count           10127.000000  10127.000000         10127.000000   \n",
              "mean                2.455317   8631.953698          1162.814061   \n",
              "std                 1.106225   9088.776650           814.987335   \n",
              "min                 0.000000   1438.300000             0.000000   \n",
              "25%                 2.000000   2555.000000           359.000000   \n",
              "50%                 2.000000   4549.000000          1276.000000   \n",
              "75%                 3.000000  11067.500000          1784.000000   \n",
              "max                 6.000000  34516.000000          2517.000000   \n",
              "\n",
              "       Avg_Open_To_Buy  Total_Amt_Chng_Q4_Q1  Total_Trans_Amt  Total_Trans_Ct  \\\n",
              "count     10127.000000          10127.000000     10127.000000    10127.000000   \n",
              "mean       7469.139637              0.759941      4404.086304       64.858695   \n",
              "std        9090.685324              0.219207      3397.129254       23.472570   \n",
              "min           3.000000              0.000000       510.000000       10.000000   \n",
              "25%        1324.500000              0.631000      2155.500000       45.000000   \n",
              "50%        3474.000000              0.736000      3899.000000       67.000000   \n",
              "75%        9859.000000              0.859000      4741.000000       81.000000   \n",
              "max       34516.000000              3.397000     18484.000000      139.000000   \n",
              "\n",
              "       Total_Ct_Chng_Q4_Q1  Avg_Utilization_Ratio  Attrition_Flag_Int  \n",
              "count         10127.000000           10127.000000        10127.000000  \n",
              "mean              0.712222               0.274894            0.160660  \n",
              "std               0.238086               0.275691            0.367235  \n",
              "min               0.000000               0.000000            0.000000  \n",
              "25%               0.582000               0.023000            0.000000  \n",
              "50%               0.702000               0.176000            0.000000  \n",
              "75%               0.818000               0.503000            0.000000  \n",
              "max               3.714000               0.999000            1.000000  "
            ]
          },
          "execution_count": 41,
          "metadata": {},
          "output_type": "execute_result"
        }
      ],
      "source": [
        "df.loc[:, ~df.columns.isin(['CLIENTNUM', 'nb1', 'nb2'])].describe()"
      ]
    },
    {
      "cell_type": "markdown",
      "metadata": {
        "id": "nWwI0xmQsIk_"
      },
      "source": [
        "#### Matriz de correlacion"
      ]
    },
    {
      "cell_type": "code",
      "execution_count": null,
      "metadata": {
        "colab": {
          "background_save": true
        },
        "id": "DbhVeMNBA9yW",
        "outputId": "a7f10ff8-c337-4171-ab0c-6097d98b4ae5"
      },
      "outputs": [
        {
          "data": {
            "image/png": "[encoded data removed]",
            "text/plain": [
              "<Figure size 1008x504 with 2 Axes>"
            ]
          },
          "metadata": {},
          "output_type": "display_data"
        }
      ],
      "source": [
        "correlation = df.loc[:, ~df.columns.isin(['CLIENTNUM', 'nb1', 'nb2'])].corr().round(2)\n",
        "plt.figure(figsize = (14,7))\n",
        "sns.heatmap(correlation, annot = True, cmap = 'RdBu', vmin=-1, vmax=1)\n",
        "plt.show()\n"
      ]
    },
    {
      "cell_type": "markdown",
      "metadata": {
        "id": "Q65NYdUSsg6j"
      },
      "source": [
        "- Vemos correlación entre la variable Revolving_balance y avg_utilization ratio. Creemos que esto es porque cuanto más usás la tarjeta, mayor es tu saldo deudor.\n",
        "- Lo mismo pasa con monto y cantidad de TRX"
      ]
    },
    {
      "cell_type": "markdown",
      "metadata": {
        "id": "lnKvDalTsL9d"
      },
      "source": [
        "#### Box plot edad"
      ]
    },
    {
      "cell_type": "code",
      "execution_count": null,
      "metadata": {
        "colab": {
          "background_save": true
        },
        "id": "_FPPVj72sLq4",
        "outputId": "efd7e0d1-5299-4de2-85a3-5d451b6b6e58"
      },
      "outputs": [
        {
          "data": {
            "text/plain": [
              "<matplotlib.axes._subplots.AxesSubplot at 0x7f21ad1abca0>"
            ]
          },
          "execution_count": 43,
          "metadata": {},
          "output_type": "execute_result"
        },
        {
          "data": {
            "image/png": "[encoded data removed]",
            "text/plain": [
              "<Figure size 432x288 with 1 Axes>"
            ]
          },
          "metadata": {},
          "output_type": "display_data"
        }
      ],
      "source": [
        "#Box plot attrition edad\n",
        "sns.boxplot(x='Attrition_Flag', y='Customer_Age', data=df)"
      ]
    },
    {
      "cell_type": "markdown",
      "metadata": {
        "id": "phoxfUmgsbui"
      },
      "source": [
        "No vemos diferencia entre los 2 grupos"
      ]
    },
    {
      "cell_type": "markdown",
      "metadata": {
        "id": "1qpm_BsUsuGw"
      },
      "source": [
        "#### Box plot dependent count"
      ]
    },
    {
      "cell_type": "code",
      "execution_count": null,
      "metadata": {
        "colab": {
          "background_save": true
        },
        "id": "nVFXVMayszZ1",
        "outputId": "8d4361bd-8a24-4b2b-d060-6a5704a4a787"
      },
      "outputs": [
        {
          "data": {
            "text/plain": [
              "<matplotlib.axes._subplots.AxesSubplot at 0x7f21a8a488b0>"
            ]
          },
          "execution_count": 44,
          "metadata": {},
          "output_type": "execute_result"
        },
        {
          "data": {
            "image/png": "[encoded data removed]",
            "text/plain": [
              "<Figure size 432x288 with 1 Axes>"
            ]
          },
          "metadata": {},
          "output_type": "display_data"
        }
      ],
      "source": [
        "#Box plot attrition dependent_count\n",
        "sns.boxplot(x='Attrition_Flag', y='Dependent_count', data=df)"
      ]
    },
    {
      "cell_type": "markdown",
      "metadata": {
        "id": "rH-UF-983jCt"
      },
      "source": [
        "Vemos bien sumarla al modelo"
      ]
    },
    {
      "cell_type": "markdown",
      "metadata": {
        "id": "s78A0Ovvs4kB"
      },
      "source": [
        "#### Box plot months on book"
      ]
    },
    {
      "cell_type": "code",
      "execution_count": null,
      "metadata": {
        "colab": {
          "background_save": true
        },
        "id": "_0zQKlLGs5HK",
        "outputId": "9bcb7a4c-4450-4769-b58d-bf248add37e0"
      },
      "outputs": [
        {
          "data": {
            "text/plain": [
              "<matplotlib.axes._subplots.AxesSubplot at 0x7f21a89b0df0>"
            ]
          },
          "execution_count": 45,
          "metadata": {},
          "output_type": "execute_result"
        },
        {
          "data": {
            "image/png": "[encoded data removed]",
            "text/plain": [
              "<Figure size 432x288 with 1 Axes>"
            ]
          },
          "metadata": {},
          "output_type": "display_data"
        }
      ],
      "source": [
        "#Box plot attrition antiguedad\n",
        "sns.boxplot(x='Attrition_Flag', y='Months_on_book', data=df)"
      ]
    },
    {
      "cell_type": "markdown",
      "metadata": {
        "id": "pmF7ZjUftFu2"
      },
      "source": [
        "No vemos diferencia entre los grupos"
      ]
    },
    {
      "cell_type": "markdown",
      "metadata": {
        "id": "cseEn3xMtDJm"
      },
      "source": [
        "#### Box plot Total_Relationship_Count"
      ]
    },
    {
      "cell_type": "code",
      "execution_count": null,
      "metadata": {
        "colab": {
          "background_save": true
        },
        "id": "-Y3AyAvmtCEW",
        "outputId": "271915d4-72dd-48fe-e7ef-221a379a7bd6"
      },
      "outputs": [
        {
          "data": {
            "text/plain": [
              "<matplotlib.axes._subplots.AxesSubplot at 0x7f21a8992d30>"
            ]
          },
          "execution_count": 46,
          "metadata": {},
          "output_type": "execute_result"
        },
        {
          "data": {
            "image/png": "[encoded data removed]",
            "text/plain": [
              "<Figure size 432x288 with 1 Axes>"
            ]
          },
          "metadata": {},
          "output_type": "display_data"
        }
      ],
      "source": [
        "#Box plot attrition relationship count\n",
        "sns.boxplot(x='Attrition_Flag', y='Total_Relationship_Count', data=df)"
      ]
    },
    {
      "cell_type": "markdown",
      "metadata": {
        "id": "_83612cytxES"
      },
      "source": [
        "Vemos una diferencia entre los grupos, podríamos usarlo como variable predictora"
      ]
    },
    {
      "cell_type": "markdown",
      "metadata": {
        "id": "1vFNCM9Rt3k3"
      },
      "source": [
        "#### Boxplot Months_Inactive_12_mon"
      ]
    },
    {
      "cell_type": "code",
      "execution_count": null,
      "metadata": {
        "colab": {
          "background_save": true
        },
        "id": "xBExuMdjt3O6",
        "outputId": "00778526-fd83-48d9-e71f-d5973912b4ac"
      },
      "outputs": [
        {
          "data": {
            "text/plain": [
              "<matplotlib.axes._subplots.AxesSubplot at 0x7f21ad99dca0>"
            ]
          },
          "execution_count": 47,
          "metadata": {},
          "output_type": "execute_result"
        },
        {
          "data": {
            "image/png": "[encoded data removed]",
            "text/plain": [
              "<Figure size 432x288 with 1 Axes>"
            ]
          },
          "metadata": {},
          "output_type": "display_data"
        }
      ],
      "source": [
        "#Box plot attrition antiguedad\n",
        "sns.boxplot(x='Attrition_Flag', y='Months_Inactive_12_mon', data=df)"
      ]
    },
    {
      "cell_type": "markdown",
      "metadata": {
        "id": "Azrd2a_qt7-T"
      },
      "source": [
        "Vemos una diferencia entre los grupos, podríamos usarlo como variable predictora"
      ]
    },
    {
      "cell_type": "markdown",
      "metadata": {
        "id": "aSlHKz_9uBPX"
      },
      "source": [
        "#### Boxplot Contacts_Count_12_mon"
      ]
    },
    {
      "cell_type": "code",
      "execution_count": null,
      "metadata": {
        "colab": {
          "background_save": true
        },
        "id": "UbBQyETWt_jf",
        "outputId": "fe42a898-c71c-4cd8-b441-92ca88d85f76"
      },
      "outputs": [
        {
          "data": {
            "text/plain": [
              "<matplotlib.axes._subplots.AxesSubplot at 0x7f21ad3d9a30>"
            ]
          },
          "execution_count": 48,
          "metadata": {},
          "output_type": "execute_result"
        },
        {
          "data": {
            "image/png": "[encoded data removed]",
            "text/plain": [
              "<Figure size 432x288 with 1 Axes>"
            ]
          },
          "metadata": {},
          "output_type": "display_data"
        }
      ],
      "source": [
        "sns.boxplot(x='Attrition_Flag', y='Contacts_Count_12_mon', data=df)"
      ]
    },
    {
      "cell_type": "markdown",
      "metadata": {
        "id": "hKA_VdBduGpa"
      },
      "source": [
        "Vemos una diferencia entre los grupos, podríamos usarlo como variable predictora"
      ]
    },
    {
      "cell_type": "markdown",
      "metadata": {
        "id": "bdOAAQhIuLG6"
      },
      "source": [
        "#### Boxplot Credit_Limit"
      ]
    },
    {
      "cell_type": "code",
      "execution_count": null,
      "metadata": {
        "colab": {
          "background_save": true
        },
        "id": "un5Zrir7uLe7",
        "outputId": "18ad74ac-0ed0-4b8e-ab35-61dc93326adc"
      },
      "outputs": [
        {
          "data": {
            "text/plain": [
              "<matplotlib.axes._subplots.AxesSubplot at 0x7f21ad306400>"
            ]
          },
          "execution_count": 49,
          "metadata": {},
          "output_type": "execute_result"
        },
        {
          "data": {
            "image/png": "[encoded data removed]",
            "text/plain": [
              "<Figure size 432x288 with 1 Axes>"
            ]
          },
          "metadata": {},
          "output_type": "display_data"
        }
      ],
      "source": [
        "sns.boxplot(x='Attrition_Flag', y='Credit_Limit', data=df)"
      ]
    },
    {
      "cell_type": "markdown",
      "metadata": {
        "id": "RTt4NR-VuWyY"
      },
      "source": [
        "Vemos una diferencia chica en los grupos, podría llegar a usarse como variable predictora\n",
        "\n",
        "\n"
      ]
    },
    {
      "cell_type": "markdown",
      "metadata": {
        "id": "_wXwwZEquT-H"
      },
      "source": [
        "#### Boxplot Total_Revolving_Bal"
      ]
    },
    {
      "cell_type": "code",
      "execution_count": null,
      "metadata": {
        "colab": {
          "background_save": true
        },
        "id": "a2LwEQMzuTR4",
        "outputId": "6f8c89ba-a12b-4cdb-ce58-ca6e9117276c"
      },
      "outputs": [
        {
          "data": {
            "text/plain": [
              "<matplotlib.axes._subplots.AxesSubplot at 0x7f21a896bc70>"
            ]
          },
          "execution_count": 50,
          "metadata": {},
          "output_type": "execute_result"
        },
        {
          "data": {
            "image/png": "[encoded data removed]",
            "text/plain": [
              "<Figure size 432x288 with 1 Axes>"
            ]
          },
          "metadata": {},
          "output_type": "display_data"
        }
      ],
      "source": [
        "### Attrition y saldo deudor. Los que abandonan tienen menos saldo deudor.\n",
        "sns.boxplot(x='Attrition_Flag', y='Total_Revolving_Bal', data=df)"
      ]
    },
    {
      "cell_type": "markdown",
      "metadata": {
        "id": "pkrNITr_uekb"
      },
      "source": [
        "Vemos una diferencia clara en los grupos y creemos que suma valor al modelo como variable predictora"
      ]
    },
    {
      "cell_type": "markdown",
      "metadata": {
        "id": "LHE3QtrKunSs"
      },
      "source": [
        "#### Boxplot Avg_Open_To_Buy"
      ]
    },
    {
      "cell_type": "code",
      "execution_count": null,
      "metadata": {
        "colab": {
          "background_save": true
        },
        "id": "E8duL0I7uljc",
        "outputId": "5654e141-98aa-4a6a-e5a0-e40ad6e98485"
      },
      "outputs": [
        {
          "data": {
            "text/plain": [
              "<matplotlib.axes._subplots.AxesSubplot at 0x7f21a8bd2a00>"
            ]
          },
          "execution_count": 51,
          "metadata": {},
          "output_type": "execute_result"
        },
        {
          "data": {
            "image/png": "[encoded data removed]",
            "text/plain": [
              "<Figure size 432x288 with 1 Axes>"
            ]
          },
          "metadata": {},
          "output_type": "display_data"
        }
      ],
      "source": [
        "## Attrition y monto disponible\n",
        "sns.boxplot(x='Attrition_Flag', y='Avg_Open_To_Buy', data=df)"
      ]
    },
    {
      "cell_type": "markdown",
      "metadata": {
        "id": "Xjle5_t7ux4j"
      },
      "source": [
        "No vemos mucha diferencia, más que \"Existing customer\" tiene más variabilidad que \"Attrited customer\""
      ]
    },
    {
      "cell_type": "markdown",
      "metadata": {
        "id": "o8_lBhrFvGJl"
      },
      "source": [
        "#### Boxplot Total_Amt_Chng_Q4_Q1"
      ]
    },
    {
      "cell_type": "code",
      "execution_count": null,
      "metadata": {
        "colab": {
          "background_save": true
        },
        "id": "XN59r1rMvFS5",
        "outputId": "92801b28-25ff-4105-c2b0-a1fd3a1da0df"
      },
      "outputs": [
        {
          "data": {
            "text/plain": [
              "<matplotlib.axes._subplots.AxesSubplot at 0x7f21a8b4b640>"
            ]
          },
          "execution_count": 52,
          "metadata": {},
          "output_type": "execute_result"
        },
        {
          "data": {
            "image/png": "[encoded data removed]",
            "text/plain": [
              "<Figure size 432x288 with 1 Axes>"
            ]
          },
          "metadata": {},
          "output_type": "display_data"
        }
      ],
      "source": [
        "sns.boxplot(x='Attrition_Flag', y='Total_Amt_Chng_Q4_Q1', data=df)"
      ]
    },
    {
      "cell_type": "markdown",
      "metadata": {
        "id": "RB5dpzdXvLT2"
      },
      "source": [
        "No vemos valor en sumarla al modelo"
      ]
    },
    {
      "cell_type": "markdown",
      "metadata": {
        "id": "lSTWSiJ0vVAz"
      },
      "source": [
        "#### Boxplot Total_Trans_Amt"
      ]
    },
    {
      "cell_type": "code",
      "execution_count": null,
      "metadata": {
        "colab": {
          "background_save": true
        },
        "id": "-OyLNiRLvLqI",
        "outputId": "af1137b2-c333-4cdc-d355-4c7791a989b1"
      },
      "outputs": [
        {
          "data": {
            "text/plain": [
              "<matplotlib.axes._subplots.AxesSubplot at 0x7f21a8b45820>"
            ]
          },
          "execution_count": 53,
          "metadata": {},
          "output_type": "execute_result"
        },
        {
          "data": {
            "image/png": "[encoded data removed]",
            "text/plain": [
              "<Figure size 432x288 with 1 Axes>"
            ]
          },
          "metadata": {},
          "output_type": "display_data"
        }
      ],
      "source": [
        "sns.boxplot(x='Attrition_Flag', y='Total_Trans_Amt', data=df)"
      ]
    },
    {
      "cell_type": "markdown",
      "metadata": {
        "id": "XU-u-SmKvWoh"
      },
      "source": [
        "Vemos una diferencia clara en los grupos y creemos que suma valor agregarla al modelo"
      ]
    },
    {
      "cell_type": "markdown",
      "metadata": {
        "id": "Ut8CkQUovehR"
      },
      "source": [
        "#### Boxplot Total_Trans_Ct"
      ]
    },
    {
      "cell_type": "code",
      "execution_count": null,
      "metadata": {
        "colab": {
          "background_save": true
        },
        "id": "YzdBWrmIvfhE",
        "outputId": "3db34881-1bf0-4efa-a7c6-9e5e13433e6b"
      },
      "outputs": [
        {
          "data": {
            "text/plain": [
              "<matplotlib.axes._subplots.AxesSubplot at 0x7f21a882d9d0>"
            ]
          },
          "execution_count": 54,
          "metadata": {},
          "output_type": "execute_result"
        },
        {
          "data": {
            "image/png": "[encoded data removed]",
            "text/plain": [
              "<Figure size 432x288 with 1 Axes>"
            ]
          },
          "metadata": {},
          "output_type": "display_data"
        }
      ],
      "source": [
        "sns.boxplot(x='Attrition_Flag', y='Total_Trans_Ct', data=df)"
      ]
    },
    {
      "cell_type": "markdown",
      "metadata": {
        "id": "SWE27uZDvmvX"
      },
      "source": [
        "Vemos la misma diferencia, pero como una es cantidad de TRX y la otra monto deberíamos elegir solo una (por estar correlacionadas).\n",
        "Vamos con count que es la que mayor diferencia presenta en los grupos"
      ]
    },
    {
      "cell_type": "markdown",
      "metadata": {
        "id": "S1YUOgKUv2jb"
      },
      "source": [
        "#### Boxplot Total_Ct_Chng_Q4_Q1"
      ]
    },
    {
      "cell_type": "code",
      "execution_count": null,
      "metadata": {
        "colab": {
          "background_save": true
        },
        "id": "GMqKEr-Vv23_",
        "outputId": "2955487d-6b1c-4235-d192-ccbf3435239a"
      },
      "outputs": [
        {
          "data": {
            "text/plain": [
              "<matplotlib.axes._subplots.AxesSubplot at 0x7f21a880b430>"
            ]
          },
          "execution_count": 55,
          "metadata": {},
          "output_type": "execute_result"
        },
        {
          "data": {
            "image/png": "[encoded data removed]",
            "text/plain": [
              "<Figure size 432x288 with 1 Axes>"
            ]
          },
          "metadata": {},
          "output_type": "display_data"
        }
      ],
      "source": [
        "sns.boxplot(x='Attrition_Flag', y='Total_Ct_Chng_Q4_Q1', data=df)\n"
      ]
    },
    {
      "cell_type": "markdown",
      "metadata": {
        "id": "L2SVZ22D3xNm"
      },
      "source": [
        "Preferimos no sumarla al modelo por explicabilidad"
      ]
    },
    {
      "cell_type": "markdown",
      "metadata": {
        "id": "V2J6wIgXwQ51"
      },
      "source": [
        "#### Boxplot Avg_Utilization_Ratio"
      ]
    },
    {
      "cell_type": "code",
      "execution_count": null,
      "metadata": {
        "colab": {
          "background_save": true
        },
        "id": "HBfV78rxwRP4",
        "outputId": "82339c02-0e7d-47e9-c835-09e8f05691ea"
      },
      "outputs": [
        {
          "data": {
            "text/plain": [
              "<matplotlib.axes._subplots.AxesSubplot at 0x7f21a889c850>"
            ]
          },
          "execution_count": 56,
          "metadata": {},
          "output_type": "execute_result"
        },
        {
          "data": {
            "image/png": "[encoded data removed]",
            "text/plain": [
              "<Figure size 432x288 with 1 Axes>"
            ]
          },
          "metadata": {},
          "output_type": "display_data"
        }
      ],
      "source": [
        "sns.boxplot(x='Attrition_Flag', y='Avg_Utilization_Ratio', data=df)"
      ]
    },
    {
      "cell_type": "markdown",
      "metadata": {
        "id": "542Br3U-wfnl"
      },
      "source": [
        "Vemos una diferencia en los grupos y creemos que puede sumar valor al modelo"
      ]
    },
    {
      "cell_type": "code",
      "execution_count": null,
      "metadata": {
        "colab": {
          "background_save": true
        },
        "id": "q3qRRdtlfe88"
      },
      "outputs": [],
      "source": [
        "#Graficos para variables categoricas\n",
        "\n",
        "#Income_Category\n",
        "#Gender\n",
        "#Education_Level\n",
        "#Marital_Status\n",
        "#Card_Category"
      ]
    },
    {
      "cell_type": "code",
      "execution_count": null,
      "metadata": {
        "colab": {
          "background_save": true
        },
        "id": "hV8vAmTdffCH",
        "outputId": "5062d5f0-69a9-4666-ab59-26b00f73060f"
      },
      "outputs": [
        {
          "data": {
            "text/plain": [
              "<matplotlib.axes._subplots.AxesSubplot at 0x7f21a86f9850>"
            ]
          },
          "execution_count": 58,
          "metadata": {},
          "output_type": "execute_result"
        },
        {
          "data": {
            "image/png": "[encoded data removed]",
            "text/plain": [
              "<Figure size 432x288 with 1 Axes>"
            ]
          },
          "metadata": {},
          "output_type": "display_data"
        }
      ],
      "source": [
        "#AA-Desafio3\n",
        "\n",
        "F=df.groupby(['Income_Category','Attrition_Flag']).size()\n",
        "TotalF = F.sum()\n",
        "\n",
        "Flag =(F.loc[:]*100)/TotalF\n",
        "Flag\n",
        "\n",
        "#Se resetea los indices\n",
        "Flag = Flag.reset_index()\n",
        "\n",
        "#Se ordena por Totales\n",
        "Flag2 = Flag.sort_values([0], ascending=False)\n",
        "\n",
        "#Se valida Orden de Totales\n",
        "Flag2\n",
        "\n",
        "#Grafico\n",
        "Flag2 = pd.pivot_table(Flag2, columns = 'Attrition_Flag', index = 'Income_Category', values = 0)\n",
        "\n",
        "Flag2.plot(kind = 'bar', stacked = True,  title='Attrition_Flag y Income_Category')\n",
        "\n"
      ]
    },
    {
      "cell_type": "code",
      "execution_count": null,
      "metadata": {
        "colab": {
          "background_save": true
        },
        "id": "45wHqQ5iffFf",
        "outputId": "6ef8f8af-995c-496a-82e2-19833ee6a237"
      },
      "outputs": [
        {
          "data": {
            "text/plain": [
              "<matplotlib.axes._subplots.AxesSubplot at 0x7f21a8638160>"
            ]
          },
          "execution_count": 59,
          "metadata": {},
          "output_type": "execute_result"
        },
        {
          "data": {
            "image/png": "[encoded data removed]",
            "text/plain": [
              "<Figure size 432x288 with 1 Axes>"
            ]
          },
          "metadata": {},
          "output_type": "display_data"
        }
      ],
      "source": [
        "Flag2.plot(kind = 'bar')"
      ]
    },
    {
      "cell_type": "code",
      "execution_count": null,
      "metadata": {
        "colab": {
          "background_save": true
        },
        "id": "bFN5lbvQffIG",
        "outputId": "b4c42ae9-820e-4d2f-f1f9-610ef05ccbef"
      },
      "outputs": [
        {
          "data": {
            "text/plain": [
              "<matplotlib.axes._subplots.AxesSubplot at 0x7f21a85d0c40>"
            ]
          },
          "execution_count": 60,
          "metadata": {},
          "output_type": "execute_result"
        },
        {
          "data": {
            "image/png": "[encoded data removed]",
            "text/plain": [
              "<Figure size 432x288 with 1 Axes>"
            ]
          },
          "metadata": {},
          "output_type": "display_data"
        }
      ],
      "source": [
        "#AA-Desafio3\n",
        "\n",
        "F_G=df.groupby(['Gender','Attrition_Flag']).size()\n",
        "TotalG = F_G.sum()\n",
        "\n",
        "Flag_G =(F_G.loc[:]*100)/TotalG\n",
        "Flag_G\n",
        "\n",
        "\n",
        "#Se resetea los indices\n",
        "Flag_Gender = Flag_G.reset_index()\n",
        "\n",
        "#Se ordena por Totales\n",
        "Flag_Gender2 = Flag_Gender.sort_values([0], ascending=False)\n",
        "\n",
        "#Se valida Orden de Totales\n",
        "Flag_Gender2\n",
        "\n",
        "#Grafico\n",
        "Flag_Gender2 = pd.pivot_table(Flag_Gender2, columns = 'Attrition_Flag', index = 'Gender', values = 0)\n",
        "Flag_Gender2.plot(kind = 'bar')\n"
      ]
    },
    {
      "cell_type": "code",
      "execution_count": null,
      "metadata": {
        "colab": {
          "background_save": true
        },
        "id": "ewI5LnhlffKx",
        "outputId": "cd7d5737-1db2-473f-9573-6ebad8afa18f"
      },
      "outputs": [
        {
          "data": {
            "text/plain": [
              "<matplotlib.axes._subplots.AxesSubplot at 0x7f21a858ea00>"
            ]
          },
          "execution_count": 61,
          "metadata": {},
          "output_type": "execute_result"
        },
        {
          "data": {
            "image/png": "[encoded data removed]",
            "text/plain": [
              "<Figure size 432x288 with 1 Axes>"
            ]
          },
          "metadata": {},
          "output_type": "display_data"
        }
      ],
      "source": [
        "#AA-Desafio3\n",
        "#Education_Level\n",
        "\n",
        "F_EL=df.groupby(['Education_Level','Attrition_Flag']).size()\n",
        "TotalE = F_EL.sum()\n",
        "\n",
        "Flag_EL =(F_EL.loc[:]*100)/TotalE\n",
        "Flag_EL\n",
        "\n",
        "\n",
        "#Se resetea los indices\n",
        "Flag_Educ = Flag_EL.reset_index()\n",
        "\n",
        "#Se ordena por Totales\n",
        "Flag_Educ2 = Flag_Educ.sort_values([0], ascending=False)\n",
        "\n",
        "#Se valida Orden de Totales\n",
        "Flag_Educ2\n",
        "\n",
        "#Grafico\n",
        "Flag_Educ2 = pd.pivot_table(Flag_Educ2, columns = 'Attrition_Flag', index = 'Education_Level', values = 0)\n",
        "Flag_Educ2.plot(kind = 'bar')"
      ]
    },
    {
      "cell_type": "code",
      "execution_count": null,
      "metadata": {
        "colab": {
          "background_save": true
        },
        "id": "1VF_zZWvgPZf",
        "outputId": "5c51aee5-6886-41c1-e0cb-725ad8376a79"
      },
      "outputs": [
        {
          "data": {
            "text/plain": [
              "<matplotlib.axes._subplots.AxesSubplot at 0x7f21a85093a0>"
            ]
          },
          "execution_count": 62,
          "metadata": {},
          "output_type": "execute_result"
        },
        {
          "data": {
            "image/png": "[encoded data removed]",
            "text/plain": [
              "<Figure size 432x288 with 1 Axes>"
            ]
          },
          "metadata": {},
          "output_type": "display_data"
        }
      ],
      "source": [
        "#AA-Desafio3\n",
        "#Marital_Status\n",
        "\n",
        "F_MS=df.groupby(['Marital_Status','Attrition_Flag']).size()\n",
        "TotalMS = F_MS.sum()\n",
        "\n",
        "F_MS =(F_MS.loc[:]*100)/TotalMS\n",
        "F_MS\n",
        "\n",
        "\n",
        "#Se resetea los indices\n",
        "Flag_MS = F_MS.reset_index()\n",
        "\n",
        "#Se ordena por Totales\n",
        "Flag_MS2 = Flag_MS.sort_values([0], ascending=False)\n",
        "\n",
        "#Se valida Orden de Totales\n",
        "Flag_MS2\n",
        "\n",
        "\n",
        "#Grafico\n",
        "Flag_MS2 = pd.pivot_table(Flag_MS2, columns = 'Attrition_Flag', index = 'Marital_Status', values = 0)\n",
        "Flag_MS2.plot(kind = 'bar')"
      ]
    },
    {
      "cell_type": "code",
      "execution_count": null,
      "metadata": {
        "colab": {
          "background_save": true
        },
        "id": "okfyHs6WgPdM",
        "outputId": "6edec751-e9fb-4d03-a009-0988d971da31"
      },
      "outputs": [
        {
          "data": {
            "text/plain": [
              "<matplotlib.axes._subplots.AxesSubplot at 0x7f21a8484e50>"
            ]
          },
          "execution_count": 63,
          "metadata": {},
          "output_type": "execute_result"
        },
        {
          "data": {
            "image/png": "[encoded data removed]",
            "text/plain": [
              "<Figure size 432x288 with 1 Axes>"
            ]
          },
          "metadata": {},
          "output_type": "display_data"
        }
      ],
      "source": [
        "#AA-Desafio3\n",
        "#Card_Category\n",
        "\n",
        "F_CC=df.groupby(['Card_Category','Attrition_Flag']).size()\n",
        "TotalCC = F_CC.sum()\n",
        "\n",
        "Flag_CC =(F_CC.loc[:]*100)/TotalCC\n",
        "Flag_CC\n",
        "\n",
        "\n",
        "#Se resetea los indices\n",
        "Flag_Card = Flag_CC.reset_index()\n",
        "\n",
        "#Se ordena por Totales\n",
        "Flag_Card2 = Flag_Card.sort_values([0], ascending=False)\n",
        "\n",
        "#Se valida Orden de Totales\n",
        "Flag_Card2\n",
        "\n",
        "#Grafico\n",
        "Flag_Card2 = pd.pivot_table(Flag_Card2, columns = 'Attrition_Flag', index = 'Card_Category', values = 0)\n",
        "Flag_Card2.plot(kind = 'bar')"
      ]
    },
    {
      "cell_type": "markdown",
      "metadata": {
        "id": "-9IKve0g3bTZ"
      },
      "source": [
        "# Seleccionar variables"
      ]
    },
    {
      "cell_type": "code",
      "execution_count": null,
      "metadata": {
        "colab": {
          "background_save": true
        },
        "id": "cO9oWtJHjOPI",
        "outputId": "9ebf182c-49bd-4c4f-8e66-6e4194441055"
      },
      "outputs": [
        {
          "data": {
            "text/plain": [
              "Index(['CLIENTNUM', 'Attrition_Flag', 'Customer_Age', 'Gender',\n",
              "       'Dependent_count', 'Education_Level', 'Marital_Status',\n",
              "       'Income_Category', 'Card_Category', 'Months_on_book',\n",
              "       'Total_Relationship_Count', 'Months_Inactive_12_mon',\n",
              "       'Contacts_Count_12_mon', 'Credit_Limit', 'Total_Revolving_Bal',\n",
              "       'Avg_Open_To_Buy', 'Total_Amt_Chng_Q4_Q1', 'Total_Trans_Amt',\n",
              "       'Total_Trans_Ct', 'Total_Ct_Chng_Q4_Q1', 'Avg_Utilization_Ratio', 'nb1',\n",
              "       'nb2', 'Attrition_Flag_Int'],\n",
              "      dtype='object')"
            ]
          },
          "execution_count": 64,
          "metadata": {},
          "output_type": "execute_result"
        }
      ],
      "source": [
        "df.columns"
      ]
    },
    {
      "cell_type": "markdown",
      "metadata": {
        "id": "oIb8rOWSS3Q7"
      },
      "source": [
        "## Numericas"
      ]
    },
    {
      "cell_type": "markdown",
      "metadata": {
        "id": "LAe4ixTaS_l9"
      },
      "source": [
        "- Customer_Age\n",
        "- Dependent_count\n",
        "- Total_Relationship_Count\n",
        "- Months_Inactive_12_mon\n",
        "- Contacts_Count_12_mon\n",
        "- Credit_Limit\n",
        "- Total_Revolving_Bal\n",
        "- Total_Trans_Ct\n",
        "- Total_Ct_Chng_Q4_Q1\n",
        "- Avg_Utilization_Ratio"
      ]
    },
    {
      "cell_type": "markdown",
      "metadata": {
        "id": "kpn9Be8MS8cM"
      },
      "source": [
        "## Categoricas"
      ]
    },
    {
      "cell_type": "markdown",
      "metadata": {
        "id": "8jZY6d7oTDwa"
      },
      "source": [
        "- Gender\n",
        "- Income_Category\n",
        "- Card_Category\n",
        "- Education_Level"
      ]
    },
    {
      "cell_type": "code",
      "execution_count": null,
      "metadata": {
        "colab": {
          "background_save": true
        },
        "id": "TeHTDCa6A0gF"
      },
      "outputs": [],
      "source": []
    },
    {
      "cell_type": "markdown",
      "metadata": {
        "id": "hiIISXr3SD5k"
      },
      "source": [
        "# Armar los modelos\n"
      ]
    },
    {
      "cell_type": "markdown",
      "metadata": {
        "id": "HHv8wt0WARUt"
      },
      "source": [
        "### BASE LINE: NAIVE BAYES"
      ]
    },
    {
      "cell_type": "code",
      "execution_count": null,
      "metadata": {
        "colab": {
          "base_uri": "https://localhost:8080/"
        },
        "id": "SeEvoaR5b0JX",
        "outputId": "226c666a-cd6c-4a0e-e4fe-9f3c73993aa4"
      },
      "outputs": [
        {
          "output_type": "stream",
          "name": "stdout",
          "text": [
            "['$60K - $80K' 'Less than $40K' '$80K - $120K' '$40K - $60K' '$120K +'\n",
            " 'Unknown']\n"
          ]
        }
      ],
      "source": [
        "### Pasar variables categoricas relevantes a ordinales\n",
        "df1= df.copy()\n",
        "print(df1['Income_Category'].unique())\n",
        "df1['Income_Category'].replace(['Less than $40K', '$40K - $60K', '$60K - $80K', '$80K - $120K', '$120K +', 'Unknown'], \n",
        "                               [1, 2, 3, 4, 5, 99], inplace=True)\n"
      ]
    },
    {
      "cell_type": "code",
      "execution_count": null,
      "metadata": {
        "colab": {
          "base_uri": "https://localhost:8080/"
        },
        "id": "8Xk1xHwJK_we",
        "outputId": "ad443932-ec5f-4620-862f-b7e6450ecb0c"
      },
      "outputs": [
        {
          "output_type": "execute_result",
          "data": {
            "text/plain": [
              "array([ 3,  1,  4,  2,  5, 99])"
            ]
          },
          "metadata": {},
          "execution_count": 440
        }
      ],
      "source": [
        "df1.Income_Category.unique()"
      ]
    },
    {
      "cell_type": "code",
      "execution_count": null,
      "metadata": {
        "colab": {
          "base_uri": "https://localhost:8080/"
        },
        "id": "KbG5dgEYLMPw",
        "outputId": "89b36194-4091-4e87-dd3a-7a3c4acabbd8"
      },
      "outputs": [
        {
          "output_type": "stream",
          "name": "stdout",
          "text": [
            "['M' 'F']\n"
          ]
        }
      ],
      "source": [
        "### Pasar variables categóricas a ordinales\n",
        "print(df1['Gender'].unique())\n",
        "df1['Gender'].replace(['F', 'M'], \n",
        "                    [0, 1], inplace=True)"
      ]
    },
    {
      "cell_type": "code",
      "execution_count": null,
      "metadata": {
        "colab": {
          "base_uri": "https://localhost:8080/"
        },
        "id": "U4cwJUjRLYRE",
        "outputId": "62725106-c96c-41fd-835e-e0896ccc8b16"
      },
      "outputs": [
        {
          "output_type": "execute_result",
          "data": {
            "text/plain": [
              "array([1, 0])"
            ]
          },
          "metadata": {},
          "execution_count": 442
        }
      ],
      "source": [
        "df1.Gender.unique()"
      ]
    },
    {
      "cell_type": "code",
      "execution_count": null,
      "metadata": {
        "id": "ZcFvId_aLfRw"
      },
      "outputs": [],
      "source": [
        "###Separar features y target\n",
        "\n",
        "X = df1[['Avg_Utilization_Ratio', 'Total_Relationship_Count', 'Total_Revolving_Bal', 'Total_Trans_Ct', 'Months_Inactive_12_mon', 'Total_Ct_Chng_Q4_Q1',\n",
        "        'Contacts_Count_12_mon', 'Dependent_count', 'Customer_Age', 'Income_Category', 'Gender']]\n",
        "Y = df1['Attrition_Flag_Int']"
      ]
    },
    {
      "cell_type": "code",
      "execution_count": null,
      "metadata": {
        "colab": {
          "base_uri": "https://localhost:8080/"
        },
        "id": "i3zon_HFLm_m",
        "outputId": "73eba418-804e-42fa-977b-91c45b4cbd42"
      },
      "outputs": [
        {
          "output_type": "stream",
          "name": "stdout",
          "text": [
            "(7088, 11)\n",
            "(3039, 11)\n",
            "(7088,)\n",
            "(3039,)\n"
          ]
        }
      ],
      "source": [
        "# separamos los conjuntos de entrenamiento y test para el clasificador clasificador, con una proporción 70-30:\n",
        "X_train, X_test, Y_train, Y_test = train_test_split(X, Y, test_size = 0.3, random_state = 1237)\n",
        "\n",
        "print(X_train.shape)\n",
        "print(X_test.shape)\n",
        "print(Y_train.shape)\n",
        "print(Y_test.shape)"
      ]
    },
    {
      "cell_type": "code",
      "execution_count": null,
      "metadata": {
        "colab": {
          "base_uri": "https://localhost:8080/"
        },
        "id": "Bkt_c5VQMK8K",
        "outputId": "5b139be5-536b-460f-e58b-2ecce0013100"
      },
      "outputs": [
        {
          "output_type": "execute_result",
          "data": {
            "text/plain": [
              "GaussianNB()"
            ]
          },
          "metadata": {},
          "execution_count": 445
        }
      ],
      "source": [
        "###Instanciamos el modelo y lo entrenamos\n",
        "from sklearn.naive_bayes import GaussianNB\n",
        "gnb = GaussianNB()\n",
        "gnb.fit(X_train, Y_train)"
      ]
    },
    {
      "cell_type": "code",
      "execution_count": null,
      "metadata": {
        "colab": {
          "base_uri": "https://localhost:8080/"
        },
        "id": "LlnrPNB-M6Y5",
        "outputId": "e9887b90-1f60-4fd5-a2b5-857403bb6788"
      },
      "outputs": [
        {
          "output_type": "execute_result",
          "data": {
            "text/plain": [
              "array([0, 0, 0, ..., 0, 0, 0])"
            ]
          },
          "metadata": {},
          "execution_count": 446
        }
      ],
      "source": [
        "###Predecir las etiquetas de test del modelo NAIVE BAYES\n",
        "Y_pred = gnb.predict(X_test)\n",
        "\n",
        "Y_pred"
      ]
    },
    {
      "cell_type": "code",
      "execution_count": null,
      "metadata": {
        "colab": {
          "base_uri": "https://localhost:8080/"
        },
        "id": "8txW-5j8NAPk",
        "outputId": "a7043b70-c540-484d-eb20-b31cffefef6a"
      },
      "outputs": [
        {
          "output_type": "execute_result",
          "data": {
            "text/plain": [
              "0.9"
            ]
          },
          "metadata": {},
          "execution_count": 447
        }
      ],
      "source": [
        "###Calculamos accuracy de test\n",
        "from sklearn.metrics import accuracy_score\n",
        "round(accuracy_score(Y_test, Y_pred), 2)"
      ]
    },
    {
      "cell_type": "code",
      "execution_count": null,
      "metadata": {
        "colab": {
          "base_uri": "https://localhost:8080/"
        },
        "id": "gb5JveSUPrLq",
        "outputId": "aef4b14e-5547-449a-f511-0a46c946371e"
      },
      "outputs": [
        {
          "output_type": "execute_result",
          "data": {
            "text/plain": [
              "0.7754853663783965"
            ]
          },
          "metadata": {},
          "execution_count": 448
        }
      ],
      "source": [
        "#Sensibilidad NAIVE BAYES\n",
        "\n",
        "recall_score(Y_test, Y_pred, average='macro')"
      ]
    },
    {
      "cell_type": "code",
      "execution_count": null,
      "metadata": {
        "colab": {
          "base_uri": "https://localhost:8080/"
        },
        "id": "QjPMtzOCRCoQ",
        "outputId": "c58b8341-ae1c-4c37-b8b3-b0891bfc31bd"
      },
      "outputs": [
        {
          "output_type": "execute_result",
          "data": {
            "text/plain": [
              "0.9653133622388648"
            ]
          },
          "metadata": {},
          "execution_count": 449
        }
      ],
      "source": [
        "#Especificidad de NAIVE BAYES\n",
        "recall_score(np.logical_not(Y_test) , np.logical_not(Y_pred))"
      ]
    },
    {
      "cell_type": "code",
      "source": [
        "from sklearn.metrics import f1_score\n",
        "print(f1_score(Y_test,Y_pred))"
      ],
      "metadata": {
        "colab": {
          "base_uri": "https://localhost:8080/"
        },
        "id": "c43E1tRfeLNI",
        "outputId": "537e3b6d-1c6d-4e56-c6a1-6558fa8305b8"
      },
      "execution_count": null,
      "outputs": [
        {
          "output_type": "stream",
          "name": "stdout",
          "text": [
            "0.6651583710407241\n"
          ]
        }
      ]
    },
    {
      "cell_type": "code",
      "execution_count": null,
      "metadata": {
        "colab": {
          "base_uri": "https://localhost:8080/",
          "height": 279
        },
        "id": "tyu9rHqfOVUb",
        "outputId": "53c1198a-b50e-4036-9573-ca027e134cf5"
      },
      "outputs": [
        {
          "output_type": "display_data",
          "data": {
            "text/plain": [
              "<Figure size 432x288 with 2 Axes>"
            ],
            "image/png": "[encoded data removed]"
          },
          "metadata": {
            "needs_background": "light"
          }
        }
      ],
      "source": [
        "###Matriz de confusion\n",
        "from sklearn.metrics import confusion_matrix\n",
        "sns.heatmap(confusion_matrix(Y_test, Y_pred), annot=True, fmt='.0f')\n",
        "plt.ylabel('Etiquetas reales')\n",
        "plt.xlabel('Etiquetas predichas');"
      ]
    },
    {
      "cell_type": "code",
      "execution_count": null,
      "metadata": {
        "colab": {
          "base_uri": "https://localhost:8080/",
          "height": 295
        },
        "id": "ZDOUPzlEXS1t",
        "outputId": "de6011ac-3fd2-4f2c-af80-601dbc2a49fb"
      },
      "outputs": [
        {
          "output_type": "display_data",
          "data": {
            "text/plain": [
              "<Figure size 432x288 with 1 Axes>"
            ],
            "image/png": "[encoded data removed]"
          },
          "metadata": {
            "needs_background": "light"
          }
        }
      ],
      "source": [
        "Y_scores = gnb.predict_proba(X_test)\n",
        "fpr, tpr, threshold = roc_curve(Y_test, Y_scores[:, 1])\n",
        "roc_auc = auc(fpr, tpr)\n",
        "\n",
        "plt.title('Naive Bayes Classifier')\n",
        "plt.plot(fpr, tpr, 'b', label = 'AUC = %0.2f' % roc_auc)\n",
        "plt.legend(loc = 'lower right')\n",
        "plt.plot([0, 1], [0, 1],'r--')\n",
        "plt.xlim([0, 1])\n",
        "plt.ylim([0, 1])\n",
        "plt.ylabel('True Positive Rate')\n",
        "plt.xlabel('False Positive Rate')\n",
        "plt.title('ROC Curve of NAIVE BAYES')\n",
        "plt.show()"
      ]
    },
    {
      "cell_type": "markdown",
      "metadata": {
        "id": "rdtiOQV9DxkC"
      },
      "source": [
        "## KNN"
      ]
    },
    {
      "cell_type": "code",
      "source": [
        "#Volcamos los datos a un DataFrame\n",
        "dfKnn = pd.DataFrame(df, columns=['Total_Trans_Ct', 'Income_Category','Attrition_Flag_Int'])\n",
        "\n",
        "dfKnn.head()"
      ],
      "metadata": {
        "colab": {
          "base_uri": "https://localhost:8080/",
          "height": 206
        },
        "id": "wy8bX9s-Zq8C",
        "outputId": "b4be75fe-8e68-4397-fd2f-ed0380619e0f"
      },
      "execution_count": null,
      "outputs": [
        {
          "output_type": "execute_result",
          "data": {
            "text/plain": [
              "   Total_Trans_Ct Income_Category  Attrition_Flag_Int\n",
              "0              42     $60K - $80K                   0\n",
              "1              33  Less than $40K                   0\n",
              "2              20    $80K - $120K                   0\n",
              "3              20  Less than $40K                   0\n",
              "4              28     $60K - $80K                   0"
            ],
            "text/html": [
              "\n",
              "  <div id=\"df-822b913b-2b40-47bb-bc78-fe7944c9010f\">\n",
              "    <div class=\"colab-df-container\">\n",
              "      <div>\n",
              "<style scoped>\n",
              "    .dataframe tbody tr th:only-of-type {\n",
              "        vertical-align: middle;\n",
              "    }\n",
              "\n",
              "    .dataframe tbody tr th {\n",
              "        vertical-align: top;\n",
              "    }\n",
              "\n",
              "    .dataframe thead th {\n",
              "        text-align: right;\n",
              "    }\n",
              "</style>\n",
              "<table border=\"1\" class=\"dataframe\">\n",
              "  <thead>\n",
              "    <tr style=\"text-align: right;\">\n",
              "      <th></th>\n",
              "      <th>Total_Trans_Ct</th>\n",
              "      <th>Income_Category</th>\n",
              "      <th>Attrition_Flag_Int</th>\n",
              "    </tr>\n",
              "  </thead>\n",
              "  <tbody>\n",
              "    <tr>\n",
              "      <th>0</th>\n",
              "      <td>42</td>\n",
              "      <td>$60K - $80K</td>\n",
              "      <td>0</td>\n",
              "    </tr>\n",
              "    <tr>\n",
              "      <th>1</th>\n",
              "      <td>33</td>\n",
              "      <td>Less than $40K</td>\n",
              "      <td>0</td>\n",
              "    </tr>\n",
              "    <tr>\n",
              "      <th>2</th>\n",
              "      <td>20</td>\n",
              "      <td>$80K - $120K</td>\n",
              "      <td>0</td>\n",
              "    </tr>\n",
              "    <tr>\n",
              "      <th>3</th>\n",
              "      <td>20</td>\n",
              "      <td>Less than $40K</td>\n",
              "      <td>0</td>\n",
              "    </tr>\n",
              "    <tr>\n",
              "      <th>4</th>\n",
              "      <td>28</td>\n",
              "      <td>$60K - $80K</td>\n",
              "      <td>0</td>\n",
              "    </tr>\n",
              "  </tbody>\n",
              "</table>\n",
              "</div>\n",
              "      <button class=\"colab-df-convert\" onclick=\"convertToInteractive('df-822b913b-2b40-47bb-bc78-fe7944c9010f')\"\n",
              "              title=\"Convert this dataframe to an interactive table.\"\n",
              "              style=\"display:none;\">\n",
              "        \n",
              "  <svg xmlns=\"http://www.w3.org/2000/svg\" height=\"24px\"viewBox=\"0 0 24 24\"\n",
              "       width=\"24px\">\n",
              "    <path d=\"M0 0h24v24H0V0z\" fill=\"none\"/>\n",
              "    <path d=\"M18.56 5.44l.94 2.06.94-2.06 2.06-.94-2.06-.94-.94-2.06-.94 2.06-2.06.94zm-11 1L8.5 8.5l.94-2.06 2.06-.94-2.06-.94L8.5 2.5l-.94 2.06-2.06.94zm10 10l.94 2.06.94-2.06 2.06-.94-2.06-.94-.94-2.06-.94 2.06-2.06.94z\"/><path d=\"M17.41 7.96l-1.37-1.37c-.4-.4-.92-.59-1.43-.59-.52 0-1.04.2-1.43.59L10.3 9.45l-7.72 7.72c-.78.78-.78 2.05 0 2.83L4 21.41c.39.39.9.59 1.41.59.51 0 1.02-.2 1.41-.59l7.78-7.78 2.81-2.81c.8-.78.8-2.07 0-2.86zM5.41 20L4 18.59l7.72-7.72 1.47 1.35L5.41 20z\"/>\n",
              "  </svg>\n",
              "      </button>\n",
              "      \n",
              "  <style>\n",
              "    .colab-df-container {\n",
              "      display:flex;\n",
              "      flex-wrap:wrap;\n",
              "      gap: 12px;\n",
              "    }\n",
              "\n",
              "    .colab-df-convert {\n",
              "      background-color: #E8F0FE;\n",
              "      border: none;\n",
              "      border-radius: 50%;\n",
              "      cursor: pointer;\n",
              "      display: none;\n",
              "      fill: #1967D2;\n",
              "      height: 32px;\n",
              "      padding: 0 0 0 0;\n",
              "      width: 32px;\n",
              "    }\n",
              "\n",
              "    .colab-df-convert:hover {\n",
              "      background-color: #E2EBFA;\n",
              "      box-shadow: 0px 1px 2px rgba(60, 64, 67, 0.3), 0px 1px 3px 1px rgba(60, 64, 67, 0.15);\n",
              "      fill: #174EA6;\n",
              "    }\n",
              "\n",
              "    [theme=dark] .colab-df-convert {\n",
              "      background-color: #3B4455;\n",
              "      fill: #D2E3FC;\n",
              "    }\n",
              "\n",
              "    [theme=dark] .colab-df-convert:hover {\n",
              "      background-color: #434B5C;\n",
              "      box-shadow: 0px 1px 3px 1px rgba(0, 0, 0, 0.15);\n",
              "      filter: drop-shadow(0px 1px 2px rgba(0, 0, 0, 0.3));\n",
              "      fill: #FFFFFF;\n",
              "    }\n",
              "  </style>\n",
              "\n",
              "      <script>\n",
              "        const buttonEl =\n",
              "          document.querySelector('#df-822b913b-2b40-47bb-bc78-fe7944c9010f button.colab-df-convert');\n",
              "        buttonEl.style.display =\n",
              "          google.colab.kernel.accessAllowed ? 'block' : 'none';\n",
              "\n",
              "        async function convertToInteractive(key) {\n",
              "          const element = document.querySelector('#df-822b913b-2b40-47bb-bc78-fe7944c9010f');\n",
              "          const dataTable =\n",
              "            await google.colab.kernel.invokeFunction('convertToInteractive',\n",
              "                                                     [key], {});\n",
              "          if (!dataTable) return;\n",
              "\n",
              "          const docLinkHtml = 'Like what you see? Visit the ' +\n",
              "            '<a target=\"_blank\" href=https://colab.research.google.com/notebooks/data_table.ipynb>data table notebook</a>'\n",
              "            + ' to learn more about interactive tables.';\n",
              "          element.innerHTML = '';\n",
              "          dataTable['output_type'] = 'display_data';\n",
              "          await google.colab.output.renderOutput(dataTable, element);\n",
              "          const docLink = document.createElement('div');\n",
              "          docLink.innerHTML = docLinkHtml;\n",
              "          element.appendChild(docLink);\n",
              "        }\n",
              "      </script>\n",
              "    </div>\n",
              "  </div>\n",
              "  "
            ]
          },
          "metadata": {},
          "execution_count": 7
        }
      ]
    },
    {
      "cell_type": "code",
      "source": [
        "dfKnn['Income_Category'] = dfKnn.Income_Category.map({'Unknown':1,\n",
        "                                                'Less than $40K':1,\n",
        "                                                '$40K - $60K':2,\n",
        "                                                '$60K - $80K':3,\n",
        "                                                '$80K - $120K':4, \n",
        "                                                '$120K +':5})"
      ],
      "metadata": {
        "id": "LBLaXeMMZvi8"
      },
      "execution_count": null,
      "outputs": []
    },
    {
      "cell_type": "code",
      "execution_count": null,
      "metadata": {
        "colab": {
          "base_uri": "https://localhost:8080/",
          "height": 502
        },
        "id": "8bYlqnaHEPaO",
        "outputId": "e7493d65-5f44-4822-8c2f-6ef9c71c2c6b"
      },
      "outputs": [
        {
          "output_type": "display_data",
          "data": {
            "text/plain": [
              "<Figure size 720x576 with 1 Axes>"
            ],
            "image/png": "[encoded data removed]"
          },
          "metadata": {
            "needs_background": "light"
          }
        }
      ],
      "source": [
        "# Visualizamos los datos\n",
        "plt.figure(figsize=(10,8))\n",
        "sns.scatterplot(x='Total_Trans_Ct', y='Income_Category', data=dfKnn, hue='Attrition_Flag_Int')\n",
        "plt.xlabel(f'$x_1$', fontsize=15)\n",
        "plt.ylabel(f'$x_2$', fontsize=15);"
      ]
    },
    {
      "cell_type": "code",
      "execution_count": null,
      "metadata": {
        "colab": {
          "base_uri": "https://localhost:8080/"
        },
        "id": "U_KXOwx_ES3l",
        "outputId": "5f216b81-3079-4768-9c1f-1cb539fe5db3"
      },
      "outputs": [
        {
          "output_type": "execute_result",
          "data": {
            "text/plain": [
              "Attrition_Flag_Int\n",
              "0    2.203294\n",
              "1    2.154886\n",
              "Name: Income_Category, dtype: float64"
            ]
          },
          "metadata": {},
          "execution_count": 10
        }
      ],
      "source": [
        "dfKnn.groupby('Attrition_Flag_Int')['Income_Category'].mean()\n"
      ]
    },
    {
      "cell_type": "code",
      "execution_count": null,
      "metadata": {
        "colab": {
          "base_uri": "https://localhost:8080/",
          "height": 596
        },
        "id": "g2msG3_jEWP8",
        "outputId": "36002c58-fd94-4efa-ac59-18e56f339267"
      },
      "outputs": [
        {
          "output_type": "display_data",
          "data": {
            "text/plain": [
              "<Figure size 1440x720 with 2 Axes>"
            ],
            "image/png": "[encoded data removed]"
          },
          "metadata": {
            "needs_background": "light"
          }
        }
      ],
      "source": [
        "\n",
        "plt.figure(figsize=(20,10))\n",
        "sns.heatmap(dfKnn.corr(), annot=True, vmin=-1, cmap='Blues');\n"
      ]
    },
    {
      "cell_type": "code",
      "execution_count": null,
      "metadata": {
        "colab": {
          "base_uri": "https://localhost:8080/",
          "height": 550
        },
        "id": "nZryYlAHEh5h",
        "outputId": "4c5154f4-ec1b-466a-df17-585471ada451"
      },
      "outputs": [
        {
          "output_type": "display_data",
          "data": {
            "text/plain": [
              "<Figure size 540x540 with 12 Axes>"
            ],
            "image/png": "[encoded data removed]"
          },
          "metadata": {
            "needs_background": "light"
          }
        }
      ],
      "source": [
        "sns.pairplot(dfKnn);"
      ]
    },
    {
      "cell_type": "code",
      "execution_count": null,
      "metadata": {
        "colab": {
          "base_uri": "https://localhost:8080/"
        },
        "id": "LyLESzJzEoFI",
        "outputId": "c95e730a-df27-445d-c3c3-889357864013"
      },
      "outputs": [
        {
          "output_type": "execute_result",
          "data": {
            "text/plain": [
              "0    0\n",
              "1    0\n",
              "2    0\n",
              "3    0\n",
              "4    0\n",
              "Name: Attrition_Flag_Int, dtype: int64"
            ]
          },
          "metadata": {},
          "execution_count": 13
        }
      ],
      "source": [
        "# Construir la variable target: Attrition_Flag_Int\n",
        "y = dfKnn['Attrition_Flag_Int']\n",
        "y.head()\n"
      ]
    },
    {
      "cell_type": "code",
      "source": [
        "X = dfKnn[['Total_Trans_Ct', 'Income_Category']]"
      ],
      "metadata": {
        "id": "KygLo4GysYiR"
      },
      "execution_count": null,
      "outputs": []
    },
    {
      "cell_type": "code",
      "execution_count": null,
      "metadata": {
        "id": "6JRhg3NbEtgB"
      },
      "outputs": [],
      "source": [
        "# Separar los conjuntos de entrenamiento y testeo, estratificando por clase\n",
        "from sklearn.model_selection import train_test_split\n",
        "X_train, X_test, y_train, y_test = train_test_split(X, y, stratify=y)"
      ]
    },
    {
      "cell_type": "code",
      "execution_count": null,
      "metadata": {
        "id": "ny1ZrBeKEtuG"
      },
      "outputs": [],
      "source": [
        "# Estandarización de variables\n",
        "from sklearn.preprocessing import StandardScaler\n",
        "scaler = StandardScaler()\n",
        "X_train_std = scaler.fit_transform(X_train)\n",
        "X_test_std = scaler.transform(X_test)"
      ]
    },
    {
      "cell_type": "code",
      "execution_count": null,
      "metadata": {
        "id": "nr-Ru6JwE5_o"
      },
      "outputs": [],
      "source": [
        "from sklearn.model_selection import cross_val_score, KFold\n",
        "from sklearn.neighbors import KNeighborsClassifier"
      ]
    },
    {
      "cell_type": "code",
      "execution_count": null,
      "metadata": {
        "id": "FUAXFuykEtyz"
      },
      "outputs": [],
      "source": [
        "def scores_knn(X, y, start,stop,step):\n",
        "    \n",
        "    # Vamos a graficar los distintos valores del score de cross validation en función del hiperparámetro n_neighbors\n",
        "    # Para esto vamos a generar una lista de diccionarios que después se puede convertir fácilmente en DataFrame\n",
        "    \n",
        "    # Lista de diccionarios - la inicializamos vacío y por fuera del for loop para ir alimentándola en cada iteración\n",
        "    scores_para_df = []\n",
        "    \n",
        "    for i in range(start,stop,step):\n",
        "        \n",
        "        # En cada iteración, instanciamos el modelo con un hiperparámetro distinto\n",
        "        model = KNeighborsClassifier(n_neighbors=i)\n",
        "\n",
        "        # cross_val_scores nos devuelve un array de 5 resultados, uno por cada partición que hizo automáticamente CV\n",
        "        kf = KFold(n_splits=10, shuffle=True, random_state=10)\n",
        "        cv_scores = cross_val_score(model, X, y, cv=kf)\n",
        "\n",
        "        # Para cada valor de n_neighbours, creamos un diccionario con el valor de n_neighbours y la media y el desvío de los scores\n",
        "        dict_row_score = {'score_medio':np.mean(cv_scores),'score_std':np.std(cv_scores),'n_neighbours':i}\n",
        "\n",
        "        # Guardamos cada uno en la lista de diccionarios\n",
        "        scores_para_df.append(dict_row_score)\n",
        "    \n",
        "    # Creamos el DF a partir de la lista de resultados\n",
        "    df_scores = pd.DataFrame(scores_para_df)\n",
        "    \n",
        "    # Incorporamos los límites inferior y superior, restando y sumando el valor del desvío estándar, respectivamente\n",
        "    df_scores['limite_inferior'] = df_scores['score_medio'] - df_scores['score_std']\n",
        "    df_scores['limite_superior'] = df_scores['score_medio'] + df_scores['score_std']\n",
        "    \n",
        "    # Retornamos el DF\n",
        "    return df_scores\n"
      ]
    },
    {
      "cell_type": "code",
      "execution_count": null,
      "metadata": {
        "id": "O57XlRddFKEB"
      },
      "outputs": [],
      "source": [
        "# Probamos de 1 a 20 vecinos\n",
        "df_scores= scores_knn(X_train, y_train, 1, 21, 1)"
      ]
    },
    {
      "cell_type": "code",
      "execution_count": null,
      "metadata": {
        "colab": {
          "base_uri": "https://localhost:8080/",
          "height": 269
        },
        "id": "qP_am22yFKMV",
        "outputId": "27915cfd-23f5-430b-e110-0cb5e10e65ac"
      },
      "outputs": [
        {
          "output_type": "display_data",
          "data": {
            "text/plain": [
              "<Figure size 432x288 with 1 Axes>"
            ],
            "image/png": "[encoded data removed]"
          },
          "metadata": {
            "needs_background": "light"
          }
        }
      ],
      "source": [
        "# Visualizamos los resultados\n",
        "\n",
        "plt.plot(df_scores['n_neighbours'], df_scores['limite_inferior'], color='r')\n",
        "plt.plot(df_scores['n_neighbours'], df_scores['score_medio'], color='b')\n",
        "plt.plot(df_scores['n_neighbours'], df_scores['limite_superior'], color='r')\n",
        "plt.ylim(0.7, 1);"
      ]
    },
    {
      "cell_type": "code",
      "execution_count": null,
      "metadata": {
        "colab": {
          "base_uri": "https://localhost:8080/",
          "height": 81
        },
        "id": "C_dGYkNQFKSO",
        "outputId": "1cb945dd-d4f4-40ec-f2ab-f7b1e77e78cb"
      },
      "outputs": [
        {
          "output_type": "execute_result",
          "data": {
            "text/plain": [
              "    score_medio  score_std  n_neighbours  limite_inferior  limite_superior\n",
              "19     0.853059   0.017701            20         0.835358         0.870759"
            ],
            "text/html": [
              "\n",
              "  <div id=\"df-99ac6e92-0635-49fa-acaa-9fdf9cf18581\">\n",
              "    <div class=\"colab-df-container\">\n",
              "      <div>\n",
              "<style scoped>\n",
              "    .dataframe tbody tr th:only-of-type {\n",
              "        vertical-align: middle;\n",
              "    }\n",
              "\n",
              "    .dataframe tbody tr th {\n",
              "        vertical-align: top;\n",
              "    }\n",
              "\n",
              "    .dataframe thead th {\n",
              "        text-align: right;\n",
              "    }\n",
              "</style>\n",
              "<table border=\"1\" class=\"dataframe\">\n",
              "  <thead>\n",
              "    <tr style=\"text-align: right;\">\n",
              "      <th></th>\n",
              "      <th>score_medio</th>\n",
              "      <th>score_std</th>\n",
              "      <th>n_neighbours</th>\n",
              "      <th>limite_inferior</th>\n",
              "      <th>limite_superior</th>\n",
              "    </tr>\n",
              "  </thead>\n",
              "  <tbody>\n",
              "    <tr>\n",
              "      <th>19</th>\n",
              "      <td>0.853059</td>\n",
              "      <td>0.017701</td>\n",
              "      <td>20</td>\n",
              "      <td>0.835358</td>\n",
              "      <td>0.870759</td>\n",
              "    </tr>\n",
              "  </tbody>\n",
              "</table>\n",
              "</div>\n",
              "      <button class=\"colab-df-convert\" onclick=\"convertToInteractive('df-99ac6e92-0635-49fa-acaa-9fdf9cf18581')\"\n",
              "              title=\"Convert this dataframe to an interactive table.\"\n",
              "              style=\"display:none;\">\n",
              "        \n",
              "  <svg xmlns=\"http://www.w3.org/2000/svg\" height=\"24px\"viewBox=\"0 0 24 24\"\n",
              "       width=\"24px\">\n",
              "    <path d=\"M0 0h24v24H0V0z\" fill=\"none\"/>\n",
              "    <path d=\"M18.56 5.44l.94 2.06.94-2.06 2.06-.94-2.06-.94-.94-2.06-.94 2.06-2.06.94zm-11 1L8.5 8.5l.94-2.06 2.06-.94-2.06-.94L8.5 2.5l-.94 2.06-2.06.94zm10 10l.94 2.06.94-2.06 2.06-.94-2.06-.94-.94-2.06-.94 2.06-2.06.94z\"/><path d=\"M17.41 7.96l-1.37-1.37c-.4-.4-.92-.59-1.43-.59-.52 0-1.04.2-1.43.59L10.3 9.45l-7.72 7.72c-.78.78-.78 2.05 0 2.83L4 21.41c.39.39.9.59 1.41.59.51 0 1.02-.2 1.41-.59l7.78-7.78 2.81-2.81c.8-.78.8-2.07 0-2.86zM5.41 20L4 18.59l7.72-7.72 1.47 1.35L5.41 20z\"/>\n",
              "  </svg>\n",
              "      </button>\n",
              "      \n",
              "  <style>\n",
              "    .colab-df-container {\n",
              "      display:flex;\n",
              "      flex-wrap:wrap;\n",
              "      gap: 12px;\n",
              "    }\n",
              "\n",
              "    .colab-df-convert {\n",
              "      background-color: #E8F0FE;\n",
              "      border: none;\n",
              "      border-radius: 50%;\n",
              "      cursor: pointer;\n",
              "      display: none;\n",
              "      fill: #1967D2;\n",
              "      height: 32px;\n",
              "      padding: 0 0 0 0;\n",
              "      width: 32px;\n",
              "    }\n",
              "\n",
              "    .colab-df-convert:hover {\n",
              "      background-color: #E2EBFA;\n",
              "      box-shadow: 0px 1px 2px rgba(60, 64, 67, 0.3), 0px 1px 3px 1px rgba(60, 64, 67, 0.15);\n",
              "      fill: #174EA6;\n",
              "    }\n",
              "\n",
              "    [theme=dark] .colab-df-convert {\n",
              "      background-color: #3B4455;\n",
              "      fill: #D2E3FC;\n",
              "    }\n",
              "\n",
              "    [theme=dark] .colab-df-convert:hover {\n",
              "      background-color: #434B5C;\n",
              "      box-shadow: 0px 1px 3px 1px rgba(0, 0, 0, 0.15);\n",
              "      filter: drop-shadow(0px 1px 2px rgba(0, 0, 0, 0.3));\n",
              "      fill: #FFFFFF;\n",
              "    }\n",
              "  </style>\n",
              "\n",
              "      <script>\n",
              "        const buttonEl =\n",
              "          document.querySelector('#df-99ac6e92-0635-49fa-acaa-9fdf9cf18581 button.colab-df-convert');\n",
              "        buttonEl.style.display =\n",
              "          google.colab.kernel.accessAllowed ? 'block' : 'none';\n",
              "\n",
              "        async function convertToInteractive(key) {\n",
              "          const element = document.querySelector('#df-99ac6e92-0635-49fa-acaa-9fdf9cf18581');\n",
              "          const dataTable =\n",
              "            await google.colab.kernel.invokeFunction('convertToInteractive',\n",
              "                                                     [key], {});\n",
              "          if (!dataTable) return;\n",
              "\n",
              "          const docLinkHtml = 'Like what you see? Visit the ' +\n",
              "            '<a target=\"_blank\" href=https://colab.research.google.com/notebooks/data_table.ipynb>data table notebook</a>'\n",
              "            + ' to learn more about interactive tables.';\n",
              "          element.innerHTML = '';\n",
              "          dataTable['output_type'] = 'display_data';\n",
              "          await google.colab.output.renderOutput(dataTable, element);\n",
              "          const docLink = document.createElement('div');\n",
              "          docLink.innerHTML = docLinkHtml;\n",
              "          element.appendChild(docLink);\n",
              "        }\n",
              "      </script>\n",
              "    </div>\n",
              "  </div>\n",
              "  "
            ]
          },
          "metadata": {},
          "execution_count": 25
        }
      ],
      "source": [
        "#Prediccion en Test\n",
        "# Identificamos el score máximo\n",
        "df_scores.loc[df_scores.score_medio == df_scores.score_medio.max()]\n"
      ]
    },
    {
      "cell_type": "code",
      "execution_count": null,
      "metadata": {
        "colab": {
          "base_uri": "https://localhost:8080/"
        },
        "id": "m0wC4r5lFKcE",
        "outputId": "62890e16-3c48-4ab2-f144-08718c9ce158"
      },
      "outputs": [
        {
          "output_type": "execute_result",
          "data": {
            "text/plain": [
              "20"
            ]
          },
          "metadata": {},
          "execution_count": 26
        }
      ],
      "source": [
        "# Asignamos el valor del k óptimo a una variable\n",
        "best_k = df_scores.loc[df_scores.score_medio == df_scores.score_medio.max(),'n_neighbours'].values[0]\n",
        "best_k"
      ]
    },
    {
      "cell_type": "code",
      "execution_count": null,
      "metadata": {
        "colab": {
          "base_uri": "https://localhost:8080/"
        },
        "id": "qYtbIAVKFKkZ",
        "outputId": "423f7687-9377-4d2d-87cb-5daddbd16293"
      },
      "outputs": [
        {
          "output_type": "execute_result",
          "data": {
            "text/plain": [
              "KNeighborsClassifier(n_neighbors=20)"
            ]
          },
          "metadata": {},
          "execution_count": 27
        }
      ],
      "source": [
        "# Elegimos el modelo óptimo que nos había indicado cross validation\n",
        "model = KNeighborsClassifier(n_neighbors=best_k)\n",
        "\n",
        "# Lo ajustamos sobre datos de entrenamiento\n",
        "model.fit(X_train, y_train)"
      ]
    },
    {
      "cell_type": "code",
      "execution_count": null,
      "metadata": {
        "colab": {
          "base_uri": "https://localhost:8080/"
        },
        "id": "cjHgxaMfEuBA",
        "outputId": "56313fe7-78e3-4919-9422-90354b9ea888"
      },
      "outputs": [
        {
          "output_type": "execute_result",
          "data": {
            "text/plain": [
              "0.8605661619486504"
            ]
          },
          "metadata": {},
          "execution_count": 28
        }
      ],
      "source": [
        "from sklearn.metrics import accuracy_score\n",
        "\n",
        "# Evaluamos qué accuracy obtenemos en train\n",
        "accuracy_score(y_train, model.predict(X_train))"
      ]
    },
    {
      "cell_type": "code",
      "execution_count": null,
      "metadata": {
        "id": "80uztLpVFyXO"
      },
      "outputs": [],
      "source": [
        "# Lo utilizamos para predecir en test\n",
        "y_pred = model.predict(X_test)\n"
      ]
    },
    {
      "cell_type": "code",
      "source": [
        "from sklearn.metrics import confusion_matrix\n",
        "confusion=confusion_matrix(y_test, y_pred)\n",
        "TP = confusion[1, 1]\n",
        "TN = confusion[0, 0]\n",
        "FP = confusion[0, 1]\n",
        "FN = confusion[1, 0]\n",
        "\n"
      ],
      "metadata": {
        "id": "K0g4Kyt4aihS"
      },
      "execution_count": null,
      "outputs": []
    },
    {
      "cell_type": "code",
      "execution_count": null,
      "metadata": {
        "colab": {
          "base_uri": "https://localhost:8080/"
        },
        "id": "0aEo4-JXFygL",
        "outputId": "05459adb-6d77-4b86-f92d-088c7ae1ec00"
      },
      "outputs": [
        {
          "output_type": "execute_result",
          "data": {
            "text/plain": [
              "0.8495260663507109"
            ]
          },
          "metadata": {},
          "execution_count": 32
        }
      ],
      "source": [
        "# Computamos el accuracy score en test\n",
        "accuracy_score(y_test, y_pred)\n"
      ]
    },
    {
      "cell_type": "code",
      "execution_count": null,
      "metadata": {
        "colab": {
          "base_uri": "https://localhost:8080/"
        },
        "id": "q7IjfJaiTC8N",
        "outputId": "bbe3dbdd-ffbb-4c1f-a6ea-7ec9880b5bfe"
      },
      "outputs": [
        {
          "output_type": "execute_result",
          "data": {
            "text/plain": [
              "0.2800982800982801"
            ]
          },
          "metadata": {},
          "execution_count": 33
        }
      ],
      "source": [
        "#Sensibilidad \n",
        "recall_score(y_test, y_pred)"
      ]
    },
    {
      "cell_type": "code",
      "source": [
        "#f1 score\n",
        "from sklearn.metrics import f1_score\n",
        "print(f1_score(y_test, y_pred))"
      ],
      "metadata": {
        "colab": {
          "base_uri": "https://localhost:8080/"
        },
        "id": "VH5CGMDaeZy-",
        "outputId": "b9023469-088a-46d6-c75e-621fd91253aa"
      },
      "execution_count": null,
      "outputs": [
        {
          "output_type": "stream",
          "name": "stdout",
          "text": [
            "0.37438423645320196\n"
          ]
        }
      ]
    },
    {
      "cell_type": "code",
      "execution_count": null,
      "metadata": {
        "colab": {
          "base_uri": "https://localhost:8080/"
        },
        "id": "pkIUzifqRqK8",
        "outputId": "a1d9dd40-7f33-4973-ca13-941cbbd4aac8"
      },
      "outputs": [
        {
          "output_type": "stream",
          "name": "stdout",
          "text": [
            "0.9585882352941176\n"
          ]
        }
      ],
      "source": [
        "#Especificidad\n",
        "specificity = TN / (TN + FP)\n",
        "print(specificity)"
      ]
    },
    {
      "cell_type": "code",
      "execution_count": null,
      "metadata": {
        "colab": {
          "base_uri": "https://localhost:8080/",
          "height": 279
        },
        "id": "7MeOW8PNF9uv",
        "outputId": "5aa77a8d-e2c6-4ee9-aaac-25caec3559fa"
      },
      "outputs": [
        {
          "output_type": "display_data",
          "data": {
            "text/plain": [
              "<Figure size 432x288 with 2 Axes>"
            ],
            "image/png": "[encoded data removed]"
          },
          "metadata": {
            "needs_background": "light"
          }
        }
      ],
      "source": [
        "from sklearn.metrics import confusion_matrix\n",
        "\n",
        "# Graficamos la matriz de confusión\n",
        "sns.heatmap(confusion_matrix(y_test, y_pred), annot=True, fmt='.0f')\n",
        "plt.ylabel('Etiquetas reales')\n",
        "plt.xlabel('Etiquetas predichas');"
      ]
    },
    {
      "cell_type": "code",
      "execution_count": null,
      "metadata": {
        "colab": {
          "base_uri": "https://localhost:8080/",
          "height": 295
        },
        "id": "LbwdSeZkStGW",
        "outputId": "7440a076-c982-4d0b-f648-89c00cfd44f6"
      },
      "outputs": [
        {
          "output_type": "display_data",
          "data": {
            "text/plain": [
              "<Figure size 432x288 with 1 Axes>"
            ],
            "image/png": "[encoded data removed]"
          },
          "metadata": {
            "needs_background": "light"
          }
        }
      ],
      "source": [
        "y_scores = model.predict_proba(X_test)\n",
        "fpr, tpr, threshold = roc_curve(y_test, y_scores[:, 1])\n",
        "roc_auc = auc(fpr, tpr)\n",
        "\n",
        "plt.title('Receiver Operating Characteristic')\n",
        "plt.plot(fpr, tpr, 'b', label = 'AUC = %0.2f' % roc_auc)\n",
        "plt.legend(loc = 'lower right')\n",
        "plt.plot([0, 1], [0, 1],'r--')\n",
        "plt.xlim([0, 1])\n",
        "plt.ylim([0, 1])\n",
        "plt.ylabel('True Positive Rate')\n",
        "plt.xlabel('False Positive Rate')\n",
        "plt.title('ROC Curve of kNN')\n",
        "plt.show()"
      ]
    },
    {
      "cell_type": "markdown",
      "metadata": {
        "id": "yBCd03WpPzBx"
      },
      "source": [
        "## Regresion logistica"
      ]
    },
    {
      "cell_type": "markdown",
      "metadata": {
        "id": "hUDwDhLvQw1d"
      },
      "source": [
        "### Preparacion del modelo"
      ]
    },
    {
      "cell_type": "code",
      "execution_count": null,
      "metadata": {
        "id": "fa5asqGHP381"
      },
      "outputs": [],
      "source": [
        "from sklearn.linear_model import LogisticRegression\n",
        "from sklearn.model_selection import train_test_split\n",
        "from sklearn.metrics import accuracy_score, confusion_matrix"
      ]
    },
    {
      "cell_type": "markdown",
      "metadata": {
        "id": "hDp17tUpWSqD"
      },
      "source": [
        "#### Numericas"
      ]
    },
    {
      "cell_type": "code",
      "execution_count": null,
      "metadata": {
        "colab": {
          "base_uri": "https://localhost:8080/",
          "height": 424
        },
        "id": "d34nCbLmQd8N",
        "outputId": "18028165-f4a5-4b8e-c394-0151cb75163d"
      },
      "outputs": [
        {
          "output_type": "execute_result",
          "data": {
            "text/plain": [
              "       Dependent_count_std  Total_Relationship_Count_std  \\\n",
              "0                 0.503368                      0.763943   \n",
              "1                 2.043199                      1.407306   \n",
              "2                 0.503368                      0.120579   \n",
              "3                 1.273283                     -0.522785   \n",
              "4                 0.503368                      0.763943   \n",
              "...                    ...                           ...   \n",
              "10122            -0.266547                     -0.522785   \n",
              "10123            -0.266547                      0.120579   \n",
              "10124            -1.036462                      0.763943   \n",
              "10125            -0.266547                      0.120579   \n",
              "10126            -0.266547                      1.407306   \n",
              "\n",
              "       Months_Inactive_12_mon_std  Contacts_Count_12_mon_std  \\\n",
              "0                       -1.327136                   0.492404   \n",
              "1                       -1.327136                  -0.411616   \n",
              "2                       -1.327136                  -2.219655   \n",
              "3                        1.641478                  -1.315636   \n",
              "4                       -1.327136                  -2.219655   \n",
              "...                           ...                        ...   \n",
              "10122                   -0.337598                   0.492404   \n",
              "10123                   -0.337598                   0.492404   \n",
              "10124                    0.651940                   1.396424   \n",
              "10125                    0.651940                   0.492404   \n",
              "10126                   -0.337598                   1.396424   \n",
              "\n",
              "       Credit_Limit_std  Total_Revolving_Bal_std  Total_Trans_Ct_std  \\\n",
              "0              0.446622                -0.473422           -0.973895   \n",
              "1             -0.041367                -0.366667           -1.357340   \n",
              "2             -0.573698                -1.426858           -1.911206   \n",
              "3             -0.585251                 1.661686           -1.911206   \n",
              "4             -0.430877                -1.426858           -1.570365   \n",
              "...                 ...                      ...                 ...   \n",
              "10122         -0.509330                 0.844455            2.221481   \n",
              "10123         -0.479181                 1.255524            0.176440   \n",
              "10124         -0.354626                -1.426858           -0.207005   \n",
              "10125         -0.368710                -1.426858           -0.121795   \n",
              "10126          0.193220                 0.979433           -0.164400   \n",
              "\n",
              "       Avg_Utilization_Ratio_std  \n",
              "0                      -0.775882  \n",
              "1                      -0.616276  \n",
              "2                      -0.997155  \n",
              "3                       1.759686  \n",
              "4                      -0.997155  \n",
              "...                          ...  \n",
              "10122                   0.678714  \n",
              "10123                   0.856458  \n",
              "10124                  -0.997155  \n",
              "10125                  -0.997155  \n",
              "10126                  -0.311572  \n",
              "\n",
              "[10127 rows x 8 columns]"
            ],
            "text/html": [
              "\n",
              "  <div id=\"df-2cddbb28-41e4-4272-a653-2d4afbd5e34a\">\n",
              "    <div class=\"colab-df-container\">\n",
              "      <div>\n",
              "<style scoped>\n",
              "    .dataframe tbody tr th:only-of-type {\n",
              "        vertical-align: middle;\n",
              "    }\n",
              "\n",
              "    .dataframe tbody tr th {\n",
              "        vertical-align: top;\n",
              "    }\n",
              "\n",
              "    .dataframe thead th {\n",
              "        text-align: right;\n",
              "    }\n",
              "</style>\n",
              "<table border=\"1\" class=\"dataframe\">\n",
              "  <thead>\n",
              "    <tr style=\"text-align: right;\">\n",
              "      <th></th>\n",
              "      <th>Dependent_count_std</th>\n",
              "      <th>Total_Relationship_Count_std</th>\n",
              "      <th>Months_Inactive_12_mon_std</th>\n",
              "      <th>Contacts_Count_12_mon_std</th>\n",
              "      <th>Credit_Limit_std</th>\n",
              "      <th>Total_Revolving_Bal_std</th>\n",
              "      <th>Total_Trans_Ct_std</th>\n",
              "      <th>Avg_Utilization_Ratio_std</th>\n",
              "    </tr>\n",
              "  </thead>\n",
              "  <tbody>\n",
              "    <tr>\n",
              "      <th>0</th>\n",
              "      <td>0.503368</td>\n",
              "      <td>0.763943</td>\n",
              "      <td>-1.327136</td>\n",
              "      <td>0.492404</td>\n",
              "      <td>0.446622</td>\n",
              "      <td>-0.473422</td>\n",
              "      <td>-0.973895</td>\n",
              "      <td>-0.775882</td>\n",
              "    </tr>\n",
              "    <tr>\n",
              "      <th>1</th>\n",
              "      <td>2.043199</td>\n",
              "      <td>1.407306</td>\n",
              "      <td>-1.327136</td>\n",
              "      <td>-0.411616</td>\n",
              "      <td>-0.041367</td>\n",
              "      <td>-0.366667</td>\n",
              "      <td>-1.357340</td>\n",
              "      <td>-0.616276</td>\n",
              "    </tr>\n",
              "    <tr>\n",
              "      <th>2</th>\n",
              "      <td>0.503368</td>\n",
              "      <td>0.120579</td>\n",
              "      <td>-1.327136</td>\n",
              "      <td>-2.219655</td>\n",
              "      <td>-0.573698</td>\n",
              "      <td>-1.426858</td>\n",
              "      <td>-1.911206</td>\n",
              "      <td>-0.997155</td>\n",
              "    </tr>\n",
              "    <tr>\n",
              "      <th>3</th>\n",
              "      <td>1.273283</td>\n",
              "      <td>-0.522785</td>\n",
              "      <td>1.641478</td>\n",
              "      <td>-1.315636</td>\n",
              "      <td>-0.585251</td>\n",
              "      <td>1.661686</td>\n",
              "      <td>-1.911206</td>\n",
              "      <td>1.759686</td>\n",
              "    </tr>\n",
              "    <tr>\n",
              "      <th>4</th>\n",
              "      <td>0.503368</td>\n",
              "      <td>0.763943</td>\n",
              "      <td>-1.327136</td>\n",
              "      <td>-2.219655</td>\n",
              "      <td>-0.430877</td>\n",
              "      <td>-1.426858</td>\n",
              "      <td>-1.570365</td>\n",
              "      <td>-0.997155</td>\n",
              "    </tr>\n",
              "    <tr>\n",
              "      <th>...</th>\n",
              "      <td>...</td>\n",
              "      <td>...</td>\n",
              "      <td>...</td>\n",
              "      <td>...</td>\n",
              "      <td>...</td>\n",
              "      <td>...</td>\n",
              "      <td>...</td>\n",
              "      <td>...</td>\n",
              "    </tr>\n",
              "    <tr>\n",
              "      <th>10122</th>\n",
              "      <td>-0.266547</td>\n",
              "      <td>-0.522785</td>\n",
              "      <td>-0.337598</td>\n",
              "      <td>0.492404</td>\n",
              "      <td>-0.509330</td>\n",
              "      <td>0.844455</td>\n",
              "      <td>2.221481</td>\n",
              "      <td>0.678714</td>\n",
              "    </tr>\n",
              "    <tr>\n",
              "      <th>10123</th>\n",
              "      <td>-0.266547</td>\n",
              "      <td>0.120579</td>\n",
              "      <td>-0.337598</td>\n",
              "      <td>0.492404</td>\n",
              "      <td>-0.479181</td>\n",
              "      <td>1.255524</td>\n",
              "      <td>0.176440</td>\n",
              "      <td>0.856458</td>\n",
              "    </tr>\n",
              "    <tr>\n",
              "      <th>10124</th>\n",
              "      <td>-1.036462</td>\n",
              "      <td>0.763943</td>\n",
              "      <td>0.651940</td>\n",
              "      <td>1.396424</td>\n",
              "      <td>-0.354626</td>\n",
              "      <td>-1.426858</td>\n",
              "      <td>-0.207005</td>\n",
              "      <td>-0.997155</td>\n",
              "    </tr>\n",
              "    <tr>\n",
              "      <th>10125</th>\n",
              "      <td>-0.266547</td>\n",
              "      <td>0.120579</td>\n",
              "      <td>0.651940</td>\n",
              "      <td>0.492404</td>\n",
              "      <td>-0.368710</td>\n",
              "      <td>-1.426858</td>\n",
              "      <td>-0.121795</td>\n",
              "      <td>-0.997155</td>\n",
              "    </tr>\n",
              "    <tr>\n",
              "      <th>10126</th>\n",
              "      <td>-0.266547</td>\n",
              "      <td>1.407306</td>\n",
              "      <td>-0.337598</td>\n",
              "      <td>1.396424</td>\n",
              "      <td>0.193220</td>\n",
              "      <td>0.979433</td>\n",
              "      <td>-0.164400</td>\n",
              "      <td>-0.311572</td>\n",
              "    </tr>\n",
              "  </tbody>\n",
              "</table>\n",
              "<p>10127 rows × 8 columns</p>\n",
              "</div>\n",
              "      <button class=\"colab-df-convert\" onclick=\"convertToInteractive('df-2cddbb28-41e4-4272-a653-2d4afbd5e34a')\"\n",
              "              title=\"Convert this dataframe to an interactive table.\"\n",
              "              style=\"display:none;\">\n",
              "        \n",
              "  <svg xmlns=\"http://www.w3.org/2000/svg\" height=\"24px\"viewBox=\"0 0 24 24\"\n",
              "       width=\"24px\">\n",
              "    <path d=\"M0 0h24v24H0V0z\" fill=\"none\"/>\n",
              "    <path d=\"M18.56 5.44l.94 2.06.94-2.06 2.06-.94-2.06-.94-.94-2.06-.94 2.06-2.06.94zm-11 1L8.5 8.5l.94-2.06 2.06-.94-2.06-.94L8.5 2.5l-.94 2.06-2.06.94zm10 10l.94 2.06.94-2.06 2.06-.94-2.06-.94-.94-2.06-.94 2.06-2.06.94z\"/><path d=\"M17.41 7.96l-1.37-1.37c-.4-.4-.92-.59-1.43-.59-.52 0-1.04.2-1.43.59L10.3 9.45l-7.72 7.72c-.78.78-.78 2.05 0 2.83L4 21.41c.39.39.9.59 1.41.59.51 0 1.02-.2 1.41-.59l7.78-7.78 2.81-2.81c.8-.78.8-2.07 0-2.86zM5.41 20L4 18.59l7.72-7.72 1.47 1.35L5.41 20z\"/>\n",
              "  </svg>\n",
              "      </button>\n",
              "      \n",
              "  <style>\n",
              "    .colab-df-container {\n",
              "      display:flex;\n",
              "      flex-wrap:wrap;\n",
              "      gap: 12px;\n",
              "    }\n",
              "\n",
              "    .colab-df-convert {\n",
              "      background-color: #E8F0FE;\n",
              "      border: none;\n",
              "      border-radius: 50%;\n",
              "      cursor: pointer;\n",
              "      display: none;\n",
              "      fill: #1967D2;\n",
              "      height: 32px;\n",
              "      padding: 0 0 0 0;\n",
              "      width: 32px;\n",
              "    }\n",
              "\n",
              "    .colab-df-convert:hover {\n",
              "      background-color: #E2EBFA;\n",
              "      box-shadow: 0px 1px 2px rgba(60, 64, 67, 0.3), 0px 1px 3px 1px rgba(60, 64, 67, 0.15);\n",
              "      fill: #174EA6;\n",
              "    }\n",
              "\n",
              "    [theme=dark] .colab-df-convert {\n",
              "      background-color: #3B4455;\n",
              "      fill: #D2E3FC;\n",
              "    }\n",
              "\n",
              "    [theme=dark] .colab-df-convert:hover {\n",
              "      background-color: #434B5C;\n",
              "      box-shadow: 0px 1px 3px 1px rgba(0, 0, 0, 0.15);\n",
              "      filter: drop-shadow(0px 1px 2px rgba(0, 0, 0, 0.3));\n",
              "      fill: #FFFFFF;\n",
              "    }\n",
              "  </style>\n",
              "\n",
              "      <script>\n",
              "        const buttonEl =\n",
              "          document.querySelector('#df-2cddbb28-41e4-4272-a653-2d4afbd5e34a button.colab-df-convert');\n",
              "        buttonEl.style.display =\n",
              "          google.colab.kernel.accessAllowed ? 'block' : 'none';\n",
              "\n",
              "        async function convertToInteractive(key) {\n",
              "          const element = document.querySelector('#df-2cddbb28-41e4-4272-a653-2d4afbd5e34a');\n",
              "          const dataTable =\n",
              "            await google.colab.kernel.invokeFunction('convertToInteractive',\n",
              "                                                     [key], {});\n",
              "          if (!dataTable) return;\n",
              "\n",
              "          const docLinkHtml = 'Like what you see? Visit the ' +\n",
              "            '<a target=\"_blank\" href=https://colab.research.google.com/notebooks/data_table.ipynb>data table notebook</a>'\n",
              "            + ' to learn more about interactive tables.';\n",
              "          element.innerHTML = '';\n",
              "          dataTable['output_type'] = 'display_data';\n",
              "          await google.colab.output.renderOutput(dataTable, element);\n",
              "          const docLink = document.createElement('div');\n",
              "          docLink.innerHTML = docLinkHtml;\n",
              "          element.appendChild(docLink);\n",
              "        }\n",
              "      </script>\n",
              "    </div>\n",
              "  </div>\n",
              "  "
            ]
          },
          "metadata": {},
          "execution_count": 478
        }
      ],
      "source": [
        "numericals = ['Dependent_count',\n",
        "'Total_Relationship_Count',\n",
        "'Months_Inactive_12_mon',\n",
        "'Contacts_Count_12_mon',\n",
        "'Credit_Limit',\n",
        "'Total_Revolving_Bal',\n",
        "'Total_Trans_Ct',\n",
        "'Avg_Utilization_Ratio']\n",
        "\n",
        "X = df[numericals]\n",
        "\n",
        "scaler = StandardScaler()\n",
        "scaler.fit(X)\n",
        "\n",
        "std_numerical_data = scaler.transform(X)\n",
        "std_df = pd.DataFrame(std_numerical_data)\n",
        "std_df.columns = [i + '_std' for i in numericals]\n",
        "std_df"
      ]
    },
    {
      "cell_type": "markdown",
      "metadata": {
        "id": "wwb2bvNNWVEo"
      },
      "source": [
        "#### Categoricas"
      ]
    },
    {
      "cell_type": "markdown",
      "metadata": {
        "id": "BitSDZkcWiu2"
      },
      "source": [
        "##### Encoding ordinal"
      ]
    },
    {
      "cell_type": "code",
      "execution_count": null,
      "metadata": {
        "colab": {
          "base_uri": "https://localhost:8080/"
        },
        "id": "bwMb-HoFX9uY",
        "outputId": "4c63a106-9925-4227-bf3b-520523227eeb"
      },
      "outputs": [
        {
          "output_type": "execute_result",
          "data": {
            "text/plain": [
              "array(['$60K - $80K', 'Less than $40K', '$80K - $120K', '$40K - $60K',\n",
              "       '$120K +', 'Unknown'], dtype=object)"
            ]
          },
          "metadata": {},
          "execution_count": 479
        }
      ],
      "source": [
        "Income_Category_enc = df['Income_Category']\n",
        "Income_Category_enc.unique()"
      ]
    },
    {
      "cell_type": "code",
      "execution_count": null,
      "metadata": {
        "id": "xTi7FN89WXME"
      },
      "outputs": [],
      "source": [
        "#Mapeamos los unknown a 1, 40-60k, que es el valor mas repetido\n",
        "Income_Category_enc = Income_Category_enc.map({'Unknown':1,\n",
        "                                                'Less than $40K':1,\n",
        "                                                '$40K - $60K':2,\n",
        "                                                '$60K - $80K':3,\n",
        "                                                '$80K - $120K':4, \n",
        "                                                '$120K +':5})"
      ]
    },
    {
      "cell_type": "code",
      "execution_count": null,
      "metadata": {
        "colab": {
          "base_uri": "https://localhost:8080/"
        },
        "id": "6nW_Y1uLX00C",
        "outputId": "8d96b67f-0f38-49c1-e3dc-1c7b04bca286"
      },
      "outputs": [
        {
          "output_type": "execute_result",
          "data": {
            "text/plain": [
              "array(['Blue', 'Gold', 'Silver', 'Platinum'], dtype=object)"
            ]
          },
          "metadata": {},
          "execution_count": 481
        }
      ],
      "source": [
        "Card_Category_enc = df['Card_Category']\n",
        "Card_Category_enc.unique()"
      ]
    },
    {
      "cell_type": "code",
      "execution_count": null,
      "metadata": {
        "id": "SWUXmhGPYVTb"
      },
      "outputs": [],
      "source": [
        "Card_Category_enc = Card_Category_enc.map({'Blue':0,\n",
        "                                          'Silver':1,\n",
        "                                          'Gold':2,\n",
        "                                          'Platinum':3})"
      ]
    },
    {
      "cell_type": "code",
      "execution_count": null,
      "metadata": {
        "colab": {
          "base_uri": "https://localhost:8080/"
        },
        "id": "ndPxXv3KYo-n",
        "outputId": "73b13363-123c-433d-e35d-5038d9460e31"
      },
      "outputs": [
        {
          "output_type": "execute_result",
          "data": {
            "text/plain": [
              "array(['High School', 'Graduate', 'Uneducated', 'Unknown', 'College',\n",
              "       'Post-Graduate', 'Doctorate'], dtype=object)"
            ]
          },
          "metadata": {},
          "execution_count": 483
        }
      ],
      "source": [
        "Education_Level_enc = df['Education_Level']\n",
        "Education_Level_enc.unique()"
      ]
    },
    {
      "cell_type": "code",
      "execution_count": null,
      "metadata": {
        "id": "6hvoZoueYq3I"
      },
      "outputs": [],
      "source": [
        "# Mapeamos los unknown a College, que es el valor mas repetido\n",
        "Education_Level_enc = Education_Level_enc.map({'Unknown':4,\n",
        "                                              'Uneducated':1,\n",
        "                                              'High School':2, \n",
        "                                              'College':3,\n",
        "                                              'Graduate':4,  \n",
        "                                              'Post-Graduate':5,\n",
        "                                              'Doctorate':6})"
      ]
    },
    {
      "cell_type": "markdown",
      "metadata": {
        "id": "b_2jucgAWzDY"
      },
      "source": [
        "##### Onehot encoder"
      ]
    },
    {
      "cell_type": "code",
      "execution_count": null,
      "metadata": {
        "colab": {
          "base_uri": "https://localhost:8080/"
        },
        "id": "IUTVeW7WQgx5",
        "outputId": "c35d3b1b-f2ad-4988-e116-df4d94619128"
      },
      "outputs": [
        {
          "output_type": "execute_result",
          "data": {
            "text/plain": [
              "[array(['F', 'M'], dtype=object)]"
            ]
          },
          "metadata": {},
          "execution_count": 485
        }
      ],
      "source": [
        "categoricals = ['Gender']\n",
        "\n",
        "enc = OneHotEncoder(drop='first')\n",
        "X = df[categoricals]\n",
        "enc.fit(X)\n",
        "enc.categories_"
      ]
    },
    {
      "cell_type": "code",
      "execution_count": null,
      "metadata": {
        "colab": {
          "base_uri": "https://localhost:8080/"
        },
        "id": "ZNzyU10AQjhU",
        "outputId": "b15da013-1c49-4bd7-8ccc-a3e4c09192df"
      },
      "outputs": [
        {
          "output_type": "execute_result",
          "data": {
            "text/plain": [
              "array([[1.],\n",
              "       [0.],\n",
              "       [1.],\n",
              "       ...,\n",
              "       [0.],\n",
              "       [1.],\n",
              "       [0.]])"
            ]
          },
          "metadata": {},
          "execution_count": 486
        }
      ],
      "source": [
        "dummies = enc.transform(X).toarray()\n",
        "dummies"
      ]
    },
    {
      "cell_type": "code",
      "execution_count": null,
      "metadata": {
        "colab": {
          "base_uri": "https://localhost:8080/"
        },
        "id": "i_Z4zxj9QlCC",
        "outputId": "3803429b-c24c-4df9-c245-93061211882e"
      },
      "outputs": [
        {
          "output_type": "execute_result",
          "data": {
            "text/plain": [
              "(10127, 1)"
            ]
          },
          "metadata": {},
          "execution_count": 487
        }
      ],
      "source": [
        "dummies.shape"
      ]
    },
    {
      "cell_type": "code",
      "execution_count": null,
      "metadata": {
        "colab": {
          "base_uri": "https://localhost:8080/",
          "height": 424
        },
        "id": "HrhaglCAQmWu",
        "outputId": "a4ae02b2-fe57-4da4-a03e-f663a001319a"
      },
      "outputs": [
        {
          "output_type": "execute_result",
          "data": {
            "text/plain": [
              "         0\n",
              "0      1.0\n",
              "1      0.0\n",
              "2      1.0\n",
              "3      0.0\n",
              "4      1.0\n",
              "...    ...\n",
              "10122  1.0\n",
              "10123  1.0\n",
              "10124  0.0\n",
              "10125  1.0\n",
              "10126  0.0\n",
              "\n",
              "[10127 rows x 1 columns]"
            ],
            "text/html": [
              "\n",
              "  <div id=\"df-bf0faf5c-178b-4fb9-8c04-aab99befabda\">\n",
              "    <div class=\"colab-df-container\">\n",
              "      <div>\n",
              "<style scoped>\n",
              "    .dataframe tbody tr th:only-of-type {\n",
              "        vertical-align: middle;\n",
              "    }\n",
              "\n",
              "    .dataframe tbody tr th {\n",
              "        vertical-align: top;\n",
              "    }\n",
              "\n",
              "    .dataframe thead th {\n",
              "        text-align: right;\n",
              "    }\n",
              "</style>\n",
              "<table border=\"1\" class=\"dataframe\">\n",
              "  <thead>\n",
              "    <tr style=\"text-align: right;\">\n",
              "      <th></th>\n",
              "      <th>0</th>\n",
              "    </tr>\n",
              "  </thead>\n",
              "  <tbody>\n",
              "    <tr>\n",
              "      <th>0</th>\n",
              "      <td>1.0</td>\n",
              "    </tr>\n",
              "    <tr>\n",
              "      <th>1</th>\n",
              "      <td>0.0</td>\n",
              "    </tr>\n",
              "    <tr>\n",
              "      <th>2</th>\n",
              "      <td>1.0</td>\n",
              "    </tr>\n",
              "    <tr>\n",
              "      <th>3</th>\n",
              "      <td>0.0</td>\n",
              "    </tr>\n",
              "    <tr>\n",
              "      <th>4</th>\n",
              "      <td>1.0</td>\n",
              "    </tr>\n",
              "    <tr>\n",
              "      <th>...</th>\n",
              "      <td>...</td>\n",
              "    </tr>\n",
              "    <tr>\n",
              "      <th>10122</th>\n",
              "      <td>1.0</td>\n",
              "    </tr>\n",
              "    <tr>\n",
              "      <th>10123</th>\n",
              "      <td>1.0</td>\n",
              "    </tr>\n",
              "    <tr>\n",
              "      <th>10124</th>\n",
              "      <td>0.0</td>\n",
              "    </tr>\n",
              "    <tr>\n",
              "      <th>10125</th>\n",
              "      <td>1.0</td>\n",
              "    </tr>\n",
              "    <tr>\n",
              "      <th>10126</th>\n",
              "      <td>0.0</td>\n",
              "    </tr>\n",
              "  </tbody>\n",
              "</table>\n",
              "<p>10127 rows × 1 columns</p>\n",
              "</div>\n",
              "      <button class=\"colab-df-convert\" onclick=\"convertToInteractive('df-bf0faf5c-178b-4fb9-8c04-aab99befabda')\"\n",
              "              title=\"Convert this dataframe to an interactive table.\"\n",
              "              style=\"display:none;\">\n",
              "        \n",
              "  <svg xmlns=\"http://www.w3.org/2000/svg\" height=\"24px\"viewBox=\"0 0 24 24\"\n",
              "       width=\"24px\">\n",
              "    <path d=\"M0 0h24v24H0V0z\" fill=\"none\"/>\n",
              "    <path d=\"M18.56 5.44l.94 2.06.94-2.06 2.06-.94-2.06-.94-.94-2.06-.94 2.06-2.06.94zm-11 1L8.5 8.5l.94-2.06 2.06-.94-2.06-.94L8.5 2.5l-.94 2.06-2.06.94zm10 10l.94 2.06.94-2.06 2.06-.94-2.06-.94-.94-2.06-.94 2.06-2.06.94z\"/><path d=\"M17.41 7.96l-1.37-1.37c-.4-.4-.92-.59-1.43-.59-.52 0-1.04.2-1.43.59L10.3 9.45l-7.72 7.72c-.78.78-.78 2.05 0 2.83L4 21.41c.39.39.9.59 1.41.59.51 0 1.02-.2 1.41-.59l7.78-7.78 2.81-2.81c.8-.78.8-2.07 0-2.86zM5.41 20L4 18.59l7.72-7.72 1.47 1.35L5.41 20z\"/>\n",
              "  </svg>\n",
              "      </button>\n",
              "      \n",
              "  <style>\n",
              "    .colab-df-container {\n",
              "      display:flex;\n",
              "      flex-wrap:wrap;\n",
              "      gap: 12px;\n",
              "    }\n",
              "\n",
              "    .colab-df-convert {\n",
              "      background-color: #E8F0FE;\n",
              "      border: none;\n",
              "      border-radius: 50%;\n",
              "      cursor: pointer;\n",
              "      display: none;\n",
              "      fill: #1967D2;\n",
              "      height: 32px;\n",
              "      padding: 0 0 0 0;\n",
              "      width: 32px;\n",
              "    }\n",
              "\n",
              "    .colab-df-convert:hover {\n",
              "      background-color: #E2EBFA;\n",
              "      box-shadow: 0px 1px 2px rgba(60, 64, 67, 0.3), 0px 1px 3px 1px rgba(60, 64, 67, 0.15);\n",
              "      fill: #174EA6;\n",
              "    }\n",
              "\n",
              "    [theme=dark] .colab-df-convert {\n",
              "      background-color: #3B4455;\n",
              "      fill: #D2E3FC;\n",
              "    }\n",
              "\n",
              "    [theme=dark] .colab-df-convert:hover {\n",
              "      background-color: #434B5C;\n",
              "      box-shadow: 0px 1px 3px 1px rgba(0, 0, 0, 0.15);\n",
              "      filter: drop-shadow(0px 1px 2px rgba(0, 0, 0, 0.3));\n",
              "      fill: #FFFFFF;\n",
              "    }\n",
              "  </style>\n",
              "\n",
              "      <script>\n",
              "        const buttonEl =\n",
              "          document.querySelector('#df-bf0faf5c-178b-4fb9-8c04-aab99befabda button.colab-df-convert');\n",
              "        buttonEl.style.display =\n",
              "          google.colab.kernel.accessAllowed ? 'block' : 'none';\n",
              "\n",
              "        async function convertToInteractive(key) {\n",
              "          const element = document.querySelector('#df-bf0faf5c-178b-4fb9-8c04-aab99befabda');\n",
              "          const dataTable =\n",
              "            await google.colab.kernel.invokeFunction('convertToInteractive',\n",
              "                                                     [key], {});\n",
              "          if (!dataTable) return;\n",
              "\n",
              "          const docLinkHtml = 'Like what you see? Visit the ' +\n",
              "            '<a target=\"_blank\" href=https://colab.research.google.com/notebooks/data_table.ipynb>data table notebook</a>'\n",
              "            + ' to learn more about interactive tables.';\n",
              "          element.innerHTML = '';\n",
              "          dataTable['output_type'] = 'display_data';\n",
              "          await google.colab.output.renderOutput(dataTable, element);\n",
              "          const docLink = document.createElement('div');\n",
              "          docLink.innerHTML = docLinkHtml;\n",
              "          element.appendChild(docLink);\n",
              "        }\n",
              "      </script>\n",
              "    </div>\n",
              "  </div>\n",
              "  "
            ]
          },
          "metadata": {},
          "execution_count": 488
        }
      ],
      "source": [
        "dummies_df = pd.DataFrame(dummies)\n",
        "dummies_df"
      ]
    },
    {
      "cell_type": "code",
      "execution_count": null,
      "metadata": {
        "colab": {
          "base_uri": "https://localhost:8080/"
        },
        "id": "uPfBSIOEQoeo",
        "outputId": "cb655580-4fff-4b60-a785-21b215a06884"
      },
      "outputs": [
        {
          "output_type": "execute_result",
          "data": {
            "text/plain": [
              "[array(['Gender_F', 'Gender_M'], dtype=object)]"
            ]
          },
          "metadata": {},
          "execution_count": 489
        }
      ],
      "source": [
        "col_names = [categoricals[i] + '_' + enc.categories_[i] for i in range(len(categoricals)) ]\n",
        "\n",
        "col_names"
      ]
    },
    {
      "cell_type": "code",
      "execution_count": null,
      "metadata": {
        "colab": {
          "base_uri": "https://localhost:8080/"
        },
        "id": "V9DDbXq8QqN8",
        "outputId": "b4971bea-5c54-4ea3-d6f3-74db0bd0d490"
      },
      "outputs": [
        {
          "output_type": "execute_result",
          "data": {
            "text/plain": [
              "['Gender_M']"
            ]
          },
          "metadata": {},
          "execution_count": 490
        }
      ],
      "source": [
        "col_names_drop_first = [sublist[i] for sublist in col_names for i in range(len(sublist)) if i != 0]\n",
        "col_names_drop_first"
      ]
    },
    {
      "cell_type": "code",
      "execution_count": null,
      "metadata": {
        "colab": {
          "base_uri": "https://localhost:8080/",
          "height": 424
        },
        "id": "miiWjaWKQrmQ",
        "outputId": "f5f0c695-73a1-4cdb-c279-5c214d6867af"
      },
      "outputs": [
        {
          "output_type": "execute_result",
          "data": {
            "text/plain": [
              "       Gender_M\n",
              "0           1.0\n",
              "1           0.0\n",
              "2           1.0\n",
              "3           0.0\n",
              "4           1.0\n",
              "...         ...\n",
              "10122       1.0\n",
              "10123       1.0\n",
              "10124       0.0\n",
              "10125       1.0\n",
              "10126       0.0\n",
              "\n",
              "[10127 rows x 1 columns]"
            ],
            "text/html": [
              "\n",
              "  <div id=\"df-93d0a86b-c18c-42d5-9912-afe06ce13bf7\">\n",
              "    <div class=\"colab-df-container\">\n",
              "      <div>\n",
              "<style scoped>\n",
              "    .dataframe tbody tr th:only-of-type {\n",
              "        vertical-align: middle;\n",
              "    }\n",
              "\n",
              "    .dataframe tbody tr th {\n",
              "        vertical-align: top;\n",
              "    }\n",
              "\n",
              "    .dataframe thead th {\n",
              "        text-align: right;\n",
              "    }\n",
              "</style>\n",
              "<table border=\"1\" class=\"dataframe\">\n",
              "  <thead>\n",
              "    <tr style=\"text-align: right;\">\n",
              "      <th></th>\n",
              "      <th>Gender_M</th>\n",
              "    </tr>\n",
              "  </thead>\n",
              "  <tbody>\n",
              "    <tr>\n",
              "      <th>0</th>\n",
              "      <td>1.0</td>\n",
              "    </tr>\n",
              "    <tr>\n",
              "      <th>1</th>\n",
              "      <td>0.0</td>\n",
              "    </tr>\n",
              "    <tr>\n",
              "      <th>2</th>\n",
              "      <td>1.0</td>\n",
              "    </tr>\n",
              "    <tr>\n",
              "      <th>3</th>\n",
              "      <td>0.0</td>\n",
              "    </tr>\n",
              "    <tr>\n",
              "      <th>4</th>\n",
              "      <td>1.0</td>\n",
              "    </tr>\n",
              "    <tr>\n",
              "      <th>...</th>\n",
              "      <td>...</td>\n",
              "    </tr>\n",
              "    <tr>\n",
              "      <th>10122</th>\n",
              "      <td>1.0</td>\n",
              "    </tr>\n",
              "    <tr>\n",
              "      <th>10123</th>\n",
              "      <td>1.0</td>\n",
              "    </tr>\n",
              "    <tr>\n",
              "      <th>10124</th>\n",
              "      <td>0.0</td>\n",
              "    </tr>\n",
              "    <tr>\n",
              "      <th>10125</th>\n",
              "      <td>1.0</td>\n",
              "    </tr>\n",
              "    <tr>\n",
              "      <th>10126</th>\n",
              "      <td>0.0</td>\n",
              "    </tr>\n",
              "  </tbody>\n",
              "</table>\n",
              "<p>10127 rows × 1 columns</p>\n",
              "</div>\n",
              "      <button class=\"colab-df-convert\" onclick=\"convertToInteractive('df-93d0a86b-c18c-42d5-9912-afe06ce13bf7')\"\n",
              "              title=\"Convert this dataframe to an interactive table.\"\n",
              "              style=\"display:none;\">\n",
              "        \n",
              "  <svg xmlns=\"http://www.w3.org/2000/svg\" height=\"24px\"viewBox=\"0 0 24 24\"\n",
              "       width=\"24px\">\n",
              "    <path d=\"M0 0h24v24H0V0z\" fill=\"none\"/>\n",
              "    <path d=\"M18.56 5.44l.94 2.06.94-2.06 2.06-.94-2.06-.94-.94-2.06-.94 2.06-2.06.94zm-11 1L8.5 8.5l.94-2.06 2.06-.94-2.06-.94L8.5 2.5l-.94 2.06-2.06.94zm10 10l.94 2.06.94-2.06 2.06-.94-2.06-.94-.94-2.06-.94 2.06-2.06.94z\"/><path d=\"M17.41 7.96l-1.37-1.37c-.4-.4-.92-.59-1.43-.59-.52 0-1.04.2-1.43.59L10.3 9.45l-7.72 7.72c-.78.78-.78 2.05 0 2.83L4 21.41c.39.39.9.59 1.41.59.51 0 1.02-.2 1.41-.59l7.78-7.78 2.81-2.81c.8-.78.8-2.07 0-2.86zM5.41 20L4 18.59l7.72-7.72 1.47 1.35L5.41 20z\"/>\n",
              "  </svg>\n",
              "      </button>\n",
              "      \n",
              "  <style>\n",
              "    .colab-df-container {\n",
              "      display:flex;\n",
              "      flex-wrap:wrap;\n",
              "      gap: 12px;\n",
              "    }\n",
              "\n",
              "    .colab-df-convert {\n",
              "      background-color: #E8F0FE;\n",
              "      border: none;\n",
              "      border-radius: 50%;\n",
              "      cursor: pointer;\n",
              "      display: none;\n",
              "      fill: #1967D2;\n",
              "      height: 32px;\n",
              "      padding: 0 0 0 0;\n",
              "      width: 32px;\n",
              "    }\n",
              "\n",
              "    .colab-df-convert:hover {\n",
              "      background-color: #E2EBFA;\n",
              "      box-shadow: 0px 1px 2px rgba(60, 64, 67, 0.3), 0px 1px 3px 1px rgba(60, 64, 67, 0.15);\n",
              "      fill: #174EA6;\n",
              "    }\n",
              "\n",
              "    [theme=dark] .colab-df-convert {\n",
              "      background-color: #3B4455;\n",
              "      fill: #D2E3FC;\n",
              "    }\n",
              "\n",
              "    [theme=dark] .colab-df-convert:hover {\n",
              "      background-color: #434B5C;\n",
              "      box-shadow: 0px 1px 3px 1px rgba(0, 0, 0, 0.15);\n",
              "      filter: drop-shadow(0px 1px 2px rgba(0, 0, 0, 0.3));\n",
              "      fill: #FFFFFF;\n",
              "    }\n",
              "  </style>\n",
              "\n",
              "      <script>\n",
              "        const buttonEl =\n",
              "          document.querySelector('#df-93d0a86b-c18c-42d5-9912-afe06ce13bf7 button.colab-df-convert');\n",
              "        buttonEl.style.display =\n",
              "          google.colab.kernel.accessAllowed ? 'block' : 'none';\n",
              "\n",
              "        async function convertToInteractive(key) {\n",
              "          const element = document.querySelector('#df-93d0a86b-c18c-42d5-9912-afe06ce13bf7');\n",
              "          const dataTable =\n",
              "            await google.colab.kernel.invokeFunction('convertToInteractive',\n",
              "                                                     [key], {});\n",
              "          if (!dataTable) return;\n",
              "\n",
              "          const docLinkHtml = 'Like what you see? Visit the ' +\n",
              "            '<a target=\"_blank\" href=https://colab.research.google.com/notebooks/data_table.ipynb>data table notebook</a>'\n",
              "            + ' to learn more about interactive tables.';\n",
              "          element.innerHTML = '';\n",
              "          dataTable['output_type'] = 'display_data';\n",
              "          await google.colab.output.renderOutput(dataTable, element);\n",
              "          const docLink = document.createElement('div');\n",
              "          docLink.innerHTML = docLinkHtml;\n",
              "          element.appendChild(docLink);\n",
              "        }\n",
              "      </script>\n",
              "    </div>\n",
              "  </div>\n",
              "  "
            ]
          },
          "metadata": {},
          "execution_count": 491
        }
      ],
      "source": [
        "dummies_df.columns = col_names_drop_first\n",
        "dummies_df"
      ]
    },
    {
      "cell_type": "markdown",
      "metadata": {
        "id": "qIBlJHlAWswB"
      },
      "source": [
        "#### Concatenar resultados"
      ]
    },
    {
      "cell_type": "code",
      "execution_count": null,
      "metadata": {
        "colab": {
          "base_uri": "https://localhost:8080/",
          "height": 488
        },
        "id": "oQDBTIQdQtVg",
        "outputId": "80afdb10-90bd-4c0e-daf2-c6aa7bf6ced4"
      },
      "outputs": [
        {
          "output_type": "execute_result",
          "data": {
            "text/plain": [
              "       Gender_M  Dependent_count_std  Total_Relationship_Count_std  \\\n",
              "0           1.0             0.503368                      0.763943   \n",
              "1           0.0             2.043199                      1.407306   \n",
              "2           1.0             0.503368                      0.120579   \n",
              "3           0.0             1.273283                     -0.522785   \n",
              "4           1.0             0.503368                      0.763943   \n",
              "...         ...                  ...                           ...   \n",
              "10122       1.0            -0.266547                     -0.522785   \n",
              "10123       1.0            -0.266547                      0.120579   \n",
              "10124       0.0            -1.036462                      0.763943   \n",
              "10125       1.0            -0.266547                      0.120579   \n",
              "10126       0.0            -0.266547                      1.407306   \n",
              "\n",
              "       Months_Inactive_12_mon_std  Contacts_Count_12_mon_std  \\\n",
              "0                       -1.327136                   0.492404   \n",
              "1                       -1.327136                  -0.411616   \n",
              "2                       -1.327136                  -2.219655   \n",
              "3                        1.641478                  -1.315636   \n",
              "4                       -1.327136                  -2.219655   \n",
              "...                           ...                        ...   \n",
              "10122                   -0.337598                   0.492404   \n",
              "10123                   -0.337598                   0.492404   \n",
              "10124                    0.651940                   1.396424   \n",
              "10125                    0.651940                   0.492404   \n",
              "10126                   -0.337598                   1.396424   \n",
              "\n",
              "       Credit_Limit_std  Total_Revolving_Bal_std  Total_Trans_Ct_std  \\\n",
              "0              0.446622                -0.473422           -0.973895   \n",
              "1             -0.041367                -0.366667           -1.357340   \n",
              "2             -0.573698                -1.426858           -1.911206   \n",
              "3             -0.585251                 1.661686           -1.911206   \n",
              "4             -0.430877                -1.426858           -1.570365   \n",
              "...                 ...                      ...                 ...   \n",
              "10122         -0.509330                 0.844455            2.221481   \n",
              "10123         -0.479181                 1.255524            0.176440   \n",
              "10124         -0.354626                -1.426858           -0.207005   \n",
              "10125         -0.368710                -1.426858           -0.121795   \n",
              "10126          0.193220                 0.979433           -0.164400   \n",
              "\n",
              "       Avg_Utilization_Ratio_std  Income_Category  Card_Category  \\\n",
              "0                      -0.775882                3              0   \n",
              "1                      -0.616276                1              0   \n",
              "2                      -0.997155                4              0   \n",
              "3                       1.759686                1              0   \n",
              "4                      -0.997155                3              0   \n",
              "...                          ...              ...            ...   \n",
              "10122                   0.678714                2              0   \n",
              "10123                   0.856458                2              0   \n",
              "10124                  -0.997155                1              0   \n",
              "10125                  -0.997155                2              0   \n",
              "10126                  -0.311572                1              1   \n",
              "\n",
              "       Education_Level  \n",
              "0                    2  \n",
              "1                    4  \n",
              "2                    4  \n",
              "3                    2  \n",
              "4                    1  \n",
              "...                ...  \n",
              "10122                4  \n",
              "10123                4  \n",
              "10124                2  \n",
              "10125                4  \n",
              "10126                4  \n",
              "\n",
              "[10127 rows x 12 columns]"
            ],
            "text/html": [
              "\n",
              "  <div id=\"df-77a48ff3-314d-4fc9-8359-ba4c6d592e8b\">\n",
              "    <div class=\"colab-df-container\">\n",
              "      <div>\n",
              "<style scoped>\n",
              "    .dataframe tbody tr th:only-of-type {\n",
              "        vertical-align: middle;\n",
              "    }\n",
              "\n",
              "    .dataframe tbody tr th {\n",
              "        vertical-align: top;\n",
              "    }\n",
              "\n",
              "    .dataframe thead th {\n",
              "        text-align: right;\n",
              "    }\n",
              "</style>\n",
              "<table border=\"1\" class=\"dataframe\">\n",
              "  <thead>\n",
              "    <tr style=\"text-align: right;\">\n",
              "      <th></th>\n",
              "      <th>Gender_M</th>\n",
              "      <th>Dependent_count_std</th>\n",
              "      <th>Total_Relationship_Count_std</th>\n",
              "      <th>Months_Inactive_12_mon_std</th>\n",
              "      <th>Contacts_Count_12_mon_std</th>\n",
              "      <th>Credit_Limit_std</th>\n",
              "      <th>Total_Revolving_Bal_std</th>\n",
              "      <th>Total_Trans_Ct_std</th>\n",
              "      <th>Avg_Utilization_Ratio_std</th>\n",
              "      <th>Income_Category</th>\n",
              "      <th>Card_Category</th>\n",
              "      <th>Education_Level</th>\n",
              "    </tr>\n",
              "  </thead>\n",
              "  <tbody>\n",
              "    <tr>\n",
              "      <th>0</th>\n",
              "      <td>1.0</td>\n",
              "      <td>0.503368</td>\n",
              "      <td>0.763943</td>\n",
              "      <td>-1.327136</td>\n",
              "      <td>0.492404</td>\n",
              "      <td>0.446622</td>\n",
              "      <td>-0.473422</td>\n",
              "      <td>-0.973895</td>\n",
              "      <td>-0.775882</td>\n",
              "      <td>3</td>\n",
              "      <td>0</td>\n",
              "      <td>2</td>\n",
              "    </tr>\n",
              "    <tr>\n",
              "      <th>1</th>\n",
              "      <td>0.0</td>\n",
              "      <td>2.043199</td>\n",
              "      <td>1.407306</td>\n",
              "      <td>-1.327136</td>\n",
              "      <td>-0.411616</td>\n",
              "      <td>-0.041367</td>\n",
              "      <td>-0.366667</td>\n",
              "      <td>-1.357340</td>\n",
              "      <td>-0.616276</td>\n",
              "      <td>1</td>\n",
              "      <td>0</td>\n",
              "      <td>4</td>\n",
              "    </tr>\n",
              "    <tr>\n",
              "      <th>2</th>\n",
              "      <td>1.0</td>\n",
              "      <td>0.503368</td>\n",
              "      <td>0.120579</td>\n",
              "      <td>-1.327136</td>\n",
              "      <td>-2.219655</td>\n",
              "      <td>-0.573698</td>\n",
              "      <td>-1.426858</td>\n",
              "      <td>-1.911206</td>\n",
              "      <td>-0.997155</td>\n",
              "      <td>4</td>\n",
              "      <td>0</td>\n",
              "      <td>4</td>\n",
              "    </tr>\n",
              "    <tr>\n",
              "      <th>3</th>\n",
              "      <td>0.0</td>\n",
              "      <td>1.273283</td>\n",
              "      <td>-0.522785</td>\n",
              "      <td>1.641478</td>\n",
              "      <td>-1.315636</td>\n",
              "      <td>-0.585251</td>\n",
              "      <td>1.661686</td>\n",
              "      <td>-1.911206</td>\n",
              "      <td>1.759686</td>\n",
              "      <td>1</td>\n",
              "      <td>0</td>\n",
              "      <td>2</td>\n",
              "    </tr>\n",
              "    <tr>\n",
              "      <th>4</th>\n",
              "      <td>1.0</td>\n",
              "      <td>0.503368</td>\n",
              "      <td>0.763943</td>\n",
              "      <td>-1.327136</td>\n",
              "      <td>-2.219655</td>\n",
              "      <td>-0.430877</td>\n",
              "      <td>-1.426858</td>\n",
              "      <td>-1.570365</td>\n",
              "      <td>-0.997155</td>\n",
              "      <td>3</td>\n",
              "      <td>0</td>\n",
              "      <td>1</td>\n",
              "    </tr>\n",
              "    <tr>\n",
              "      <th>...</th>\n",
              "      <td>...</td>\n",
              "      <td>...</td>\n",
              "      <td>...</td>\n",
              "      <td>...</td>\n",
              "      <td>...</td>\n",
              "      <td>...</td>\n",
              "      <td>...</td>\n",
              "      <td>...</td>\n",
              "      <td>...</td>\n",
              "      <td>...</td>\n",
              "      <td>...</td>\n",
              "      <td>...</td>\n",
              "    </tr>\n",
              "    <tr>\n",
              "      <th>10122</th>\n",
              "      <td>1.0</td>\n",
              "      <td>-0.266547</td>\n",
              "      <td>-0.522785</td>\n",
              "      <td>-0.337598</td>\n",
              "      <td>0.492404</td>\n",
              "      <td>-0.509330</td>\n",
              "      <td>0.844455</td>\n",
              "      <td>2.221481</td>\n",
              "      <td>0.678714</td>\n",
              "      <td>2</td>\n",
              "      <td>0</td>\n",
              "      <td>4</td>\n",
              "    </tr>\n",
              "    <tr>\n",
              "      <th>10123</th>\n",
              "      <td>1.0</td>\n",
              "      <td>-0.266547</td>\n",
              "      <td>0.120579</td>\n",
              "      <td>-0.337598</td>\n",
              "      <td>0.492404</td>\n",
              "      <td>-0.479181</td>\n",
              "      <td>1.255524</td>\n",
              "      <td>0.176440</td>\n",
              "      <td>0.856458</td>\n",
              "      <td>2</td>\n",
              "      <td>0</td>\n",
              "      <td>4</td>\n",
              "    </tr>\n",
              "    <tr>\n",
              "      <th>10124</th>\n",
              "      <td>0.0</td>\n",
              "      <td>-1.036462</td>\n",
              "      <td>0.763943</td>\n",
              "      <td>0.651940</td>\n",
              "      <td>1.396424</td>\n",
              "      <td>-0.354626</td>\n",
              "      <td>-1.426858</td>\n",
              "      <td>-0.207005</td>\n",
              "      <td>-0.997155</td>\n",
              "      <td>1</td>\n",
              "      <td>0</td>\n",
              "      <td>2</td>\n",
              "    </tr>\n",
              "    <tr>\n",
              "      <th>10125</th>\n",
              "      <td>1.0</td>\n",
              "      <td>-0.266547</td>\n",
              "      <td>0.120579</td>\n",
              "      <td>0.651940</td>\n",
              "      <td>0.492404</td>\n",
              "      <td>-0.368710</td>\n",
              "      <td>-1.426858</td>\n",
              "      <td>-0.121795</td>\n",
              "      <td>-0.997155</td>\n",
              "      <td>2</td>\n",
              "      <td>0</td>\n",
              "      <td>4</td>\n",
              "    </tr>\n",
              "    <tr>\n",
              "      <th>10126</th>\n",
              "      <td>0.0</td>\n",
              "      <td>-0.266547</td>\n",
              "      <td>1.407306</td>\n",
              "      <td>-0.337598</td>\n",
              "      <td>1.396424</td>\n",
              "      <td>0.193220</td>\n",
              "      <td>0.979433</td>\n",
              "      <td>-0.164400</td>\n",
              "      <td>-0.311572</td>\n",
              "      <td>1</td>\n",
              "      <td>1</td>\n",
              "      <td>4</td>\n",
              "    </tr>\n",
              "  </tbody>\n",
              "</table>\n",
              "<p>10127 rows × 12 columns</p>\n",
              "</div>\n",
              "      <button class=\"colab-df-convert\" onclick=\"convertToInteractive('df-77a48ff3-314d-4fc9-8359-ba4c6d592e8b')\"\n",
              "              title=\"Convert this dataframe to an interactive table.\"\n",
              "              style=\"display:none;\">\n",
              "        \n",
              "  <svg xmlns=\"http://www.w3.org/2000/svg\" height=\"24px\"viewBox=\"0 0 24 24\"\n",
              "       width=\"24px\">\n",
              "    <path d=\"M0 0h24v24H0V0z\" fill=\"none\"/>\n",
              "    <path d=\"M18.56 5.44l.94 2.06.94-2.06 2.06-.94-2.06-.94-.94-2.06-.94 2.06-2.06.94zm-11 1L8.5 8.5l.94-2.06 2.06-.94-2.06-.94L8.5 2.5l-.94 2.06-2.06.94zm10 10l.94 2.06.94-2.06 2.06-.94-2.06-.94-.94-2.06-.94 2.06-2.06.94z\"/><path d=\"M17.41 7.96l-1.37-1.37c-.4-.4-.92-.59-1.43-.59-.52 0-1.04.2-1.43.59L10.3 9.45l-7.72 7.72c-.78.78-.78 2.05 0 2.83L4 21.41c.39.39.9.59 1.41.59.51 0 1.02-.2 1.41-.59l7.78-7.78 2.81-2.81c.8-.78.8-2.07 0-2.86zM5.41 20L4 18.59l7.72-7.72 1.47 1.35L5.41 20z\"/>\n",
              "  </svg>\n",
              "      </button>\n",
              "      \n",
              "  <style>\n",
              "    .colab-df-container {\n",
              "      display:flex;\n",
              "      flex-wrap:wrap;\n",
              "      gap: 12px;\n",
              "    }\n",
              "\n",
              "    .colab-df-convert {\n",
              "      background-color: #E8F0FE;\n",
              "      border: none;\n",
              "      border-radius: 50%;\n",
              "      cursor: pointer;\n",
              "      display: none;\n",
              "      fill: #1967D2;\n",
              "      height: 32px;\n",
              "      padding: 0 0 0 0;\n",
              "      width: 32px;\n",
              "    }\n",
              "\n",
              "    .colab-df-convert:hover {\n",
              "      background-color: #E2EBFA;\n",
              "      box-shadow: 0px 1px 2px rgba(60, 64, 67, 0.3), 0px 1px 3px 1px rgba(60, 64, 67, 0.15);\n",
              "      fill: #174EA6;\n",
              "    }\n",
              "\n",
              "    [theme=dark] .colab-df-convert {\n",
              "      background-color: #3B4455;\n",
              "      fill: #D2E3FC;\n",
              "    }\n",
              "\n",
              "    [theme=dark] .colab-df-convert:hover {\n",
              "      background-color: #434B5C;\n",
              "      box-shadow: 0px 1px 3px 1px rgba(0, 0, 0, 0.15);\n",
              "      filter: drop-shadow(0px 1px 2px rgba(0, 0, 0, 0.3));\n",
              "      fill: #FFFFFF;\n",
              "    }\n",
              "  </style>\n",
              "\n",
              "      <script>\n",
              "        const buttonEl =\n",
              "          document.querySelector('#df-77a48ff3-314d-4fc9-8359-ba4c6d592e8b button.colab-df-convert');\n",
              "        buttonEl.style.display =\n",
              "          google.colab.kernel.accessAllowed ? 'block' : 'none';\n",
              "\n",
              "        async function convertToInteractive(key) {\n",
              "          const element = document.querySelector('#df-77a48ff3-314d-4fc9-8359-ba4c6d592e8b');\n",
              "          const dataTable =\n",
              "            await google.colab.kernel.invokeFunction('convertToInteractive',\n",
              "                                                     [key], {});\n",
              "          if (!dataTable) return;\n",
              "\n",
              "          const docLinkHtml = 'Like what you see? Visit the ' +\n",
              "            '<a target=\"_blank\" href=https://colab.research.google.com/notebooks/data_table.ipynb>data table notebook</a>'\n",
              "            + ' to learn more about interactive tables.';\n",
              "          element.innerHTML = '';\n",
              "          dataTable['output_type'] = 'display_data';\n",
              "          await google.colab.output.renderOutput(dataTable, element);\n",
              "          const docLink = document.createElement('div');\n",
              "          docLink.innerHTML = docLinkHtml;\n",
              "          element.appendChild(docLink);\n",
              "        }\n",
              "      </script>\n",
              "    </div>\n",
              "  </div>\n",
              "  "
            ]
          },
          "metadata": {},
          "execution_count": 492
        }
      ],
      "source": [
        "df_prep = pd.concat([dummies_df,\n",
        "                     std_df,\n",
        "                     Income_Category_enc,\n",
        "                     Card_Category_enc,\n",
        "                     Education_Level_enc\n",
        "                     ], axis = 1)\n",
        "df_prep"
      ]
    },
    {
      "cell_type": "markdown",
      "metadata": {
        "id": "85JX9oybQ1h4"
      },
      "source": [
        "### Entrenamiento"
      ]
    },
    {
      "cell_type": "code",
      "execution_count": null,
      "metadata": {
        "id": "b4_n19KpZ3AS"
      },
      "outputs": [],
      "source": [
        "X = df_prep\n",
        "y = df.Attrition_Flag_Int"
      ]
    },
    {
      "cell_type": "code",
      "execution_count": null,
      "metadata": {
        "id": "YGM9h1xJQ4TW"
      },
      "outputs": [],
      "source": [
        "X_train, X_test, y_train, y_test = train_test_split(X, y, stratify=y, random_state = 12)"
      ]
    },
    {
      "cell_type": "code",
      "execution_count": null,
      "metadata": {
        "id": "KmsoGxAhRIJ8"
      },
      "outputs": [],
      "source": [
        "logistic_regression = LogisticRegression(penalty='none') \n",
        "logistic_regression.fit(X_train, y_train);"
      ]
    },
    {
      "cell_type": "code",
      "execution_count": null,
      "metadata": {
        "colab": {
          "base_uri": "https://localhost:8080/"
        },
        "id": "1tjpcjDcRJPH",
        "outputId": "8c7abb68-afd9-4bd7-d654-13c9d79e06c7"
      },
      "outputs": [
        {
          "output_type": "execute_result",
          "data": {
            "text/plain": [
              "array([0, 0, 1, ..., 0, 1, 0])"
            ]
          },
          "metadata": {},
          "execution_count": 496
        }
      ],
      "source": [
        "y_test_pred = logistic_regression.predict(X_test)\n",
        "y_test_pred"
      ]
    },
    {
      "cell_type": "code",
      "execution_count": null,
      "metadata": {
        "colab": {
          "base_uri": "https://localhost:8080/"
        },
        "id": "lcXxkm5PRKo1",
        "outputId": "8bffe04a-bd9d-4296-bcbe-b1933083a95c"
      },
      "outputs": [
        {
          "output_type": "execute_result",
          "data": {
            "text/plain": [
              "array([[9.90282850e-01, 9.71715048e-03],\n",
              "       [8.47325599e-01, 1.52674401e-01],\n",
              "       [2.57837828e-01, 7.42162172e-01],\n",
              "       ...,\n",
              "       [6.41493357e-01, 3.58506643e-01],\n",
              "       [3.82362714e-01, 6.17637286e-01],\n",
              "       [9.99021169e-01, 9.78830898e-04]])"
            ]
          },
          "metadata": {},
          "execution_count": 497
        }
      ],
      "source": [
        "y_test_pred_proba = logistic_regression.predict_proba(X_test)\n",
        "y_test_pred_proba"
      ]
    },
    {
      "cell_type": "code",
      "execution_count": null,
      "metadata": {
        "colab": {
          "base_uri": "https://localhost:8080/"
        },
        "id": "YsFam8B-ROHH",
        "outputId": "bbed82b1-42e1-4c67-d533-814dbd04c331"
      },
      "outputs": [
        {
          "output_type": "execute_result",
          "data": {
            "text/plain": [
              "array([[2053,   72],\n",
              "       [ 206,  201]])"
            ]
          },
          "metadata": {},
          "execution_count": 498
        }
      ],
      "source": [
        "confusion_matrix(y_test, y_test_pred)"
      ]
    },
    {
      "cell_type": "code",
      "source": [
        "from sklearn.metrics import confusion_matrix\n",
        "confusion=confusion_matrix(y_test, y_test_pred)\n",
        "TP = confusion[1, 1]\n",
        "TN = confusion[0, 0]\n",
        "FP = confusion[0, 1]\n",
        "FN = confusion[1, 0]\n",
        "\n"
      ],
      "metadata": {
        "id": "O40Lw_rwc8wS"
      },
      "execution_count": null,
      "outputs": []
    },
    {
      "cell_type": "code",
      "execution_count": null,
      "metadata": {
        "colab": {
          "base_uri": "https://localhost:8080/"
        },
        "outputId": "ca260b24-eeea-4eea-cdb9-da2f598daa4b",
        "id": "Fto0V4CTc8wS"
      },
      "outputs": [
        {
          "output_type": "execute_result",
          "data": {
            "text/plain": [
              "0.8902053712480252"
            ]
          },
          "metadata": {},
          "execution_count": 500
        }
      ],
      "source": [
        "# Computamos el accuracy score en test\n",
        "accuracy_score(y_test, y_test_pred)\n"
      ]
    },
    {
      "cell_type": "code",
      "execution_count": null,
      "metadata": {
        "colab": {
          "base_uri": "https://localhost:8080/"
        },
        "outputId": "ea1515b6-1b05-4f6a-d7ff-6b4de61eefa4",
        "id": "UCmWAvqdc8wS"
      },
      "outputs": [
        {
          "output_type": "execute_result",
          "data": {
            "text/plain": [
              "0.49385749385749383"
            ]
          },
          "metadata": {},
          "execution_count": 501
        }
      ],
      "source": [
        "#Sensibilidad \n",
        "recall_score(y_test, y_test_pred)"
      ]
    },
    {
      "cell_type": "code",
      "execution_count": null,
      "metadata": {
        "colab": {
          "base_uri": "https://localhost:8080/"
        },
        "outputId": "d8fb2cb7-f2da-4e07-a9fe-e0ad6fb985b8",
        "id": "4aZLf0e8c8wT"
      },
      "outputs": [
        {
          "output_type": "stream",
          "name": "stdout",
          "text": [
            "0.9661176470588235\n"
          ]
        }
      ],
      "source": [
        "#Especificidad\n",
        "specificity = TN / (TN + FP)\n",
        "print(specificity)"
      ]
    },
    {
      "cell_type": "code",
      "source": [
        "#f1 score\n",
        "print(f1_score(y_test, y_test_pred))"
      ],
      "metadata": {
        "colab": {
          "base_uri": "https://localhost:8080/"
        },
        "id": "ZA01MXt8ep1K",
        "outputId": "79326ce6-07ed-458a-db1a-5f9c77e63fff"
      },
      "execution_count": null,
      "outputs": [
        {
          "output_type": "stream",
          "name": "stdout",
          "text": [
            "0.5911764705882353\n"
          ]
        }
      ]
    },
    {
      "cell_type": "code",
      "execution_count": null,
      "metadata": {
        "colab": {
          "base_uri": "https://localhost:8080/",
          "height": 279
        },
        "id": "E-BPY84ddn5j",
        "outputId": "dc7862c5-faac-4580-a6e2-b91c7eeb9ded"
      },
      "outputs": [
        {
          "output_type": "display_data",
          "data": {
            "text/plain": [
              "<Figure size 432x288 with 2 Axes>"
            ],
            "image/png": "[encoded data removed]"
          },
          "metadata": {
            "needs_background": "light"
          }
        }
      ],
      "source": [
        "# Graficamos la matriz de confusión\n",
        "sns.heatmap(confusion_matrix(y_test, y_test_pred), annot=True, fmt='.0f')\n",
        "plt.ylabel('Etiquetas reales')\n",
        "plt.xlabel('Etiquetas predichas');"
      ]
    },
    {
      "cell_type": "code",
      "execution_count": null,
      "metadata": {
        "colab": {
          "base_uri": "https://localhost:8080/",
          "height": 295
        },
        "id": "dD029MTWOS9D",
        "outputId": "c0e3397a-1b61-4c31-abab-4fac1be00d08"
      },
      "outputs": [
        {
          "output_type": "display_data",
          "data": {
            "text/plain": [
              "<Figure size 432x288 with 1 Axes>"
            ],
            "image/png": "[encoded data removed]"
          },
          "metadata": {
            "needs_background": "light"
          }
        }
      ],
      "source": [
        "Y_scores = logistic_regression.predict_proba(X_test)\n",
        "fpr, tpr, threshold = roc_curve(y_test, y_test_pred)\n",
        "roc_auc = auc(fpr, tpr)\n",
        "\n",
        "plt.title('Logistic RegressionClassifier')\n",
        "plt.plot(fpr, tpr, 'b', label = 'AUC = %0.2f' % roc_auc)\n",
        "plt.legend(loc = 'lower right')\n",
        "plt.plot([0, 1], [0, 1],'r--')\n",
        "plt.xlim([0, 1])\n",
        "plt.ylim([0, 1])\n",
        "plt.ylabel('True Positive Rate')\n",
        "plt.xlabel('False Positive Rate')\n",
        "plt.title('ROC Curve of LOGISTIC REGRESSION')\n",
        "plt.show()"
      ]
    },
    {
      "cell_type": "markdown",
      "metadata": {
        "id": "TJAInyCy3Isk"
      },
      "source": [
        "# Seleccion, conclusiones etc"
      ]
    }
  ],
  "metadata": {
    "colab": {
      "provenance": [],
      "include_colab_link": true
    },
    "kernelspec": {
      "display_name": "Python 3",
      "name": "python3"
    },
    "language_info": {
      "name": "python"
    }
  },
  "nbformat": 4,
  "nbformat_minor": 0
}