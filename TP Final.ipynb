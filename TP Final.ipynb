{
  "cells": [
    {
      "cell_type": "code",
      "source": [
        "from google.colab import drive\n",
        "drive.mount('/content/drive')"
      ],
      "metadata": {
        "colab": {
          "base_uri": "https://localhost:8080/"
        },
        "id": "YYintJ5WVA-s",
        "outputId": "81461cba-44f8-4527-d537-dc0f66d9f00a"
      },
      "execution_count": null,
      "outputs": [
        {
          "output_type": "stream",
          "name": "stdout",
          "text": [
            "Mounted at /content/drive\n"
          ]
        }
      ]
    },
    {
      "cell_type": "code",
      "source": [
        "!pip install -U -q PyDrive\n",
        " \n",
        "from pydrive.auth import GoogleAuth\n",
        "from pydrive.drive import GoogleDrive\n",
        "from google.colab import auth\n",
        "from oauth2client.client import GoogleCredentials\n",
        " \n",
        " \n",
        "# Authenticate and create the PyDrive client.\n",
        "auth.authenticate_user()\n",
        "gauth = GoogleAuth()\n",
        "gauth.credentials = GoogleCredentials.get_application_default()\n",
        "drive = GoogleDrive(gauth)"
      ],
      "metadata": {
        "id": "Tlzkb_OlVKxB"
      },
      "execution_count": null,
      "outputs": []
    },
    {
      "cell_type": "code",
      "execution_count": null,
      "metadata": {
        "colab": {
          "base_uri": "https://localhost:8080/"
        },
        "id": "B8oBMRRfU80Q",
        "outputId": "47490400-5419-4a81-f0a8-e91466ebadc9"
      },
      "outputs": [
        {
          "output_type": "stream",
          "name": "stdout",
          "text": [
            "Setup Complete\n"
          ]
        }
      ],
      "source": [
        "import pandas as pd\n",
        "import numpy as np\n",
        "import matplotlib.pyplot as plt\n",
        "from matplotlib import figure\n",
        "#%matplotlib inline\n",
        "import seaborn as sns\n",
        "from IPython.display import Image\n",
        "import re\n",
        "from scipy.stats import chi2\n",
        "import plotly.express as px\n",
        "\n",
        "\n",
        "from sklearn.model_selection import train_test_split\n",
        "from sklearn.preprocessing import MinMaxScaler\n",
        "from sklearn.preprocessing import OneHotEncoder\n",
        "from sklearn.preprocessing import LabelEncoder\n",
        "from sklearn.metrics import recall_score\n",
        "from sklearn.metrics import roc_curve\n",
        "from sklearn.metrics import auc\n",
        "\n",
        "from sklearn.linear_model import LogisticRegression\n",
        "from sklearn.metrics import accuracy_score, confusion_matrix\n",
        "\n",
        "\n",
        "from sklearn.preprocessing import StandardScaler\n",
        "from sklearn.metrics import mean_squared_error\n",
        "from sklearn import tree\n",
        "\n",
        "from sklearn.model_selection import train_test_split\n",
        "from sklearn.preprocessing import StandardScaler\n",
        "\n",
        "from sklearn.metrics import accuracy_score, confusion_matrix\n",
        "\n",
        "from xgboost.sklearn import XGBClassifier\n",
        "from sklearn.model_selection import GridSearchCV\n",
        "from sklearn.metrics import roc_auc_score\n",
        "from xgboost import plot_importance\n",
        "print(\"Setup Complete\")"
      ]
    },
    {
      "cell_type": "code",
      "execution_count": null,
      "metadata": {
        "id": "hm0yNRsiU80T"
      },
      "outputs": [],
      "source": [
        "### DF2 CONTIENE DATOS DE UNA MUESTRA DE ELECTORES NATIVSO Y EXTRANJEROS \n",
        "#DE UN DISTRITO DE LA PROVINCIA DE BUENSO AIRES\n",
        "#SE AGREGAN LAS COORDENADAS DE LOS DOMICILIOS Y LA DISTANCIA HASTA EL LUGAR DE VOTACIÓN\n",
        "\n",
        "#df2=pd.read_csv('C:/Users/maria/Documents/2022DIGITALHOUSE/TP INTEGRADOR/df2.csv')\n",
        "\n",
        "#Cargar el dataset\n",
        "df_filepath = '/content/drive/MyDrive/ColabNotebooks/df2.csv'\n",
        "df2 = pd.read_csv(df_filepath)\n",
        "df2.head()\n",
        "\n",
        "pd.set_option('display.max_columns', None)\n",
        "pd.options.display.max_colwidth = 75"
      ]
    },
    {
      "cell_type": "code",
      "execution_count": null,
      "metadata": {
        "colab": {
          "base_uri": "https://localhost:8080/"
        },
        "id": "hO3Jl4xjU80U",
        "outputId": "ed442d0f-c175-4a3c-ebdf-0655e416194b"
      },
      "outputs": [
        {
          "output_type": "execute_result",
          "data": {
            "text/plain": [
              "array([False])"
            ]
          },
          "metadata": {},
          "execution_count": 8
        }
      ],
      "source": [
        "#CONTROLAR QUE ID NO ESTÁ DUPLICADO\n",
        "df2.duplicated(subset=['ID']).unique()"
      ]
    },
    {
      "cell_type": "code",
      "execution_count": null,
      "metadata": {
        "colab": {
          "base_uri": "https://localhost:8080/"
        },
        "id": "0XRhc-r2U80U",
        "outputId": "b4056063-ff74-4a45-a954-cf65aed231df"
      },
      "outputs": [
        {
          "output_type": "stream",
          "name": "stdout",
          "text": [
            "<class 'pandas.core.frame.DataFrame'>\n",
            "RangeIndex: 4841 entries, 0 to 4840\n",
            "Data columns (total 17 columns):\n",
            " #   Column           Non-Null Count  Dtype  \n",
            "---  ------           --------------  -----  \n",
            " 0   ID               4841 non-null   int64  \n",
            " 1   MATRICULA        4841 non-null   int64  \n",
            " 2   SEXO             4841 non-null   object \n",
            " 3   TIPO_EJEMPLAR    2387 non-null   object \n",
            " 4   CLASE            4840 non-null   float64\n",
            " 5   CIRCOD           4841 non-null   object \n",
            " 6   LOCALIDAD        4841 non-null   object \n",
            " 7   MESA             4841 non-null   int64  \n",
            " 8   VOTO_PASO        4841 non-null   int64  \n",
            " 9   VOTO_GENERAL     4841 non-null   int64  \n",
            " 10  NATIVOS          4841 non-null   int64  \n",
            " 11  ESTABLECIMIENTO  4841 non-null   object \n",
            " 12  LAT              4841 non-null   float64\n",
            " 13  LONG             4841 non-null   float64\n",
            " 14  DISTANCIA        4841 non-null   int64  \n",
            " 15  ANTIGUEDAD       4840 non-null   float64\n",
            " 16  ORIGEN           4841 non-null   object \n",
            "dtypes: float64(4), int64(7), object(6)\n",
            "memory usage: 643.1+ KB\n"
          ]
        }
      ],
      "source": [
        "df2.ORIGEN.fillna(\"DESCONOCIDO\", inplace=True)\n",
        "df2.info()"
      ]
    },
    {
      "cell_type": "code",
      "execution_count": null,
      "metadata": {
        "colab": {
          "base_uri": "https://localhost:8080/"
        },
        "id": "7Qc23_yHU80V",
        "outputId": "3488225b-52e3-4382-d481-20971ff7c69a"
      },
      "outputs": [
        {
          "output_type": "stream",
          "name": "stdout",
          "text": [
            "0    2620\n",
            "1    2221\n",
            "Name: VOTO_GENERAL, dtype: int64\n",
            "0    0.54121\n",
            "1    0.45879\n",
            "Name: VOTO_GENERAL, dtype: float64\n"
          ]
        }
      ],
      "source": [
        "###DISTRIBUCION DE LA VARIABLE TARGET\n",
        "print(df2.VOTO_GENERAL.value_counts())\n",
        "print(df2['VOTO_GENERAL'].value_counts(normalize=True))"
      ]
    },
    {
      "cell_type": "code",
      "execution_count": null,
      "metadata": {
        "colab": {
          "base_uri": "https://localhost:8080/",
          "height": 467
        },
        "id": "njRlfWfWU80V",
        "outputId": "8757d141-538b-4a55-e9d6-20f28dacaacd"
      },
      "outputs": [
        {
          "output_type": "execute_result",
          "data": {
            "text/plain": [
              "<Axes: xlabel='DISTANCIA'>"
            ]
          },
          "metadata": {},
          "execution_count": 11
        },
        {
          "output_type": "display_data",
          "data": {
            "text/plain": [
              "<Figure size 640x480 with 1 Axes>"
            ],
            "image/png": "[encoded data removed]"
          },
          "metadata": {}
        }
      ],
      "source": [
        "###DISTANCIA\n",
        "import seaborn as sns\n",
        "sns.boxplot(x=df2['DISTANCIA'])"
      ]
    },
    {
      "cell_type": "code",
      "execution_count": null,
      "metadata": {
        "colab": {
          "base_uri": "https://localhost:8080/",
          "height": 467
        },
        "id": "dGhDW3PaU80W",
        "outputId": "178a1939-4254-4228-e8d5-ca4e7055968e"
      },
      "outputs": [
        {
          "output_type": "execute_result",
          "data": {
            "text/plain": [
              "<Axes: xlabel='DISTANCIA'>"
            ]
          },
          "metadata": {},
          "execution_count": 12
        },
        {
          "output_type": "display_data",
          "data": {
            "text/plain": [
              "<Figure size 640x480 with 1 Axes>"
            ],
            "image/png": "[encoded data removed]"
          },
          "metadata": {}
        }
      ],
      "source": [
        "###QUITAR OUTLIERS DE DISTANCIA (distancia mayor a 100 kms)\n",
        "df2 = df2[df2['DISTANCIA'] < 100000]  \n",
        "###DISTNACIA\n",
        "import seaborn as sns\n",
        "sns.boxplot(x=df2['DISTANCIA'])\n"
      ]
    },
    {
      "cell_type": "code",
      "execution_count": null,
      "metadata": {
        "colab": {
          "base_uri": "https://localhost:8080/",
          "height": 467
        },
        "id": "0TEu4EbWU80X",
        "outputId": "6eccdef3-5a3f-4058-d7e6-a9d3c48f45f5"
      },
      "outputs": [
        {
          "output_type": "execute_result",
          "data": {
            "text/plain": [
              "<Axes: xlabel='CLASE'>"
            ]
          },
          "metadata": {},
          "execution_count": 13
        },
        {
          "output_type": "display_data",
          "data": {
            "text/plain": [
              "<Figure size 640x480 with 1 Axes>"
            ],
            "image/png": "[encoded data removed]"
          },
          "metadata": {}
        }
      ],
      "source": [
        "###CLASE\n",
        "\n",
        "###QUITAR OUTLIERS DE DISTANCIA (distancia mayor a 100 kms)\n",
        "df2 = df2[df2['CLASE'] > 1923]  \n",
        "import seaborn as sns\n",
        "sns.boxplot(x=df2['CLASE'])"
      ]
    },
    {
      "cell_type": "code",
      "execution_count": null,
      "metadata": {
        "colab": {
          "base_uri": "https://localhost:8080/"
        },
        "id": "0LiF2EvqU80X",
        "outputId": "65f78e49-258f-40a1-c4f6-121c58e0c9eb"
      },
      "outputs": [
        {
          "output_type": "execute_result",
          "data": {
            "text/plain": [
              "(4829, 17)"
            ]
          },
          "metadata": {},
          "execution_count": 14
        }
      ],
      "source": [
        "df2.shape"
      ]
    },
    {
      "cell_type": "code",
      "execution_count": null,
      "metadata": {
        "colab": {
          "base_uri": "https://localhost:8080/",
          "height": 374
        },
        "id": "M9aTwp_4U80Y",
        "outputId": "6c055c6d-d079-4ad3-f1bf-20b542a34eee"
      },
      "outputs": [
        {
          "output_type": "execute_result",
          "data": {
            "text/plain": [
              "     ID  MATRICULA TIPO_EJEMPLAR   CLASE CIRCOD  LOCALIDAD  MESA  VOTO_PASO  \\\n",
              "0  1220      24220        DNI-EA  1974.0    590  TEMPERLEY  1135          1   \n",
              "1   912      18155        DNI-EA  1966.0    590  TEMPERLEY  1108          1   \n",
              "2  1008      21110        DNI-EA  1969.0    590  TEMPERLEY  1108          1   \n",
              "3   891      17810        DNI-EB  1966.0    590  TEMPERLEY  1087          1   \n",
              "4  1305      25645        DNI-EB  1976.0    590  TEMPERLEY  1060          1   \n",
              "\n",
              "   VOTO_GENERAL  NATIVOS               ESTABLECIMIENTO        LAT       LONG  \\\n",
              "0             1        1       ESCUELA EP N°69/ES N°57 -34.768411 -58.385937   \n",
              "1             1        1      ESCUELA EP N°45/ES N°350 -34.766611 -58.378062   \n",
              "2             1        1      ESCUELA EP N°45/ES N°350 -34.766611 -58.378062   \n",
              "3             1        1               ESCUELA ESB N°5 -34.775912 -58.390526   \n",
              "4             1        1  COLEGIO TOMAS JEFFERSON (EP) -34.775343 -58.369812   \n",
              "\n",
              "   DISTANCIA  ANTIGUEDAD     ORIGEN  SEXO_M  \n",
              "0        111         5.0  ARGENTINA       0  \n",
              "1        112         7.0  ARGENTINA       0  \n",
              "2        112         6.0  ARGENTINA       1  \n",
              "3        129         7.0  ARGENTINA       1  \n",
              "4        134         5.0  ARGENTINA       0  "
            ],
            "text/html": [
              "\n",
              "  <div id=\"df-8a65c1ff-2211-4786-bcee-c60f436a0f97\">\n",
              "    <div class=\"colab-df-container\">\n",
              "      <div>\n",
              "<style scoped>\n",
              "    .dataframe tbody tr th:only-of-type {\n",
              "        vertical-align: middle;\n",
              "    }\n",
              "\n",
              "    .dataframe tbody tr th {\n",
              "        vertical-align: top;\n",
              "    }\n",
              "\n",
              "    .dataframe thead th {\n",
              "        text-align: right;\n",
              "    }\n",
              "</style>\n",
              "<table border=\"1\" class=\"dataframe\">\n",
              "  <thead>\n",
              "    <tr style=\"text-align: right;\">\n",
              "      <th></th>\n",
              "      <th>ID</th>\n",
              "      <th>MATRICULA</th>\n",
              "      <th>TIPO_EJEMPLAR</th>\n",
              "      <th>CLASE</th>\n",
              "      <th>CIRCOD</th>\n",
              "      <th>LOCALIDAD</th>\n",
              "      <th>MESA</th>\n",
              "      <th>VOTO_PASO</th>\n",
              "      <th>VOTO_GENERAL</th>\n",
              "      <th>NATIVOS</th>\n",
              "      <th>ESTABLECIMIENTO</th>\n",
              "      <th>LAT</th>\n",
              "      <th>LONG</th>\n",
              "      <th>DISTANCIA</th>\n",
              "      <th>ANTIGUEDAD</th>\n",
              "      <th>ORIGEN</th>\n",
              "      <th>SEXO_M</th>\n",
              "    </tr>\n",
              "  </thead>\n",
              "  <tbody>\n",
              "    <tr>\n",
              "      <th>0</th>\n",
              "      <td>1220</td>\n",
              "      <td>24220</td>\n",
              "      <td>DNI-EA</td>\n",
              "      <td>1974.0</td>\n",
              "      <td>590</td>\n",
              "      <td>TEMPERLEY</td>\n",
              "      <td>1135</td>\n",
              "      <td>1</td>\n",
              "      <td>1</td>\n",
              "      <td>1</td>\n",
              "      <td>ESCUELA EP N°69/ES N°57</td>\n",
              "      <td>-34.768411</td>\n",
              "      <td>-58.385937</td>\n",
              "      <td>111</td>\n",
              "      <td>5.0</td>\n",
              "      <td>ARGENTINA</td>\n",
              "      <td>0</td>\n",
              "    </tr>\n",
              "    <tr>\n",
              "      <th>1</th>\n",
              "      <td>912</td>\n",
              "      <td>18155</td>\n",
              "      <td>DNI-EA</td>\n",
              "      <td>1966.0</td>\n",
              "      <td>590</td>\n",
              "      <td>TEMPERLEY</td>\n",
              "      <td>1108</td>\n",
              "      <td>1</td>\n",
              "      <td>1</td>\n",
              "      <td>1</td>\n",
              "      <td>ESCUELA EP N°45/ES N°350</td>\n",
              "      <td>-34.766611</td>\n",
              "      <td>-58.378062</td>\n",
              "      <td>112</td>\n",
              "      <td>7.0</td>\n",
              "      <td>ARGENTINA</td>\n",
              "      <td>0</td>\n",
              "    </tr>\n",
              "    <tr>\n",
              "      <th>2</th>\n",
              "      <td>1008</td>\n",
              "      <td>21110</td>\n",
              "      <td>DNI-EA</td>\n",
              "      <td>1969.0</td>\n",
              "      <td>590</td>\n",
              "      <td>TEMPERLEY</td>\n",
              "      <td>1108</td>\n",
              "      <td>1</td>\n",
              "      <td>1</td>\n",
              "      <td>1</td>\n",
              "      <td>ESCUELA EP N°45/ES N°350</td>\n",
              "      <td>-34.766611</td>\n",
              "      <td>-58.378062</td>\n",
              "      <td>112</td>\n",
              "      <td>6.0</td>\n",
              "      <td>ARGENTINA</td>\n",
              "      <td>1</td>\n",
              "    </tr>\n",
              "    <tr>\n",
              "      <th>3</th>\n",
              "      <td>891</td>\n",
              "      <td>17810</td>\n",
              "      <td>DNI-EB</td>\n",
              "      <td>1966.0</td>\n",
              "      <td>590</td>\n",
              "      <td>TEMPERLEY</td>\n",
              "      <td>1087</td>\n",
              "      <td>1</td>\n",
              "      <td>1</td>\n",
              "      <td>1</td>\n",
              "      <td>ESCUELA ESB N°5</td>\n",
              "      <td>-34.775912</td>\n",
              "      <td>-58.390526</td>\n",
              "      <td>129</td>\n",
              "      <td>7.0</td>\n",
              "      <td>ARGENTINA</td>\n",
              "      <td>1</td>\n",
              "    </tr>\n",
              "    <tr>\n",
              "      <th>4</th>\n",
              "      <td>1305</td>\n",
              "      <td>25645</td>\n",
              "      <td>DNI-EB</td>\n",
              "      <td>1976.0</td>\n",
              "      <td>590</td>\n",
              "      <td>TEMPERLEY</td>\n",
              "      <td>1060</td>\n",
              "      <td>1</td>\n",
              "      <td>1</td>\n",
              "      <td>1</td>\n",
              "      <td>COLEGIO TOMAS JEFFERSON (EP)</td>\n",
              "      <td>-34.775343</td>\n",
              "      <td>-58.369812</td>\n",
              "      <td>134</td>\n",
              "      <td>5.0</td>\n",
              "      <td>ARGENTINA</td>\n",
              "      <td>0</td>\n",
              "    </tr>\n",
              "  </tbody>\n",
              "</table>\n",
              "</div>\n",
              "      <button class=\"colab-df-convert\" onclick=\"convertToInteractive('df-8a65c1ff-2211-4786-bcee-c60f436a0f97')\"\n",
              "              title=\"Convert this dataframe to an interactive table.\"\n",
              "              style=\"display:none;\">\n",
              "        \n",
              "  <svg xmlns=\"http://www.w3.org/2000/svg\" height=\"24px\"viewBox=\"0 0 24 24\"\n",
              "       width=\"24px\">\n",
              "    <path d=\"M0 0h24v24H0V0z\" fill=\"none\"/>\n",
              "    <path d=\"M18.56 5.44l.94 2.06.94-2.06 2.06-.94-2.06-.94-.94-2.06-.94 2.06-2.06.94zm-11 1L8.5 8.5l.94-2.06 2.06-.94-2.06-.94L8.5 2.5l-.94 2.06-2.06.94zm10 10l.94 2.06.94-2.06 2.06-.94-2.06-.94-.94-2.06-.94 2.06-2.06.94z\"/><path d=\"M17.41 7.96l-1.37-1.37c-.4-.4-.92-.59-1.43-.59-.52 0-1.04.2-1.43.59L10.3 9.45l-7.72 7.72c-.78.78-.78 2.05 0 2.83L4 21.41c.39.39.9.59 1.41.59.51 0 1.02-.2 1.41-.59l7.78-7.78 2.81-2.81c.8-.78.8-2.07 0-2.86zM5.41 20L4 18.59l7.72-7.72 1.47 1.35L5.41 20z\"/>\n",
              "  </svg>\n",
              "      </button>\n",
              "      \n",
              "  <style>\n",
              "    .colab-df-container {\n",
              "      display:flex;\n",
              "      flex-wrap:wrap;\n",
              "      gap: 12px;\n",
              "    }\n",
              "\n",
              "    .colab-df-convert {\n",
              "      background-color: #E8F0FE;\n",
              "      border: none;\n",
              "      border-radius: 50%;\n",
              "      cursor: pointer;\n",
              "      display: none;\n",
              "      fill: #1967D2;\n",
              "      height: 32px;\n",
              "      padding: 0 0 0 0;\n",
              "      width: 32px;\n",
              "    }\n",
              "\n",
              "    .colab-df-convert:hover {\n",
              "      background-color: #E2EBFA;\n",
              "      box-shadow: 0px 1px 2px rgba(60, 64, 67, 0.3), 0px 1px 3px 1px rgba(60, 64, 67, 0.15);\n",
              "      fill: #174EA6;\n",
              "    }\n",
              "\n",
              "    [theme=dark] .colab-df-convert {\n",
              "      background-color: #3B4455;\n",
              "      fill: #D2E3FC;\n",
              "    }\n",
              "\n",
              "    [theme=dark] .colab-df-convert:hover {\n",
              "      background-color: #434B5C;\n",
              "      box-shadow: 0px 1px 3px 1px rgba(0, 0, 0, 0.15);\n",
              "      filter: drop-shadow(0px 1px 2px rgba(0, 0, 0, 0.3));\n",
              "      fill: #FFFFFF;\n",
              "    }\n",
              "  </style>\n",
              "\n",
              "      <script>\n",
              "        const buttonEl =\n",
              "          document.querySelector('#df-8a65c1ff-2211-4786-bcee-c60f436a0f97 button.colab-df-convert');\n",
              "        buttonEl.style.display =\n",
              "          google.colab.kernel.accessAllowed ? 'block' : 'none';\n",
              "\n",
              "        async function convertToInteractive(key) {\n",
              "          const element = document.querySelector('#df-8a65c1ff-2211-4786-bcee-c60f436a0f97');\n",
              "          const dataTable =\n",
              "            await google.colab.kernel.invokeFunction('convertToInteractive',\n",
              "                                                     [key], {});\n",
              "          if (!dataTable) return;\n",
              "\n",
              "          const docLinkHtml = 'Like what you see? Visit the ' +\n",
              "            '<a target=\"_blank\" href=https://colab.research.google.com/notebooks/data_table.ipynb>data table notebook</a>'\n",
              "            + ' to learn more about interactive tables.';\n",
              "          element.innerHTML = '';\n",
              "          dataTable['output_type'] = 'display_data';\n",
              "          await google.colab.output.renderOutput(dataTable, element);\n",
              "          const docLink = document.createElement('div');\n",
              "          docLink.innerHTML = docLinkHtml;\n",
              "          element.appendChild(docLink);\n",
              "        }\n",
              "      </script>\n",
              "    </div>\n",
              "  </div>\n",
              "  "
            ]
          },
          "metadata": {},
          "execution_count": 17
        }
      ],
      "source": [
        "###HACER DUMMIES DE SEXO \n",
        "#DF ES LA VERSION CON DUMMIES Y df2 SEXO\n",
        "\n",
        "df=pd.get_dummies(df2, columns = ['SEXO'], drop_first=True)\n",
        "df.head()"
      ]
    },
    {
      "cell_type": "code",
      "execution_count": null,
      "metadata": {
        "colab": {
          "base_uri": "https://localhost:8080/",
          "height": 374
        },
        "id": "8YLW7Fh-U80Y",
        "outputId": "0c9eeb52-1f0c-417f-e917-3b055ef7c1a6"
      },
      "outputs": [
        {
          "output_type": "execute_result",
          "data": {
            "text/plain": [
              "     ID  MATRICULA TIPO_EJEMPLAR   CLASE CIRCOD  LOCALIDAD  MESA  VOTO_PASO  \\\n",
              "0  1220      24220        DNI-EA  1974.0    590  TEMPERLEY  1135          1   \n",
              "1   912      18155        DNI-EA  1966.0    590  TEMPERLEY  1108          1   \n",
              "2  1008      21110        DNI-EA  1969.0    590  TEMPERLEY  1108          1   \n",
              "3   891      17810        DNI-EB  1966.0    590  TEMPERLEY  1087          1   \n",
              "4  1305      25645        DNI-EB  1976.0    590  TEMPERLEY  1060          1   \n",
              "\n",
              "   VOTO_GENERAL  NATIVOS               ESTABLECIMIENTO        LAT       LONG  \\\n",
              "0             1        1       ESCUELA EP N°69/ES N°57 -34.768411 -58.385937   \n",
              "1             1        1      ESCUELA EP N°45/ES N°350 -34.766611 -58.378062   \n",
              "2             1        1      ESCUELA EP N°45/ES N°350 -34.766611 -58.378062   \n",
              "3             1        1               ESCUELA ESB N°5 -34.775912 -58.390526   \n",
              "4             1        1  COLEGIO TOMAS JEFFERSON (EP) -34.775343 -58.369812   \n",
              "\n",
              "   DISTANCIA  ANTIGUEDAD     ORIGEN  SEXO_M  EDAD  \n",
              "0        111         5.0  ARGENTINA       0  47.0  \n",
              "1        112         7.0  ARGENTINA       0  55.0  \n",
              "2        112         6.0  ARGENTINA       1  52.0  \n",
              "3        129         7.0  ARGENTINA       1  55.0  \n",
              "4        134         5.0  ARGENTINA       0  45.0  "
            ],
            "text/html": [
              "\n",
              "  <div id=\"df-e8baa61e-070b-42eb-94b8-e975a5928fe8\">\n",
              "    <div class=\"colab-df-container\">\n",
              "      <div>\n",
              "<style scoped>\n",
              "    .dataframe tbody tr th:only-of-type {\n",
              "        vertical-align: middle;\n",
              "    }\n",
              "\n",
              "    .dataframe tbody tr th {\n",
              "        vertical-align: top;\n",
              "    }\n",
              "\n",
              "    .dataframe thead th {\n",
              "        text-align: right;\n",
              "    }\n",
              "</style>\n",
              "<table border=\"1\" class=\"dataframe\">\n",
              "  <thead>\n",
              "    <tr style=\"text-align: right;\">\n",
              "      <th></th>\n",
              "      <th>ID</th>\n",
              "      <th>MATRICULA</th>\n",
              "      <th>TIPO_EJEMPLAR</th>\n",
              "      <th>CLASE</th>\n",
              "      <th>CIRCOD</th>\n",
              "      <th>LOCALIDAD</th>\n",
              "      <th>MESA</th>\n",
              "      <th>VOTO_PASO</th>\n",
              "      <th>VOTO_GENERAL</th>\n",
              "      <th>NATIVOS</th>\n",
              "      <th>ESTABLECIMIENTO</th>\n",
              "      <th>LAT</th>\n",
              "      <th>LONG</th>\n",
              "      <th>DISTANCIA</th>\n",
              "      <th>ANTIGUEDAD</th>\n",
              "      <th>ORIGEN</th>\n",
              "      <th>SEXO_M</th>\n",
              "      <th>EDAD</th>\n",
              "    </tr>\n",
              "  </thead>\n",
              "  <tbody>\n",
              "    <tr>\n",
              "      <th>0</th>\n",
              "      <td>1220</td>\n",
              "      <td>24220</td>\n",
              "      <td>DNI-EA</td>\n",
              "      <td>1974.0</td>\n",
              "      <td>590</td>\n",
              "      <td>TEMPERLEY</td>\n",
              "      <td>1135</td>\n",
              "      <td>1</td>\n",
              "      <td>1</td>\n",
              "      <td>1</td>\n",
              "      <td>ESCUELA EP N°69/ES N°57</td>\n",
              "      <td>-34.768411</td>\n",
              "      <td>-58.385937</td>\n",
              "      <td>111</td>\n",
              "      <td>5.0</td>\n",
              "      <td>ARGENTINA</td>\n",
              "      <td>0</td>\n",
              "      <td>47.0</td>\n",
              "    </tr>\n",
              "    <tr>\n",
              "      <th>1</th>\n",
              "      <td>912</td>\n",
              "      <td>18155</td>\n",
              "      <td>DNI-EA</td>\n",
              "      <td>1966.0</td>\n",
              "      <td>590</td>\n",
              "      <td>TEMPERLEY</td>\n",
              "      <td>1108</td>\n",
              "      <td>1</td>\n",
              "      <td>1</td>\n",
              "      <td>1</td>\n",
              "      <td>ESCUELA EP N°45/ES N°350</td>\n",
              "      <td>-34.766611</td>\n",
              "      <td>-58.378062</td>\n",
              "      <td>112</td>\n",
              "      <td>7.0</td>\n",
              "      <td>ARGENTINA</td>\n",
              "      <td>0</td>\n",
              "      <td>55.0</td>\n",
              "    </tr>\n",
              "    <tr>\n",
              "      <th>2</th>\n",
              "      <td>1008</td>\n",
              "      <td>21110</td>\n",
              "      <td>DNI-EA</td>\n",
              "      <td>1969.0</td>\n",
              "      <td>590</td>\n",
              "      <td>TEMPERLEY</td>\n",
              "      <td>1108</td>\n",
              "      <td>1</td>\n",
              "      <td>1</td>\n",
              "      <td>1</td>\n",
              "      <td>ESCUELA EP N°45/ES N°350</td>\n",
              "      <td>-34.766611</td>\n",
              "      <td>-58.378062</td>\n",
              "      <td>112</td>\n",
              "      <td>6.0</td>\n",
              "      <td>ARGENTINA</td>\n",
              "      <td>1</td>\n",
              "      <td>52.0</td>\n",
              "    </tr>\n",
              "    <tr>\n",
              "      <th>3</th>\n",
              "      <td>891</td>\n",
              "      <td>17810</td>\n",
              "      <td>DNI-EB</td>\n",
              "      <td>1966.0</td>\n",
              "      <td>590</td>\n",
              "      <td>TEMPERLEY</td>\n",
              "      <td>1087</td>\n",
              "      <td>1</td>\n",
              "      <td>1</td>\n",
              "      <td>1</td>\n",
              "      <td>ESCUELA ESB N°5</td>\n",
              "      <td>-34.775912</td>\n",
              "      <td>-58.390526</td>\n",
              "      <td>129</td>\n",
              "      <td>7.0</td>\n",
              "      <td>ARGENTINA</td>\n",
              "      <td>1</td>\n",
              "      <td>55.0</td>\n",
              "    </tr>\n",
              "    <tr>\n",
              "      <th>4</th>\n",
              "      <td>1305</td>\n",
              "      <td>25645</td>\n",
              "      <td>DNI-EB</td>\n",
              "      <td>1976.0</td>\n",
              "      <td>590</td>\n",
              "      <td>TEMPERLEY</td>\n",
              "      <td>1060</td>\n",
              "      <td>1</td>\n",
              "      <td>1</td>\n",
              "      <td>1</td>\n",
              "      <td>COLEGIO TOMAS JEFFERSON (EP)</td>\n",
              "      <td>-34.775343</td>\n",
              "      <td>-58.369812</td>\n",
              "      <td>134</td>\n",
              "      <td>5.0</td>\n",
              "      <td>ARGENTINA</td>\n",
              "      <td>0</td>\n",
              "      <td>45.0</td>\n",
              "    </tr>\n",
              "  </tbody>\n",
              "</table>\n",
              "</div>\n",
              "      <button class=\"colab-df-convert\" onclick=\"convertToInteractive('df-e8baa61e-070b-42eb-94b8-e975a5928fe8')\"\n",
              "              title=\"Convert this dataframe to an interactive table.\"\n",
              "              style=\"display:none;\">\n",
              "        \n",
              "  <svg xmlns=\"http://www.w3.org/2000/svg\" height=\"24px\"viewBox=\"0 0 24 24\"\n",
              "       width=\"24px\">\n",
              "    <path d=\"M0 0h24v24H0V0z\" fill=\"none\"/>\n",
              "    <path d=\"M18.56 5.44l.94 2.06.94-2.06 2.06-.94-2.06-.94-.94-2.06-.94 2.06-2.06.94zm-11 1L8.5 8.5l.94-2.06 2.06-.94-2.06-.94L8.5 2.5l-.94 2.06-2.06.94zm10 10l.94 2.06.94-2.06 2.06-.94-2.06-.94-.94-2.06-.94 2.06-2.06.94z\"/><path d=\"M17.41 7.96l-1.37-1.37c-.4-.4-.92-.59-1.43-.59-.52 0-1.04.2-1.43.59L10.3 9.45l-7.72 7.72c-.78.78-.78 2.05 0 2.83L4 21.41c.39.39.9.59 1.41.59.51 0 1.02-.2 1.41-.59l7.78-7.78 2.81-2.81c.8-.78.8-2.07 0-2.86zM5.41 20L4 18.59l7.72-7.72 1.47 1.35L5.41 20z\"/>\n",
              "  </svg>\n",
              "      </button>\n",
              "      \n",
              "  <style>\n",
              "    .colab-df-container {\n",
              "      display:flex;\n",
              "      flex-wrap:wrap;\n",
              "      gap: 12px;\n",
              "    }\n",
              "\n",
              "    .colab-df-convert {\n",
              "      background-color: #E8F0FE;\n",
              "      border: none;\n",
              "      border-radius: 50%;\n",
              "      cursor: pointer;\n",
              "      display: none;\n",
              "      fill: #1967D2;\n",
              "      height: 32px;\n",
              "      padding: 0 0 0 0;\n",
              "      width: 32px;\n",
              "    }\n",
              "\n",
              "    .colab-df-convert:hover {\n",
              "      background-color: #E2EBFA;\n",
              "      box-shadow: 0px 1px 2px rgba(60, 64, 67, 0.3), 0px 1px 3px 1px rgba(60, 64, 67, 0.15);\n",
              "      fill: #174EA6;\n",
              "    }\n",
              "\n",
              "    [theme=dark] .colab-df-convert {\n",
              "      background-color: #3B4455;\n",
              "      fill: #D2E3FC;\n",
              "    }\n",
              "\n",
              "    [theme=dark] .colab-df-convert:hover {\n",
              "      background-color: #434B5C;\n",
              "      box-shadow: 0px 1px 3px 1px rgba(0, 0, 0, 0.15);\n",
              "      filter: drop-shadow(0px 1px 2px rgba(0, 0, 0, 0.3));\n",
              "      fill: #FFFFFF;\n",
              "    }\n",
              "  </style>\n",
              "\n",
              "      <script>\n",
              "        const buttonEl =\n",
              "          document.querySelector('#df-e8baa61e-070b-42eb-94b8-e975a5928fe8 button.colab-df-convert');\n",
              "        buttonEl.style.display =\n",
              "          google.colab.kernel.accessAllowed ? 'block' : 'none';\n",
              "\n",
              "        async function convertToInteractive(key) {\n",
              "          const element = document.querySelector('#df-e8baa61e-070b-42eb-94b8-e975a5928fe8');\n",
              "          const dataTable =\n",
              "            await google.colab.kernel.invokeFunction('convertToInteractive',\n",
              "                                                     [key], {});\n",
              "          if (!dataTable) return;\n",
              "\n",
              "          const docLinkHtml = 'Like what you see? Visit the ' +\n",
              "            '<a target=\"_blank\" href=https://colab.research.google.com/notebooks/data_table.ipynb>data table notebook</a>'\n",
              "            + ' to learn more about interactive tables.';\n",
              "          element.innerHTML = '';\n",
              "          dataTable['output_type'] = 'display_data';\n",
              "          await google.colab.output.renderOutput(dataTable, element);\n",
              "          const docLink = document.createElement('div');\n",
              "          docLink.innerHTML = docLinkHtml;\n",
              "          element.appendChild(docLink);\n",
              "        }\n",
              "      </script>\n",
              "    </div>\n",
              "  </div>\n",
              "  "
            ]
          },
          "metadata": {},
          "execution_count": 18
        }
      ],
      "source": [
        "#CREAR EDAD DESDE CLASE (2021-CLASE)\n",
        "df['EDAD']=2021-df['CLASE']\n",
        "df.head()"
      ]
    },
    {
      "cell_type": "code",
      "execution_count": null,
      "metadata": {
        "id": "XkXjpYrPU80Z"
      },
      "outputs": [],
      "source": [
        "###DESCARTAR ID, MATRICULA y TIPO DE EJEMPLAR QUE ESTA SOLO PARA NATIVOS.\n",
        "###DESCARTAMOS CLASE PORQUE CORRELACIONA PERFECTAMENTE CON EDAD\n",
        "###DESCARTAMOS CIRCOD PORQUE NO TIENE VARIABILIDAD (NO APORTA INFORMACIÓN)\n",
        "\n",
        "data=df[['EDAD', 'LOCALIDAD',\n",
        "       'MESA', 'VOTO_PASO', 'VOTO_GENERAL', 'NATIVOS', 'ESTABLECIMIENTO',\n",
        "       'LAT', 'LONG', 'DISTANCIA', 'ANTIGUEDAD', 'ORIGEN', 'SEXO_M']]"
      ]
    },
    {
      "cell_type": "code",
      "execution_count": null,
      "metadata": {
        "colab": {
          "base_uri": "https://localhost:8080/"
        },
        "id": "6Eu_K5Y7U80Z",
        "outputId": "5f0ed388-fcd9-4fbb-c178-85739c4bdfc1"
      },
      "outputs": [
        {
          "output_type": "execute_result",
          "data": {
            "text/plain": [
              "ARGENTINA                  2413\n",
              "DESCONOCIDO                 578\n",
              "ITALIA                      457\n",
              "PARAGUAY                    372\n",
              "ESPAÑA                      249\n",
              "BOLIVIA                     215\n",
              "URUGUAY                     164\n",
              "REPUBLICA POPULAR CHINA      91\n",
              "CHILE                        76\n",
              "PERU                         56\n",
              "OTRO                         30\n",
              "BRASIL                       26\n",
              "JAPON                        25\n",
              "YUGOSLAVIA                   11\n",
              "ESTADOS UNIDOS               11\n",
              "VENEZUELA                    10\n",
              "ALEMANIA                      9\n",
              "COLOMBIA                      9\n",
              "PORTUGAL                      9\n",
              "CUBA                          7\n",
              "POLONIA                       6\n",
              "FRANCIA                       5\n",
              "Name: ORIGEN, dtype: int64"
            ]
          },
          "metadata": {},
          "execution_count": 20
        }
      ],
      "source": [
        "###CREAR CATEGORIA OTROS QUE AGRUPA PAISES DE ORIGEN CON FRECUENCIA MENOR A 5\n",
        "data.ORIGEN.value_counts()\n",
        "counts = data['ORIGEN'].value_counts()\n",
        "idx = counts[counts.lt(5)].index\n",
        "\n",
        "data.loc[df['ORIGEN'].isin(idx), 'ORIGEN'] = 'OTRO'\n",
        "data.ORIGEN.value_counts()"
      ]
    },
    {
      "cell_type": "code",
      "execution_count": null,
      "metadata": {
        "colab": {
          "base_uri": "https://localhost:8080/"
        },
        "id": "IcWd2DCLU80a",
        "outputId": "e9c95331-365c-439b-8869-e43c152991ff"
      },
      "outputs": [
        {
          "output_type": "stream",
          "name": "stdout",
          "text": [
            "<class 'pandas.core.frame.DataFrame'>\n",
            "Int64Index: 4829 entries, 0 to 4840\n",
            "Data columns (total 13 columns):\n",
            " #   Column           Non-Null Count  Dtype  \n",
            "---  ------           --------------  -----  \n",
            " 0   EDAD             4829 non-null   float64\n",
            " 1   LOCALIDAD        4829 non-null   object \n",
            " 2   MESA             4829 non-null   int64  \n",
            " 3   VOTO_PASO        4829 non-null   int64  \n",
            " 4   VOTO_GENERAL     4829 non-null   int64  \n",
            " 5   NATIVOS          4829 non-null   int64  \n",
            " 6   ESTABLECIMIENTO  4829 non-null   object \n",
            " 7   LAT              4829 non-null   float64\n",
            " 8   LONG             4829 non-null   float64\n",
            " 9   DISTANCIA        4829 non-null   int64  \n",
            " 10  ANTIGUEDAD       4829 non-null   float64\n",
            " 11  ORIGEN           4829 non-null   object \n",
            " 12  SEXO_M           4829 non-null   uint8  \n",
            "dtypes: float64(4), int64(5), object(3), uint8(1)\n",
            "memory usage: 495.2+ KB\n"
          ]
        }
      ],
      "source": [
        "data.info()"
      ]
    },
    {
      "cell_type": "code",
      "execution_count": null,
      "metadata": {
        "colab": {
          "base_uri": "https://localhost:8080/",
          "height": 378
        },
        "id": "tnqUUzoOU80a",
        "outputId": "e6e0b5bb-1134-4f43-83fa-4ca073564757"
      },
      "outputs": [
        {
          "output_type": "stream",
          "name": "stderr",
          "text": [
            "/usr/local/lib/python3.10/dist-packages/seaborn/axisgrid.py:712: UserWarning: Using the boxplot function without specifying `order` is likely to produce an incorrect plot.\n",
            "  warnings.warn(warning)\n"
          ]
        },
        {
          "output_type": "display_data",
          "data": {
            "text/plain": [
              "<Figure size 600x300 with 2 Axes>"
            ],
            "image/png": "[encoded data removed]"
          },
          "metadata": {}
        }
      ],
      "source": [
        "###GRAFICOS NATIVOS EXTRANJEROS\n",
        "#DISTANCIA\n",
        "dfplot=df2[df2.DISTANCIA < np.percentile(df2.DISTANCIA,99)]\n",
        "import seaborn as sns, matplotlib.pyplot as plt\n",
        "\n",
        "g = sns.FacetGrid(dfplot,col='NATIVOS',col_wrap=2)\n",
        "#                                               change this to 4 ^\n",
        "g.map(sns.boxplot,'VOTO_GENERAL','DISTANCIA',palette='muted')\n",
        "for ax in g.axes.flatten(): \n",
        "    ax.tick_params(labelbottom=True)\n",
        "plt.tight_layout()\n",
        "plt.suptitle('ELECTORES EXTRANJEROS Y NATIVOS QUE VOTARON SEGUN DISTANCIA', y=1)\n",
        "plt.show()"
      ]
    },
    {
      "cell_type": "code",
      "execution_count": null,
      "metadata": {
        "colab": {
          "base_uri": "https://localhost:8080/",
          "height": 408
        },
        "id": "bFm1rirLU80a",
        "outputId": "0983a247-33b5-4928-aa70-8f5f4d30f5ae"
      },
      "outputs": [
        {
          "output_type": "stream",
          "name": "stderr",
          "text": [
            "/usr/local/lib/python3.10/dist-packages/seaborn/axisgrid.py:712: UserWarning: Using the boxplot function without specifying `order` is likely to produce an incorrect plot.\n",
            "  warnings.warn(warning)\n"
          ]
        },
        {
          "output_type": "display_data",
          "data": {
            "text/plain": [
              "<Figure size 600x300 with 2 Axes>"
            ],
            "image/png": "[encoded data removed]"
          },
          "metadata": {}
        }
      ],
      "source": [
        "###GRAFICOS NATIVOS EXTRANJEROS\n",
        "#EDAD\n",
        "dfplot=df #[df2.EDAD < np.percentile(df2.DISTANCIA,99)]\n",
        "import seaborn as sns, matplotlib.pyplot as plt\n",
        "\n",
        "g = sns.FacetGrid(dfplot,col='NATIVOS',col_wrap=2)\n",
        "#                                               change this to 4 ^\n",
        "g.map(sns.boxplot,'VOTO_GENERAL','EDAD',palette='muted')\n",
        "for ax in g.axes.flatten(): \n",
        "    ax.tick_params(labelbottom=True)\n",
        "plt.tight_layout()\n",
        "plt.suptitle('ELECTORES EXTRANJEROS Y NATIVOS QUE VOTARON SEGUN EDAD', y=1.1)\n",
        "plt.show()"
      ]
    },
    {
      "cell_type": "code",
      "execution_count": null,
      "metadata": {
        "colab": {
          "base_uri": "https://localhost:8080/"
        },
        "id": "LII4X06jU80a",
        "outputId": "ea12e40b-39b0-4125-d70e-099d20ef07cc"
      },
      "outputs": [
        {
          "output_type": "stream",
          "name": "stdout",
          "text": [
            "VOTO_GENERAL     0     1\n",
            "NATIVOS                 \n",
            "0             2046   370\n",
            "1              563  1850\n",
            "VOTO_GENERAL         0         1\n",
            "NATIVOS                         \n",
            "0             0.846854  0.153146\n",
            "1             0.233320  0.766680\n"
          ]
        }
      ],
      "source": [
        "# TABLE DE FRECUENCIA PARTICIPACION DE NATIVOS Y EXTRANJEROS\n",
        "cross_tab = pd.crosstab(index=df['NATIVOS'],\n",
        "                        columns=df['VOTO_GENERAL'])\n",
        "\n",
        "print(cross_tab)\n",
        "\n",
        "cross_tab_prop = pd.crosstab(index=df['NATIVOS'],\n",
        "                        columns=df['VOTO_GENERAL'],\n",
        "                             normalize=\"index\")\n",
        "\n",
        "print(cross_tab_prop)"
      ]
    },
    {
      "cell_type": "code",
      "execution_count": null,
      "metadata": {
        "colab": {
          "base_uri": "https://localhost:8080/",
          "height": 497
        },
        "id": "kIKhWGIDU80b",
        "outputId": "81fec71d-878a-44cf-c718-b7c733928f07"
      },
      "outputs": [
        {
          "output_type": "display_data",
          "data": {
            "text/plain": [
              "<Figure size 640x480 with 1 Axes>"
            ],
            "image/png": "[encoded data removed]"
          },
          "metadata": {}
        }
      ],
      "source": [
        "# CREAR GRAFICO DE BARRAS\n",
        "pl = cross_tab_prop.plot(kind=\"bar\", stacked=True, rot=0)\n",
        "pl.legend(title='VOTO GENERAL',bbox_to_anchor=(1, 1.02), loc='upper left')\n",
        "\n",
        "# AGREGAR ANOTACIONES\n",
        "\n",
        "for n, x in enumerate([*cross_tab.index.values]):\n",
        "    for (proportion, y_loc) in zip(cross_tab_prop.loc[x],\n",
        "                                   cross_tab_prop.loc[x].cumsum()):\n",
        "                \n",
        "        plt.text(x=n - 0.10,\n",
        "                 y=(y_loc - proportion) + (proportion / 2),\n",
        "                 s=f'{np.round(proportion * 100, 1)}%', \n",
        "                 color=\"black\",\n",
        "                 fontsize=12,\n",
        "                 fontweight=\"bold\")\n",
        "plt.subplots_adjust(top=.9)\n",
        "plt.suptitle('PROPORCION DE ELECTORES EXTRANJEROS Y NATIVOS QUE VOTARON EN LA ELECCION GENERAL')\n",
        "\n",
        "plt.show()"
      ]
    },
    {
      "cell_type": "code",
      "execution_count": null,
      "metadata": {
        "colab": {
          "base_uri": "https://localhost:8080/"
        },
        "id": "KizkrgWkU80b",
        "outputId": "55418d2b-b3c7-4c67-de7b-4f5a512bc171"
      },
      "outputs": [
        {
          "output_type": "stream",
          "name": "stderr",
          "text": [
            "<ipython-input-26-cb3f589c4228>:1: FutureWarning: The default value of numeric_only in DataFrame.corrwith is deprecated. In a future version, it will default to False. Select only valid columns or specify the value of numeric_only to silence this warning.\n",
            "  data.corrwith(data[\"VOTO_GENERAL\"])\n"
          ]
        },
        {
          "output_type": "execute_result",
          "data": {
            "text/plain": [
              "EDAD           -0.278129\n",
              "MESA           -0.615565\n",
              "VOTO_PASO       0.765882\n",
              "VOTO_GENERAL    1.000000\n",
              "NATIVOS         0.615535\n",
              "LAT            -0.090343\n",
              "LONG           -0.029713\n",
              "DISTANCIA      -0.105562\n",
              "ANTIGUEDAD     -0.230437\n",
              "SEXO_M          0.005117\n",
              "dtype: float64"
            ]
          },
          "metadata": {},
          "execution_count": 26
        }
      ],
      "source": [
        "data.corrwith(data[\"VOTO_GENERAL\"])"
      ]
    },
    {
      "cell_type": "code",
      "execution_count": null,
      "metadata": {
        "colab": {
          "base_uri": "https://localhost:8080/",
          "height": 776
        },
        "id": "mG2Ny4uVU80b",
        "outputId": "3d3ea3a0-6d76-4f6f-a278-eff7bd68e461"
      },
      "outputs": [
        {
          "output_type": "stream",
          "name": "stderr",
          "text": [
            "<ipython-input-27-65a7d610ebbe>:6: DeprecationWarning: `np.bool` is a deprecated alias for the builtin `bool`. To silence this warning, use `bool` by itself. Doing this will not modify any behavior and is safe. If you specifically wanted the numpy scalar type, use `np.bool_` here.\n",
            "Deprecated in NumPy 1.20; for more details and guidance: https://numpy.org/devdocs/release/1.20.0-notes.html#deprecations\n",
            "  mask = np.triu(np.ones_like(correlation, dtype=np.bool))\n"
          ]
        },
        {
          "output_type": "display_data",
          "data": {
            "text/plain": [
              "<Figure size 1400x700 with 2 Axes>"
            ],
            "image/png": "[encoded data removed]"
          },
          "metadata": {}
        }
      ],
      "source": [
        "###MATRIZ DE CORRELACION\n",
        "df_num= data.select_dtypes(include='number')\n",
        "\n",
        "correlation = df_num.corr().round(2)\n",
        "plt.figure(figsize = (14,7))\n",
        "mask = np.triu(np.ones_like(correlation, dtype=np.bool))\n",
        "sns.heatmap(correlation, mask=mask, annot = True, cmap = 'RdBu', vmin=-1, vmax=1)\n",
        "plt.show()\n",
        "\n",
        "###SE USA DF PORQUE ES LA VERSION CON DUMMIES"
      ]
    },
    {
      "cell_type": "code",
      "execution_count": null,
      "metadata": {
        "id": "ASKPU0F5U80b"
      },
      "outputs": [],
      "source": [
        "### QUITAMOS MESA PORQUE COMO HAY MESAS DE EXTRANJEROS Y MESAS DE NATIVOS CORRELACIONA COMPLETAMENTE CON NATIVOS\n",
        "data=data[['EDAD', 'LOCALIDAD', 'VOTO_PASO', 'VOTO_GENERAL', 'NATIVOS',\n",
        "       'ESTABLECIMIENTO', 'LAT', 'LONG', 'DISTANCIA', 'ANTIGUEDAD', 'ORIGEN',\n",
        "       'SEXO_M']]"
      ]
    },
    {
      "cell_type": "markdown",
      "metadata": {
        "id": "-EEVbw9oU80c"
      },
      "source": [
        "###SELECCION DE VARIABLES PREDICTORAS\n",
        "- EDAD\n",
        "- LOCALIDAD\n",
        "- NATIVOS\n",
        "- ESTABLECIMIENTO\n",
        "- LAT\n",
        "- LONG\n",
        "- DISTANCIA\n",
        "- ANTIGUEDAD\n",
        "- ORIGEN\n",
        "- SEXO_M\n",
        "- VOTO_PASO"
      ]
    },
    {
      "cell_type": "code",
      "execution_count": null,
      "metadata": {
        "id": "0KDHf5UGU80d"
      },
      "outputs": [],
      "source": [
        "###PREPARAR LOS DATOS\n",
        "\n",
        "#ARMAMOS DF TEMPORARIO\n",
        "\n",
        "df_tmp = df[['EDAD', 'ANTIGUEDAD', 'NATIVOS', 'LAT', 'LONG', 'DISTANCIA', 'SEXO_M', 'VOTO_GENERAL', 'VOTO_PASO']]"
      ]
    },
    {
      "cell_type": "code",
      "execution_count": null,
      "metadata": {
        "colab": {
          "base_uri": "https://localhost:8080/",
          "height": 749
        },
        "id": "7qx2-3GuU80d",
        "outputId": "33e463d3-6579-4bcd-fd20-6ae3d692ac5d"
      },
      "outputs": [
        {
          "output_type": "stream",
          "name": "stderr",
          "text": [
            "<ipython-input-30-c43bb67ed9dc>:9: SettingWithCopyWarning: \n",
            "A value is trying to be set on a copy of a slice from a DataFrame.\n",
            "Try using .loc[row_indexer,col_indexer] = value instead\n",
            "\n",
            "See the caveats in the documentation: https://pandas.pydata.org/pandas-docs/stable/user_guide/indexing.html#returning-a-view-versus-a-copy\n",
            "  df_enc['ORIGEN']= label_encoder.transform(df_enc['ORIGEN'])\n",
            "<ipython-input-30-c43bb67ed9dc>:12: SettingWithCopyWarning: \n",
            "A value is trying to be set on a copy of a slice from a DataFrame.\n",
            "Try using .loc[row_indexer,col_indexer] = value instead\n",
            "\n",
            "See the caveats in the documentation: https://pandas.pydata.org/pandas-docs/stable/user_guide/indexing.html#returning-a-view-versus-a-copy\n",
            "  df_enc['LOCALIDAD']= label_encoder.transform(df_enc['LOCALIDAD'])\n",
            "<ipython-input-30-c43bb67ed9dc>:15: SettingWithCopyWarning: \n",
            "A value is trying to be set on a copy of a slice from a DataFrame.\n",
            "Try using .loc[row_indexer,col_indexer] = value instead\n",
            "\n",
            "See the caveats in the documentation: https://pandas.pydata.org/pandas-docs/stable/user_guide/indexing.html#returning-a-view-versus-a-copy\n",
            "  df_enc['ESTABLECIMIENTO']= label_encoder.transform(df_enc['ESTABLECIMIENTO'])\n"
          ]
        },
        {
          "output_type": "execute_result",
          "data": {
            "text/plain": [
              "      ORIGEN  LOCALIDAD  ESTABLECIMIENTO\n",
              "0          1          3                9\n",
              "1          1          3                7\n",
              "2          1          3                7\n",
              "3          1          3               11\n",
              "4          1          3                1\n",
              "...      ...        ...              ...\n",
              "4836       7          0                5\n",
              "4837       7          3                5\n",
              "4838       7          3                5\n",
              "4839       7          0                5\n",
              "4840       7          3                5\n",
              "\n",
              "[4829 rows x 3 columns]"
            ],
            "text/html": [
              "\n",
              "  <div id=\"df-b7893e2e-014c-4921-a6fa-d6976eb28777\">\n",
              "    <div class=\"colab-df-container\">\n",
              "      <div>\n",
              "<style scoped>\n",
              "    .dataframe tbody tr th:only-of-type {\n",
              "        vertical-align: middle;\n",
              "    }\n",
              "\n",
              "    .dataframe tbody tr th {\n",
              "        vertical-align: top;\n",
              "    }\n",
              "\n",
              "    .dataframe thead th {\n",
              "        text-align: right;\n",
              "    }\n",
              "</style>\n",
              "<table border=\"1\" class=\"dataframe\">\n",
              "  <thead>\n",
              "    <tr style=\"text-align: right;\">\n",
              "      <th></th>\n",
              "      <th>ORIGEN</th>\n",
              "      <th>LOCALIDAD</th>\n",
              "      <th>ESTABLECIMIENTO</th>\n",
              "    </tr>\n",
              "  </thead>\n",
              "  <tbody>\n",
              "    <tr>\n",
              "      <th>0</th>\n",
              "      <td>1</td>\n",
              "      <td>3</td>\n",
              "      <td>9</td>\n",
              "    </tr>\n",
              "    <tr>\n",
              "      <th>1</th>\n",
              "      <td>1</td>\n",
              "      <td>3</td>\n",
              "      <td>7</td>\n",
              "    </tr>\n",
              "    <tr>\n",
              "      <th>2</th>\n",
              "      <td>1</td>\n",
              "      <td>3</td>\n",
              "      <td>7</td>\n",
              "    </tr>\n",
              "    <tr>\n",
              "      <th>3</th>\n",
              "      <td>1</td>\n",
              "      <td>3</td>\n",
              "      <td>11</td>\n",
              "    </tr>\n",
              "    <tr>\n",
              "      <th>4</th>\n",
              "      <td>1</td>\n",
              "      <td>3</td>\n",
              "      <td>1</td>\n",
              "    </tr>\n",
              "    <tr>\n",
              "      <th>...</th>\n",
              "      <td>...</td>\n",
              "      <td>...</td>\n",
              "      <td>...</td>\n",
              "    </tr>\n",
              "    <tr>\n",
              "      <th>4836</th>\n",
              "      <td>7</td>\n",
              "      <td>0</td>\n",
              "      <td>5</td>\n",
              "    </tr>\n",
              "    <tr>\n",
              "      <th>4837</th>\n",
              "      <td>7</td>\n",
              "      <td>3</td>\n",
              "      <td>5</td>\n",
              "    </tr>\n",
              "    <tr>\n",
              "      <th>4838</th>\n",
              "      <td>7</td>\n",
              "      <td>3</td>\n",
              "      <td>5</td>\n",
              "    </tr>\n",
              "    <tr>\n",
              "      <th>4839</th>\n",
              "      <td>7</td>\n",
              "      <td>0</td>\n",
              "      <td>5</td>\n",
              "    </tr>\n",
              "    <tr>\n",
              "      <th>4840</th>\n",
              "      <td>7</td>\n",
              "      <td>3</td>\n",
              "      <td>5</td>\n",
              "    </tr>\n",
              "  </tbody>\n",
              "</table>\n",
              "<p>4829 rows × 3 columns</p>\n",
              "</div>\n",
              "      <button class=\"colab-df-convert\" onclick=\"convertToInteractive('df-b7893e2e-014c-4921-a6fa-d6976eb28777')\"\n",
              "              title=\"Convert this dataframe to an interactive table.\"\n",
              "              style=\"display:none;\">\n",
              "        \n",
              "  <svg xmlns=\"http://www.w3.org/2000/svg\" height=\"24px\"viewBox=\"0 0 24 24\"\n",
              "       width=\"24px\">\n",
              "    <path d=\"M0 0h24v24H0V0z\" fill=\"none\"/>\n",
              "    <path d=\"M18.56 5.44l.94 2.06.94-2.06 2.06-.94-2.06-.94-.94-2.06-.94 2.06-2.06.94zm-11 1L8.5 8.5l.94-2.06 2.06-.94-2.06-.94L8.5 2.5l-.94 2.06-2.06.94zm10 10l.94 2.06.94-2.06 2.06-.94-2.06-.94-.94-2.06-.94 2.06-2.06.94z\"/><path d=\"M17.41 7.96l-1.37-1.37c-.4-.4-.92-.59-1.43-.59-.52 0-1.04.2-1.43.59L10.3 9.45l-7.72 7.72c-.78.78-.78 2.05 0 2.83L4 21.41c.39.39.9.59 1.41.59.51 0 1.02-.2 1.41-.59l7.78-7.78 2.81-2.81c.8-.78.8-2.07 0-2.86zM5.41 20L4 18.59l7.72-7.72 1.47 1.35L5.41 20z\"/>\n",
              "  </svg>\n",
              "      </button>\n",
              "      \n",
              "  <style>\n",
              "    .colab-df-container {\n",
              "      display:flex;\n",
              "      flex-wrap:wrap;\n",
              "      gap: 12px;\n",
              "    }\n",
              "\n",
              "    .colab-df-convert {\n",
              "      background-color: #E8F0FE;\n",
              "      border: none;\n",
              "      border-radius: 50%;\n",
              "      cursor: pointer;\n",
              "      display: none;\n",
              "      fill: #1967D2;\n",
              "      height: 32px;\n",
              "      padding: 0 0 0 0;\n",
              "      width: 32px;\n",
              "    }\n",
              "\n",
              "    .colab-df-convert:hover {\n",
              "      background-color: #E2EBFA;\n",
              "      box-shadow: 0px 1px 2px rgba(60, 64, 67, 0.3), 0px 1px 3px 1px rgba(60, 64, 67, 0.15);\n",
              "      fill: #174EA6;\n",
              "    }\n",
              "\n",
              "    [theme=dark] .colab-df-convert {\n",
              "      background-color: #3B4455;\n",
              "      fill: #D2E3FC;\n",
              "    }\n",
              "\n",
              "    [theme=dark] .colab-df-convert:hover {\n",
              "      background-color: #434B5C;\n",
              "      box-shadow: 0px 1px 3px 1px rgba(0, 0, 0, 0.15);\n",
              "      filter: drop-shadow(0px 1px 2px rgba(0, 0, 0, 0.3));\n",
              "      fill: #FFFFFF;\n",
              "    }\n",
              "  </style>\n",
              "\n",
              "      <script>\n",
              "        const buttonEl =\n",
              "          document.querySelector('#df-b7893e2e-014c-4921-a6fa-d6976eb28777 button.colab-df-convert');\n",
              "        buttonEl.style.display =\n",
              "          google.colab.kernel.accessAllowed ? 'block' : 'none';\n",
              "\n",
              "        async function convertToInteractive(key) {\n",
              "          const element = document.querySelector('#df-b7893e2e-014c-4921-a6fa-d6976eb28777');\n",
              "          const dataTable =\n",
              "            await google.colab.kernel.invokeFunction('convertToInteractive',\n",
              "                                                     [key], {});\n",
              "          if (!dataTable) return;\n",
              "\n",
              "          const docLinkHtml = 'Like what you see? Visit the ' +\n",
              "            '<a target=\"_blank\" href=https://colab.research.google.com/notebooks/data_table.ipynb>data table notebook</a>'\n",
              "            + ' to learn more about interactive tables.';\n",
              "          element.innerHTML = '';\n",
              "          dataTable['output_type'] = 'display_data';\n",
              "          await google.colab.output.renderOutput(dataTable, element);\n",
              "          const docLink = document.createElement('div');\n",
              "          docLink.innerHTML = docLinkHtml;\n",
              "          element.appendChild(docLink);\n",
              "        }\n",
              "      </script>\n",
              "    </div>\n",
              "  </div>\n",
              "  "
            ]
          },
          "metadata": {},
          "execution_count": 30
        }
      ],
      "source": [
        "###LABEL ENCODING\n",
        "\n",
        "# Creamos un LabelEncoder\n",
        "label_encoder = LabelEncoder()\n",
        "\n",
        "df_enc = data[['ORIGEN', 'LOCALIDAD', 'ESTABLECIMIENTO']]\n",
        "\n",
        "label_encoder.fit(df_enc['ORIGEN'].unique())\n",
        "df_enc['ORIGEN']= label_encoder.transform(df_enc['ORIGEN'])\n",
        "\n",
        "label_encoder.fit(df_enc['LOCALIDAD'].unique())\n",
        "df_enc['LOCALIDAD']= label_encoder.transform(df_enc['LOCALIDAD'])\n",
        "\n",
        "label_encoder.fit(df_enc['ESTABLECIMIENTO'].unique())\n",
        "df_enc['ESTABLECIMIENTO']= label_encoder.transform(df_enc['ESTABLECIMIENTO'])\n",
        "\n",
        "df_enc\n"
      ]
    },
    {
      "cell_type": "code",
      "execution_count": null,
      "metadata": {
        "colab": {
          "base_uri": "https://localhost:8080/",
          "height": 423
        },
        "id": "kio0HYLmU80e",
        "outputId": "8c29d2ab-8888-4e91-f7fc-87ac138ea930"
      },
      "outputs": [
        {
          "output_type": "execute_result",
          "data": {
            "text/plain": [
              "      ORIGEN  LOCALIDAD  ESTABLECIMIENTO  EDAD  ANTIGUEDAD  NATIVOS  \\\n",
              "0          1          3                9  47.0         5.0        1   \n",
              "1          1          3                7  55.0         7.0        1   \n",
              "2          1          3                7  52.0         6.0        1   \n",
              "3          1          3               11  55.0         7.0        1   \n",
              "4          1          3                1  45.0         5.0        1   \n",
              "...      ...        ...              ...   ...         ...      ...   \n",
              "4836       7          0                5  59.0         5.0        0   \n",
              "4837       7          3                5  57.0         4.0        0   \n",
              "4838       7          3                5  59.0         4.0        0   \n",
              "4839       7          0                5  71.0         4.0        0   \n",
              "4840       7          3                5  34.0         4.0        0   \n",
              "\n",
              "            LAT       LONG  DISTANCIA  SEXO_M  VOTO_GENERAL  VOTO_PASO  \n",
              "0    -34.768411 -58.385937        111       0             1          1  \n",
              "1    -34.766611 -58.378062        112       0             1          1  \n",
              "2    -34.766611 -58.378062        112       1             1          1  \n",
              "3    -34.775912 -58.390526        129       1             1          1  \n",
              "4    -34.775343 -58.369812        134       0             1          1  \n",
              "...         ...        ...        ...     ...           ...        ...  \n",
              "4836 -34.756194 -58.343212       6900       0             0          0  \n",
              "4837 -34.774627 -58.395618       2031       0             0          0  \n",
              "4838 -34.769012 -58.383237       2543       1             0          0  \n",
              "4839 -34.761068 -58.429852       3845       1             0          0  \n",
              "4840 -34.780015 -58.410531       1776       1             0          0  \n",
              "\n",
              "[4829 rows x 12 columns]"
            ],
            "text/html": [
              "\n",
              "  <div id=\"df-b4a39d61-87e4-46d9-9eb8-57036c167b27\">\n",
              "    <div class=\"colab-df-container\">\n",
              "      <div>\n",
              "<style scoped>\n",
              "    .dataframe tbody tr th:only-of-type {\n",
              "        vertical-align: middle;\n",
              "    }\n",
              "\n",
              "    .dataframe tbody tr th {\n",
              "        vertical-align: top;\n",
              "    }\n",
              "\n",
              "    .dataframe thead th {\n",
              "        text-align: right;\n",
              "    }\n",
              "</style>\n",
              "<table border=\"1\" class=\"dataframe\">\n",
              "  <thead>\n",
              "    <tr style=\"text-align: right;\">\n",
              "      <th></th>\n",
              "      <th>ORIGEN</th>\n",
              "      <th>LOCALIDAD</th>\n",
              "      <th>ESTABLECIMIENTO</th>\n",
              "      <th>EDAD</th>\n",
              "      <th>ANTIGUEDAD</th>\n",
              "      <th>NATIVOS</th>\n",
              "      <th>LAT</th>\n",
              "      <th>LONG</th>\n",
              "      <th>DISTANCIA</th>\n",
              "      <th>SEXO_M</th>\n",
              "      <th>VOTO_GENERAL</th>\n",
              "      <th>VOTO_PASO</th>\n",
              "    </tr>\n",
              "  </thead>\n",
              "  <tbody>\n",
              "    <tr>\n",
              "      <th>0</th>\n",
              "      <td>1</td>\n",
              "      <td>3</td>\n",
              "      <td>9</td>\n",
              "      <td>47.0</td>\n",
              "      <td>5.0</td>\n",
              "      <td>1</td>\n",
              "      <td>-34.768411</td>\n",
              "      <td>-58.385937</td>\n",
              "      <td>111</td>\n",
              "      <td>0</td>\n",
              "      <td>1</td>\n",
              "      <td>1</td>\n",
              "    </tr>\n",
              "    <tr>\n",
              "      <th>1</th>\n",
              "      <td>1</td>\n",
              "      <td>3</td>\n",
              "      <td>7</td>\n",
              "      <td>55.0</td>\n",
              "      <td>7.0</td>\n",
              "      <td>1</td>\n",
              "      <td>-34.766611</td>\n",
              "      <td>-58.378062</td>\n",
              "      <td>112</td>\n",
              "      <td>0</td>\n",
              "      <td>1</td>\n",
              "      <td>1</td>\n",
              "    </tr>\n",
              "    <tr>\n",
              "      <th>2</th>\n",
              "      <td>1</td>\n",
              "      <td>3</td>\n",
              "      <td>7</td>\n",
              "      <td>52.0</td>\n",
              "      <td>6.0</td>\n",
              "      <td>1</td>\n",
              "      <td>-34.766611</td>\n",
              "      <td>-58.378062</td>\n",
              "      <td>112</td>\n",
              "      <td>1</td>\n",
              "      <td>1</td>\n",
              "      <td>1</td>\n",
              "    </tr>\n",
              "    <tr>\n",
              "      <th>3</th>\n",
              "      <td>1</td>\n",
              "      <td>3</td>\n",
              "      <td>11</td>\n",
              "      <td>55.0</td>\n",
              "      <td>7.0</td>\n",
              "      <td>1</td>\n",
              "      <td>-34.775912</td>\n",
              "      <td>-58.390526</td>\n",
              "      <td>129</td>\n",
              "      <td>1</td>\n",
              "      <td>1</td>\n",
              "      <td>1</td>\n",
              "    </tr>\n",
              "    <tr>\n",
              "      <th>4</th>\n",
              "      <td>1</td>\n",
              "      <td>3</td>\n",
              "      <td>1</td>\n",
              "      <td>45.0</td>\n",
              "      <td>5.0</td>\n",
              "      <td>1</td>\n",
              "      <td>-34.775343</td>\n",
              "      <td>-58.369812</td>\n",
              "      <td>134</td>\n",
              "      <td>0</td>\n",
              "      <td>1</td>\n",
              "      <td>1</td>\n",
              "    </tr>\n",
              "    <tr>\n",
              "      <th>...</th>\n",
              "      <td>...</td>\n",
              "      <td>...</td>\n",
              "      <td>...</td>\n",
              "      <td>...</td>\n",
              "      <td>...</td>\n",
              "      <td>...</td>\n",
              "      <td>...</td>\n",
              "      <td>...</td>\n",
              "      <td>...</td>\n",
              "      <td>...</td>\n",
              "      <td>...</td>\n",
              "      <td>...</td>\n",
              "    </tr>\n",
              "    <tr>\n",
              "      <th>4836</th>\n",
              "      <td>7</td>\n",
              "      <td>0</td>\n",
              "      <td>5</td>\n",
              "      <td>59.0</td>\n",
              "      <td>5.0</td>\n",
              "      <td>0</td>\n",
              "      <td>-34.756194</td>\n",
              "      <td>-58.343212</td>\n",
              "      <td>6900</td>\n",
              "      <td>0</td>\n",
              "      <td>0</td>\n",
              "      <td>0</td>\n",
              "    </tr>\n",
              "    <tr>\n",
              "      <th>4837</th>\n",
              "      <td>7</td>\n",
              "      <td>3</td>\n",
              "      <td>5</td>\n",
              "      <td>57.0</td>\n",
              "      <td>4.0</td>\n",
              "      <td>0</td>\n",
              "      <td>-34.774627</td>\n",
              "      <td>-58.395618</td>\n",
              "      <td>2031</td>\n",
              "      <td>0</td>\n",
              "      <td>0</td>\n",
              "      <td>0</td>\n",
              "    </tr>\n",
              "    <tr>\n",
              "      <th>4838</th>\n",
              "      <td>7</td>\n",
              "      <td>3</td>\n",
              "      <td>5</td>\n",
              "      <td>59.0</td>\n",
              "      <td>4.0</td>\n",
              "      <td>0</td>\n",
              "      <td>-34.769012</td>\n",
              "      <td>-58.383237</td>\n",
              "      <td>2543</td>\n",
              "      <td>1</td>\n",
              "      <td>0</td>\n",
              "      <td>0</td>\n",
              "    </tr>\n",
              "    <tr>\n",
              "      <th>4839</th>\n",
              "      <td>7</td>\n",
              "      <td>0</td>\n",
              "      <td>5</td>\n",
              "      <td>71.0</td>\n",
              "      <td>4.0</td>\n",
              "      <td>0</td>\n",
              "      <td>-34.761068</td>\n",
              "      <td>-58.429852</td>\n",
              "      <td>3845</td>\n",
              "      <td>1</td>\n",
              "      <td>0</td>\n",
              "      <td>0</td>\n",
              "    </tr>\n",
              "    <tr>\n",
              "      <th>4840</th>\n",
              "      <td>7</td>\n",
              "      <td>3</td>\n",
              "      <td>5</td>\n",
              "      <td>34.0</td>\n",
              "      <td>4.0</td>\n",
              "      <td>0</td>\n",
              "      <td>-34.780015</td>\n",
              "      <td>-58.410531</td>\n",
              "      <td>1776</td>\n",
              "      <td>1</td>\n",
              "      <td>0</td>\n",
              "      <td>0</td>\n",
              "    </tr>\n",
              "  </tbody>\n",
              "</table>\n",
              "<p>4829 rows × 12 columns</p>\n",
              "</div>\n",
              "      <button class=\"colab-df-convert\" onclick=\"convertToInteractive('df-b4a39d61-87e4-46d9-9eb8-57036c167b27')\"\n",
              "              title=\"Convert this dataframe to an interactive table.\"\n",
              "              style=\"display:none;\">\n",
              "        \n",
              "  <svg xmlns=\"http://www.w3.org/2000/svg\" height=\"24px\"viewBox=\"0 0 24 24\"\n",
              "       width=\"24px\">\n",
              "    <path d=\"M0 0h24v24H0V0z\" fill=\"none\"/>\n",
              "    <path d=\"M18.56 5.44l.94 2.06.94-2.06 2.06-.94-2.06-.94-.94-2.06-.94 2.06-2.06.94zm-11 1L8.5 8.5l.94-2.06 2.06-.94-2.06-.94L8.5 2.5l-.94 2.06-2.06.94zm10 10l.94 2.06.94-2.06 2.06-.94-2.06-.94-.94-2.06-.94 2.06-2.06.94z\"/><path d=\"M17.41 7.96l-1.37-1.37c-.4-.4-.92-.59-1.43-.59-.52 0-1.04.2-1.43.59L10.3 9.45l-7.72 7.72c-.78.78-.78 2.05 0 2.83L4 21.41c.39.39.9.59 1.41.59.51 0 1.02-.2 1.41-.59l7.78-7.78 2.81-2.81c.8-.78.8-2.07 0-2.86zM5.41 20L4 18.59l7.72-7.72 1.47 1.35L5.41 20z\"/>\n",
              "  </svg>\n",
              "      </button>\n",
              "      \n",
              "  <style>\n",
              "    .colab-df-container {\n",
              "      display:flex;\n",
              "      flex-wrap:wrap;\n",
              "      gap: 12px;\n",
              "    }\n",
              "\n",
              "    .colab-df-convert {\n",
              "      background-color: #E8F0FE;\n",
              "      border: none;\n",
              "      border-radius: 50%;\n",
              "      cursor: pointer;\n",
              "      display: none;\n",
              "      fill: #1967D2;\n",
              "      height: 32px;\n",
              "      padding: 0 0 0 0;\n",
              "      width: 32px;\n",
              "    }\n",
              "\n",
              "    .colab-df-convert:hover {\n",
              "      background-color: #E2EBFA;\n",
              "      box-shadow: 0px 1px 2px rgba(60, 64, 67, 0.3), 0px 1px 3px 1px rgba(60, 64, 67, 0.15);\n",
              "      fill: #174EA6;\n",
              "    }\n",
              "\n",
              "    [theme=dark] .colab-df-convert {\n",
              "      background-color: #3B4455;\n",
              "      fill: #D2E3FC;\n",
              "    }\n",
              "\n",
              "    [theme=dark] .colab-df-convert:hover {\n",
              "      background-color: #434B5C;\n",
              "      box-shadow: 0px 1px 3px 1px rgba(0, 0, 0, 0.15);\n",
              "      filter: drop-shadow(0px 1px 2px rgba(0, 0, 0, 0.3));\n",
              "      fill: #FFFFFF;\n",
              "    }\n",
              "  </style>\n",
              "\n",
              "      <script>\n",
              "        const buttonEl =\n",
              "          document.querySelector('#df-b4a39d61-87e4-46d9-9eb8-57036c167b27 button.colab-df-convert');\n",
              "        buttonEl.style.display =\n",
              "          google.colab.kernel.accessAllowed ? 'block' : 'none';\n",
              "\n",
              "        async function convertToInteractive(key) {\n",
              "          const element = document.querySelector('#df-b4a39d61-87e4-46d9-9eb8-57036c167b27');\n",
              "          const dataTable =\n",
              "            await google.colab.kernel.invokeFunction('convertToInteractive',\n",
              "                                                     [key], {});\n",
              "          if (!dataTable) return;\n",
              "\n",
              "          const docLinkHtml = 'Like what you see? Visit the ' +\n",
              "            '<a target=\"_blank\" href=https://colab.research.google.com/notebooks/data_table.ipynb>data table notebook</a>'\n",
              "            + ' to learn more about interactive tables.';\n",
              "          element.innerHTML = '';\n",
              "          dataTable['output_type'] = 'display_data';\n",
              "          await google.colab.output.renderOutput(dataTable, element);\n",
              "          const docLink = document.createElement('div');\n",
              "          docLink.innerHTML = docLinkHtml;\n",
              "          element.appendChild(docLink);\n",
              "        }\n",
              "      </script>\n",
              "    </div>\n",
              "  </div>\n",
              "  "
            ]
          },
          "metadata": {},
          "execution_count": 31
        }
      ],
      "source": [
        "###UNIMOS DFTEMPORARIO CON LAS CATEGORICAS TRANSFORMADAS CON LABEL ENCODING\n",
        "df_cp = pd.concat([df_enc, \n",
        "                     df_tmp\n",
        "                     ], axis = 1)\n",
        "df_cp"
      ]
    },
    {
      "cell_type": "code",
      "execution_count": null,
      "metadata": {
        "colab": {
          "base_uri": "https://localhost:8080/"
        },
        "id": "t0CpsvljU80e",
        "outputId": "50ae6ac1-4add-4c14-9f10-f01166122559"
      },
      "outputs": [
        {
          "output_type": "stream",
          "name": "stdout",
          "text": [
            "<class 'pandas.core.frame.DataFrame'>\n",
            "Int64Index: 4829 entries, 0 to 4840\n",
            "Data columns (total 12 columns):\n",
            " #   Column           Non-Null Count  Dtype  \n",
            "---  ------           --------------  -----  \n",
            " 0   ORIGEN           4829 non-null   int64  \n",
            " 1   LOCALIDAD        4829 non-null   int64  \n",
            " 2   ESTABLECIMIENTO  4829 non-null   int64  \n",
            " 3   EDAD             4829 non-null   float64\n",
            " 4   ANTIGUEDAD       4829 non-null   float64\n",
            " 5   NATIVOS          4829 non-null   int64  \n",
            " 6   LAT              4829 non-null   float64\n",
            " 7   LONG             4829 non-null   float64\n",
            " 8   DISTANCIA        4829 non-null   int64  \n",
            " 9   SEXO_M           4829 non-null   uint8  \n",
            " 10  VOTO_GENERAL     4829 non-null   int64  \n",
            " 11  VOTO_PASO        4829 non-null   int64  \n",
            "dtypes: float64(4), int64(7), uint8(1)\n",
            "memory usage: 457.4 KB\n"
          ]
        }
      ],
      "source": [
        "###CHEQUEAMOS QUE TODAS SEAN ENTEROS\n",
        "df_cp.info()\n"
      ]
    },
    {
      "cell_type": "code",
      "execution_count": null,
      "metadata": {
        "colab": {
          "base_uri": "https://localhost:8080/"
        },
        "id": "xa-tlkHXU80e",
        "outputId": "b402c7b3-f520-4e04-c36a-1b4f1bf9ccf0"
      },
      "outputs": [
        {
          "output_type": "execute_result",
          "data": {
            "text/plain": [
              "dtype('int64')"
            ]
          },
          "metadata": {},
          "execution_count": 33
        }
      ],
      "source": [
        "#Se transforma valor a Entero\n",
        "\n",
        "df_cp['SEXO_M'] = df_cp['SEXO_M'].astype('int64')\n",
        "\n",
        "df_cp['SEXO_M'].dtype"
      ]
    },
    {
      "cell_type": "code",
      "execution_count": null,
      "metadata": {
        "colab": {
          "base_uri": "https://localhost:8080/"
        },
        "id": "uPL5tOamU80e",
        "outputId": "a8e86630-ef34-4fd8-ea5b-6718d7efd748"
      },
      "outputs": [
        {
          "output_type": "execute_result",
          "data": {
            "text/plain": [
              "dtype('int64')"
            ]
          },
          "metadata": {},
          "execution_count": 34
        }
      ],
      "source": [
        "#Se transforma valor a Entero\n",
        "\n",
        "df_cp['EDAD'] = df_cp['EDAD'].astype('int64')\n",
        "\n",
        "df_cp['EDAD'].dtype"
      ]
    },
    {
      "cell_type": "code",
      "execution_count": null,
      "metadata": {
        "colab": {
          "base_uri": "https://localhost:8080/"
        },
        "id": "uUY88OeJU80e",
        "outputId": "93945bea-3b21-4576-c9e3-ede7cdc761ea"
      },
      "outputs": [
        {
          "output_type": "execute_result",
          "data": {
            "text/plain": [
              "dtype('int64')"
            ]
          },
          "metadata": {},
          "execution_count": 35
        }
      ],
      "source": [
        "#Se transforma valor a Entero\n",
        "\n",
        "df_cp['ANTIGUEDAD'] = df_cp['ANTIGUEDAD'].astype('int64')\n",
        "\n",
        "df_cp['ANTIGUEDAD'].dtype"
      ]
    },
    {
      "cell_type": "code",
      "execution_count": null,
      "metadata": {
        "id": "VuwjfYVrU80e"
      },
      "outputs": [],
      "source": [
        "###GUARDAR DF PARA TRABAJAR\n",
        "df_cp.to_csv('data2vf.csv', index=False)"
      ]
    },
    {
      "cell_type": "code",
      "execution_count": null,
      "metadata": {
        "colab": {
          "base_uri": "https://localhost:8080/"
        },
        "id": "pgeEsJRtU80e",
        "outputId": "0028b994-8766-485b-a754-f133105f0224"
      },
      "outputs": [
        {
          "output_type": "stream",
          "name": "stdout",
          "text": [
            "(4829, 10)\n",
            "(4829,)\n"
          ]
        }
      ],
      "source": [
        "### ARBOL SIMPLE SIN PARTICIPACIÓN EN PRIMARIAS\n",
        "X = df_cp.drop(['VOTO_GENERAL', \"VOTO_PASO\"], axis=1)\n",
        "print(X.shape)\n",
        "\n",
        "y = df_cp.VOTO_GENERAL\n",
        "\n",
        "print(y.shape)\n",
        "\n",
        "X_train, X_test, y_train, y_test = train_test_split(X, y,random_state = 28, stratify= y, test_size= 0.30)"
      ]
    },
    {
      "cell_type": "code",
      "execution_count": null,
      "metadata": {
        "id": "KHQTZILFU80e"
      },
      "outputs": [],
      "source": [
        "scaler = StandardScaler()\n",
        "X_train_scl = scaler.fit_transform(X_train)\n",
        "X_test_scl = scaler.transform(X_test)"
      ]
    },
    {
      "cell_type": "code",
      "execution_count": null,
      "metadata": {
        "colab": {
          "base_uri": "https://localhost:8080/"
        },
        "id": "LxY_1D4kU80e",
        "outputId": "76145162-1734-43aa-91f0-c3ebb954a9ef"
      },
      "outputs": [
        {
          "output_type": "execute_result",
          "data": {
            "text/plain": [
              "4365    1\n",
              "3827    0\n",
              "4102    1\n",
              "1855    1\n",
              "2352    1\n",
              "       ..\n",
              "4572    0\n",
              "1350    1\n",
              "110     0\n",
              "665     1\n",
              "1064    1\n",
              "Name: VOTO_GENERAL, Length: 3380, dtype: int64"
            ]
          },
          "metadata": {},
          "execution_count": 40
        }
      ],
      "source": [
        "y_train"
      ]
    },
    {
      "cell_type": "code",
      "execution_count": null,
      "metadata": {
        "id": "oNSGyU8zU80f"
      },
      "outputs": [],
      "source": [
        "import sklearn.tree\n",
        "import pandas as pd\n",
        "from sklearn.tree import DecisionTreeClassifier\n",
        "model_as = DecisionTreeClassifier(criterion='gini')\n",
        "fit_as = model_as.fit(X_train_scl, y_train)"
      ]
    },
    {
      "cell_type": "code",
      "execution_count": null,
      "metadata": {
        "colab": {
          "base_uri": "https://localhost:8080/"
        },
        "id": "56S5tzGGU80f",
        "outputId": "a90718c1-b062-4594-d576-5e86c2ed09aa"
      },
      "outputs": [
        {
          "output_type": "stream",
          "name": "stdout",
          "text": [
            "0.6970324361628709\n",
            "[[575 208]\n",
            " [231 435]]\n"
          ]
        }
      ],
      "source": [
        "predict_class = fit_as.predict(X_test_scl)\n",
        "accuracy_class = accuracy_score(y_test, predict_class)\n",
        "print(accuracy_class)\n",
        "\n",
        "conf_class = confusion_matrix(y_test, predict_class)\n",
        "print(conf_class)"
      ]
    },
    {
      "cell_type": "code",
      "execution_count": null,
      "metadata": {
        "colab": {
          "base_uri": "https://localhost:8080/"
        },
        "id": "kt_PDCrTU80f",
        "outputId": "73fa108b-a5d4-4ee8-ea36-6860c2d5d543"
      },
      "outputs": [
        {
          "output_type": "stream",
          "name": "stdout",
          "text": [
            "TP:  435  TN:  575  FP:  208  FN:  231\n"
          ]
        }
      ],
      "source": [
        "TP = conf_class[1, 1]; TN = conf_class[0, 0] ; FP = conf_class[0, 1] ; FN = conf_class[1, 0]\n",
        "print('TP: ', TP,' TN: ', TN,' FP: ',FP,' FN: ',FN )"
      ]
    },
    {
      "cell_type": "code",
      "source": [
        "# MATRIZ DE CONFUSION\n",
        "#CREAR FIGURA\n",
        "fig, ax = plt.subplots(figsize=(8, 6))\n",
        "\n",
        "# CREAR NATRIZ DE CONFUSION CON HEATMAP\n",
        "sns.heatmap(confusion_matrix(y_test, predict_class), annot=True, fmt='.0f', ax=ax)\n",
        "\n",
        "# ETIQUETAS DE EJES\n",
        "plt.ylabel('Reales')\n",
        "plt.xlabel('Predicciones')"
      ],
      "metadata": {
        "colab": {
          "base_uri": "https://localhost:8080/",
          "height": 560
        },
        "id": "XminDxoMNMy-",
        "outputId": "59a3dd88-82db-42dc-f52d-2e65574b75a1"
      },
      "execution_count": null,
      "outputs": [
        {
          "output_type": "execute_result",
          "data": {
            "text/plain": [
              "Text(0.5, 36.72222222222221, 'Predicciones')"
            ]
          },
          "metadata": {},
          "execution_count": 43
        },
        {
          "output_type": "display_data",
          "data": {
            "text/plain": [
              "<Figure size 800x600 with 2 Axes>"
            ],
            "image/png": "[encoded data removed]"
          },
          "metadata": {}
        }
      ]
    },
    {
      "cell_type": "code",
      "execution_count": null,
      "metadata": {
        "colab": {
          "base_uri": "https://localhost:8080/"
        },
        "id": "a46eCH98U80f",
        "outputId": "bcd14c2f-d871-4350-ce89-bad424c80806"
      },
      "outputs": [
        {
          "output_type": "execute_result",
          "data": {
            "text/plain": [
              "0.677570093457944"
            ]
          },
          "metadata": {},
          "execution_count": 44
        }
      ],
      "source": [
        "from sklearn.metrics import precision_score\n",
        "precision_score(y_true=y_test, y_pred=predict_class)"
      ]
    },
    {
      "cell_type": "code",
      "execution_count": null,
      "metadata": {
        "colab": {
          "base_uri": "https://localhost:8080/"
        },
        "id": "4dOqQvtXU80f",
        "outputId": "bd0f7c69-8ee5-4065-ecaa-21edc68d3e86"
      },
      "outputs": [
        {
          "output_type": "execute_result",
          "data": {
            "text/plain": [
              "0.6531531531531531"
            ]
          },
          "metadata": {},
          "execution_count": 45
        }
      ],
      "source": [
        "from sklearn.metrics import recall_score\n",
        "recall_score(y_true=y_test, y_pred=predict_class)"
      ]
    },
    {
      "cell_type": "code",
      "execution_count": null,
      "metadata": {
        "colab": {
          "base_uri": "https://localhost:8080/"
        },
        "id": "3VOwZVpmU80f",
        "outputId": "5c94166d-0af0-422d-9bd9-ae078cb314a7"
      },
      "outputs": [
        {
          "output_type": "execute_result",
          "data": {
            "text/plain": [
              "0.665137614678899"
            ]
          },
          "metadata": {},
          "execution_count": 46
        }
      ],
      "source": [
        "from sklearn.metrics import f1_score\n",
        "f1_score(y_true=y_test, y_pred=predict_class)"
      ]
    },
    {
      "cell_type": "code",
      "source": [
        "#Specificidad\n",
        "TN / (TN + FP)"
      ],
      "metadata": {
        "colab": {
          "base_uri": "https://localhost:8080/"
        },
        "id": "u_doocFQrA05",
        "outputId": "e8d187a3-6151-498b-d60b-d69cbd7592e5"
      },
      "execution_count": null,
      "outputs": [
        {
          "output_type": "execute_result",
          "data": {
            "text/plain": [
              "0.735632183908046"
            ]
          },
          "metadata": {},
          "execution_count": 89
        }
      ]
    },
    {
      "cell_type": "code",
      "execution_count": null,
      "metadata": {
        "colab": {
          "base_uri": "https://localhost:8080/",
          "height": 362
        },
        "id": "df0Cm-3KU80f",
        "outputId": "73a5a340-5ab5-4a7f-d42b-aaed986484fa"
      },
      "outputs": [
        {
          "output_type": "execute_result",
          "data": {
            "text/plain": [
              "          atributo  importancia\n",
              "5          NATIVOS     0.367232\n",
              "3             EDAD     0.169258\n",
              "6              LAT     0.127033\n",
              "7             LONG     0.119777\n",
              "8        DISTANCIA     0.111192\n",
              "2  ESTABLECIMIENTO     0.037695\n",
              "9           SEXO_M     0.027283\n",
              "0           ORIGEN     0.022241\n",
              "4       ANTIGUEDAD     0.017876\n",
              "1        LOCALIDAD     0.000414"
            ],
            "text/html": [
              "\n",
              "  <div id=\"df-756a845a-eff7-46eb-8b35-b8d0fc1efeac\">\n",
              "    <div class=\"colab-df-container\">\n",
              "      <div>\n",
              "<style scoped>\n",
              "    .dataframe tbody tr th:only-of-type {\n",
              "        vertical-align: middle;\n",
              "    }\n",
              "\n",
              "    .dataframe tbody tr th {\n",
              "        vertical-align: top;\n",
              "    }\n",
              "\n",
              "    .dataframe thead th {\n",
              "        text-align: right;\n",
              "    }\n",
              "</style>\n",
              "<table border=\"1\" class=\"dataframe\">\n",
              "  <thead>\n",
              "    <tr style=\"text-align: right;\">\n",
              "      <th></th>\n",
              "      <th>atributo</th>\n",
              "      <th>importancia</th>\n",
              "    </tr>\n",
              "  </thead>\n",
              "  <tbody>\n",
              "    <tr>\n",
              "      <th>5</th>\n",
              "      <td>NATIVOS</td>\n",
              "      <td>0.367232</td>\n",
              "    </tr>\n",
              "    <tr>\n",
              "      <th>3</th>\n",
              "      <td>EDAD</td>\n",
              "      <td>0.169258</td>\n",
              "    </tr>\n",
              "    <tr>\n",
              "      <th>6</th>\n",
              "      <td>LAT</td>\n",
              "      <td>0.127033</td>\n",
              "    </tr>\n",
              "    <tr>\n",
              "      <th>7</th>\n",
              "      <td>LONG</td>\n",
              "      <td>0.119777</td>\n",
              "    </tr>\n",
              "    <tr>\n",
              "      <th>8</th>\n",
              "      <td>DISTANCIA</td>\n",
              "      <td>0.111192</td>\n",
              "    </tr>\n",
              "    <tr>\n",
              "      <th>2</th>\n",
              "      <td>ESTABLECIMIENTO</td>\n",
              "      <td>0.037695</td>\n",
              "    </tr>\n",
              "    <tr>\n",
              "      <th>9</th>\n",
              "      <td>SEXO_M</td>\n",
              "      <td>0.027283</td>\n",
              "    </tr>\n",
              "    <tr>\n",
              "      <th>0</th>\n",
              "      <td>ORIGEN</td>\n",
              "      <td>0.022241</td>\n",
              "    </tr>\n",
              "    <tr>\n",
              "      <th>4</th>\n",
              "      <td>ANTIGUEDAD</td>\n",
              "      <td>0.017876</td>\n",
              "    </tr>\n",
              "    <tr>\n",
              "      <th>1</th>\n",
              "      <td>LOCALIDAD</td>\n",
              "      <td>0.000414</td>\n",
              "    </tr>\n",
              "  </tbody>\n",
              "</table>\n",
              "</div>\n",
              "      <button class=\"colab-df-convert\" onclick=\"convertToInteractive('df-756a845a-eff7-46eb-8b35-b8d0fc1efeac')\"\n",
              "              title=\"Convert this dataframe to an interactive table.\"\n",
              "              style=\"display:none;\">\n",
              "        \n",
              "  <svg xmlns=\"http://www.w3.org/2000/svg\" height=\"24px\"viewBox=\"0 0 24 24\"\n",
              "       width=\"24px\">\n",
              "    <path d=\"M0 0h24v24H0V0z\" fill=\"none\"/>\n",
              "    <path d=\"M18.56 5.44l.94 2.06.94-2.06 2.06-.94-2.06-.94-.94-2.06-.94 2.06-2.06.94zm-11 1L8.5 8.5l.94-2.06 2.06-.94-2.06-.94L8.5 2.5l-.94 2.06-2.06.94zm10 10l.94 2.06.94-2.06 2.06-.94-2.06-.94-.94-2.06-.94 2.06-2.06.94z\"/><path d=\"M17.41 7.96l-1.37-1.37c-.4-.4-.92-.59-1.43-.59-.52 0-1.04.2-1.43.59L10.3 9.45l-7.72 7.72c-.78.78-.78 2.05 0 2.83L4 21.41c.39.39.9.59 1.41.59.51 0 1.02-.2 1.41-.59l7.78-7.78 2.81-2.81c.8-.78.8-2.07 0-2.86zM5.41 20L4 18.59l7.72-7.72 1.47 1.35L5.41 20z\"/>\n",
              "  </svg>\n",
              "      </button>\n",
              "      \n",
              "  <style>\n",
              "    .colab-df-container {\n",
              "      display:flex;\n",
              "      flex-wrap:wrap;\n",
              "      gap: 12px;\n",
              "    }\n",
              "\n",
              "    .colab-df-convert {\n",
              "      background-color: #E8F0FE;\n",
              "      border: none;\n",
              "      border-radius: 50%;\n",
              "      cursor: pointer;\n",
              "      display: none;\n",
              "      fill: #1967D2;\n",
              "      height: 32px;\n",
              "      padding: 0 0 0 0;\n",
              "      width: 32px;\n",
              "    }\n",
              "\n",
              "    .colab-df-convert:hover {\n",
              "      background-color: #E2EBFA;\n",
              "      box-shadow: 0px 1px 2px rgba(60, 64, 67, 0.3), 0px 1px 3px 1px rgba(60, 64, 67, 0.15);\n",
              "      fill: #174EA6;\n",
              "    }\n",
              "\n",
              "    [theme=dark] .colab-df-convert {\n",
              "      background-color: #3B4455;\n",
              "      fill: #D2E3FC;\n",
              "    }\n",
              "\n",
              "    [theme=dark] .colab-df-convert:hover {\n",
              "      background-color: #434B5C;\n",
              "      box-shadow: 0px 1px 3px 1px rgba(0, 0, 0, 0.15);\n",
              "      filter: drop-shadow(0px 1px 2px rgba(0, 0, 0, 0.3));\n",
              "      fill: #FFFFFF;\n",
              "    }\n",
              "  </style>\n",
              "\n",
              "      <script>\n",
              "        const buttonEl =\n",
              "          document.querySelector('#df-756a845a-eff7-46eb-8b35-b8d0fc1efeac button.colab-df-convert');\n",
              "        buttonEl.style.display =\n",
              "          google.colab.kernel.accessAllowed ? 'block' : 'none';\n",
              "\n",
              "        async function convertToInteractive(key) {\n",
              "          const element = document.querySelector('#df-756a845a-eff7-46eb-8b35-b8d0fc1efeac');\n",
              "          const dataTable =\n",
              "            await google.colab.kernel.invokeFunction('convertToInteractive',\n",
              "                                                     [key], {});\n",
              "          if (!dataTable) return;\n",
              "\n",
              "          const docLinkHtml = 'Like what you see? Visit the ' +\n",
              "            '<a target=\"_blank\" href=https://colab.research.google.com/notebooks/data_table.ipynb>data table notebook</a>'\n",
              "            + ' to learn more about interactive tables.';\n",
              "          element.innerHTML = '';\n",
              "          dataTable['output_type'] = 'display_data';\n",
              "          await google.colab.output.renderOutput(dataTable, element);\n",
              "          const docLink = document.createElement('div');\n",
              "          docLink.innerHTML = docLinkHtml;\n",
              "          element.appendChild(docLink);\n",
              "        }\n",
              "      </script>\n",
              "    </div>\n",
              "  </div>\n",
              "  "
            ]
          },
          "metadata": {},
          "execution_count": 47
        }
      ],
      "source": [
        "pd.DataFrame({'atributo':X.columns, 'importancia':model_as.feature_importances_}).sort_values('importancia', ascending = False)"
      ]
    },
    {
      "cell_type": "code",
      "execution_count": null,
      "metadata": {
        "colab": {
          "base_uri": "https://localhost:8080/"
        },
        "id": "TC9VI6GnU80f",
        "outputId": "f4eb60cf-a887-49e4-fffa-acfe488f63c8"
      },
      "outputs": [
        {
          "output_type": "stream",
          "name": "stdout",
          "text": [
            "(4829, 10)\n",
            "(4829,)\n"
          ]
        }
      ],
      "source": [
        "###XGBOOST SIN PARTICIPACION EN PRIMARIAS\n",
        "\n",
        "X = df_cp.drop(['VOTO_GENERAL', \"VOTO_PASO\"], axis=1)\n",
        "print(X.shape)\n",
        "\n",
        "y = df_cp.VOTO_GENERAL\n",
        "\n",
        "print(y.shape)\n",
        "\n",
        "#DIVIDIR TRAIN Y TEST\n",
        "X_train, X_test, y_train, y_test = train_test_split(X, y, test_size= 0.25)"
      ]
    },
    {
      "cell_type": "code",
      "execution_count": null,
      "metadata": {
        "id": "4qwM1dwMU80g"
      },
      "outputs": [],
      "source": [
        "#CREAR UN GENERADOR DE CV\n",
        "from sklearn.model_selection import cross_val_score, StratifiedKFold\n",
        "cv = StratifiedKFold(n_splits=5, random_state=11, shuffle=True)"
      ]
    },
    {
      "cell_type": "code",
      "execution_count": null,
      "metadata": {
        "id": "EeadWK2fU80g"
      },
      "outputs": [],
      "source": [
        "#INSTANCIAR CLASIFICADOR\n",
        "model_xg = XGBClassifier(n_jobs=-1)"
      ]
    },
    {
      "cell_type": "code",
      "execution_count": null,
      "metadata": {
        "id": "VJ4hL2pYU80g"
      },
      "outputs": [],
      "source": [
        "###DEFINIR HIPERPARÁMTEROS DE XGBOOST\n",
        "params = {  \n",
        "    \"n_estimators\": [50,100,500],      # Cantidad de modelos base.\n",
        "    \"max_depth\": [1,2,3,4,5],            # máxima profundidad de arboles.\n",
        "    \"learning_rate\": [0.01, 0.03, 0.05],      # tasa de aprendizaje\n",
        "}"
      ]
    },
    {
      "cell_type": "code",
      "execution_count": null,
      "metadata": {
        "id": "eIdWpZQvU80g"
      },
      "outputs": [],
      "source": [
        "#CONSTRUYE EL MODELO QUE VAMOS A ENTRENAR RECORRIENDO TODAS LAS OPCIONES QUE LE DIMOS\n",
        "#from sklearn.model_selection import GridSearchCV\n",
        "xgb = GridSearchCV(model_xg, param_grid=params, cv=cv, verbose=1, n_jobs=-1)"
      ]
    },
    {
      "cell_type": "code",
      "execution_count": null,
      "metadata": {
        "colab": {
          "base_uri": "https://localhost:8080/",
          "height": 423
        },
        "id": "dDf0DLOiU80g",
        "outputId": "94d51e4b-4fc4-4501-c8b7-b92ed8bb41b0"
      },
      "outputs": [
        {
          "output_type": "execute_result",
          "data": {
            "text/plain": [
              "      ORIGEN  LOCALIDAD  ESTABLECIMIENTO  EDAD  ANTIGUEDAD  NATIVOS  \\\n",
              "2997      11          3                5    85           7        0   \n",
              "1865       1          3                0    67           9        1   \n",
              "1742       1          3               10    59           7        1   \n",
              "346        1          3                9    46           5        1   \n",
              "379        1          3                9    53           6        1   \n",
              "...      ...        ...              ...   ...         ...      ...   \n",
              "2728       7          3                5    63           8        0   \n",
              "3304      11          3                5    90           7        0   \n",
              "868        1          3               11    21           1        1   \n",
              "794        1          3                0    59           7        1   \n",
              "1627       1          3                1    82          10        1   \n",
              "\n",
              "            LAT       LONG  DISTANCIA  SEXO_M  \n",
              "2997 -34.766285 -58.392777        979       1  \n",
              "1865 -34.765152 -58.357618       4046       0  \n",
              "1742 -34.775409 -58.371494       3152       0  \n",
              "346  -34.766679 -58.392461       1000       1  \n",
              "379  -34.766377 -58.392705       1040       1  \n",
              "...         ...        ...        ...     ...  \n",
              "2728 -34.747872 -58.352213       5472       1  \n",
              "3304 -34.761153 -58.379327       2513       0  \n",
              "868  -34.767593 -58.395184       1695       1  \n",
              "794  -34.770233 -58.381575       1607       0  \n",
              "1627 -34.786569 -58.392467       2855       1  \n",
              "\n",
              "[3621 rows x 10 columns]"
            ],
            "text/html": [
              "\n",
              "  <div id=\"df-95dcaaf2-caf3-4502-a4e0-ea34b093a519\">\n",
              "    <div class=\"colab-df-container\">\n",
              "      <div>\n",
              "<style scoped>\n",
              "    .dataframe tbody tr th:only-of-type {\n",
              "        vertical-align: middle;\n",
              "    }\n",
              "\n",
              "    .dataframe tbody tr th {\n",
              "        vertical-align: top;\n",
              "    }\n",
              "\n",
              "    .dataframe thead th {\n",
              "        text-align: right;\n",
              "    }\n",
              "</style>\n",
              "<table border=\"1\" class=\"dataframe\">\n",
              "  <thead>\n",
              "    <tr style=\"text-align: right;\">\n",
              "      <th></th>\n",
              "      <th>ORIGEN</th>\n",
              "      <th>LOCALIDAD</th>\n",
              "      <th>ESTABLECIMIENTO</th>\n",
              "      <th>EDAD</th>\n",
              "      <th>ANTIGUEDAD</th>\n",
              "      <th>NATIVOS</th>\n",
              "      <th>LAT</th>\n",
              "      <th>LONG</th>\n",
              "      <th>DISTANCIA</th>\n",
              "      <th>SEXO_M</th>\n",
              "    </tr>\n",
              "  </thead>\n",
              "  <tbody>\n",
              "    <tr>\n",
              "      <th>2997</th>\n",
              "      <td>11</td>\n",
              "      <td>3</td>\n",
              "      <td>5</td>\n",
              "      <td>85</td>\n",
              "      <td>7</td>\n",
              "      <td>0</td>\n",
              "      <td>-34.766285</td>\n",
              "      <td>-58.392777</td>\n",
              "      <td>979</td>\n",
              "      <td>1</td>\n",
              "    </tr>\n",
              "    <tr>\n",
              "      <th>1865</th>\n",
              "      <td>1</td>\n",
              "      <td>3</td>\n",
              "      <td>0</td>\n",
              "      <td>67</td>\n",
              "      <td>9</td>\n",
              "      <td>1</td>\n",
              "      <td>-34.765152</td>\n",
              "      <td>-58.357618</td>\n",
              "      <td>4046</td>\n",
              "      <td>0</td>\n",
              "    </tr>\n",
              "    <tr>\n",
              "      <th>1742</th>\n",
              "      <td>1</td>\n",
              "      <td>3</td>\n",
              "      <td>10</td>\n",
              "      <td>59</td>\n",
              "      <td>7</td>\n",
              "      <td>1</td>\n",
              "      <td>-34.775409</td>\n",
              "      <td>-58.371494</td>\n",
              "      <td>3152</td>\n",
              "      <td>0</td>\n",
              "    </tr>\n",
              "    <tr>\n",
              "      <th>346</th>\n",
              "      <td>1</td>\n",
              "      <td>3</td>\n",
              "      <td>9</td>\n",
              "      <td>46</td>\n",
              "      <td>5</td>\n",
              "      <td>1</td>\n",
              "      <td>-34.766679</td>\n",
              "      <td>-58.392461</td>\n",
              "      <td>1000</td>\n",
              "      <td>1</td>\n",
              "    </tr>\n",
              "    <tr>\n",
              "      <th>379</th>\n",
              "      <td>1</td>\n",
              "      <td>3</td>\n",
              "      <td>9</td>\n",
              "      <td>53</td>\n",
              "      <td>6</td>\n",
              "      <td>1</td>\n",
              "      <td>-34.766377</td>\n",
              "      <td>-58.392705</td>\n",
              "      <td>1040</td>\n",
              "      <td>1</td>\n",
              "    </tr>\n",
              "    <tr>\n",
              "      <th>...</th>\n",
              "      <td>...</td>\n",
              "      <td>...</td>\n",
              "      <td>...</td>\n",
              "      <td>...</td>\n",
              "      <td>...</td>\n",
              "      <td>...</td>\n",
              "      <td>...</td>\n",
              "      <td>...</td>\n",
              "      <td>...</td>\n",
              "      <td>...</td>\n",
              "    </tr>\n",
              "    <tr>\n",
              "      <th>2728</th>\n",
              "      <td>7</td>\n",
              "      <td>3</td>\n",
              "      <td>5</td>\n",
              "      <td>63</td>\n",
              "      <td>8</td>\n",
              "      <td>0</td>\n",
              "      <td>-34.747872</td>\n",
              "      <td>-58.352213</td>\n",
              "      <td>5472</td>\n",
              "      <td>1</td>\n",
              "    </tr>\n",
              "    <tr>\n",
              "      <th>3304</th>\n",
              "      <td>11</td>\n",
              "      <td>3</td>\n",
              "      <td>5</td>\n",
              "      <td>90</td>\n",
              "      <td>7</td>\n",
              "      <td>0</td>\n",
              "      <td>-34.761153</td>\n",
              "      <td>-58.379327</td>\n",
              "      <td>2513</td>\n",
              "      <td>0</td>\n",
              "    </tr>\n",
              "    <tr>\n",
              "      <th>868</th>\n",
              "      <td>1</td>\n",
              "      <td>3</td>\n",
              "      <td>11</td>\n",
              "      <td>21</td>\n",
              "      <td>1</td>\n",
              "      <td>1</td>\n",
              "      <td>-34.767593</td>\n",
              "      <td>-58.395184</td>\n",
              "      <td>1695</td>\n",
              "      <td>1</td>\n",
              "    </tr>\n",
              "    <tr>\n",
              "      <th>794</th>\n",
              "      <td>1</td>\n",
              "      <td>3</td>\n",
              "      <td>0</td>\n",
              "      <td>59</td>\n",
              "      <td>7</td>\n",
              "      <td>1</td>\n",
              "      <td>-34.770233</td>\n",
              "      <td>-58.381575</td>\n",
              "      <td>1607</td>\n",
              "      <td>0</td>\n",
              "    </tr>\n",
              "    <tr>\n",
              "      <th>1627</th>\n",
              "      <td>1</td>\n",
              "      <td>3</td>\n",
              "      <td>1</td>\n",
              "      <td>82</td>\n",
              "      <td>10</td>\n",
              "      <td>1</td>\n",
              "      <td>-34.786569</td>\n",
              "      <td>-58.392467</td>\n",
              "      <td>2855</td>\n",
              "      <td>1</td>\n",
              "    </tr>\n",
              "  </tbody>\n",
              "</table>\n",
              "<p>3621 rows × 10 columns</p>\n",
              "</div>\n",
              "      <button class=\"colab-df-convert\" onclick=\"convertToInteractive('df-95dcaaf2-caf3-4502-a4e0-ea34b093a519')\"\n",
              "              title=\"Convert this dataframe to an interactive table.\"\n",
              "              style=\"display:none;\">\n",
              "        \n",
              "  <svg xmlns=\"http://www.w3.org/2000/svg\" height=\"24px\"viewBox=\"0 0 24 24\"\n",
              "       width=\"24px\">\n",
              "    <path d=\"M0 0h24v24H0V0z\" fill=\"none\"/>\n",
              "    <path d=\"M18.56 5.44l.94 2.06.94-2.06 2.06-.94-2.06-.94-.94-2.06-.94 2.06-2.06.94zm-11 1L8.5 8.5l.94-2.06 2.06-.94-2.06-.94L8.5 2.5l-.94 2.06-2.06.94zm10 10l.94 2.06.94-2.06 2.06-.94-2.06-.94-.94-2.06-.94 2.06-2.06.94z\"/><path d=\"M17.41 7.96l-1.37-1.37c-.4-.4-.92-.59-1.43-.59-.52 0-1.04.2-1.43.59L10.3 9.45l-7.72 7.72c-.78.78-.78 2.05 0 2.83L4 21.41c.39.39.9.59 1.41.59.51 0 1.02-.2 1.41-.59l7.78-7.78 2.81-2.81c.8-.78.8-2.07 0-2.86zM5.41 20L4 18.59l7.72-7.72 1.47 1.35L5.41 20z\"/>\n",
              "  </svg>\n",
              "      </button>\n",
              "      \n",
              "  <style>\n",
              "    .colab-df-container {\n",
              "      display:flex;\n",
              "      flex-wrap:wrap;\n",
              "      gap: 12px;\n",
              "    }\n",
              "\n",
              "    .colab-df-convert {\n",
              "      background-color: #E8F0FE;\n",
              "      border: none;\n",
              "      border-radius: 50%;\n",
              "      cursor: pointer;\n",
              "      display: none;\n",
              "      fill: #1967D2;\n",
              "      height: 32px;\n",
              "      padding: 0 0 0 0;\n",
              "      width: 32px;\n",
              "    }\n",
              "\n",
              "    .colab-df-convert:hover {\n",
              "      background-color: #E2EBFA;\n",
              "      box-shadow: 0px 1px 2px rgba(60, 64, 67, 0.3), 0px 1px 3px 1px rgba(60, 64, 67, 0.15);\n",
              "      fill: #174EA6;\n",
              "    }\n",
              "\n",
              "    [theme=dark] .colab-df-convert {\n",
              "      background-color: #3B4455;\n",
              "      fill: #D2E3FC;\n",
              "    }\n",
              "\n",
              "    [theme=dark] .colab-df-convert:hover {\n",
              "      background-color: #434B5C;\n",
              "      box-shadow: 0px 1px 3px 1px rgba(0, 0, 0, 0.15);\n",
              "      filter: drop-shadow(0px 1px 2px rgba(0, 0, 0, 0.3));\n",
              "      fill: #FFFFFF;\n",
              "    }\n",
              "  </style>\n",
              "\n",
              "      <script>\n",
              "        const buttonEl =\n",
              "          document.querySelector('#df-95dcaaf2-caf3-4502-a4e0-ea34b093a519 button.colab-df-convert');\n",
              "        buttonEl.style.display =\n",
              "          google.colab.kernel.accessAllowed ? 'block' : 'none';\n",
              "\n",
              "        async function convertToInteractive(key) {\n",
              "          const element = document.querySelector('#df-95dcaaf2-caf3-4502-a4e0-ea34b093a519');\n",
              "          const dataTable =\n",
              "            await google.colab.kernel.invokeFunction('convertToInteractive',\n",
              "                                                     [key], {});\n",
              "          if (!dataTable) return;\n",
              "\n",
              "          const docLinkHtml = 'Like what you see? Visit the ' +\n",
              "            '<a target=\"_blank\" href=https://colab.research.google.com/notebooks/data_table.ipynb>data table notebook</a>'\n",
              "            + ' to learn more about interactive tables.';\n",
              "          element.innerHTML = '';\n",
              "          dataTable['output_type'] = 'display_data';\n",
              "          await google.colab.output.renderOutput(dataTable, element);\n",
              "          const docLink = document.createElement('div');\n",
              "          docLink.innerHTML = docLinkHtml;\n",
              "          element.appendChild(docLink);\n",
              "        }\n",
              "      </script>\n",
              "    </div>\n",
              "  </div>\n",
              "  "
            ]
          },
          "metadata": {},
          "execution_count": 49
        }
      ],
      "source": [
        "X_train"
      ]
    },
    {
      "cell_type": "code",
      "execution_count": null,
      "metadata": {
        "colab": {
          "base_uri": "https://localhost:8080/",
          "height": 134
        },
        "id": "HXLnOV3uU80g",
        "outputId": "9168cd98-c0f1-4e90-8096-d1a83d5f0d23"
      },
      "outputs": [
        {
          "output_type": "stream",
          "name": "stdout",
          "text": [
            "Fitting 5 folds for each of 45 candidates, totalling 225 fits\n"
          ]
        },
        {
          "output_type": "execute_result",
          "data": {
            "text/plain": [
              "GridSearchCV(cv=StratifiedKFold(n_splits=5, random_state=11, shuffle=True),\n",
              "             estimator=XGBClassifier(base_score=None, booster=None,\n",
              "                                     callbacks=None, colsample_bylevel=None,\n",
              "                                     colsample_bynode=None,\n",
              "                                     colsample_bytree=None,\n",
              "                                     early_stopping_rounds=None,\n",
              "                                     enable_categorical=False, eval_metric=None,\n",
              "                                     feature_types=None, gamma=None,\n",
              "                                     gpu_id=None, grow_policy=None,\n",
              "                                     importance_typ...\n",
              "                                     max_cat_threshold=None,\n",
              "                                     max_cat_to_onehot=None,\n",
              "                                     max_delta_step=None, max_depth=None,\n",
              "                                     max_leaves=None, min_child_weight=None,\n",
              "                                     missing=nan, monotone_constraints=None,\n",
              "                                     n_estimators=100, n_jobs=-1,\n",
              "                                     num_parallel_tree=None, predictor=None,\n",
              "                                     random_state=None, ...),\n",
              "             n_jobs=-1,\n",
              "             param_grid={'learning_rate': [0.01, 0.03, 0.05],\n",
              "                         'max_depth': [1, 2, 3, 4, 5],\n",
              "                         'n_estimators': [50, 100, 500]},\n",
              "             verbose=1)"
            ],
            "text/html": [
              "<style>#sk-container-id-1 {color: black;background-color: white;}#sk-container-id-1 pre{padding: 0;}#sk-container-id-1 div.sk-toggleable {background-color: white;}#sk-container-id-1 label.sk-toggleable__label {cursor: pointer;display: block;width: 100%;margin-bottom: 0;padding: 0.3em;box-sizing: border-box;text-align: center;}#sk-container-id-1 label.sk-toggleable__label-arrow:before {content: \"▸\";float: left;margin-right: 0.25em;color: #696969;}#sk-container-id-1 label.sk-toggleable__label-arrow:hover:before {color: black;}#sk-container-id-1 div.sk-estimator:hover label.sk-toggleable__label-arrow:before {color: black;}#sk-container-id-1 div.sk-toggleable__content {max-height: 0;max-width: 0;overflow: hidden;text-align: left;background-color: #f0f8ff;}#sk-container-id-1 div.sk-toggleable__content pre {margin: 0.2em;color: black;border-radius: 0.25em;background-color: #f0f8ff;}#sk-container-id-1 input.sk-toggleable__control:checked~div.sk-toggleable__content {max-height: 200px;max-width: 100%;overflow: auto;}#sk-container-id-1 input.sk-toggleable__control:checked~label.sk-toggleable__label-arrow:before {content: \"▾\";}#sk-container-id-1 div.sk-estimator input.sk-toggleable__control:checked~label.sk-toggleable__label {background-color: #d4ebff;}#sk-container-id-1 div.sk-label input.sk-toggleable__control:checked~label.sk-toggleable__label {background-color: #d4ebff;}#sk-container-id-1 input.sk-hidden--visually {border: 0;clip: rect(1px 1px 1px 1px);clip: rect(1px, 1px, 1px, 1px);height: 1px;margin: -1px;overflow: hidden;padding: 0;position: absolute;width: 1px;}#sk-container-id-1 div.sk-estimator {font-family: monospace;background-color: #f0f8ff;border: 1px dotted black;border-radius: 0.25em;box-sizing: border-box;margin-bottom: 0.5em;}#sk-container-id-1 div.sk-estimator:hover {background-color: #d4ebff;}#sk-container-id-1 div.sk-parallel-item::after {content: \"\";width: 100%;border-bottom: 1px solid gray;flex-grow: 1;}#sk-container-id-1 div.sk-label:hover label.sk-toggleable__label {background-color: #d4ebff;}#sk-container-id-1 div.sk-serial::before {content: \"\";position: absolute;border-left: 1px solid gray;box-sizing: border-box;top: 0;bottom: 0;left: 50%;z-index: 0;}#sk-container-id-1 div.sk-serial {display: flex;flex-direction: column;align-items: center;background-color: white;padding-right: 0.2em;padding-left: 0.2em;position: relative;}#sk-container-id-1 div.sk-item {position: relative;z-index: 1;}#sk-container-id-1 div.sk-parallel {display: flex;align-items: stretch;justify-content: center;background-color: white;position: relative;}#sk-container-id-1 div.sk-item::before, #sk-container-id-1 div.sk-parallel-item::before {content: \"\";position: absolute;border-left: 1px solid gray;box-sizing: border-box;top: 0;bottom: 0;left: 50%;z-index: -1;}#sk-container-id-1 div.sk-parallel-item {display: flex;flex-direction: column;z-index: 1;position: relative;background-color: white;}#sk-container-id-1 div.sk-parallel-item:first-child::after {align-self: flex-end;width: 50%;}#sk-container-id-1 div.sk-parallel-item:last-child::after {align-self: flex-start;width: 50%;}#sk-container-id-1 div.sk-parallel-item:only-child::after {width: 0;}#sk-container-id-1 div.sk-dashed-wrapped {border: 1px dashed gray;margin: 0 0.4em 0.5em 0.4em;box-sizing: border-box;padding-bottom: 0.4em;background-color: white;}#sk-container-id-1 div.sk-label label {font-family: monospace;font-weight: bold;display: inline-block;line-height: 1.2em;}#sk-container-id-1 div.sk-label-container {text-align: center;}#sk-container-id-1 div.sk-container {/* jupyter's `normalize.less` sets `[hidden] { display: none; }` but bootstrap.min.css set `[hidden] { display: none !important; }` so we also need the `!important` here to be able to override the default hidden behavior on the sphinx rendered scikit-learn.org. See: https://github.com/scikit-learn/scikit-learn/issues/21755 */display: inline-block !important;position: relative;}#sk-container-id-1 div.sk-text-repr-fallback {display: none;}</style><div id=\"sk-container-id-1\" class=\"sk-top-container\"><div class=\"sk-text-repr-fallback\"><pre>GridSearchCV(cv=StratifiedKFold(n_splits=5, random_state=11, shuffle=True),\n",
              "             estimator=XGBClassifier(base_score=None, booster=None,\n",
              "                                     callbacks=None, colsample_bylevel=None,\n",
              "                                     colsample_bynode=None,\n",
              "                                     colsample_bytree=None,\n",
              "                                     early_stopping_rounds=None,\n",
              "                                     enable_categorical=False, eval_metric=None,\n",
              "                                     feature_types=None, gamma=None,\n",
              "                                     gpu_id=None, grow_policy=None,\n",
              "                                     importance_typ...\n",
              "                                     max_cat_threshold=None,\n",
              "                                     max_cat_to_onehot=None,\n",
              "                                     max_delta_step=None, max_depth=None,\n",
              "                                     max_leaves=None, min_child_weight=None,\n",
              "                                     missing=nan, monotone_constraints=None,\n",
              "                                     n_estimators=100, n_jobs=-1,\n",
              "                                     num_parallel_tree=None, predictor=None,\n",
              "                                     random_state=None, ...),\n",
              "             n_jobs=-1,\n",
              "             param_grid={&#x27;learning_rate&#x27;: [0.01, 0.03, 0.05],\n",
              "                         &#x27;max_depth&#x27;: [1, 2, 3, 4, 5],\n",
              "                         &#x27;n_estimators&#x27;: [50, 100, 500]},\n",
              "             verbose=1)</pre><b>In a Jupyter environment, please rerun this cell to show the HTML representation or trust the notebook. <br />On GitHub, the HTML representation is unable to render, please try loading this page with nbviewer.org.</b></div><div class=\"sk-container\" hidden><div class=\"sk-item sk-dashed-wrapped\"><div class=\"sk-label-container\"><div class=\"sk-label sk-toggleable\"><input class=\"sk-toggleable__control sk-hidden--visually\" id=\"sk-estimator-id-1\" type=\"checkbox\" ><label for=\"sk-estimator-id-1\" class=\"sk-toggleable__label sk-toggleable__label-arrow\">GridSearchCV</label><div class=\"sk-toggleable__content\"><pre>GridSearchCV(cv=StratifiedKFold(n_splits=5, random_state=11, shuffle=True),\n",
              "             estimator=XGBClassifier(base_score=None, booster=None,\n",
              "                                     callbacks=None, colsample_bylevel=None,\n",
              "                                     colsample_bynode=None,\n",
              "                                     colsample_bytree=None,\n",
              "                                     early_stopping_rounds=None,\n",
              "                                     enable_categorical=False, eval_metric=None,\n",
              "                                     feature_types=None, gamma=None,\n",
              "                                     gpu_id=None, grow_policy=None,\n",
              "                                     importance_typ...\n",
              "                                     max_cat_threshold=None,\n",
              "                                     max_cat_to_onehot=None,\n",
              "                                     max_delta_step=None, max_depth=None,\n",
              "                                     max_leaves=None, min_child_weight=None,\n",
              "                                     missing=nan, monotone_constraints=None,\n",
              "                                     n_estimators=100, n_jobs=-1,\n",
              "                                     num_parallel_tree=None, predictor=None,\n",
              "                                     random_state=None, ...),\n",
              "             n_jobs=-1,\n",
              "             param_grid={&#x27;learning_rate&#x27;: [0.01, 0.03, 0.05],\n",
              "                         &#x27;max_depth&#x27;: [1, 2, 3, 4, 5],\n",
              "                         &#x27;n_estimators&#x27;: [50, 100, 500]},\n",
              "             verbose=1)</pre></div></div></div><div class=\"sk-parallel\"><div class=\"sk-parallel-item\"><div class=\"sk-item\"><div class=\"sk-label-container\"><div class=\"sk-label sk-toggleable\"><input class=\"sk-toggleable__control sk-hidden--visually\" id=\"sk-estimator-id-2\" type=\"checkbox\" ><label for=\"sk-estimator-id-2\" class=\"sk-toggleable__label sk-toggleable__label-arrow\">estimator: XGBClassifier</label><div class=\"sk-toggleable__content\"><pre>XGBClassifier(base_score=None, booster=None, callbacks=None,\n",
              "              colsample_bylevel=None, colsample_bynode=None,\n",
              "              colsample_bytree=None, early_stopping_rounds=None,\n",
              "              enable_categorical=False, eval_metric=None, feature_types=None,\n",
              "              gamma=None, gpu_id=None, grow_policy=None, importance_type=None,\n",
              "              interaction_constraints=None, learning_rate=None, max_bin=None,\n",
              "              max_cat_threshold=None, max_cat_to_onehot=None,\n",
              "              max_delta_step=None, max_depth=None, max_leaves=None,\n",
              "              min_child_weight=None, missing=nan, monotone_constraints=None,\n",
              "              n_estimators=100, n_jobs=-1, num_parallel_tree=None,\n",
              "              predictor=None, random_state=None, ...)</pre></div></div></div><div class=\"sk-serial\"><div class=\"sk-item\"><div class=\"sk-estimator sk-toggleable\"><input class=\"sk-toggleable__control sk-hidden--visually\" id=\"sk-estimator-id-3\" type=\"checkbox\" ><label for=\"sk-estimator-id-3\" class=\"sk-toggleable__label sk-toggleable__label-arrow\">XGBClassifier</label><div class=\"sk-toggleable__content\"><pre>XGBClassifier(base_score=None, booster=None, callbacks=None,\n",
              "              colsample_bylevel=None, colsample_bynode=None,\n",
              "              colsample_bytree=None, early_stopping_rounds=None,\n",
              "              enable_categorical=False, eval_metric=None, feature_types=None,\n",
              "              gamma=None, gpu_id=None, grow_policy=None, importance_type=None,\n",
              "              interaction_constraints=None, learning_rate=None, max_bin=None,\n",
              "              max_cat_threshold=None, max_cat_to_onehot=None,\n",
              "              max_delta_step=None, max_depth=None, max_leaves=None,\n",
              "              min_child_weight=None, missing=nan, monotone_constraints=None,\n",
              "              n_estimators=100, n_jobs=-1, num_parallel_tree=None,\n",
              "              predictor=None, random_state=None, ...)</pre></div></div></div></div></div></div></div></div></div></div>"
            ]
          },
          "metadata": {},
          "execution_count": 50
        }
      ],
      "source": [
        "#ENTRENAMOS\n",
        "xgb.fit(X_train,y_train)"
      ]
    },
    {
      "cell_type": "code",
      "execution_count": null,
      "metadata": {
        "colab": {
          "base_uri": "https://localhost:8080/"
        },
        "id": "Ff46Ki0wU80g",
        "outputId": "4c73e374-befe-4275-b71f-49697481a472"
      },
      "outputs": [
        {
          "output_type": "execute_result",
          "data": {
            "text/plain": [
              "{'learning_rate': 0.03, 'max_depth': 4, 'n_estimators': 100}"
            ]
          },
          "metadata": {},
          "execution_count": 51
        }
      ],
      "source": [
        "# VER MEJORES PARÁMETROS QUE ENCONTRÓ\n",
        "xgb.best_params_"
      ]
    },
    {
      "cell_type": "code",
      "execution_count": null,
      "metadata": {
        "id": "p7khVwHQU80g"
      },
      "outputs": [],
      "source": [
        "#FUNCION PARA EVALUAR EL RENDIMIENTO DE LOS MODELOS\n",
        "#from sklearn.model_selection import cross_val_score\n",
        "def evaluar_rendimiento(modelo, nombre, X, y, cv):\n",
        "    s = cross_val_score(modelo, X, y, cv=cv, n_jobs=-1)\n",
        "    print(\"Rendimiento de {}:\\t{:0.3} ± {:0.3}\".format( \\\n",
        "        nombre, s.mean().round(3), s.std().round(3)))"
      ]
    },
    {
      "cell_type": "code",
      "execution_count": null,
      "metadata": {
        "colab": {
          "base_uri": "https://localhost:8080/"
        },
        "id": "HpR45J9TU80g",
        "outputId": "46b62050-3a0c-4338-a531-4d05a9733b8c"
      },
      "outputs": [
        {
          "output_type": "stream",
          "name": "stdout",
          "text": [
            "Rendimiento de XG Boost:\t0.816 ± 0.007\n"
          ]
        }
      ],
      "source": [
        "###VEMOS EL MEJOR MODELO ENCONTRADO CON LOS MEJORES PARAMETROS. \n",
        "# VEMOS ACCURACY EN TRAIN\n",
        "evaluar_rendimiento(xgb.best_estimator_,\"XG Boost\", X_train, y_train, cv)\n"
      ]
    },
    {
      "cell_type": "code",
      "execution_count": null,
      "metadata": {
        "colab": {
          "base_uri": "https://localhost:8080/"
        },
        "id": "jVYJLBprU80g",
        "outputId": "5b4d1266-809b-403e-cc57-26d237dd126d"
      },
      "outputs": [
        {
          "output_type": "stream",
          "name": "stdout",
          "text": [
            "El valor del AUC es:  0.833394218661353\n"
          ]
        }
      ],
      "source": [
        "###AHORA EVALUAMOS EL RENDIMEINTO EN TEST. RECIBE VERDADEROS VALORES Y VALORES PREDICHOS.\n",
        "xgb_auc = roc_auc_score(y_test, xgb.predict(X_test))\n",
        "print(\"El valor del AUC es: \", xgb_auc)"
      ]
    },
    {
      "cell_type": "code",
      "execution_count": null,
      "metadata": {
        "colab": {
          "base_uri": "https://localhost:8080/"
        },
        "id": "IeAuWT_sU80h",
        "outputId": "2f9bd90c-af8e-402c-85db-7ab26c38a82a"
      },
      "outputs": [
        {
          "output_type": "execute_result",
          "data": {
            "text/plain": [
              "array([0, 0, 1, ..., 1, 1, 0])"
            ]
          },
          "metadata": {},
          "execution_count": 55
        }
      ],
      "source": [
        "xgb.predict(X_test)"
      ]
    },
    {
      "cell_type": "code",
      "source": [
        "###ACURACY EN TEST Y MATRIZ DE CONFUSION\n",
        "predict_class = xgb.predict(X_test)\n",
        "accuracy_class = accuracy_score(y_test, predict_class)\n",
        "print(accuracy_class)\n",
        "\n",
        "conf_class = confusion_matrix(y_test, predict_class)\n",
        "print(conf_class)"
      ],
      "metadata": {
        "colab": {
          "base_uri": "https://localhost:8080/"
        },
        "id": "3V4kscGDbwoD",
        "outputId": "7c21efe5-686f-4391-e199-c208b0886b3d"
      },
      "execution_count": null,
      "outputs": [
        {
          "output_type": "stream",
          "name": "stdout",
          "text": [
            "0.8336092715231788\n",
            "[[554 109]\n",
            " [ 92 453]]\n"
          ]
        }
      ]
    },
    {
      "cell_type": "code",
      "source": [
        "TP = conf_class[1, 1]; TN = conf_class[0, 0] ; FP = conf_class[0, 1] ; FN = conf_class[1, 0]\n",
        "print('TP: ', TP,' TN: ', TN,' FP: ',FP,' FN: ',FN )"
      ],
      "metadata": {
        "colab": {
          "base_uri": "https://localhost:8080/"
        },
        "id": "CHr2qDTQcGet",
        "outputId": "b589b1d5-0f65-417a-9760-9bfacb5ec137"
      },
      "execution_count": null,
      "outputs": [
        {
          "output_type": "stream",
          "name": "stdout",
          "text": [
            "TP:  453  TN:  554  FP:  109  FN:  92\n"
          ]
        }
      ]
    },
    {
      "cell_type": "code",
      "source": [
        "from sklearn.metrics import precision_score\n",
        "precision_score(y_true=y_test, y_pred=predict_class)"
      ],
      "metadata": {
        "colab": {
          "base_uri": "https://localhost:8080/"
        },
        "id": "74iKQQ6GcMvU",
        "outputId": "5f4e0e9b-b94b-42fb-f342-66dace606281"
      },
      "execution_count": null,
      "outputs": [
        {
          "output_type": "execute_result",
          "data": {
            "text/plain": [
              "0.806049822064057"
            ]
          },
          "metadata": {},
          "execution_count": 58
        }
      ]
    },
    {
      "cell_type": "code",
      "source": [
        "from sklearn.metrics import recall_score\n",
        "recall_score(y_true=y_test, y_pred=predict_class)"
      ],
      "metadata": {
        "colab": {
          "base_uri": "https://localhost:8080/"
        },
        "id": "WFPC6JCFcN24",
        "outputId": "b6cdfc9b-5cb6-41bc-975f-1b3488fdef5e"
      },
      "execution_count": null,
      "outputs": [
        {
          "output_type": "execute_result",
          "data": {
            "text/plain": [
              "0.8311926605504587"
            ]
          },
          "metadata": {},
          "execution_count": 59
        }
      ]
    },
    {
      "cell_type": "code",
      "source": [
        "from sklearn.metrics import f1_score\n",
        "f1_score(y_true=y_test, y_pred=predict_class)"
      ],
      "metadata": {
        "colab": {
          "base_uri": "https://localhost:8080/"
        },
        "id": "jtN5YxVlcRT7",
        "outputId": "436b7585-1199-4b18-906d-5b233290269d"
      },
      "execution_count": null,
      "outputs": [
        {
          "output_type": "execute_result",
          "data": {
            "text/plain": [
              "0.8184281842818429"
            ]
          },
          "metadata": {},
          "execution_count": 60
        }
      ]
    },
    {
      "cell_type": "code",
      "source": [
        "specificity = TN / (TN + FP)\n",
        "print(specificity)"
      ],
      "metadata": {
        "colab": {
          "base_uri": "https://localhost:8080/"
        },
        "id": "B8R3dTP1cUJ7",
        "outputId": "b5616d1e-eed0-4c91-e750-a52f8ca74a71"
      },
      "execution_count": null,
      "outputs": [
        {
          "output_type": "stream",
          "name": "stdout",
          "text": [
            "0.8355957767722474\n"
          ]
        }
      ]
    },
    {
      "cell_type": "code",
      "source": [
        "# CREAR FIGURA\n",
        "fig, ax = plt.subplots(figsize=(8, 6))\n",
        "\n",
        "# MATRIZ CON HEATMAP\n",
        "sns.heatmap(confusion_matrix(y_test, predict_class), annot=True, fmt='.0f', ax=ax)\n",
        "\n",
        "# ETIQUETAS EJES\n",
        "plt.ylabel('Real')\n",
        "plt.xlabel('Prediction')"
      ],
      "metadata": {
        "colab": {
          "base_uri": "https://localhost:8080/",
          "height": 560
        },
        "id": "_kxFpYMidGbs",
        "outputId": "a1d9cd6f-e177-47fb-ec8c-56d21610978d"
      },
      "execution_count": null,
      "outputs": [
        {
          "output_type": "execute_result",
          "data": {
            "text/plain": [
              "Text(0.5, 36.72222222222221, 'Prediction')"
            ]
          },
          "metadata": {},
          "execution_count": 62
        },
        {
          "output_type": "display_data",
          "data": {
            "text/plain": [
              "<Figure size 800x600 with 2 Axes>"
            ],
            "image/png": "[encoded data removed]"
          },
          "metadata": {}
        }
      ]
    },
    {
      "cell_type": "code",
      "execution_count": null,
      "metadata": {
        "colab": {
          "base_uri": "https://localhost:8080/",
          "height": 834
        },
        "id": "k9NTbUgZU80h",
        "outputId": "8758cdda-ed83-4600-944c-8687a1c98981"
      },
      "outputs": [
        {
          "output_type": "stream",
          "name": "stdout",
          "text": [
            "Looking in indexes: https://pypi.org/simple, https://us-python.pkg.dev/colab-wheels/public/simple/\n",
            "Collecting scikit-plot\n",
            "  Downloading scikit_plot-0.3.7-py3-none-any.whl (33 kB)\n",
            "Requirement already satisfied: matplotlib>=1.4.0 in /usr/local/lib/python3.10/dist-packages (from scikit-plot) (3.7.1)\n",
            "Requirement already satisfied: scikit-learn>=0.18 in /usr/local/lib/python3.10/dist-packages (from scikit-plot) (1.2.2)\n",
            "Requirement already satisfied: scipy>=0.9 in /usr/local/lib/python3.10/dist-packages (from scikit-plot) (1.10.1)\n",
            "Requirement already satisfied: joblib>=0.10 in /usr/local/lib/python3.10/dist-packages (from scikit-plot) (1.2.0)\n",
            "Requirement already satisfied: contourpy>=1.0.1 in /usr/local/lib/python3.10/dist-packages (from matplotlib>=1.4.0->scikit-plot) (1.0.7)\n",
            "Requirement already satisfied: cycler>=0.10 in /usr/local/lib/python3.10/dist-packages (from matplotlib>=1.4.0->scikit-plot) (0.11.0)\n",
            "Requirement already satisfied: fonttools>=4.22.0 in /usr/local/lib/python3.10/dist-packages (from matplotlib>=1.4.0->scikit-plot) (4.39.3)\n",
            "Requirement already satisfied: kiwisolver>=1.0.1 in /usr/local/lib/python3.10/dist-packages (from matplotlib>=1.4.0->scikit-plot) (1.4.4)\n",
            "Requirement already satisfied: numpy>=1.20 in /usr/local/lib/python3.10/dist-packages (from matplotlib>=1.4.0->scikit-plot) (1.22.4)\n",
            "Requirement already satisfied: packaging>=20.0 in /usr/local/lib/python3.10/dist-packages (from matplotlib>=1.4.0->scikit-plot) (23.1)\n",
            "Requirement already satisfied: pillow>=6.2.0 in /usr/local/lib/python3.10/dist-packages (from matplotlib>=1.4.0->scikit-plot) (8.4.0)\n",
            "Requirement already satisfied: pyparsing>=2.3.1 in /usr/local/lib/python3.10/dist-packages (from matplotlib>=1.4.0->scikit-plot) (3.0.9)\n",
            "Requirement already satisfied: python-dateutil>=2.7 in /usr/local/lib/python3.10/dist-packages (from matplotlib>=1.4.0->scikit-plot) (2.8.2)\n",
            "Requirement already satisfied: threadpoolctl>=2.0.0 in /usr/local/lib/python3.10/dist-packages (from scikit-learn>=0.18->scikit-plot) (3.1.0)\n",
            "Requirement already satisfied: six>=1.5 in /usr/local/lib/python3.10/dist-packages (from python-dateutil>=2.7->matplotlib>=1.4.0->scikit-plot) (1.16.0)\n",
            "Installing collected packages: scikit-plot\n",
            "Successfully installed scikit-plot-0.3.7\n"
          ]
        },
        {
          "output_type": "display_data",
          "data": {
            "text/plain": [
              "<Figure size 640x480 with 1 Axes>"
            ],
            "image/png": "[encoded data removed]"
          },
          "metadata": {}
        }
      ],
      "source": [
        "###GRAFICAMOS LA CURVA ROC PARA LA CLASE 1 (FUE A VOTAR) Y LA 0 (NO FUE)\n",
        "# A NOSOTROS NOS INTERESA ENCONTRAR LA CLASE 0, QUE SON LOS ELECTORES QUE NO VNA A VOTAR\n",
        "!pip install scikit-plot\n",
        "from scikitplot.metrics import plot_roc\n",
        "plot_roc(y_test, xgb.predict_proba(X_test), plot_micro = False, plot_macro= False);\n",
        "\n",
        "#plot_roc_curve(y_test, xgb.predict_proba(X_test), plot_micro = False, plot_macro= False);"
      ]
    },
    {
      "cell_type": "code",
      "execution_count": null,
      "metadata": {
        "colab": {
          "base_uri": "https://localhost:8080/",
          "height": 472
        },
        "id": "uOcGyqMxU80h",
        "outputId": "dfb232a9-05fa-40f8-fb32-a9224cb88e50"
      },
      "outputs": [
        {
          "output_type": "display_data",
          "data": {
            "text/plain": [
              "<Figure size 640x480 with 1 Axes>"
            ],
            "image/png": "[encoded data removed]"
          },
          "metadata": {}
        }
      ],
      "source": [
        "# GRAFICO DE LA IMPROTANCIA DE LAS FEATURES EN LA PREDICCIÓN DE QUIENES VAN A VOTAR Y QUIENES NO\n",
        "from xgboost import plot_importance\n",
        "plot_importance(xgb.best_estimator_, height = 0.8,max_num_features=5);"
      ]
    },
    {
      "cell_type": "code",
      "execution_count": null,
      "metadata": {
        "colab": {
          "base_uri": "https://localhost:8080/"
        },
        "id": "Tlzf0zgMU80h",
        "outputId": "468af47f-7c57-418b-c4db-d6fffb55f0bc"
      },
      "outputs": [
        {
          "output_type": "stream",
          "name": "stdout",
          "text": [
            "(4829, 11)\n",
            "(4829,)\n"
          ]
        }
      ],
      "source": [
        "###XGBOOST DESPUÉS DE LAS PRIMARIAS (CON DATO DE PARTICIPACION DE LAS PASO)\n",
        "\n",
        "X = df_cp.drop(['VOTO_GENERAL'], axis=1)\n",
        "print(X.shape)\n",
        "\n",
        "y = df_cp.VOTO_GENERAL\n",
        "\n",
        "print(y.shape)\n",
        "\n",
        "#DIVIDIR TRAIN Y TEST\n",
        "X_train, X_test, y_train, y_test = train_test_split(X, y, test_size= 0.25)"
      ]
    },
    {
      "cell_type": "code",
      "execution_count": null,
      "metadata": {
        "colab": {
          "base_uri": "https://localhost:8080/",
          "height": 423
        },
        "id": "Bx0tyPOSU80h",
        "outputId": "40264b7b-7583-4b5d-aadd-4b5b35f1add4"
      },
      "outputs": [
        {
          "output_type": "execute_result",
          "data": {
            "text/plain": [
              "      ORIGEN  LOCALIDAD  ESTABLECIMIENTO  EDAD  ANTIGUEDAD  NATIVOS  \\\n",
              "3408       7          3                5    93           7        0   \n",
              "2970      21          3                5    89           7        0   \n",
              "2365       1          3                1    73           9        1   \n",
              "214        1          3                3    31           3        1   \n",
              "726        1          3                1    42           5        1   \n",
              "...      ...        ...              ...   ...         ...      ...   \n",
              "2048       1          3                6    30           2        1   \n",
              "1697       1          3                4    26           2        1   \n",
              "4151      18          3                5    35           6        0   \n",
              "275        1          3                9    36           3        1   \n",
              "2134       1          3               10    32           3        1   \n",
              "\n",
              "            LAT       LONG  DISTANCIA  SEXO_M  VOTO_PASO  \n",
              "3408 -34.774984 -58.411105       1632       0          0  \n",
              "2970 -34.781647 -58.387527       2533       1          0  \n",
              "2365 -34.761068 -58.429852       8207       0          0  \n",
              "214  -34.775331 -58.376331        775       1          1  \n",
              "726  -34.773510 -58.380037       1518       1          1  \n",
              "...         ...        ...        ...     ...        ...  \n",
              "2048 -34.761068 -58.429852       6083       0          1  \n",
              "1697 -34.778793 -58.376748       3039       1          0  \n",
              "4151 -34.767335 -58.391018       1234       1          0  \n",
              "275  -34.771243 -58.392856        895       0          0  \n",
              "2134 -34.761068 -58.429852       6374       0          1  \n",
              "\n",
              "[3621 rows x 11 columns]"
            ],
            "text/html": [
              "\n",
              "  <div id=\"df-5a55cdd4-505d-4598-8c25-7644c1900b9c\">\n",
              "    <div class=\"colab-df-container\">\n",
              "      <div>\n",
              "<style scoped>\n",
              "    .dataframe tbody tr th:only-of-type {\n",
              "        vertical-align: middle;\n",
              "    }\n",
              "\n",
              "    .dataframe tbody tr th {\n",
              "        vertical-align: top;\n",
              "    }\n",
              "\n",
              "    .dataframe thead th {\n",
              "        text-align: right;\n",
              "    }\n",
              "</style>\n",
              "<table border=\"1\" class=\"dataframe\">\n",
              "  <thead>\n",
              "    <tr style=\"text-align: right;\">\n",
              "      <th></th>\n",
              "      <th>ORIGEN</th>\n",
              "      <th>LOCALIDAD</th>\n",
              "      <th>ESTABLECIMIENTO</th>\n",
              "      <th>EDAD</th>\n",
              "      <th>ANTIGUEDAD</th>\n",
              "      <th>NATIVOS</th>\n",
              "      <th>LAT</th>\n",
              "      <th>LONG</th>\n",
              "      <th>DISTANCIA</th>\n",
              "      <th>SEXO_M</th>\n",
              "      <th>VOTO_PASO</th>\n",
              "    </tr>\n",
              "  </thead>\n",
              "  <tbody>\n",
              "    <tr>\n",
              "      <th>3408</th>\n",
              "      <td>7</td>\n",
              "      <td>3</td>\n",
              "      <td>5</td>\n",
              "      <td>93</td>\n",
              "      <td>7</td>\n",
              "      <td>0</td>\n",
              "      <td>-34.774984</td>\n",
              "      <td>-58.411105</td>\n",
              "      <td>1632</td>\n",
              "      <td>0</td>\n",
              "      <td>0</td>\n",
              "    </tr>\n",
              "    <tr>\n",
              "      <th>2970</th>\n",
              "      <td>21</td>\n",
              "      <td>3</td>\n",
              "      <td>5</td>\n",
              "      <td>89</td>\n",
              "      <td>7</td>\n",
              "      <td>0</td>\n",
              "      <td>-34.781647</td>\n",
              "      <td>-58.387527</td>\n",
              "      <td>2533</td>\n",
              "      <td>1</td>\n",
              "      <td>0</td>\n",
              "    </tr>\n",
              "    <tr>\n",
              "      <th>2365</th>\n",
              "      <td>1</td>\n",
              "      <td>3</td>\n",
              "      <td>1</td>\n",
              "      <td>73</td>\n",
              "      <td>9</td>\n",
              "      <td>1</td>\n",
              "      <td>-34.761068</td>\n",
              "      <td>-58.429852</td>\n",
              "      <td>8207</td>\n",
              "      <td>0</td>\n",
              "      <td>0</td>\n",
              "    </tr>\n",
              "    <tr>\n",
              "      <th>214</th>\n",
              "      <td>1</td>\n",
              "      <td>3</td>\n",
              "      <td>3</td>\n",
              "      <td>31</td>\n",
              "      <td>3</td>\n",
              "      <td>1</td>\n",
              "      <td>-34.775331</td>\n",
              "      <td>-58.376331</td>\n",
              "      <td>775</td>\n",
              "      <td>1</td>\n",
              "      <td>1</td>\n",
              "    </tr>\n",
              "    <tr>\n",
              "      <th>726</th>\n",
              "      <td>1</td>\n",
              "      <td>3</td>\n",
              "      <td>1</td>\n",
              "      <td>42</td>\n",
              "      <td>5</td>\n",
              "      <td>1</td>\n",
              "      <td>-34.773510</td>\n",
              "      <td>-58.380037</td>\n",
              "      <td>1518</td>\n",
              "      <td>1</td>\n",
              "      <td>1</td>\n",
              "    </tr>\n",
              "    <tr>\n",
              "      <th>...</th>\n",
              "      <td>...</td>\n",
              "      <td>...</td>\n",
              "      <td>...</td>\n",
              "      <td>...</td>\n",
              "      <td>...</td>\n",
              "      <td>...</td>\n",
              "      <td>...</td>\n",
              "      <td>...</td>\n",
              "      <td>...</td>\n",
              "      <td>...</td>\n",
              "      <td>...</td>\n",
              "    </tr>\n",
              "    <tr>\n",
              "      <th>2048</th>\n",
              "      <td>1</td>\n",
              "      <td>3</td>\n",
              "      <td>6</td>\n",
              "      <td>30</td>\n",
              "      <td>2</td>\n",
              "      <td>1</td>\n",
              "      <td>-34.761068</td>\n",
              "      <td>-58.429852</td>\n",
              "      <td>6083</td>\n",
              "      <td>0</td>\n",
              "      <td>1</td>\n",
              "    </tr>\n",
              "    <tr>\n",
              "      <th>1697</th>\n",
              "      <td>1</td>\n",
              "      <td>3</td>\n",
              "      <td>4</td>\n",
              "      <td>26</td>\n",
              "      <td>2</td>\n",
              "      <td>1</td>\n",
              "      <td>-34.778793</td>\n",
              "      <td>-58.376748</td>\n",
              "      <td>3039</td>\n",
              "      <td>1</td>\n",
              "      <td>0</td>\n",
              "    </tr>\n",
              "    <tr>\n",
              "      <th>4151</th>\n",
              "      <td>18</td>\n",
              "      <td>3</td>\n",
              "      <td>5</td>\n",
              "      <td>35</td>\n",
              "      <td>6</td>\n",
              "      <td>0</td>\n",
              "      <td>-34.767335</td>\n",
              "      <td>-58.391018</td>\n",
              "      <td>1234</td>\n",
              "      <td>1</td>\n",
              "      <td>0</td>\n",
              "    </tr>\n",
              "    <tr>\n",
              "      <th>275</th>\n",
              "      <td>1</td>\n",
              "      <td>3</td>\n",
              "      <td>9</td>\n",
              "      <td>36</td>\n",
              "      <td>3</td>\n",
              "      <td>1</td>\n",
              "      <td>-34.771243</td>\n",
              "      <td>-58.392856</td>\n",
              "      <td>895</td>\n",
              "      <td>0</td>\n",
              "      <td>0</td>\n",
              "    </tr>\n",
              "    <tr>\n",
              "      <th>2134</th>\n",
              "      <td>1</td>\n",
              "      <td>3</td>\n",
              "      <td>10</td>\n",
              "      <td>32</td>\n",
              "      <td>3</td>\n",
              "      <td>1</td>\n",
              "      <td>-34.761068</td>\n",
              "      <td>-58.429852</td>\n",
              "      <td>6374</td>\n",
              "      <td>0</td>\n",
              "      <td>1</td>\n",
              "    </tr>\n",
              "  </tbody>\n",
              "</table>\n",
              "<p>3621 rows × 11 columns</p>\n",
              "</div>\n",
              "      <button class=\"colab-df-convert\" onclick=\"convertToInteractive('df-5a55cdd4-505d-4598-8c25-7644c1900b9c')\"\n",
              "              title=\"Convert this dataframe to an interactive table.\"\n",
              "              style=\"display:none;\">\n",
              "        \n",
              "  <svg xmlns=\"http://www.w3.org/2000/svg\" height=\"24px\"viewBox=\"0 0 24 24\"\n",
              "       width=\"24px\">\n",
              "    <path d=\"M0 0h24v24H0V0z\" fill=\"none\"/>\n",
              "    <path d=\"M18.56 5.44l.94 2.06.94-2.06 2.06-.94-2.06-.94-.94-2.06-.94 2.06-2.06.94zm-11 1L8.5 8.5l.94-2.06 2.06-.94-2.06-.94L8.5 2.5l-.94 2.06-2.06.94zm10 10l.94 2.06.94-2.06 2.06-.94-2.06-.94-.94-2.06-.94 2.06-2.06.94z\"/><path d=\"M17.41 7.96l-1.37-1.37c-.4-.4-.92-.59-1.43-.59-.52 0-1.04.2-1.43.59L10.3 9.45l-7.72 7.72c-.78.78-.78 2.05 0 2.83L4 21.41c.39.39.9.59 1.41.59.51 0 1.02-.2 1.41-.59l7.78-7.78 2.81-2.81c.8-.78.8-2.07 0-2.86zM5.41 20L4 18.59l7.72-7.72 1.47 1.35L5.41 20z\"/>\n",
              "  </svg>\n",
              "      </button>\n",
              "      \n",
              "  <style>\n",
              "    .colab-df-container {\n",
              "      display:flex;\n",
              "      flex-wrap:wrap;\n",
              "      gap: 12px;\n",
              "    }\n",
              "\n",
              "    .colab-df-convert {\n",
              "      background-color: #E8F0FE;\n",
              "      border: none;\n",
              "      border-radius: 50%;\n",
              "      cursor: pointer;\n",
              "      display: none;\n",
              "      fill: #1967D2;\n",
              "      height: 32px;\n",
              "      padding: 0 0 0 0;\n",
              "      width: 32px;\n",
              "    }\n",
              "\n",
              "    .colab-df-convert:hover {\n",
              "      background-color: #E2EBFA;\n",
              "      box-shadow: 0px 1px 2px rgba(60, 64, 67, 0.3), 0px 1px 3px 1px rgba(60, 64, 67, 0.15);\n",
              "      fill: #174EA6;\n",
              "    }\n",
              "\n",
              "    [theme=dark] .colab-df-convert {\n",
              "      background-color: #3B4455;\n",
              "      fill: #D2E3FC;\n",
              "    }\n",
              "\n",
              "    [theme=dark] .colab-df-convert:hover {\n",
              "      background-color: #434B5C;\n",
              "      box-shadow: 0px 1px 3px 1px rgba(0, 0, 0, 0.15);\n",
              "      filter: drop-shadow(0px 1px 2px rgba(0, 0, 0, 0.3));\n",
              "      fill: #FFFFFF;\n",
              "    }\n",
              "  </style>\n",
              "\n",
              "      <script>\n",
              "        const buttonEl =\n",
              "          document.querySelector('#df-5a55cdd4-505d-4598-8c25-7644c1900b9c button.colab-df-convert');\n",
              "        buttonEl.style.display =\n",
              "          google.colab.kernel.accessAllowed ? 'block' : 'none';\n",
              "\n",
              "        async function convertToInteractive(key) {\n",
              "          const element = document.querySelector('#df-5a55cdd4-505d-4598-8c25-7644c1900b9c');\n",
              "          const dataTable =\n",
              "            await google.colab.kernel.invokeFunction('convertToInteractive',\n",
              "                                                     [key], {});\n",
              "          if (!dataTable) return;\n",
              "\n",
              "          const docLinkHtml = 'Like what you see? Visit the ' +\n",
              "            '<a target=\"_blank\" href=https://colab.research.google.com/notebooks/data_table.ipynb>data table notebook</a>'\n",
              "            + ' to learn more about interactive tables.';\n",
              "          element.innerHTML = '';\n",
              "          dataTable['output_type'] = 'display_data';\n",
              "          await google.colab.output.renderOutput(dataTable, element);\n",
              "          const docLink = document.createElement('div');\n",
              "          docLink.innerHTML = docLinkHtml;\n",
              "          element.appendChild(docLink);\n",
              "        }\n",
              "      </script>\n",
              "    </div>\n",
              "  </div>\n",
              "  "
            ]
          },
          "metadata": {},
          "execution_count": 65
        }
      ],
      "source": [
        "X_train"
      ]
    },
    {
      "cell_type": "code",
      "execution_count": null,
      "metadata": {
        "id": "4dhVD_NwU80h"
      },
      "outputs": [],
      "source": [
        "#CREAR UN GENERADOR DE CV\n",
        "from sklearn.model_selection import cross_val_score, StratifiedKFold\n",
        "cv = StratifiedKFold(n_splits=5, random_state=19, shuffle=True)"
      ]
    },
    {
      "cell_type": "code",
      "execution_count": null,
      "metadata": {
        "id": "dERb8xoMU80h"
      },
      "outputs": [],
      "source": [
        "#INSTANCIAR CLASIFICADOR\n",
        "model_xg = XGBClassifier(n_jobs=-1)"
      ]
    },
    {
      "cell_type": "code",
      "execution_count": null,
      "metadata": {
        "id": "KocDgOXtU80h"
      },
      "outputs": [],
      "source": [
        "# DEFINIR LOS HIPERPARÁMETROS\n",
        "params = {  \n",
        "    \"n_estimators\": [50,100,500, 1000],      # Cantidad de modelos base.\n",
        "    \"max_depth\": [1,2,3,4],            # Maxima profundidad.\n",
        "    \"learning_rate\": [0.01, 0.02, 0.03, 0.05],      # Tasa de aprendizaje\n",
        "}"
      ]
    },
    {
      "cell_type": "code",
      "execution_count": null,
      "metadata": {
        "id": "BfjpjmNVU80h"
      },
      "outputs": [],
      "source": [
        "xgb = GridSearchCV(model_xg, param_grid=params, cv=cv, verbose=1, n_jobs=-1)"
      ]
    },
    {
      "cell_type": "code",
      "execution_count": null,
      "metadata": {
        "colab": {
          "base_uri": "https://localhost:8080/",
          "height": 423
        },
        "id": "gYjX9H54U80i",
        "outputId": "cb8a723a-ea50-4cbe-8134-02ba794f9a07"
      },
      "outputs": [
        {
          "output_type": "execute_result",
          "data": {
            "text/plain": [
              "      ORIGEN  LOCALIDAD  ESTABLECIMIENTO  EDAD  ANTIGUEDAD  NATIVOS  \\\n",
              "3408       7          3                5    93           7        0   \n",
              "2970      21          3                5    89           7        0   \n",
              "2365       1          3                1    73           9        1   \n",
              "214        1          3                3    31           3        1   \n",
              "726        1          3                1    42           5        1   \n",
              "...      ...        ...              ...   ...         ...      ...   \n",
              "2048       1          3                6    30           2        1   \n",
              "1697       1          3                4    26           2        1   \n",
              "4151      18          3                5    35           6        0   \n",
              "275        1          3                9    36           3        1   \n",
              "2134       1          3               10    32           3        1   \n",
              "\n",
              "            LAT       LONG  DISTANCIA  SEXO_M  VOTO_PASO  \n",
              "3408 -34.774984 -58.411105       1632       0          0  \n",
              "2970 -34.781647 -58.387527       2533       1          0  \n",
              "2365 -34.761068 -58.429852       8207       0          0  \n",
              "214  -34.775331 -58.376331        775       1          1  \n",
              "726  -34.773510 -58.380037       1518       1          1  \n",
              "...         ...        ...        ...     ...        ...  \n",
              "2048 -34.761068 -58.429852       6083       0          1  \n",
              "1697 -34.778793 -58.376748       3039       1          0  \n",
              "4151 -34.767335 -58.391018       1234       1          0  \n",
              "275  -34.771243 -58.392856        895       0          0  \n",
              "2134 -34.761068 -58.429852       6374       0          1  \n",
              "\n",
              "[3621 rows x 11 columns]"
            ],
            "text/html": [
              "\n",
              "  <div id=\"df-c2c1e795-6d80-44f7-abe2-7d4887f1a989\">\n",
              "    <div class=\"colab-df-container\">\n",
              "      <div>\n",
              "<style scoped>\n",
              "    .dataframe tbody tr th:only-of-type {\n",
              "        vertical-align: middle;\n",
              "    }\n",
              "\n",
              "    .dataframe tbody tr th {\n",
              "        vertical-align: top;\n",
              "    }\n",
              "\n",
              "    .dataframe thead th {\n",
              "        text-align: right;\n",
              "    }\n",
              "</style>\n",
              "<table border=\"1\" class=\"dataframe\">\n",
              "  <thead>\n",
              "    <tr style=\"text-align: right;\">\n",
              "      <th></th>\n",
              "      <th>ORIGEN</th>\n",
              "      <th>LOCALIDAD</th>\n",
              "      <th>ESTABLECIMIENTO</th>\n",
              "      <th>EDAD</th>\n",
              "      <th>ANTIGUEDAD</th>\n",
              "      <th>NATIVOS</th>\n",
              "      <th>LAT</th>\n",
              "      <th>LONG</th>\n",
              "      <th>DISTANCIA</th>\n",
              "      <th>SEXO_M</th>\n",
              "      <th>VOTO_PASO</th>\n",
              "    </tr>\n",
              "  </thead>\n",
              "  <tbody>\n",
              "    <tr>\n",
              "      <th>3408</th>\n",
              "      <td>7</td>\n",
              "      <td>3</td>\n",
              "      <td>5</td>\n",
              "      <td>93</td>\n",
              "      <td>7</td>\n",
              "      <td>0</td>\n",
              "      <td>-34.774984</td>\n",
              "      <td>-58.411105</td>\n",
              "      <td>1632</td>\n",
              "      <td>0</td>\n",
              "      <td>0</td>\n",
              "    </tr>\n",
              "    <tr>\n",
              "      <th>2970</th>\n",
              "      <td>21</td>\n",
              "      <td>3</td>\n",
              "      <td>5</td>\n",
              "      <td>89</td>\n",
              "      <td>7</td>\n",
              "      <td>0</td>\n",
              "      <td>-34.781647</td>\n",
              "      <td>-58.387527</td>\n",
              "      <td>2533</td>\n",
              "      <td>1</td>\n",
              "      <td>0</td>\n",
              "    </tr>\n",
              "    <tr>\n",
              "      <th>2365</th>\n",
              "      <td>1</td>\n",
              "      <td>3</td>\n",
              "      <td>1</td>\n",
              "      <td>73</td>\n",
              "      <td>9</td>\n",
              "      <td>1</td>\n",
              "      <td>-34.761068</td>\n",
              "      <td>-58.429852</td>\n",
              "      <td>8207</td>\n",
              "      <td>0</td>\n",
              "      <td>0</td>\n",
              "    </tr>\n",
              "    <tr>\n",
              "      <th>214</th>\n",
              "      <td>1</td>\n",
              "      <td>3</td>\n",
              "      <td>3</td>\n",
              "      <td>31</td>\n",
              "      <td>3</td>\n",
              "      <td>1</td>\n",
              "      <td>-34.775331</td>\n",
              "      <td>-58.376331</td>\n",
              "      <td>775</td>\n",
              "      <td>1</td>\n",
              "      <td>1</td>\n",
              "    </tr>\n",
              "    <tr>\n",
              "      <th>726</th>\n",
              "      <td>1</td>\n",
              "      <td>3</td>\n",
              "      <td>1</td>\n",
              "      <td>42</td>\n",
              "      <td>5</td>\n",
              "      <td>1</td>\n",
              "      <td>-34.773510</td>\n",
              "      <td>-58.380037</td>\n",
              "      <td>1518</td>\n",
              "      <td>1</td>\n",
              "      <td>1</td>\n",
              "    </tr>\n",
              "    <tr>\n",
              "      <th>...</th>\n",
              "      <td>...</td>\n",
              "      <td>...</td>\n",
              "      <td>...</td>\n",
              "      <td>...</td>\n",
              "      <td>...</td>\n",
              "      <td>...</td>\n",
              "      <td>...</td>\n",
              "      <td>...</td>\n",
              "      <td>...</td>\n",
              "      <td>...</td>\n",
              "      <td>...</td>\n",
              "    </tr>\n",
              "    <tr>\n",
              "      <th>2048</th>\n",
              "      <td>1</td>\n",
              "      <td>3</td>\n",
              "      <td>6</td>\n",
              "      <td>30</td>\n",
              "      <td>2</td>\n",
              "      <td>1</td>\n",
              "      <td>-34.761068</td>\n",
              "      <td>-58.429852</td>\n",
              "      <td>6083</td>\n",
              "      <td>0</td>\n",
              "      <td>1</td>\n",
              "    </tr>\n",
              "    <tr>\n",
              "      <th>1697</th>\n",
              "      <td>1</td>\n",
              "      <td>3</td>\n",
              "      <td>4</td>\n",
              "      <td>26</td>\n",
              "      <td>2</td>\n",
              "      <td>1</td>\n",
              "      <td>-34.778793</td>\n",
              "      <td>-58.376748</td>\n",
              "      <td>3039</td>\n",
              "      <td>1</td>\n",
              "      <td>0</td>\n",
              "    </tr>\n",
              "    <tr>\n",
              "      <th>4151</th>\n",
              "      <td>18</td>\n",
              "      <td>3</td>\n",
              "      <td>5</td>\n",
              "      <td>35</td>\n",
              "      <td>6</td>\n",
              "      <td>0</td>\n",
              "      <td>-34.767335</td>\n",
              "      <td>-58.391018</td>\n",
              "      <td>1234</td>\n",
              "      <td>1</td>\n",
              "      <td>0</td>\n",
              "    </tr>\n",
              "    <tr>\n",
              "      <th>275</th>\n",
              "      <td>1</td>\n",
              "      <td>3</td>\n",
              "      <td>9</td>\n",
              "      <td>36</td>\n",
              "      <td>3</td>\n",
              "      <td>1</td>\n",
              "      <td>-34.771243</td>\n",
              "      <td>-58.392856</td>\n",
              "      <td>895</td>\n",
              "      <td>0</td>\n",
              "      <td>0</td>\n",
              "    </tr>\n",
              "    <tr>\n",
              "      <th>2134</th>\n",
              "      <td>1</td>\n",
              "      <td>3</td>\n",
              "      <td>10</td>\n",
              "      <td>32</td>\n",
              "      <td>3</td>\n",
              "      <td>1</td>\n",
              "      <td>-34.761068</td>\n",
              "      <td>-58.429852</td>\n",
              "      <td>6374</td>\n",
              "      <td>0</td>\n",
              "      <td>1</td>\n",
              "    </tr>\n",
              "  </tbody>\n",
              "</table>\n",
              "<p>3621 rows × 11 columns</p>\n",
              "</div>\n",
              "      <button class=\"colab-df-convert\" onclick=\"convertToInteractive('df-c2c1e795-6d80-44f7-abe2-7d4887f1a989')\"\n",
              "              title=\"Convert this dataframe to an interactive table.\"\n",
              "              style=\"display:none;\">\n",
              "        \n",
              "  <svg xmlns=\"http://www.w3.org/2000/svg\" height=\"24px\"viewBox=\"0 0 24 24\"\n",
              "       width=\"24px\">\n",
              "    <path d=\"M0 0h24v24H0V0z\" fill=\"none\"/>\n",
              "    <path d=\"M18.56 5.44l.94 2.06.94-2.06 2.06-.94-2.06-.94-.94-2.06-.94 2.06-2.06.94zm-11 1L8.5 8.5l.94-2.06 2.06-.94-2.06-.94L8.5 2.5l-.94 2.06-2.06.94zm10 10l.94 2.06.94-2.06 2.06-.94-2.06-.94-.94-2.06-.94 2.06-2.06.94z\"/><path d=\"M17.41 7.96l-1.37-1.37c-.4-.4-.92-.59-1.43-.59-.52 0-1.04.2-1.43.59L10.3 9.45l-7.72 7.72c-.78.78-.78 2.05 0 2.83L4 21.41c.39.39.9.59 1.41.59.51 0 1.02-.2 1.41-.59l7.78-7.78 2.81-2.81c.8-.78.8-2.07 0-2.86zM5.41 20L4 18.59l7.72-7.72 1.47 1.35L5.41 20z\"/>\n",
              "  </svg>\n",
              "      </button>\n",
              "      \n",
              "  <style>\n",
              "    .colab-df-container {\n",
              "      display:flex;\n",
              "      flex-wrap:wrap;\n",
              "      gap: 12px;\n",
              "    }\n",
              "\n",
              "    .colab-df-convert {\n",
              "      background-color: #E8F0FE;\n",
              "      border: none;\n",
              "      border-radius: 50%;\n",
              "      cursor: pointer;\n",
              "      display: none;\n",
              "      fill: #1967D2;\n",
              "      height: 32px;\n",
              "      padding: 0 0 0 0;\n",
              "      width: 32px;\n",
              "    }\n",
              "\n",
              "    .colab-df-convert:hover {\n",
              "      background-color: #E2EBFA;\n",
              "      box-shadow: 0px 1px 2px rgba(60, 64, 67, 0.3), 0px 1px 3px 1px rgba(60, 64, 67, 0.15);\n",
              "      fill: #174EA6;\n",
              "    }\n",
              "\n",
              "    [theme=dark] .colab-df-convert {\n",
              "      background-color: #3B4455;\n",
              "      fill: #D2E3FC;\n",
              "    }\n",
              "\n",
              "    [theme=dark] .colab-df-convert:hover {\n",
              "      background-color: #434B5C;\n",
              "      box-shadow: 0px 1px 3px 1px rgba(0, 0, 0, 0.15);\n",
              "      filter: drop-shadow(0px 1px 2px rgba(0, 0, 0, 0.3));\n",
              "      fill: #FFFFFF;\n",
              "    }\n",
              "  </style>\n",
              "\n",
              "      <script>\n",
              "        const buttonEl =\n",
              "          document.querySelector('#df-c2c1e795-6d80-44f7-abe2-7d4887f1a989 button.colab-df-convert');\n",
              "        buttonEl.style.display =\n",
              "          google.colab.kernel.accessAllowed ? 'block' : 'none';\n",
              "\n",
              "        async function convertToInteractive(key) {\n",
              "          const element = document.querySelector('#df-c2c1e795-6d80-44f7-abe2-7d4887f1a989');\n",
              "          const dataTable =\n",
              "            await google.colab.kernel.invokeFunction('convertToInteractive',\n",
              "                                                     [key], {});\n",
              "          if (!dataTable) return;\n",
              "\n",
              "          const docLinkHtml = 'Like what you see? Visit the ' +\n",
              "            '<a target=\"_blank\" href=https://colab.research.google.com/notebooks/data_table.ipynb>data table notebook</a>'\n",
              "            + ' to learn more about interactive tables.';\n",
              "          element.innerHTML = '';\n",
              "          dataTable['output_type'] = 'display_data';\n",
              "          await google.colab.output.renderOutput(dataTable, element);\n",
              "          const docLink = document.createElement('div');\n",
              "          docLink.innerHTML = docLinkHtml;\n",
              "          element.appendChild(docLink);\n",
              "        }\n",
              "      </script>\n",
              "    </div>\n",
              "  </div>\n",
              "  "
            ]
          },
          "metadata": {},
          "execution_count": 70
        }
      ],
      "source": [
        "X_train"
      ]
    },
    {
      "cell_type": "code",
      "execution_count": null,
      "metadata": {
        "colab": {
          "base_uri": "https://localhost:8080/",
          "height": 134
        },
        "id": "l-MVy7UCU80i",
        "outputId": "ca2a0f05-99b0-40a5-f0ef-f7a8e93218b8"
      },
      "outputs": [
        {
          "output_type": "stream",
          "name": "stdout",
          "text": [
            "Fitting 5 folds for each of 64 candidates, totalling 320 fits\n"
          ]
        },
        {
          "output_type": "execute_result",
          "data": {
            "text/plain": [
              "GridSearchCV(cv=StratifiedKFold(n_splits=5, random_state=19, shuffle=True),\n",
              "             estimator=XGBClassifier(base_score=None, booster=None,\n",
              "                                     callbacks=None, colsample_bylevel=None,\n",
              "                                     colsample_bynode=None,\n",
              "                                     colsample_bytree=None,\n",
              "                                     early_stopping_rounds=None,\n",
              "                                     enable_categorical=False, eval_metric=None,\n",
              "                                     feature_types=None, gamma=None,\n",
              "                                     gpu_id=None, grow_policy=None,\n",
              "                                     importance_typ...\n",
              "                                     max_cat_threshold=None,\n",
              "                                     max_cat_to_onehot=None,\n",
              "                                     max_delta_step=None, max_depth=None,\n",
              "                                     max_leaves=None, min_child_weight=None,\n",
              "                                     missing=nan, monotone_constraints=None,\n",
              "                                     n_estimators=100, n_jobs=-1,\n",
              "                                     num_parallel_tree=None, predictor=None,\n",
              "                                     random_state=None, ...),\n",
              "             n_jobs=-1,\n",
              "             param_grid={'learning_rate': [0.01, 0.02, 0.03, 0.05],\n",
              "                         'max_depth': [1, 2, 3, 4],\n",
              "                         'n_estimators': [50, 100, 500, 1000]},\n",
              "             verbose=1)"
            ],
            "text/html": [
              "<style>#sk-container-id-2 {color: black;background-color: white;}#sk-container-id-2 pre{padding: 0;}#sk-container-id-2 div.sk-toggleable {background-color: white;}#sk-container-id-2 label.sk-toggleable__label {cursor: pointer;display: block;width: 100%;margin-bottom: 0;padding: 0.3em;box-sizing: border-box;text-align: center;}#sk-container-id-2 label.sk-toggleable__label-arrow:before {content: \"▸\";float: left;margin-right: 0.25em;color: #696969;}#sk-container-id-2 label.sk-toggleable__label-arrow:hover:before {color: black;}#sk-container-id-2 div.sk-estimator:hover label.sk-toggleable__label-arrow:before {color: black;}#sk-container-id-2 div.sk-toggleable__content {max-height: 0;max-width: 0;overflow: hidden;text-align: left;background-color: #f0f8ff;}#sk-container-id-2 div.sk-toggleable__content pre {margin: 0.2em;color: black;border-radius: 0.25em;background-color: #f0f8ff;}#sk-container-id-2 input.sk-toggleable__control:checked~div.sk-toggleable__content {max-height: 200px;max-width: 100%;overflow: auto;}#sk-container-id-2 input.sk-toggleable__control:checked~label.sk-toggleable__label-arrow:before {content: \"▾\";}#sk-container-id-2 div.sk-estimator input.sk-toggleable__control:checked~label.sk-toggleable__label {background-color: #d4ebff;}#sk-container-id-2 div.sk-label input.sk-toggleable__control:checked~label.sk-toggleable__label {background-color: #d4ebff;}#sk-container-id-2 input.sk-hidden--visually {border: 0;clip: rect(1px 1px 1px 1px);clip: rect(1px, 1px, 1px, 1px);height: 1px;margin: -1px;overflow: hidden;padding: 0;position: absolute;width: 1px;}#sk-container-id-2 div.sk-estimator {font-family: monospace;background-color: #f0f8ff;border: 1px dotted black;border-radius: 0.25em;box-sizing: border-box;margin-bottom: 0.5em;}#sk-container-id-2 div.sk-estimator:hover {background-color: #d4ebff;}#sk-container-id-2 div.sk-parallel-item::after {content: \"\";width: 100%;border-bottom: 1px solid gray;flex-grow: 1;}#sk-container-id-2 div.sk-label:hover label.sk-toggleable__label {background-color: #d4ebff;}#sk-container-id-2 div.sk-serial::before {content: \"\";position: absolute;border-left: 1px solid gray;box-sizing: border-box;top: 0;bottom: 0;left: 50%;z-index: 0;}#sk-container-id-2 div.sk-serial {display: flex;flex-direction: column;align-items: center;background-color: white;padding-right: 0.2em;padding-left: 0.2em;position: relative;}#sk-container-id-2 div.sk-item {position: relative;z-index: 1;}#sk-container-id-2 div.sk-parallel {display: flex;align-items: stretch;justify-content: center;background-color: white;position: relative;}#sk-container-id-2 div.sk-item::before, #sk-container-id-2 div.sk-parallel-item::before {content: \"\";position: absolute;border-left: 1px solid gray;box-sizing: border-box;top: 0;bottom: 0;left: 50%;z-index: -1;}#sk-container-id-2 div.sk-parallel-item {display: flex;flex-direction: column;z-index: 1;position: relative;background-color: white;}#sk-container-id-2 div.sk-parallel-item:first-child::after {align-self: flex-end;width: 50%;}#sk-container-id-2 div.sk-parallel-item:last-child::after {align-self: flex-start;width: 50%;}#sk-container-id-2 div.sk-parallel-item:only-child::after {width: 0;}#sk-container-id-2 div.sk-dashed-wrapped {border: 1px dashed gray;margin: 0 0.4em 0.5em 0.4em;box-sizing: border-box;padding-bottom: 0.4em;background-color: white;}#sk-container-id-2 div.sk-label label {font-family: monospace;font-weight: bold;display: inline-block;line-height: 1.2em;}#sk-container-id-2 div.sk-label-container {text-align: center;}#sk-container-id-2 div.sk-container {/* jupyter's `normalize.less` sets `[hidden] { display: none; }` but bootstrap.min.css set `[hidden] { display: none !important; }` so we also need the `!important` here to be able to override the default hidden behavior on the sphinx rendered scikit-learn.org. See: https://github.com/scikit-learn/scikit-learn/issues/21755 */display: inline-block !important;position: relative;}#sk-container-id-2 div.sk-text-repr-fallback {display: none;}</style><div id=\"sk-container-id-2\" class=\"sk-top-container\"><div class=\"sk-text-repr-fallback\"><pre>GridSearchCV(cv=StratifiedKFold(n_splits=5, random_state=19, shuffle=True),\n",
              "             estimator=XGBClassifier(base_score=None, booster=None,\n",
              "                                     callbacks=None, colsample_bylevel=None,\n",
              "                                     colsample_bynode=None,\n",
              "                                     colsample_bytree=None,\n",
              "                                     early_stopping_rounds=None,\n",
              "                                     enable_categorical=False, eval_metric=None,\n",
              "                                     feature_types=None, gamma=None,\n",
              "                                     gpu_id=None, grow_policy=None,\n",
              "                                     importance_typ...\n",
              "                                     max_cat_threshold=None,\n",
              "                                     max_cat_to_onehot=None,\n",
              "                                     max_delta_step=None, max_depth=None,\n",
              "                                     max_leaves=None, min_child_weight=None,\n",
              "                                     missing=nan, monotone_constraints=None,\n",
              "                                     n_estimators=100, n_jobs=-1,\n",
              "                                     num_parallel_tree=None, predictor=None,\n",
              "                                     random_state=None, ...),\n",
              "             n_jobs=-1,\n",
              "             param_grid={&#x27;learning_rate&#x27;: [0.01, 0.02, 0.03, 0.05],\n",
              "                         &#x27;max_depth&#x27;: [1, 2, 3, 4],\n",
              "                         &#x27;n_estimators&#x27;: [50, 100, 500, 1000]},\n",
              "             verbose=1)</pre><b>In a Jupyter environment, please rerun this cell to show the HTML representation or trust the notebook. <br />On GitHub, the HTML representation is unable to render, please try loading this page with nbviewer.org.</b></div><div class=\"sk-container\" hidden><div class=\"sk-item sk-dashed-wrapped\"><div class=\"sk-label-container\"><div class=\"sk-label sk-toggleable\"><input class=\"sk-toggleable__control sk-hidden--visually\" id=\"sk-estimator-id-4\" type=\"checkbox\" ><label for=\"sk-estimator-id-4\" class=\"sk-toggleable__label sk-toggleable__label-arrow\">GridSearchCV</label><div class=\"sk-toggleable__content\"><pre>GridSearchCV(cv=StratifiedKFold(n_splits=5, random_state=19, shuffle=True),\n",
              "             estimator=XGBClassifier(base_score=None, booster=None,\n",
              "                                     callbacks=None, colsample_bylevel=None,\n",
              "                                     colsample_bynode=None,\n",
              "                                     colsample_bytree=None,\n",
              "                                     early_stopping_rounds=None,\n",
              "                                     enable_categorical=False, eval_metric=None,\n",
              "                                     feature_types=None, gamma=None,\n",
              "                                     gpu_id=None, grow_policy=None,\n",
              "                                     importance_typ...\n",
              "                                     max_cat_threshold=None,\n",
              "                                     max_cat_to_onehot=None,\n",
              "                                     max_delta_step=None, max_depth=None,\n",
              "                                     max_leaves=None, min_child_weight=None,\n",
              "                                     missing=nan, monotone_constraints=None,\n",
              "                                     n_estimators=100, n_jobs=-1,\n",
              "                                     num_parallel_tree=None, predictor=None,\n",
              "                                     random_state=None, ...),\n",
              "             n_jobs=-1,\n",
              "             param_grid={&#x27;learning_rate&#x27;: [0.01, 0.02, 0.03, 0.05],\n",
              "                         &#x27;max_depth&#x27;: [1, 2, 3, 4],\n",
              "                         &#x27;n_estimators&#x27;: [50, 100, 500, 1000]},\n",
              "             verbose=1)</pre></div></div></div><div class=\"sk-parallel\"><div class=\"sk-parallel-item\"><div class=\"sk-item\"><div class=\"sk-label-container\"><div class=\"sk-label sk-toggleable\"><input class=\"sk-toggleable__control sk-hidden--visually\" id=\"sk-estimator-id-5\" type=\"checkbox\" ><label for=\"sk-estimator-id-5\" class=\"sk-toggleable__label sk-toggleable__label-arrow\">estimator: XGBClassifier</label><div class=\"sk-toggleable__content\"><pre>XGBClassifier(base_score=None, booster=None, callbacks=None,\n",
              "              colsample_bylevel=None, colsample_bynode=None,\n",
              "              colsample_bytree=None, early_stopping_rounds=None,\n",
              "              enable_categorical=False, eval_metric=None, feature_types=None,\n",
              "              gamma=None, gpu_id=None, grow_policy=None, importance_type=None,\n",
              "              interaction_constraints=None, learning_rate=None, max_bin=None,\n",
              "              max_cat_threshold=None, max_cat_to_onehot=None,\n",
              "              max_delta_step=None, max_depth=None, max_leaves=None,\n",
              "              min_child_weight=None, missing=nan, monotone_constraints=None,\n",
              "              n_estimators=100, n_jobs=-1, num_parallel_tree=None,\n",
              "              predictor=None, random_state=None, ...)</pre></div></div></div><div class=\"sk-serial\"><div class=\"sk-item\"><div class=\"sk-estimator sk-toggleable\"><input class=\"sk-toggleable__control sk-hidden--visually\" id=\"sk-estimator-id-6\" type=\"checkbox\" ><label for=\"sk-estimator-id-6\" class=\"sk-toggleable__label sk-toggleable__label-arrow\">XGBClassifier</label><div class=\"sk-toggleable__content\"><pre>XGBClassifier(base_score=None, booster=None, callbacks=None,\n",
              "              colsample_bylevel=None, colsample_bynode=None,\n",
              "              colsample_bytree=None, early_stopping_rounds=None,\n",
              "              enable_categorical=False, eval_metric=None, feature_types=None,\n",
              "              gamma=None, gpu_id=None, grow_policy=None, importance_type=None,\n",
              "              interaction_constraints=None, learning_rate=None, max_bin=None,\n",
              "              max_cat_threshold=None, max_cat_to_onehot=None,\n",
              "              max_delta_step=None, max_depth=None, max_leaves=None,\n",
              "              min_child_weight=None, missing=nan, monotone_constraints=None,\n",
              "              n_estimators=100, n_jobs=-1, num_parallel_tree=None,\n",
              "              predictor=None, random_state=None, ...)</pre></div></div></div></div></div></div></div></div></div></div>"
            ]
          },
          "metadata": {},
          "execution_count": 71
        }
      ],
      "source": [
        "xgb.fit(X_train,y_train)"
      ]
    },
    {
      "cell_type": "code",
      "execution_count": null,
      "metadata": {
        "colab": {
          "base_uri": "https://localhost:8080/"
        },
        "id": "psLnhmhXU80i",
        "outputId": "2ab692ea-cc2d-473c-c057-b6b48996531c"
      },
      "outputs": [
        {
          "output_type": "execute_result",
          "data": {
            "text/plain": [
              "{'learning_rate': 0.01, 'max_depth': 1, 'n_estimators': 50}"
            ]
          },
          "metadata": {},
          "execution_count": 72
        }
      ],
      "source": [
        "xgb.best_params_"
      ]
    },
    {
      "cell_type": "code",
      "execution_count": null,
      "metadata": {
        "id": "1aSGEAYEU80i"
      },
      "outputs": [],
      "source": [
        "#FUNCION PARA EVALUAR EL RENDIMIENTO DE LOS MODELOS\n",
        "#from sklearn.model_selection import cross_val_score\n",
        "def evaluar_rendimiento(modelo, nombre, X, y, cv):\n",
        "    s = cross_val_score(modelo, X, y, cv=cv, n_jobs=-1)\n",
        "    print(\"Rendimiento de {}:\\t{:0.3} ± {:0.3}\".format( \\\n",
        "        nombre, s.mean().round(3), s.std().round(3)))"
      ]
    },
    {
      "cell_type": "code",
      "execution_count": null,
      "metadata": {
        "colab": {
          "base_uri": "https://localhost:8080/"
        },
        "id": "rb5fNsKFU80i",
        "outputId": "de9e2825-3226-4c8f-a3fe-f003f65c5d4c"
      },
      "outputs": [
        {
          "output_type": "stream",
          "name": "stdout",
          "text": [
            "Rendimiento de XG Boost:\t0.882 ± 0.008\n"
          ]
        }
      ],
      "source": [
        "###EVALUAR EL RENDIMIENTO EN TRAIN\n",
        "evaluar_rendimiento(xgb.best_estimator_,\"XG Boost\", X_train, y_train, cv)"
      ]
    },
    {
      "cell_type": "code",
      "execution_count": null,
      "metadata": {
        "colab": {
          "base_uri": "https://localhost:8080/"
        },
        "id": "IWEV5v1MU80i",
        "outputId": "82d5c57e-5b84-4dd7-8ecb-022ebf0d2e13"
      },
      "outputs": [
        {
          "output_type": "stream",
          "name": "stdout",
          "text": [
            "Rendimiento de XG Boost:\t0.89 ± 0.024\n"
          ]
        }
      ],
      "source": [
        "###EVALUAR EL RENDIMIENTO EN TEST\n",
        "evaluar_rendimiento(xgb.best_estimator_,\"XG Boost\", y_test, xgb.predict(X_test), cv)"
      ]
    },
    {
      "cell_type": "code",
      "execution_count": null,
      "metadata": {
        "colab": {
          "base_uri": "https://localhost:8080/"
        },
        "id": "S-A3w9orU80i",
        "outputId": "d2b4db97-f72c-4b5e-a853-0e7683dc3a95"
      },
      "outputs": [
        {
          "output_type": "stream",
          "name": "stdout",
          "text": [
            "El valor del AUC es:  0.8900491672572642\n"
          ]
        }
      ],
      "source": [
        "xgb_auc = roc_auc_score(y_test, xgb.predict(X_test))\n",
        "print(\"El valor del AUC es: \", xgb_auc)"
      ]
    },
    {
      "cell_type": "code",
      "execution_count": null,
      "metadata": {
        "colab": {
          "base_uri": "https://localhost:8080/"
        },
        "id": "w9cq4_U8U80i",
        "outputId": "af5031d0-78a0-49e0-d8d5-5e0f1a4cb3ce"
      },
      "outputs": [
        {
          "output_type": "execute_result",
          "data": {
            "text/plain": [
              "array([0, 1, 0, ..., 0, 0, 0])"
            ]
          },
          "metadata": {},
          "execution_count": 77
        }
      ],
      "source": [
        "xgb.predict(X_test)"
      ]
    },
    {
      "cell_type": "markdown",
      "source": [
        "###METRICAS"
      ],
      "metadata": {
        "id": "Dki-pPK9fwyf"
      }
    },
    {
      "cell_type": "code",
      "source": [
        "predict_class = xgb.predict(X_test)\n",
        "accuracy_class = accuracy_score(y_test, predict_class)\n",
        "print(accuracy_class)\n",
        "\n",
        "conf_class = confusion_matrix(y_test, predict_class)\n",
        "print(conf_class)"
      ],
      "metadata": {
        "colab": {
          "base_uri": "https://localhost:8080/"
        },
        "id": "6xgCrtltfrJM",
        "outputId": "3a85ed03-ac0f-45da-a533-11e459c1431d"
      },
      "execution_count": null,
      "outputs": [
        {
          "output_type": "stream",
          "name": "stdout",
          "text": [
            "0.8899006622516556\n",
            "[[590  74]\n",
            " [ 59 485]]\n"
          ]
        }
      ]
    },
    {
      "cell_type": "code",
      "source": [
        "# CREAR FIGURA\n",
        "fig, ax = plt.subplots(figsize=(8, 6))\n",
        "\n",
        "# MATRIZ CON HEATMAP\n",
        "sns.heatmap(confusion_matrix(y_test, predict_class), annot=True, fmt='.0f', ax=ax)\n",
        "\n",
        "# ETIQUETAS EJES\n",
        "plt.ylabel('Real')\n",
        "plt.xlabel('Prediction')"
      ],
      "metadata": {
        "colab": {
          "base_uri": "https://localhost:8080/",
          "height": 560
        },
        "id": "yoThtNkPhLBg",
        "outputId": "f399879f-00e3-4c66-d8a4-9121c29e6a4c"
      },
      "execution_count": null,
      "outputs": [
        {
          "output_type": "execute_result",
          "data": {
            "text/plain": [
              "Text(0.5, 36.72222222222221, 'Prediction')"
            ]
          },
          "metadata": {},
          "execution_count": 86
        },
        {
          "output_type": "display_data",
          "data": {
            "text/plain": [
              "<Figure size 800x600 with 2 Axes>"
            ],
            "image/png": "[encoded data removed]"
          },
          "metadata": {}
        }
      ]
    },
    {
      "cell_type": "code",
      "source": [
        "TP = conf_class[1, 1]; TN = conf_class[0, 0] ; FP = conf_class[0, 1] ; FN = conf_class[1, 0]\n",
        "print('TP: ', TP,' TN: ', TN,' FP: ',FP,' FN: ',FN )"
      ],
      "metadata": {
        "colab": {
          "base_uri": "https://localhost:8080/"
        },
        "id": "r72L2A6ogBmq",
        "outputId": "79d66399-4c4c-402b-e7fc-e5db757339c8"
      },
      "execution_count": null,
      "outputs": [
        {
          "output_type": "stream",
          "name": "stdout",
          "text": [
            "TP:  485  TN:  590  FP:  74  FN:  59\n"
          ]
        }
      ]
    },
    {
      "cell_type": "code",
      "source": [
        "from sklearn.metrics import precision_score\n",
        "precision_score(y_true=y_test, y_pred=predict_class)"
      ],
      "metadata": {
        "colab": {
          "base_uri": "https://localhost:8080/"
        },
        "id": "8eAisf0wgFlJ",
        "outputId": "df6e1a18-e56e-4788-bd5d-a41b2c4c03f5"
      },
      "execution_count": null,
      "outputs": [
        {
          "output_type": "execute_result",
          "data": {
            "text/plain": [
              "0.8676207513416816"
            ]
          },
          "metadata": {},
          "execution_count": 82
        }
      ]
    },
    {
      "cell_type": "code",
      "source": [
        "from sklearn.metrics import recall_score\n",
        "recall_score(y_true=y_test, y_pred=predict_class)"
      ],
      "metadata": {
        "colab": {
          "base_uri": "https://localhost:8080/"
        },
        "id": "c-g0nSnTgL6V",
        "outputId": "cc9870f9-a64d-4134-ffe9-f36109007d22"
      },
      "execution_count": null,
      "outputs": [
        {
          "output_type": "execute_result",
          "data": {
            "text/plain": [
              "0.8915441176470589"
            ]
          },
          "metadata": {},
          "execution_count": 83
        }
      ]
    },
    {
      "cell_type": "code",
      "source": [
        "from sklearn.metrics import f1_score\n",
        "f1_score(y_true=y_test, y_pred=predict_class)"
      ],
      "metadata": {
        "colab": {
          "base_uri": "https://localhost:8080/"
        },
        "id": "rF7PDhfigpRO",
        "outputId": "e148fc80-0508-4567-aa07-48a69e783844"
      },
      "execution_count": null,
      "outputs": [
        {
          "output_type": "execute_result",
          "data": {
            "text/plain": [
              "0.8794197642792384"
            ]
          },
          "metadata": {},
          "execution_count": 84
        }
      ]
    },
    {
      "cell_type": "code",
      "source": [
        "specificity = TN / (TN + FP)\n",
        "print(specificity)"
      ],
      "metadata": {
        "colab": {
          "base_uri": "https://localhost:8080/"
        },
        "id": "N-8V7fW9gz-v",
        "outputId": "d5fa2990-619d-4afa-e876-849dc24a5cea"
      },
      "execution_count": null,
      "outputs": [
        {
          "output_type": "stream",
          "name": "stdout",
          "text": [
            "0.8885542168674698\n"
          ]
        }
      ]
    },
    {
      "cell_type": "code",
      "execution_count": null,
      "metadata": {
        "colab": {
          "base_uri": "https://localhost:8080/"
        },
        "id": "Ob8FPDgrU80i",
        "outputId": "1a129d92-b7c6-4b67-a285-d2c0260830c2"
      },
      "outputs": [
        {
          "output_type": "stream",
          "name": "stdout",
          "text": [
            "Looking in indexes: https://pypi.org/simple, https://us-python.pkg.dev/colab-wheels/public/simple/\n",
            "Requirement already satisfied: scikit-plot in /usr/local/lib/python3.10/dist-packages (0.3.7)\n",
            "Requirement already satisfied: matplotlib>=1.4.0 in /usr/local/lib/python3.10/dist-packages (from scikit-plot) (3.7.1)\n",
            "Requirement already satisfied: scikit-learn>=0.18 in /usr/local/lib/python3.10/dist-packages (from scikit-plot) (1.2.2)\n",
            "Requirement already satisfied: scipy>=0.9 in /usr/local/lib/python3.10/dist-packages (from scikit-plot) (1.10.1)\n",
            "Requirement already satisfied: joblib>=0.10 in /usr/local/lib/python3.10/dist-packages (from scikit-plot) (1.2.0)\n",
            "Requirement already satisfied: contourpy>=1.0.1 in /usr/local/lib/python3.10/dist-packages (from matplotlib>=1.4.0->scikit-plot) (1.0.7)\n",
            "Requirement already satisfied: cycler>=0.10 in /usr/local/lib/python3.10/dist-packages (from matplotlib>=1.4.0->scikit-plot) (0.11.0)\n",
            "Requirement already satisfied: fonttools>=4.22.0 in /usr/local/lib/python3.10/dist-packages (from matplotlib>=1.4.0->scikit-plot) (4.39.3)\n",
            "Requirement already satisfied: kiwisolver>=1.0.1 in /usr/local/lib/python3.10/dist-packages (from matplotlib>=1.4.0->scikit-plot) (1.4.4)\n",
            "Requirement already satisfied: numpy>=1.20 in /usr/local/lib/python3.10/dist-packages (from matplotlib>=1.4.0->scikit-plot) (1.22.4)\n",
            "Requirement already satisfied: packaging>=20.0 in /usr/local/lib/python3.10/dist-packages (from matplotlib>=1.4.0->scikit-plot) (23.1)\n",
            "Requirement already satisfied: pillow>=6.2.0 in /usr/local/lib/python3.10/dist-packages (from matplotlib>=1.4.0->scikit-plot) (8.4.0)\n",
            "Requirement already satisfied: pyparsing>=2.3.1 in /usr/local/lib/python3.10/dist-packages (from matplotlib>=1.4.0->scikit-plot) (3.0.9)\n",
            "Requirement already satisfied: python-dateutil>=2.7 in /usr/local/lib/python3.10/dist-packages (from matplotlib>=1.4.0->scikit-plot) (2.8.2)\n",
            "Requirement already satisfied: threadpoolctl>=2.0.0 in /usr/local/lib/python3.10/dist-packages (from scikit-learn>=0.18->scikit-plot) (3.1.0)\n",
            "Requirement already satisfied: six>=1.5 in /usr/local/lib/python3.10/dist-packages (from python-dateutil>=2.7->matplotlib>=1.4.0->scikit-plot) (1.16.0)\n"
          ]
        }
      ],
      "source": [
        "!pip install scikit-plot"
      ]
    },
    {
      "cell_type": "code",
      "execution_count": null,
      "metadata": {
        "colab": {
          "base_uri": "https://localhost:8080/",
          "height": 472
        },
        "id": "zcgtIzcOU80i",
        "outputId": "5b134c36-ac63-4177-b2fc-10a6d21f8943"
      },
      "outputs": [
        {
          "output_type": "display_data",
          "data": {
            "text/plain": [
              "<Figure size 640x480 with 1 Axes>"
            ],
            "image/png": "[encoded data removed]"
          },
          "metadata": {}
        }
      ],
      "source": [
        "import scikitplot as skplt\n",
        "from scikitplot.metrics import plot_roc\n",
        "plot_roc(y_test, xgb.predict_proba(X_test), plot_micro = False, plot_macro= False);"
      ]
    },
    {
      "cell_type": "code",
      "execution_count": null,
      "metadata": {
        "colab": {
          "base_uri": "https://localhost:8080/",
          "height": 472
        },
        "id": "kaMg-SQwU80j",
        "outputId": "621b6cc2-9d5c-46c6-ab37-5a81455aeb89"
      },
      "outputs": [
        {
          "output_type": "display_data",
          "data": {
            "text/plain": [
              "<Figure size 640x480 with 1 Axes>"
            ],
            "image/png": "[encoded data removed]"
          },
          "metadata": {}
        }
      ],
      "source": [
        "from xgboost import plot_importance\n",
        "plot_importance(xgb.best_estimator_, height = 0.8,max_num_features=5);"
      ]
    },
    {
      "cell_type": "code",
      "source": [
        "!pip list -v\n"
      ],
      "metadata": {
        "colab": {
          "base_uri": "https://localhost:8080/"
        },
        "id": "Ou5QAKmqjRVB",
        "outputId": "8a0ca402-4f76-4360-c63e-3f39e7df8f52"
      },
      "execution_count": null,
      "outputs": [
        {
          "output_type": "stream",
          "name": "stdout",
          "text": [
            "Package                       Version              Location                                Installer\n",
            "----------------------------- -------------------- --------------------------------------- ---------\n",
            "absl-py                       1.4.0                /usr/local/lib/python3.10/dist-packages pip\n",
            "alabaster                     0.7.13               /usr/local/lib/python3.10/dist-packages pip\n",
            "albumentations                1.2.1                /usr/local/lib/python3.10/dist-packages pip\n",
            "altair                        4.2.2                /usr/local/lib/python3.10/dist-packages pip\n",
            "anyio                         3.6.2                /usr/local/lib/python3.10/dist-packages pip\n",
            "appdirs                       1.4.4                /usr/local/lib/python3.10/dist-packages pip\n",
            "argon2-cffi                   21.3.0               /usr/local/lib/python3.10/dist-packages pip\n",
            "argon2-cffi-bindings          21.2.0               /usr/local/lib/python3.10/dist-packages pip\n",
            "array-record                  0.2.0                /usr/local/lib/python3.10/dist-packages pip\n",
            "arviz                         0.15.1               /usr/local/lib/python3.10/dist-packages pip\n",
            "astropy                       5.2.2                /usr/local/lib/python3.10/dist-packages pip\n",
            "astunparse                    1.6.3                /usr/local/lib/python3.10/dist-packages pip\n",
            "attrs                         23.1.0               /usr/local/lib/python3.10/dist-packages pip\n",
            "audioread                     3.0.0                /usr/local/lib/python3.10/dist-packages pip\n",
            "autograd                      1.5                  /usr/local/lib/python3.10/dist-packages pip\n",
            "Babel                         2.12.1               /usr/local/lib/python3.10/dist-packages pip\n",
            "backcall                      0.2.0                /usr/local/lib/python3.10/dist-packages pip\n",
            "beautifulsoup4                4.11.2               /usr/local/lib/python3.10/dist-packages pip\n",
            "bleach                        6.0.0                /usr/local/lib/python3.10/dist-packages pip\n",
            "blis                          0.7.9                /usr/local/lib/python3.10/dist-packages pip\n",
            "blosc2                        2.0.0                /usr/local/lib/python3.10/dist-packages pip\n",
            "bokeh                         2.4.3                /usr/local/lib/python3.10/dist-packages pip\n",
            "branca                        0.6.0                /usr/local/lib/python3.10/dist-packages pip\n",
            "build                         0.10.0               /usr/local/lib/python3.10/dist-packages pip\n",
            "CacheControl                  0.12.11              /usr/local/lib/python3.10/dist-packages pip\n",
            "cached-property               1.5.2                /usr/local/lib/python3.10/dist-packages pip\n",
            "cachetools                    5.3.0                /usr/local/lib/python3.10/dist-packages pip\n",
            "catalogue                     2.0.8                /usr/local/lib/python3.10/dist-packages pip\n",
            "certifi                       2022.12.7            /usr/local/lib/python3.10/dist-packages pip\n",
            "cffi                          1.15.1               /usr/local/lib/python3.10/dist-packages pip\n",
            "chardet                       4.0.0                /usr/local/lib/python3.10/dist-packages pip\n",
            "charset-normalizer            2.0.12               /usr/local/lib/python3.10/dist-packages pip\n",
            "chex                          0.1.7                /usr/local/lib/python3.10/dist-packages pip\n",
            "click                         8.1.3                /usr/local/lib/python3.10/dist-packages pip\n",
            "cloudpickle                   2.2.1                /usr/local/lib/python3.10/dist-packages pip\n",
            "cmake                         3.25.2               /usr/local/lib/python3.10/dist-packages pip\n",
            "cmdstanpy                     1.1.0                /usr/local/lib/python3.10/dist-packages pip\n",
            "colorcet                      3.0.1                /usr/local/lib/python3.10/dist-packages pip\n",
            "colorlover                    0.3.0                /usr/local/lib/python3.10/dist-packages pip\n",
            "community                     1.0.0b1              /usr/local/lib/python3.10/dist-packages pip\n",
            "confection                    0.0.4                /usr/local/lib/python3.10/dist-packages pip\n",
            "cons                          0.4.5                /usr/local/lib/python3.10/dist-packages pip\n",
            "contextlib2                   0.6.0.post1          /usr/local/lib/python3.10/dist-packages pip\n",
            "contourpy                     1.0.7                /usr/local/lib/python3.10/dist-packages pip\n",
            "convertdate                   2.4.0                /usr/local/lib/python3.10/dist-packages pip\n",
            "cryptography                  40.0.2               /usr/local/lib/python3.10/dist-packages pip\n",
            "cufflinks                     0.17.3               /usr/local/lib/python3.10/dist-packages pip\n",
            "cvxopt                        1.3.0                /usr/local/lib/python3.10/dist-packages pip\n",
            "cvxpy                         1.3.1                /usr/local/lib/python3.10/dist-packages pip\n",
            "cycler                        0.11.0               /usr/local/lib/python3.10/dist-packages pip\n",
            "cymem                         2.0.7                /usr/local/lib/python3.10/dist-packages pip\n",
            "Cython                        0.29.34              /usr/local/lib/python3.10/dist-packages pip\n",
            "dask                          2022.12.1            /usr/local/lib/python3.10/dist-packages pip\n",
            "datascience                   0.17.6               /usr/local/lib/python3.10/dist-packages pip\n",
            "db-dtypes                     1.1.1                /usr/local/lib/python3.10/dist-packages pip\n",
            "dbus-python                   1.2.16               /usr/lib/python3/dist-packages\n",
            "debugpy                       1.6.6                /usr/local/lib/python3.10/dist-packages pip\n",
            "decorator                     4.4.2                /usr/local/lib/python3.10/dist-packages pip\n",
            "defusedxml                    0.7.1                /usr/local/lib/python3.10/dist-packages pip\n",
            "distributed                   2022.12.1            /usr/local/lib/python3.10/dist-packages pip\n",
            "dlib                          19.24.1              /usr/local/lib/python3.10/dist-packages pip\n",
            "dm-tree                       0.1.8                /usr/local/lib/python3.10/dist-packages pip\n",
            "docutils                      0.16                 /usr/local/lib/python3.10/dist-packages pip\n",
            "dopamine-rl                   4.0.6                /usr/local/lib/python3.10/dist-packages pip\n",
            "duckdb                        0.7.1                /usr/local/lib/python3.10/dist-packages pip\n",
            "earthengine-api               0.1.350              /usr/local/lib/python3.10/dist-packages pip\n",
            "easydict                      1.10                 /usr/local/lib/python3.10/dist-packages pip\n",
            "ecos                          2.0.12               /usr/local/lib/python3.10/dist-packages pip\n",
            "editdistance                  0.6.2                /usr/local/lib/python3.10/dist-packages pip\n",
            "en-core-web-sm                3.5.0                /usr/local/lib/python3.10/dist-packages pip\n",
            "entrypoints                   0.4                  /usr/local/lib/python3.10/dist-packages pip\n",
            "ephem                         4.1.4                /usr/local/lib/python3.10/dist-packages pip\n",
            "et-xmlfile                    1.1.0                /usr/local/lib/python3.10/dist-packages pip\n",
            "etils                         1.2.0                /usr/local/lib/python3.10/dist-packages pip\n",
            "etuples                       0.3.8                /usr/local/lib/python3.10/dist-packages pip\n",
            "exceptiongroup                1.1.1                /usr/local/lib/python3.10/dist-packages pip\n",
            "fastai                        2.7.12               /usr/local/lib/python3.10/dist-packages pip\n",
            "fastcore                      1.5.29               /usr/local/lib/python3.10/dist-packages pip\n",
            "fastdownload                  0.0.7                /usr/local/lib/python3.10/dist-packages pip\n",
            "fastjsonschema                2.16.3               /usr/local/lib/python3.10/dist-packages pip\n",
            "fastprogress                  1.0.3                /usr/local/lib/python3.10/dist-packages pip\n",
            "fastrlock                     0.8.1                /usr/local/lib/python3.10/dist-packages pip\n",
            "filelock                      3.12.0               /usr/local/lib/python3.10/dist-packages pip\n",
            "firebase-admin                5.3.0                /usr/local/lib/python3.10/dist-packages pip\n",
            "Flask                         2.2.4                /usr/local/lib/python3.10/dist-packages pip\n",
            "flatbuffers                   23.3.3               /usr/local/lib/python3.10/dist-packages pip\n",
            "flax                          0.6.9                /usr/local/lib/python3.10/dist-packages pip\n",
            "folium                        0.14.0               /usr/local/lib/python3.10/dist-packages pip\n",
            "fonttools                     4.39.3               /usr/local/lib/python3.10/dist-packages pip\n",
            "frozendict                    2.3.7                /usr/local/lib/python3.10/dist-packages pip\n",
            "fsspec                        2023.4.0             /usr/local/lib/python3.10/dist-packages pip\n",
            "future                        0.18.3               /usr/local/lib/python3.10/dist-packages pip\n",
            "gast                          0.4.0                /usr/local/lib/python3.10/dist-packages pip\n",
            "GDAL                          3.3.2                /usr/local/lib/python3.10/dist-packages pip\n",
            "gdown                         4.6.6                /usr/local/lib/python3.10/dist-packages pip\n",
            "gensim                        4.3.1                /usr/local/lib/python3.10/dist-packages pip\n",
            "geographiclib                 2.0                  /usr/local/lib/python3.10/dist-packages pip\n",
            "geopy                         2.3.0                /usr/local/lib/python3.10/dist-packages pip\n",
            "gin-config                    0.5.0                /usr/local/lib/python3.10/dist-packages pip\n",
            "glob2                         0.7                  /usr/local/lib/python3.10/dist-packages pip\n",
            "google                        2.0.3                /usr/local/lib/python3.10/dist-packages pip\n",
            "google-api-core               2.11.0               /usr/local/lib/python3.10/dist-packages pip\n",
            "google-api-python-client      2.84.0               /usr/local/lib/python3.10/dist-packages pip\n",
            "google-auth                   2.17.3               /usr/local/lib/python3.10/dist-packages pip\n",
            "google-auth-httplib2          0.1.0                /usr/local/lib/python3.10/dist-packages pip\n",
            "google-auth-oauthlib          1.0.0                /usr/local/lib/python3.10/dist-packages pip\n",
            "google-cloud-bigquery         3.9.0                /usr/local/lib/python3.10/dist-packages pip\n",
            "google-cloud-bigquery-storage 2.19.1               /usr/local/lib/python3.10/dist-packages pip\n",
            "google-cloud-core             2.3.2                /usr/local/lib/python3.10/dist-packages pip\n",
            "google-cloud-datastore        2.15.1               /usr/local/lib/python3.10/dist-packages pip\n",
            "google-cloud-firestore        2.11.0               /usr/local/lib/python3.10/dist-packages pip\n",
            "google-cloud-language         2.9.1                /usr/local/lib/python3.10/dist-packages pip\n",
            "google-cloud-storage          2.8.0                /usr/local/lib/python3.10/dist-packages pip\n",
            "google-cloud-translate        3.11.1               /usr/local/lib/python3.10/dist-packages pip\n",
            "google-colab                  1.0.0                /usr/local/lib/python3.10/dist-packages pip\n",
            "google-crc32c                 1.5.0                /usr/local/lib/python3.10/dist-packages pip\n",
            "google-pasta                  0.2.0                /usr/local/lib/python3.10/dist-packages pip\n",
            "google-resumable-media        2.5.0                /usr/local/lib/python3.10/dist-packages pip\n",
            "googleapis-common-protos      1.59.0               /usr/local/lib/python3.10/dist-packages pip\n",
            "googledrivedownloader         0.4                  /usr/local/lib/python3.10/dist-packages pip\n",
            "graphviz                      0.20.1               /usr/local/lib/python3.10/dist-packages pip\n",
            "greenlet                      2.0.2                /usr/local/lib/python3.10/dist-packages pip\n",
            "grpcio                        1.54.0               /usr/local/lib/python3.10/dist-packages pip\n",
            "grpcio-status                 1.48.2               /usr/local/lib/python3.10/dist-packages pip\n",
            "gspread                       3.4.2                /usr/local/lib/python3.10/dist-packages pip\n",
            "gspread-dataframe             3.0.8                /usr/local/lib/python3.10/dist-packages pip\n",
            "gym                           0.25.2               /usr/local/lib/python3.10/dist-packages pip\n",
            "gym-notices                   0.0.8                /usr/local/lib/python3.10/dist-packages pip\n",
            "h5netcdf                      1.1.0                /usr/local/lib/python3.10/dist-packages pip\n",
            "h5py                          3.8.0                /usr/local/lib/python3.10/dist-packages pip\n",
            "hijri-converter               2.3.1                /usr/local/lib/python3.10/dist-packages pip\n",
            "holidays                      0.23                 /usr/local/lib/python3.10/dist-packages pip\n",
            "holoviews                     1.15.4               /usr/local/lib/python3.10/dist-packages pip\n",
            "html5lib                      1.1                  /usr/local/lib/python3.10/dist-packages pip\n",
            "httpimport                    1.3.0                /usr/local/lib/python3.10/dist-packages pip\n",
            "httplib2                      0.21.0               /usr/local/lib/python3.10/dist-packages pip\n",
            "humanize                      4.6.0                /usr/local/lib/python3.10/dist-packages pip\n",
            "hyperopt                      0.2.7                /usr/local/lib/python3.10/dist-packages pip\n",
            "idna                          3.4                  /usr/local/lib/python3.10/dist-packages pip\n",
            "imageio                       2.25.1               /usr/local/lib/python3.10/dist-packages pip\n",
            "imageio-ffmpeg                0.4.8                /usr/local/lib/python3.10/dist-packages pip\n",
            "imagesize                     1.4.1                /usr/local/lib/python3.10/dist-packages pip\n",
            "imbalanced-learn              0.10.1               /usr/local/lib/python3.10/dist-packages pip\n",
            "imgaug                        0.4.0                /usr/local/lib/python3.10/dist-packages pip\n",
            "importlib-resources           5.12.0               /usr/local/lib/python3.10/dist-packages pip\n",
            "imutils                       0.5.4                /usr/local/lib/python3.10/dist-packages pip\n",
            "inflect                       6.0.4                /usr/local/lib/python3.10/dist-packages pip\n",
            "iniconfig                     2.0.0                /usr/local/lib/python3.10/dist-packages pip\n",
            "intel-openmp                  2023.1.0             /usr/local/lib/python3.10/dist-packages pip\n",
            "ipykernel                     5.5.6                /usr/local/lib/python3.10/dist-packages pip\n",
            "ipython                       7.34.0               /usr/local/lib/python3.10/dist-packages pip\n",
            "ipython-genutils              0.2.0                /usr/local/lib/python3.10/dist-packages pip\n",
            "ipython-sql                   0.4.1                /usr/local/lib/python3.10/dist-packages pip\n",
            "ipywidgets                    7.7.1                /usr/local/lib/python3.10/dist-packages pip\n",
            "itsdangerous                  2.1.2                /usr/local/lib/python3.10/dist-packages pip\n",
            "jax                           0.4.8                /usr/local/lib/python3.10/dist-packages pip\n",
            "jaxlib                        0.4.7+cuda11.cudnn86 /usr/local/lib/python3.10/dist-packages pip\n",
            "jieba                         0.42.1               /usr/local/lib/python3.10/dist-packages pip\n",
            "Jinja2                        3.1.2                /usr/local/lib/python3.10/dist-packages pip\n",
            "joblib                        1.2.0                /usr/local/lib/python3.10/dist-packages pip\n",
            "jsonpickle                    3.0.1                /usr/local/lib/python3.10/dist-packages pip\n",
            "jsonschema                    4.3.3                /usr/local/lib/python3.10/dist-packages pip\n",
            "jupyter-client                6.1.12               /usr/local/lib/python3.10/dist-packages pip\n",
            "jupyter-console               6.1.0                /usr/local/lib/python3.10/dist-packages pip\n",
            "jupyter_core                  5.3.0                /usr/local/lib/python3.10/dist-packages pip\n",
            "jupyter-server                1.24.0               /usr/local/lib/python3.10/dist-packages pip\n",
            "jupyterlab-pygments           0.2.2                /usr/local/lib/python3.10/dist-packages pip\n",
            "jupyterlab-widgets            3.0.7                /usr/local/lib/python3.10/dist-packages pip\n",
            "kaggle                        1.5.13               /usr/local/lib/python3.10/dist-packages pip\n",
            "keras                         2.12.0               /usr/local/lib/python3.10/dist-packages pip\n",
            "kiwisolver                    1.4.4                /usr/local/lib/python3.10/dist-packages pip\n",
            "korean-lunar-calendar         0.3.1                /usr/local/lib/python3.10/dist-packages pip\n",
            "langcodes                     3.3.0                /usr/local/lib/python3.10/dist-packages pip\n",
            "lazy_loader                   0.2                  /usr/local/lib/python3.10/dist-packages pip\n",
            "libclang                      16.0.0               /usr/local/lib/python3.10/dist-packages pip\n",
            "librosa                       0.10.0.post2         /usr/local/lib/python3.10/dist-packages pip\n",
            "lightgbm                      3.3.5                /usr/local/lib/python3.10/dist-packages pip\n",
            "lit                           16.0.3               /usr/local/lib/python3.10/dist-packages pip\n",
            "llvmlite                      0.39.1               /usr/local/lib/python3.10/dist-packages pip\n",
            "locket                        1.0.0                /usr/local/lib/python3.10/dist-packages pip\n",
            "logical-unification           0.4.5                /usr/local/lib/python3.10/dist-packages pip\n",
            "LunarCalendar                 0.0.9                /usr/local/lib/python3.10/dist-packages pip\n",
            "lxml                          4.9.2                /usr/local/lib/python3.10/dist-packages pip\n",
            "Markdown                      3.4.3                /usr/local/lib/python3.10/dist-packages pip\n",
            "markdown-it-py                2.2.0                /usr/local/lib/python3.10/dist-packages pip\n",
            "MarkupSafe                    2.1.2                /usr/local/lib/python3.10/dist-packages pip\n",
            "matplotlib                    3.7.1                /usr/local/lib/python3.10/dist-packages pip\n",
            "matplotlib-inline             0.1.6                /usr/local/lib/python3.10/dist-packages pip\n",
            "matplotlib-venn               0.11.9               /usr/local/lib/python3.10/dist-packages pip\n",
            "mdurl                         0.1.2                /usr/local/lib/python3.10/dist-packages pip\n",
            "miniKanren                    1.0.3                /usr/local/lib/python3.10/dist-packages pip\n",
            "missingno                     0.5.2                /usr/local/lib/python3.10/dist-packages pip\n",
            "mistune                       0.8.4                /usr/local/lib/python3.10/dist-packages pip\n",
            "mizani                        0.8.1                /usr/local/lib/python3.10/dist-packages pip\n",
            "mkl                           2019.0               /usr/local/lib/python3.10/dist-packages pip\n",
            "ml-dtypes                     0.1.0                /usr/local/lib/python3.10/dist-packages pip\n",
            "mlxtend                       0.14.0               /usr/local/lib/python3.10/dist-packages pip\n",
            "more-itertools                9.1.0                /usr/local/lib/python3.10/dist-packages pip\n",
            "moviepy                       1.0.3                /usr/local/lib/python3.10/dist-packages pip\n",
            "mpmath                        1.3.0                /usr/local/lib/python3.10/dist-packages pip\n",
            "msgpack                       1.0.5                /usr/local/lib/python3.10/dist-packages pip\n",
            "multipledispatch              0.6.0                /usr/local/lib/python3.10/dist-packages pip\n",
            "multitasking                  0.0.11               /usr/local/lib/python3.10/dist-packages pip\n",
            "murmurhash                    1.0.9                /usr/local/lib/python3.10/dist-packages pip\n",
            "music21                       8.1.0                /usr/local/lib/python3.10/dist-packages pip\n",
            "natsort                       8.3.1                /usr/local/lib/python3.10/dist-packages pip\n",
            "nbclient                      0.7.4                /usr/local/lib/python3.10/dist-packages pip\n",
            "nbconvert                     6.5.4                /usr/local/lib/python3.10/dist-packages pip\n",
            "nbformat                      5.8.0                /usr/local/lib/python3.10/dist-packages pip\n",
            "nest-asyncio                  1.5.6                /usr/local/lib/python3.10/dist-packages pip\n",
            "networkx                      3.1                  /usr/local/lib/python3.10/dist-packages pip\n",
            "nibabel                       3.0.2                /usr/local/lib/python3.10/dist-packages pip\n",
            "nltk                          3.8.1                /usr/local/lib/python3.10/dist-packages pip\n",
            "notebook                      6.4.8                /usr/local/lib/python3.10/dist-packages pip\n",
            "numba                         0.56.4               /usr/local/lib/python3.10/dist-packages pip\n",
            "numexpr                       2.8.4                /usr/local/lib/python3.10/dist-packages pip\n",
            "numpy                         1.22.4               /usr/local/lib/python3.10/dist-packages pip\n",
            "oauth2client                  4.1.3                /usr/local/lib/python3.10/dist-packages pip\n",
            "oauthlib                      3.2.2                /usr/local/lib/python3.10/dist-packages pip\n",
            "opencv-contrib-python         4.7.0.72             /usr/local/lib/python3.10/dist-packages pip\n",
            "opencv-python                 4.7.0.72             /usr/local/lib/python3.10/dist-packages pip\n",
            "opencv-python-headless        4.7.0.72             /usr/local/lib/python3.10/dist-packages pip\n",
            "openpyxl                      3.0.10               /usr/local/lib/python3.10/dist-packages pip\n",
            "opt-einsum                    3.3.0                /usr/local/lib/python3.10/dist-packages pip\n",
            "optax                         0.1.5                /usr/local/lib/python3.10/dist-packages pip\n",
            "orbax-checkpoint              0.2.1                /usr/local/lib/python3.10/dist-packages pip\n",
            "osqp                          0.6.2.post8          /usr/local/lib/python3.10/dist-packages pip\n",
            "packaging                     23.1                 /usr/local/lib/python3.10/dist-packages pip\n",
            "palettable                    3.3.3                /usr/local/lib/python3.10/dist-packages pip\n",
            "pandas                        1.5.3                /usr/local/lib/python3.10/dist-packages pip\n",
            "pandas-datareader             0.10.0               /usr/local/lib/python3.10/dist-packages pip\n",
            "pandas-gbq                    0.17.9               /usr/local/lib/python3.10/dist-packages pip\n",
            "pandocfilters                 1.5.0                /usr/local/lib/python3.10/dist-packages pip\n",
            "panel                         0.14.4               /usr/local/lib/python3.10/dist-packages pip\n",
            "param                         1.13.0               /usr/local/lib/python3.10/dist-packages pip\n",
            "parso                         0.8.3                /usr/local/lib/python3.10/dist-packages pip\n",
            "partd                         1.4.0                /usr/local/lib/python3.10/dist-packages pip\n",
            "pathlib                       1.0.1                /usr/local/lib/python3.10/dist-packages pip\n",
            "pathy                         0.10.1               /usr/local/lib/python3.10/dist-packages pip\n",
            "patsy                         0.5.3                /usr/local/lib/python3.10/dist-packages pip\n",
            "pexpect                       4.8.0                /usr/local/lib/python3.10/dist-packages pip\n",
            "pickleshare                   0.7.5                /usr/local/lib/python3.10/dist-packages pip\n",
            "Pillow                        8.4.0                /usr/local/lib/python3.10/dist-packages pip\n",
            "pip                           23.1.2               /usr/local/lib/python3.10/dist-packages pip\n",
            "pip-tools                     6.13.0               /usr/local/lib/python3.10/dist-packages pip\n",
            "platformdirs                  3.3.0                /usr/local/lib/python3.10/dist-packages pip\n",
            "plotly                        5.13.1               /usr/local/lib/python3.10/dist-packages pip\n",
            "plotnine                      0.10.1               /usr/local/lib/python3.10/dist-packages pip\n",
            "pluggy                        1.0.0                /usr/local/lib/python3.10/dist-packages pip\n",
            "polars                        0.17.3               /usr/local/lib/python3.10/dist-packages pip\n",
            "pooch                         1.6.0                /usr/local/lib/python3.10/dist-packages pip\n",
            "portpicker                    1.3.9                /usr/local/lib/python3.10/dist-packages pip\n",
            "prefetch-generator            1.0.3                /usr/local/lib/python3.10/dist-packages pip\n",
            "preshed                       3.0.8                /usr/local/lib/python3.10/dist-packages pip\n",
            "prettytable                   0.7.2                /usr/local/lib/python3.10/dist-packages pip\n",
            "proglog                       0.1.10               /usr/local/lib/python3.10/dist-packages pip\n",
            "progressbar2                  4.2.0                /usr/local/lib/python3.10/dist-packages pip\n",
            "prometheus-client             0.16.0               /usr/local/lib/python3.10/dist-packages pip\n",
            "promise                       2.3                  /usr/local/lib/python3.10/dist-packages pip\n",
            "prompt-toolkit                3.0.38               /usr/local/lib/python3.10/dist-packages pip\n",
            "prophet                       1.1.2                /usr/local/lib/python3.10/dist-packages pip\n",
            "proto-plus                    1.22.2               /usr/local/lib/python3.10/dist-packages pip\n",
            "protobuf                      3.20.3               /usr/local/lib/python3.10/dist-packages pip\n",
            "psutil                        5.9.5                /usr/local/lib/python3.10/dist-packages pip\n",
            "psycopg2                      2.9.6                /usr/local/lib/python3.10/dist-packages pip\n",
            "ptyprocess                    0.7.0                /usr/local/lib/python3.10/dist-packages pip\n",
            "py-cpuinfo                    9.0.0                /usr/local/lib/python3.10/dist-packages pip\n",
            "py4j                          0.10.9.7             /usr/local/lib/python3.10/dist-packages pip\n",
            "pyarrow                       9.0.0                /usr/local/lib/python3.10/dist-packages pip\n",
            "pyasn1                        0.5.0                /usr/local/lib/python3.10/dist-packages pip\n",
            "pyasn1-modules                0.3.0                /usr/local/lib/python3.10/dist-packages pip\n",
            "pycocotools                   2.0.6                /usr/local/lib/python3.10/dist-packages pip\n",
            "pycparser                     2.21                 /usr/local/lib/python3.10/dist-packages pip\n",
            "pyct                          0.5.0                /usr/local/lib/python3.10/dist-packages pip\n",
            "pydantic                      1.10.7               /usr/local/lib/python3.10/dist-packages pip\n",
            "pydata-google-auth            1.7.0                /usr/local/lib/python3.10/dist-packages pip\n",
            "pydot                         1.4.2                /usr/local/lib/python3.10/dist-packages pip\n",
            "pydot-ng                      2.0.0                /usr/local/lib/python3.10/dist-packages pip\n",
            "pydotplus                     2.0.2                /usr/local/lib/python3.10/dist-packages pip\n",
            "PyDrive                       1.3.1                /usr/local/lib/python3.10/dist-packages pip\n",
            "pyerfa                        2.0.0.3              /usr/local/lib/python3.10/dist-packages pip\n",
            "pygame                        2.3.0                /usr/local/lib/python3.10/dist-packages pip\n",
            "Pygments                      2.14.0               /usr/local/lib/python3.10/dist-packages pip\n",
            "PyGObject                     3.36.0               /usr/lib/python3/dist-packages\n",
            "pymc                          5.1.2                /usr/local/lib/python3.10/dist-packages pip\n",
            "PyMeeus                       0.5.12               /usr/local/lib/python3.10/dist-packages pip\n",
            "pymystem3                     0.2.0                /usr/local/lib/python3.10/dist-packages pip\n",
            "PyOpenGL                      3.1.6                /usr/local/lib/python3.10/dist-packages pip\n",
            "pyparsing                     3.0.9                /usr/local/lib/python3.10/dist-packages pip\n",
            "pyproject_hooks               1.0.0                /usr/local/lib/python3.10/dist-packages pip\n",
            "pyrsistent                    0.19.3               /usr/local/lib/python3.10/dist-packages pip\n",
            "PySocks                       1.7.1                /usr/local/lib/python3.10/dist-packages pip\n",
            "pytensor                      2.10.1               /usr/local/lib/python3.10/dist-packages pip\n",
            "pytest                        7.2.2                /usr/local/lib/python3.10/dist-packages pip\n",
            "python-apt                    0.0.0                /usr/local/lib/python3.10/dist-packages\n",
            "python-dateutil               2.8.2                /usr/local/lib/python3.10/dist-packages pip\n",
            "python-louvain                0.16                 /usr/local/lib/python3.10/dist-packages pip\n",
            "python-slugify                8.0.1                /usr/local/lib/python3.10/dist-packages pip\n",
            "python-utils                  3.5.2                /usr/local/lib/python3.10/dist-packages pip\n",
            "pytz                          2022.7.1             /usr/local/lib/python3.10/dist-packages pip\n",
            "pytz-deprecation-shim         0.1.0.post0          /usr/local/lib/python3.10/dist-packages pip\n",
            "pyviz-comms                   2.2.1                /usr/local/lib/python3.10/dist-packages pip\n",
            "PyWavelets                    1.4.1                /usr/local/lib/python3.10/dist-packages pip\n",
            "PyYAML                        6.0                  /usr/local/lib/python3.10/dist-packages pip\n",
            "pyzmq                         23.2.1               /usr/local/lib/python3.10/dist-packages pip\n",
            "qdldl                         0.1.7                /usr/local/lib/python3.10/dist-packages pip\n",
            "qudida                        0.0.4                /usr/local/lib/python3.10/dist-packages pip\n",
            "regex                         2022.10.31           /usr/local/lib/python3.10/dist-packages pip\n",
            "requests                      2.27.1               /usr/local/lib/python3.10/dist-packages pip\n",
            "requests-oauthlib             1.3.1                /usr/local/lib/python3.10/dist-packages pip\n",
            "requests-unixsocket           0.2.0                /usr/lib/python3/dist-packages\n",
            "requirements-parser           0.5.0                /usr/local/lib/python3.10/dist-packages pip\n",
            "rich                          13.3.4               /usr/local/lib/python3.10/dist-packages pip\n",
            "rpy2                          3.5.5                /usr/local/lib/python3.10/dist-packages pip\n",
            "rsa                           4.9                  /usr/local/lib/python3.10/dist-packages pip\n",
            "scikit-image                  0.19.3               /usr/local/lib/python3.10/dist-packages pip\n",
            "scikit-learn                  1.2.2                /usr/local/lib/python3.10/dist-packages pip\n",
            "scipy                         1.10.1               /usr/local/lib/python3.10/dist-packages pip\n",
            "scs                           3.2.3                /usr/local/lib/python3.10/dist-packages pip\n",
            "seaborn                       0.12.2               /usr/local/lib/python3.10/dist-packages pip\n",
            "Send2Trash                    1.8.0                /usr/local/lib/python3.10/dist-packages pip\n",
            "setuptools                    67.7.2               /usr/local/lib/python3.10/dist-packages pip\n",
            "shapely                       2.0.1                /usr/local/lib/python3.10/dist-packages pip\n",
            "six                           1.16.0               /usr/local/lib/python3.10/dist-packages pip\n",
            "sklearn-pandas                2.2.0                /usr/local/lib/python3.10/dist-packages pip\n",
            "smart-open                    6.3.0                /usr/local/lib/python3.10/dist-packages pip\n",
            "sniffio                       1.3.0                /usr/local/lib/python3.10/dist-packages pip\n",
            "snowballstemmer               2.2.0                /usr/local/lib/python3.10/dist-packages pip\n",
            "sortedcontainers              2.4.0                /usr/local/lib/python3.10/dist-packages pip\n",
            "soundfile                     0.12.1               /usr/local/lib/python3.10/dist-packages pip\n",
            "soupsieve                     2.4.1                /usr/local/lib/python3.10/dist-packages pip\n",
            "soxr                          0.3.5                /usr/local/lib/python3.10/dist-packages pip\n",
            "spacy                         3.5.2                /usr/local/lib/python3.10/dist-packages pip\n",
            "spacy-legacy                  3.0.12               /usr/local/lib/python3.10/dist-packages pip\n",
            "spacy-loggers                 1.0.4                /usr/local/lib/python3.10/dist-packages pip\n",
            "Sphinx                        3.5.4                /usr/local/lib/python3.10/dist-packages pip\n",
            "sphinxcontrib-applehelp       1.0.4                /usr/local/lib/python3.10/dist-packages pip\n",
            "sphinxcontrib-devhelp         1.0.2                /usr/local/lib/python3.10/dist-packages pip\n",
            "sphinxcontrib-htmlhelp        2.0.1                /usr/local/lib/python3.10/dist-packages pip\n",
            "sphinxcontrib-jsmath          1.0.1                /usr/local/lib/python3.10/dist-packages pip\n",
            "sphinxcontrib-qthelp          1.0.3                /usr/local/lib/python3.10/dist-packages pip\n",
            "sphinxcontrib-serializinghtml 1.1.5                /usr/local/lib/python3.10/dist-packages pip\n",
            "SQLAlchemy                    2.0.10               /usr/local/lib/python3.10/dist-packages pip\n",
            "sqlparse                      0.4.4                /usr/local/lib/python3.10/dist-packages pip\n",
            "srsly                         2.4.6                /usr/local/lib/python3.10/dist-packages pip\n",
            "statsmodels                   0.13.5               /usr/local/lib/python3.10/dist-packages pip\n",
            "sympy                         1.11.1               /usr/local/lib/python3.10/dist-packages pip\n",
            "tables                        3.8.0                /usr/local/lib/python3.10/dist-packages pip\n",
            "tabulate                      0.8.10               /usr/local/lib/python3.10/dist-packages pip\n",
            "tblib                         1.7.0                /usr/local/lib/python3.10/dist-packages pip\n",
            "tenacity                      8.2.2                /usr/local/lib/python3.10/dist-packages pip\n",
            "tensorboard                   2.12.2               /usr/local/lib/python3.10/dist-packages pip\n",
            "tensorboard-data-server       0.7.0                /usr/local/lib/python3.10/dist-packages pip\n",
            "tensorboard-plugin-wit        1.8.1                /usr/local/lib/python3.10/dist-packages pip\n",
            "tensorflow                    2.12.0               /usr/local/lib/python3.10/dist-packages pip\n",
            "tensorflow-datasets           4.9.2                /usr/local/lib/python3.10/dist-packages pip\n",
            "tensorflow-estimator          2.12.0               /usr/local/lib/python3.10/dist-packages pip\n",
            "tensorflow-gcs-config         2.12.0               /usr/local/lib/python3.10/dist-packages pip\n",
            "tensorflow-hub                0.13.0               /usr/local/lib/python3.10/dist-packages pip\n",
            "tensorflow-io-gcs-filesystem  0.32.0               /usr/local/lib/python3.10/dist-packages pip\n",
            "tensorflow-metadata           1.13.1               /usr/local/lib/python3.10/dist-packages pip\n",
            "tensorflow-probability        0.19.0               /usr/local/lib/python3.10/dist-packages pip\n",
            "tensorstore                   0.1.36               /usr/local/lib/python3.10/dist-packages pip\n",
            "termcolor                     2.3.0                /usr/local/lib/python3.10/dist-packages pip\n",
            "terminado                     0.17.1               /usr/local/lib/python3.10/dist-packages pip\n",
            "text-unidecode                1.3                  /usr/local/lib/python3.10/dist-packages pip\n",
            "textblob                      0.17.1               /usr/local/lib/python3.10/dist-packages pip\n",
            "tf-slim                       1.1.0                /usr/local/lib/python3.10/dist-packages pip\n",
            "thinc                         8.1.9                /usr/local/lib/python3.10/dist-packages pip\n",
            "threadpoolctl                 3.1.0                /usr/local/lib/python3.10/dist-packages pip\n",
            "tifffile                      2023.4.12            /usr/local/lib/python3.10/dist-packages pip\n",
            "tinycss2                      1.2.1                /usr/local/lib/python3.10/dist-packages pip\n",
            "toml                          0.10.2               /usr/local/lib/python3.10/dist-packages pip\n",
            "tomli                         2.0.1                /usr/local/lib/python3.10/dist-packages pip\n",
            "toolz                         0.12.0               /usr/local/lib/python3.10/dist-packages pip\n",
            "torch                         2.0.0+cu118          /usr/local/lib/python3.10/dist-packages pip\n",
            "torchaudio                    2.0.1+cu118          /usr/local/lib/python3.10/dist-packages pip\n",
            "torchdata                     0.6.0                /usr/local/lib/python3.10/dist-packages pip\n",
            "torchsummary                  1.5.1                /usr/local/lib/python3.10/dist-packages pip\n",
            "torchtext                     0.15.1               /usr/local/lib/python3.10/dist-packages pip\n",
            "torchvision                   0.15.1+cu118         /usr/local/lib/python3.10/dist-packages pip\n",
            "tornado                       6.3.1                /usr/local/lib/python3.10/dist-packages pip\n",
            "tqdm                          4.65.0               /usr/local/lib/python3.10/dist-packages pip\n",
            "traitlets                     5.7.1                /usr/local/lib/python3.10/dist-packages pip\n",
            "triton                        2.0.0                /usr/local/lib/python3.10/dist-packages pip\n",
            "tweepy                        4.13.0               /usr/local/lib/python3.10/dist-packages pip\n",
            "typer                         0.7.0                /usr/local/lib/python3.10/dist-packages pip\n",
            "types-setuptools              67.7.0.2             /usr/local/lib/python3.10/dist-packages pip\n",
            "typing_extensions             4.5.0                /usr/local/lib/python3.10/dist-packages pip\n",
            "tzdata                        2023.3               /usr/local/lib/python3.10/dist-packages pip\n",
            "tzlocal                       4.3                  /usr/local/lib/python3.10/dist-packages pip\n",
            "uritemplate                   4.1.1                /usr/local/lib/python3.10/dist-packages pip\n",
            "urllib3                       1.26.15              /usr/local/lib/python3.10/dist-packages pip\n",
            "vega-datasets                 0.9.0                /usr/local/lib/python3.10/dist-packages pip\n",
            "wasabi                        1.1.1                /usr/local/lib/python3.10/dist-packages pip\n",
            "wcwidth                       0.2.6                /usr/local/lib/python3.10/dist-packages pip\n",
            "webcolors                     1.13                 /usr/local/lib/python3.10/dist-packages pip\n",
            "webencodings                  0.5.1                /usr/local/lib/python3.10/dist-packages pip\n",
            "websocket-client              1.5.1                /usr/local/lib/python3.10/dist-packages pip\n",
            "Werkzeug                      2.3.0                /usr/local/lib/python3.10/dist-packages pip\n",
            "wheel                         0.40.0               /usr/local/lib/python3.10/dist-packages pip\n",
            "widgetsnbextension            3.6.4                /usr/local/lib/python3.10/dist-packages pip\n",
            "wordcloud                     1.8.2.2              /usr/local/lib/python3.10/dist-packages pip\n",
            "wrapt                         1.14.1               /usr/local/lib/python3.10/dist-packages pip\n",
            "xarray                        2022.12.0            /usr/local/lib/python3.10/dist-packages pip\n",
            "xarray-einstats               0.5.1                /usr/local/lib/python3.10/dist-packages pip\n",
            "xgboost                       1.7.5                /usr/local/lib/python3.10/dist-packages pip\n",
            "xlrd                          2.0.1                /usr/local/lib/python3.10/dist-packages pip\n",
            "yellowbrick                   1.5                  /usr/local/lib/python3.10/dist-packages pip\n",
            "yfinance                      0.2.18               /usr/local/lib/python3.10/dist-packages pip\n",
            "zict                          3.0.0                /usr/local/lib/python3.10/dist-packages pip\n",
            "zipp                          3.15.0               /usr/local/lib/python3.10/dist-packages pip\n"
          ]
        }
      ]
    }
  ],
  "metadata": {
    "kernelspec": {
      "display_name": "tpintegrador",
      "language": "python",
      "name": "python3"
    },
    "language_info": {
      "codemirror_mode": {
        "name": "ipython",
        "version": 3
      },
      "file_extension": ".py",
      "mimetype": "text/x-python",
      "name": "python",
      "nbconvert_exporter": "python",
      "pygments_lexer": "ipython3",
      "version": "3.8.16"
    },
    "orig_nbformat": 4,
    "colab": {
      "provenance": []
    }
  },
  "nbformat": 4,
  "nbformat_minor": 0
}